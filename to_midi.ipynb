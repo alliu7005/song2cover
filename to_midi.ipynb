{
 "cells": [
  {
   "cell_type": "code",
   "execution_count": 5,
   "id": "94f13a5b",
   "metadata": {},
   "outputs": [
    {
     "name": "stdout",
     "output_type": "stream",
     "text": [
      "The autoreload extension is already loaded. To reload it, use:\n",
      "  %reload_ext autoreload\n"
     ]
    }
   ],
   "source": [
    "from basic_pitch.inference import predict, predict_and_save, Model\n",
    "from basic_pitch import ICASSP_2022_MODEL_PATH, __file__\n",
    "import tensorflow as tf\n",
    "import pretty_midi\n",
    "import math\n",
    "import os\n",
    "import csv\n",
    "from pathlib import Path\n",
    "from music21 import converter, interval, note, stream\n",
    "from mido import MidiFile, MidiTrack\n",
    "\n",
    "%load_ext autoreload\n",
    "%autoreload 2\n",
    "\n",
    "NUM_SONGS = 160"
   ]
  },
  {
   "cell_type": "code",
   "execution_count": 32,
   "id": "bc69c9c7",
   "metadata": {},
   "outputs": [
    {
     "name": "stdout",
     "output_type": "stream",
     "text": [
      "c:\\Users\\aymli\\anaconda3\\envs\\tomidi\\lib\\site-packages\\basic_pitch\\saved_models\\icassp_2022\\nmp\n"
     ]
    }
   ],
   "source": [
    "print(ICASSP_2022_MODEL_PATH)"
   ]
  },
  {
   "cell_type": "code",
   "execution_count": 6,
   "id": "05946a45",
   "metadata": {},
   "outputs": [],
   "source": [
    "bp_root = os.path.dirname(__file__)\n",
    "onnx_fp = os.path.join(bp_root, \"saved_models\",\n",
    "                       \"icassp_2022\", \"nmp.onnx\")"
   ]
  },
  {
   "cell_type": "code",
   "execution_count": 17,
   "id": "0a361a66",
   "metadata": {},
   "outputs": [
    {
     "name": "stdout",
     "output_type": "stream",
     "text": [
      "c:\\Users\\aymli\\anaconda3\\envs\\tomidi\\lib\\site-packages\\basic_pitch\\saved_models\\icassp_2022\\nmp\\saved_model.pb\n"
     ]
    }
   ],
   "source": [
    "print(Path(str(ICASSP_2022_MODEL_PATH) + \"\\saved_model.pb\"))"
   ]
  },
  {
   "cell_type": "code",
   "execution_count": 1,
   "id": "046a3bb4",
   "metadata": {},
   "outputs": [],
   "source": [
    "def difficulty(midi_path):\n",
    "    pm = pretty_midi.PrettyMIDI(midi_path)\n",
    "\n",
    "    beats = pm.get_beats()\n",
    "\n",
    "    i = 0\n",
    "\n",
    "    for inst in pm.instruments:\n",
    "        for note in inst.notes:\n",
    "            i += 1\n",
    "\n",
    "    notes_per_beat = i / len(beats)\n",
    "\n",
    "    diff = round(notes_per_beat/2, 2)\n",
    "\n",
    "    return diff\n",
    "\n",
    "def quantize(midi_path, subdivision=(4,3)):\n",
    "        \n",
    "    score = converter.parse(midi_path)\n",
    "    score.flat.quantize(subdivision, processDurations=False)\n",
    "\n",
    "    score = merge_notes(score)\n",
    "    \n",
    "    score.flat.write('midi', fp=midi_path)\n",
    "\n",
    "def merge_notes(score):\n",
    "    for part in score.parts:\n",
    "        # Get all notes of this part, sorted by pitch then offset\n",
    "        notes = sorted(part.flat.getElementsByClass(note.Note),\n",
    "                       key=lambda n: (n.pitch.midi, n.offset))\n",
    "        \n",
    "        to_remove = []\n",
    "        for i in range(len(notes) - 5):\n",
    "            for j in range(i+1, i+4):\n",
    "                n1, n2 = notes[i], notes[j]\n",
    "                if n1.pitch == n2.pitch and (n1.offset + n1.quarterLength) > n2.offset:\n",
    "                    \n",
    "                    # They overlap: extend n1 to cover n2\n",
    "                    new_end = max(n1.offset + n1.quarterLength,\n",
    "                                n2.offset + n2.quarterLength)\n",
    "                    n1.quarterLength = new_end - n1.offset\n",
    "                    to_remove.append(n2)\n",
    "        # Drop the shorter overlapping notes\n",
    "        for orphan in to_remove:\n",
    "            part.remove(orphan)\n",
    "    return score"
   ]
  },
  {
   "cell_type": "code",
   "execution_count": null,
   "id": "930043c5",
   "metadata": {},
   "outputs": [
    {
     "name": "stdout",
     "output_type": "stream",
     "text": [
      "\n",
      "Predicting MIDI for piano_data\\0.mp3...\n",
      "\n",
      "\n",
      "  Creating midi...\n",
      "  💅 Saved to piano_data\\0_basic_pitch.mid\n",
      "4.37\n",
      "\n",
      "Predicting MIDI for piano_data\\1.mp3...\n",
      "\n",
      "\n",
      "  Creating midi...\n",
      "  💅 Saved to piano_data\\1_basic_pitch.mid\n",
      "3.62\n",
      "\n",
      "Predicting MIDI for piano_data\\2.mp3...\n",
      "\n",
      "\n",
      "  Creating midi...\n",
      "  💅 Saved to piano_data\\2_basic_pitch.mid\n",
      "3.69\n",
      "\n",
      "Predicting MIDI for piano_data\\3.mp3...\n",
      "\n",
      "\n",
      "  Creating midi...\n",
      "  💅 Saved to piano_data\\3_basic_pitch.mid\n",
      "3.99\n",
      "\n",
      "Predicting MIDI for piano_data\\4.mp3...\n",
      "\n",
      "\n",
      "  Creating midi...\n",
      "  💅 Saved to piano_data\\4_basic_pitch.mid\n",
      "4.62\n",
      "\n",
      "Predicting MIDI for piano_data\\5.mp3...\n",
      "\n",
      "\n",
      "  Creating midi...\n",
      "\n",
      "Predicting MIDI for piano_data\\6.mp3...\n",
      "\n",
      "\n",
      "  Creating midi...\n",
      "  💅 Saved to piano_data\\6_basic_pitch.mid\n",
      "4.54\n",
      "\n",
      "Predicting MIDI for piano_data\\7.mp3...\n"
     ]
    }
   ],
   "source": [
    "basic_pitch_model = Model(onnx_fp)\n",
    "\n",
    "with open(\"manifest.csv\", \"w\", newline=\"\") as f:\n",
    "        writer = csv.writer(f)\n",
    "        writer.writerow([\"audio_filepath\", \"midi_filepath\", \"difficulty\"])\n",
    "\n",
    "for i in range(NUM_SONGS):\n",
    "    try:\n",
    "        predict_and_save(\n",
    "            audio_path_list=[f\"piano_data/{i}.mp3\"],\n",
    "            output_directory=\"piano_data\",\n",
    "            save_midi=True,\n",
    "            sonify_midi=False,\n",
    "            save_model_outputs=False,\n",
    "            save_notes=False,\n",
    "            model_or_model_path=basic_pitch_model,\n",
    "            onset_threshold=0.3,\n",
    "            frame_threshold=0.3,\n",
    "            minimum_note_length = 150,\n",
    "        )\n",
    "        quantize(f\"piano_data/{i}_basic_pitch.mid\")\n",
    "        diff = difficulty(f\"piano_data/{i}_basic_pitch.mid\")\n",
    "        \n",
    "        print(diff)\n",
    "        with open(\"manifest.csv\", \"a\", newline=\"\") as f:\n",
    "            writer = csv.writer(f)\n",
    "            midi_filepath = fr\"C:\\Users\\aymli\\Cover\\piano_data\\{i}_basic_pitch.mid\"\n",
    "            audio_filepath = fr\"C:\\Users\\aymli\\Cover\\song_data\\{i}.mp3\"\n",
    "            writer.writerow([audio_filepath, midi_filepath, diff])\n",
    "        \n",
    "        #os.remove(f\"piano_data/{i}.mp3\")\n",
    "    except:\n",
    "        pass"
   ]
  }
 ],
 "metadata": {
  "kernelspec": {
   "display_name": "tomidi",
   "language": "python",
   "name": "python3"
  },
  "language_info": {
   "codemirror_mode": {
    "name": "ipython",
    "version": 3
   },
   "file_extension": ".py",
   "mimetype": "text/x-python",
   "name": "python",
   "nbconvert_exporter": "python",
   "pygments_lexer": "ipython3",
   "version": "3.9.21"
  }
 },
 "nbformat": 4,
 "nbformat_minor": 5
}
