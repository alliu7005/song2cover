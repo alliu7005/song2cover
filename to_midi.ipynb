{
 "cells": [
  {
   "cell_type": "code",
   "execution_count": 33,
   "id": "94f13a5b",
   "metadata": {},
   "outputs": [
    {
     "name": "stdout",
     "output_type": "stream",
     "text": [
      "The autoreload extension is already loaded. To reload it, use:\n",
      "  %reload_ext autoreload\n"
     ]
    }
   ],
   "source": [
    "from basic_pitch.inference import predict, predict_and_save, Model\n",
    "from basic_pitch import ICASSP_2022_MODEL_PATH\n",
    "import tensorflow as tf\n",
    "import pretty_midi\n",
    "import math\n",
    "import os\n",
    "import csv\n",
    "\n",
    "%load_ext autoreload\n",
    "%autoreload 2\n",
    "\n",
    "NUM_SONGS = 2"
   ]
  },
  {
   "cell_type": "code",
   "execution_count": 32,
   "id": "046a3bb4",
   "metadata": {},
   "outputs": [],
   "source": [
    "def difficulty(midi_path):\n",
    "    pm = pretty_midi.PrettyMIDI(midi_path)\n",
    "\n",
    "    beats = pm.get_beats()\n",
    "\n",
    "    i = 0\n",
    "\n",
    "    for inst in pm.instruments:\n",
    "        for note in inst.notes:\n",
    "            i += 1\n",
    "\n",
    "    notes_per_beat = i / len(beats)\n",
    "\n",
    "    diff = round(notes_per_beat/2, 2)\n",
    "\n",
    "    return diff"
   ]
  },
  {
   "cell_type": "code",
   "execution_count": null,
   "id": "f48a15f3",
   "metadata": {},
   "outputs": [
    {
     "name": "stdout",
     "output_type": "stream",
     "text": [
      "\n",
      "Predicting MIDI for piano_data\\0.mp3...\n",
      "\n",
      "\n",
      "  Creating midi...\n"
     ]
    },
    {
     "ename": "OSError",
     "evalue": "  🚨 piano_data\\0_basic_pitch.mid already exists and would be overwritten. Skipping output files for piano_data/0.mp3.",
     "output_type": "error",
     "traceback": [
      "\u001b[1;31m---------------------------------------------------------------------------\u001b[0m",
      "\u001b[1;31mOSError\u001b[0m                                   Traceback (most recent call last)",
      "Cell \u001b[1;32mIn[31], line 5\u001b[0m\n\u001b[0;32m      1\u001b[0m basic_pitch_model \u001b[38;5;241m=\u001b[39m Model(ICASSP_2022_MODEL_PATH)\n\u001b[0;32m      3\u001b[0m \u001b[38;5;28;01mfor\u001b[39;00m i \u001b[38;5;129;01min\u001b[39;00m \u001b[38;5;28mrange\u001b[39m(NUM_SONGS):\n\u001b[1;32m----> 5\u001b[0m     \u001b[43mpredict_and_save\u001b[49m\u001b[43m(\u001b[49m\n\u001b[0;32m      6\u001b[0m \u001b[43m        \u001b[49m\u001b[43maudio_path_list\u001b[49m\u001b[38;5;241;43m=\u001b[39;49m\u001b[43m[\u001b[49m\u001b[38;5;124;43mf\u001b[39;49m\u001b[38;5;124;43m\"\u001b[39;49m\u001b[38;5;124;43mpiano_data/\u001b[39;49m\u001b[38;5;132;43;01m{\u001b[39;49;00m\u001b[43mi\u001b[49m\u001b[38;5;132;43;01m}\u001b[39;49;00m\u001b[38;5;124;43m.mp3\u001b[39;49m\u001b[38;5;124;43m\"\u001b[39;49m\u001b[43m]\u001b[49m\u001b[43m,\u001b[49m\n\u001b[0;32m      7\u001b[0m \u001b[43m        \u001b[49m\u001b[43moutput_directory\u001b[49m\u001b[38;5;241;43m=\u001b[39;49m\u001b[38;5;124;43m\"\u001b[39;49m\u001b[38;5;124;43mpiano_data\u001b[39;49m\u001b[38;5;124;43m\"\u001b[39;49m\u001b[43m,\u001b[49m\n\u001b[0;32m      8\u001b[0m \u001b[43m        \u001b[49m\u001b[43msave_midi\u001b[49m\u001b[38;5;241;43m=\u001b[39;49m\u001b[38;5;28;43;01mTrue\u001b[39;49;00m\u001b[43m,\u001b[49m\n\u001b[0;32m      9\u001b[0m \u001b[43m        \u001b[49m\u001b[43msonify_midi\u001b[49m\u001b[38;5;241;43m=\u001b[39;49m\u001b[38;5;28;43;01mFalse\u001b[39;49;00m\u001b[43m,\u001b[49m\n\u001b[0;32m     10\u001b[0m \u001b[43m        \u001b[49m\u001b[43msave_model_outputs\u001b[49m\u001b[38;5;241;43m=\u001b[39;49m\u001b[38;5;28;43;01mFalse\u001b[39;49;00m\u001b[43m,\u001b[49m\n\u001b[0;32m     11\u001b[0m \u001b[43m        \u001b[49m\u001b[43msave_notes\u001b[49m\u001b[38;5;241;43m=\u001b[39;49m\u001b[38;5;28;43;01mFalse\u001b[39;49;00m\u001b[43m,\u001b[49m\n\u001b[0;32m     12\u001b[0m \u001b[43m        \u001b[49m\u001b[43mmodel_or_model_path\u001b[49m\u001b[38;5;241;43m=\u001b[39;49m\u001b[43mbasic_pitch_model\u001b[49m\n\u001b[0;32m     13\u001b[0m \u001b[43m    \u001b[49m\u001b[43m)\u001b[49m\n\u001b[0;32m     14\u001b[0m     diff \u001b[38;5;241m=\u001b[39m difficulty(\u001b[38;5;124mf\u001b[39m\u001b[38;5;124m\"\u001b[39m\u001b[38;5;124mpiano_data/\u001b[39m\u001b[38;5;132;01m{\u001b[39;00mi\u001b[38;5;132;01m}\u001b[39;00m\u001b[38;5;124m_basic_pitch.mid\u001b[39m\u001b[38;5;124m\"\u001b[39m)\n\u001b[0;32m     16\u001b[0m     \u001b[38;5;28;01mwith\u001b[39;00m \u001b[38;5;28mopen\u001b[39m(\u001b[38;5;124m\"\u001b[39m\u001b[38;5;124mmanifest.csv\u001b[39m\u001b[38;5;124m\"\u001b[39m, \u001b[38;5;124m\"\u001b[39m\u001b[38;5;124ma\u001b[39m\u001b[38;5;124m\"\u001b[39m, newline\u001b[38;5;241m=\u001b[39m\u001b[38;5;124m\"\u001b[39m\u001b[38;5;124m\"\u001b[39m) \u001b[38;5;28;01mas\u001b[39;00m f:\n",
      "File \u001b[1;32mc:\\Users\\aymli\\anaconda3\\envs\\tomidi\\lib\\site-packages\\basic_pitch\\inference.py:587\u001b[0m, in \u001b[0;36mpredict_and_save\u001b[1;34m(audio_path_list, output_directory, save_midi, sonify_midi, save_model_outputs, save_notes, model_or_model_path, onset_threshold, frame_threshold, minimum_note_length, minimum_frequency, maximum_frequency, multiple_pitch_bends, melodia_trick, debug_file, sonification_samplerate, midi_tempo)\u001b[0m\n\u001b[0;32m    585\u001b[0m             \u001b[38;5;28;01mraise\u001b[39;00m e\n\u001b[0;32m    586\u001b[0m \u001b[38;5;28;01mexcept\u001b[39;00m \u001b[38;5;167;01mException\u001b[39;00m \u001b[38;5;28;01mas\u001b[39;00m e:\n\u001b[1;32m--> 587\u001b[0m     \u001b[38;5;28;01mraise\u001b[39;00m e\n",
      "File \u001b[1;32mc:\\Users\\aymli\\anaconda3\\envs\\tomidi\\lib\\site-packages\\basic_pitch\\inference.py:561\u001b[0m, in \u001b[0;36mpredict_and_save\u001b[1;34m(audio_path_list, output_directory, save_midi, sonify_midi, save_model_outputs, save_notes, model_or_model_path, onset_threshold, frame_threshold, minimum_note_length, minimum_frequency, maximum_frequency, multiple_pitch_bends, melodia_trick, debug_file, sonification_samplerate, midi_tempo)\u001b[0m\n\u001b[0;32m    559\u001b[0m     midi_path \u001b[38;5;241m=\u001b[39m build_output_path(audio_path, output_directory, OutputExtensions\u001b[38;5;241m.\u001b[39mMIDI)\n\u001b[0;32m    560\u001b[0m \u001b[38;5;28;01mexcept\u001b[39;00m \u001b[38;5;167;01mIOError\u001b[39;00m \u001b[38;5;28;01mas\u001b[39;00m e:\n\u001b[1;32m--> 561\u001b[0m     \u001b[38;5;28;01mraise\u001b[39;00m e\n\u001b[0;32m    562\u001b[0m \u001b[38;5;28;01mtry\u001b[39;00m:\n\u001b[0;32m    563\u001b[0m     midi_data\u001b[38;5;241m.\u001b[39mwrite(\u001b[38;5;28mstr\u001b[39m(midi_path))\n",
      "File \u001b[1;32mc:\\Users\\aymli\\anaconda3\\envs\\tomidi\\lib\\site-packages\\basic_pitch\\inference.py:559\u001b[0m, in \u001b[0;36mpredict_and_save\u001b[1;34m(audio_path_list, output_directory, save_midi, sonify_midi, save_model_outputs, save_notes, model_or_model_path, onset_threshold, frame_threshold, minimum_note_length, minimum_frequency, maximum_frequency, multiple_pitch_bends, melodia_trick, debug_file, sonification_samplerate, midi_tempo)\u001b[0m\n\u001b[0;32m    557\u001b[0m \u001b[38;5;28;01mif\u001b[39;00m save_midi:\n\u001b[0;32m    558\u001b[0m     \u001b[38;5;28;01mtry\u001b[39;00m:\n\u001b[1;32m--> 559\u001b[0m         midi_path \u001b[38;5;241m=\u001b[39m \u001b[43mbuild_output_path\u001b[49m\u001b[43m(\u001b[49m\u001b[43maudio_path\u001b[49m\u001b[43m,\u001b[49m\u001b[43m \u001b[49m\u001b[43moutput_directory\u001b[49m\u001b[43m,\u001b[49m\u001b[43m \u001b[49m\u001b[43mOutputExtensions\u001b[49m\u001b[38;5;241;43m.\u001b[39;49m\u001b[43mMIDI\u001b[49m\u001b[43m)\u001b[49m\n\u001b[0;32m    560\u001b[0m     \u001b[38;5;28;01mexcept\u001b[39;00m \u001b[38;5;167;01mIOError\u001b[39;00m \u001b[38;5;28;01mas\u001b[39;00m e:\n\u001b[0;32m    561\u001b[0m         \u001b[38;5;28;01mraise\u001b[39;00m e\n",
      "File \u001b[1;32mc:\\Users\\aymli\\anaconda3\\envs\\tomidi\\lib\\site-packages\\basic_pitch\\inference.py:385\u001b[0m, in \u001b[0;36mbuild_output_path\u001b[1;34m(audio_path, output_directory, output_type)\u001b[0m\n\u001b[0;32m    382\u001b[0m generating_file_message(output_type\u001b[38;5;241m.\u001b[39mname)\n\u001b[0;32m    384\u001b[0m \u001b[38;5;28;01mif\u001b[39;00m output_path\u001b[38;5;241m.\u001b[39mexists():\n\u001b[1;32m--> 385\u001b[0m     \u001b[38;5;28;01mraise\u001b[39;00m \u001b[38;5;167;01mIOError\u001b[39;00m(\n\u001b[0;32m    386\u001b[0m         \u001b[38;5;124mf\u001b[39m\u001b[38;5;124m\"\u001b[39m\u001b[38;5;124m  🚨 \u001b[39m\u001b[38;5;132;01m{\u001b[39;00m\u001b[38;5;28mstr\u001b[39m(output_path)\u001b[38;5;132;01m}\u001b[39;00m\u001b[38;5;124m already exists and would be overwritten. Skipping output files for \u001b[39m\u001b[38;5;132;01m{\u001b[39;00maudio_path\u001b[38;5;132;01m}\u001b[39;00m\u001b[38;5;124m.\u001b[39m\u001b[38;5;124m\"\u001b[39m\n\u001b[0;32m    387\u001b[0m     )\n\u001b[0;32m    389\u001b[0m \u001b[38;5;28;01mreturn\u001b[39;00m output_path\n",
      "\u001b[1;31mOSError\u001b[0m:   🚨 piano_data\\0_basic_pitch.mid already exists and would be overwritten. Skipping output files for piano_data/0.mp3."
     ]
    }
   ],
   "source": [
    "basic_pitch_model = Model(ICASSP_2022_MODEL_PATH)\n",
    "\n",
    "for i in range(NUM_SONGS):\n",
    "\n",
    "    predict_and_save(\n",
    "        audio_path_list=[f\"piano_data/{i}.mp3\"],\n",
    "        output_directory=\"piano_data\",\n",
    "        save_midi=True,\n",
    "        sonify_midi=False,\n",
    "        save_model_outputs=False,\n",
    "        save_notes=False,\n",
    "        model_or_model_path=basic_pitch_model\n",
    "    )\n",
    "    diff = difficulty(f\"piano_data/{i}_basic_pitch.mid\")\n",
    "\n",
    "    with open(\"manifest.csv\", \"a\", newline=\"\") as f:\n",
    "        writer = csv.writer(f)\n",
    "        midi_filepath = fr\"C:\\Users\\aymli\\Cover\\piano_data\\{i}_basic_pitch.mid\"\n",
    "        audio_filepath = fr\"C:\\Users\\aymli\\Cover\\song_data\\{i}.mp3\"\n",
    "        writer.writerow([audio_filepath, midi_filepath, diff])\n",
    "    \n",
    "    os.remove(f\"piano_data/{i}.mp3\")"
   ]
  }
 ],
 "metadata": {
  "kernelspec": {
   "display_name": "tomidi",
   "language": "python",
   "name": "python3"
  },
  "language_info": {
   "codemirror_mode": {
    "name": "ipython",
    "version": 3
   },
   "file_extension": ".py",
   "mimetype": "text/x-python",
   "name": "python",
   "nbconvert_exporter": "python",
   "pygments_lexer": "ipython3",
   "version": "3.9.21"
  }
 },
 "nbformat": 4,
 "nbformat_minor": 5
}
