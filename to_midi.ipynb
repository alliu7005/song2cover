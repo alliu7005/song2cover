{
 "cells": [
  {
   "cell_type": "code",
   "execution_count": 2,
   "id": "94f13a5b",
   "metadata": {},
   "outputs": [
    {
     "name": "stdout",
     "output_type": "stream",
     "text": [
      "The autoreload extension is already loaded. To reload it, use:\n",
      "  %reload_ext autoreload\n"
     ]
    }
   ],
   "source": [
    "import pretty_midi\n",
    "import math\n",
    "import os\n",
    "import csv\n",
    "from pathlib import Path\n",
    "\n",
    "%load_ext autoreload\n",
    "%autoreload 2\n",
    "\n",
    "NUM_SONGS = 50"
   ]
  },
  {
   "cell_type": "code",
   "execution_count": 3,
   "id": "046a3bb4",
   "metadata": {},
   "outputs": [],
   "source": [
    "def difficulty(midi_path):\n",
    "    pm = pretty_midi.PrettyMIDI(midi_path)\n",
    "\n",
    "    beats = pm.get_beats()\n",
    "\n",
    "    i = 0\n",
    "\n",
    "    for inst in pm.instruments:\n",
    "        for note in inst.notes:\n",
    "            i += 1\n",
    "\n",
    "    notes_per_beat = i / len(beats)\n",
    "\n",
    "    diff = round(notes_per_beat/2, 2)\n",
    "\n",
    "    return diff"
   ]
  },
  {
   "cell_type": "code",
   "execution_count": 5,
   "id": "930043c5",
   "metadata": {},
   "outputs": [
    {
     "name": "stdout",
     "output_type": "stream",
     "text": [
      "3.59\n",
      "1.33\n",
      "2.86\n",
      "3.4\n",
      "3.85\n",
      "3.88\n",
      "0.81\n",
      "1.98\n",
      "1.44\n",
      "1.83\n",
      "3.23\n",
      "3.33\n",
      "2.66\n",
      "2.54\n",
      "3.45\n",
      "2.45\n",
      "3.31\n",
      "4.49\n",
      "2.71\n",
      "3.28\n",
      "2.72\n",
      "3.7\n",
      "4.26\n",
      "3.69\n",
      "2.94\n",
      "2.73\n",
      "2.59\n",
      "3.88\n",
      "3.4\n",
      "2.93\n",
      "3.36\n",
      "1.05\n",
      "1.01\n",
      "2.01\n",
      "2.66\n",
      "2.89\n",
      "1.24\n",
      "2.48\n"
     ]
    }
   ],
   "source": [
    "with open(\"manifest.csv\", \"w\", newline=\"\") as f:\n",
    "        writer = csv.writer(f)\n",
    "        writer.writerow([\"audio_filepath\", \"midi_filepath\", \"difficulty\"])\n",
    "\n",
    "for i in range(NUM_SONGS):\n",
    "    try:\n",
    "        diff = difficulty(f\"midi_done/{i}.mid\")\n",
    "        \n",
    "        print(diff)\n",
    "        with open(\"manifest.csv\", \"a\", newline=\"\") as f:\n",
    "            writer = csv.writer(f)\n",
    "            midi_filepath = fr\"midi_done\\{i}.mid\"\n",
    "            audio_filepath = fr\"song\\{i}.mp3\"\n",
    "            writer.writerow([audio_filepath, midi_filepath, diff])\n",
    "    except:\n",
    "        pass"
   ]
  }
 ],
 "metadata": {
  "kernelspec": {
   "display_name": "tomidi",
   "language": "python",
   "name": "python3"
  },
  "language_info": {
   "codemirror_mode": {
    "name": "ipython",
    "version": 3
   },
   "file_extension": ".py",
   "mimetype": "text/x-python",
   "name": "python",
   "nbconvert_exporter": "python",
   "pygments_lexer": "ipython3",
   "version": "3.9.21"
  }
 },
 "nbformat": 4,
 "nbformat_minor": 5
}
