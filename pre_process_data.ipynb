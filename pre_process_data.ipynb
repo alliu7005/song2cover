{
 "cells": [
  {
   "cell_type": "code",
   "execution_count": null,
   "id": "3935165b",
   "metadata": {},
   "outputs": [],
   "source": []
  },
  {
   "cell_type": "code",
   "execution_count": 7,
   "id": "2195f570",
   "metadata": {},
   "outputs": [],
   "source": [
    "from __future__ import unicode_literals\n",
    "from yt_dlp import YoutubeDL\n",
    "import librosa\n",
    "from madmom.features.beats import DBNBeatTrackingProcessor, RNNBeatProcessor\n",
    "from madmom.features.downbeats import DBNDownBeatTrackingProcessor, RNNDownBeatProcessor\n",
    "import soundfile as sf\n",
    "import numpy as np\n",
    "import os\n",
    "from pydub import AudioSegment\n",
    "import matplotlib.pyplot as plt\n",
    "from scipy.spatial.distance import cdist\n",
    "import openl3\n",
    "from madmom.features.chords import DeepChromaChordRecognitionProcessor, majmin_targets_to_chord_labels\n",
    "from madmom.evaluation.chords import encode as encode_chords, merge_chords, reduce_to_triads\n",
    "from madmom.audio.chroma import DeepChromaProcessor\n",
    "import csv\n",
    "\n",
    "\n",
    "\n",
    "%load_ext autoreload\n",
    "%autoreload 2"
   ]
  },
  {
   "cell_type": "code",
   "execution_count": 8,
   "id": "4e78cb15",
   "metadata": {},
   "outputs": [],
   "source": [
    "def download_mp3(url, out_path=\"./%(title)s.%(ext)s\"):\n",
    "    ydl_opts = {\n",
    "        \"format\": \"bestaudio/best\",\n",
    "        \"outtmpl\": out_path,\n",
    "        \"ffmpeg_location\": r\"C:\\FFmpeg\\bin\",\n",
    "        \"postprocessors\": [{\n",
    "            \"key\": \"FFmpegExtractAudio\",\n",
    "            \"preferredcodec\": \"mp3\",\n",
    "                \"preferredquality\": \"192\",\n",
    "        }],\n",
    "        \"quiet\": False,\n",
    "        \"no_warnings\": True, \n",
    "    }\n",
    "\n",
    "    with YoutubeDL(ydl_opts) as ydl:\n",
    "        ydl.download([url])"
   ]
  },
  {
   "cell_type": "code",
   "execution_count": 184,
   "id": "c147c1bd",
   "metadata": {},
   "outputs": [],
   "source": [
    "song_links = []\n",
    "cover_links = []\n",
    "with open(\"Dataset.csv\", newline=\"\") as f:\n",
    "    reader = csv.DictReader(f)\n",
    "    for row in reader:\n",
    "        song_links.append(row[\"audio_link\"])\n",
    "        cover_links.append(row[\"cover_link\"])"
   ]
  },
  {
   "cell_type": "code",
   "execution_count": 9,
   "id": "4eb4f4d9",
   "metadata": {},
   "outputs": [],
   "source": [
    "def get_beats_and_downbeats(y, sr):\n",
    "\n",
    "    tempo, _ = librosa.beat.beat_track(y=y, sr=sr)\n",
    "    #beat_tracker = BeatNet(1, mode=\"online\", inference_model=\"PF\", thread=False)\n",
    "    #beats_np = beat_tracker.process(y)\n",
    "    #print(beats_np)\n",
    "    print(tempo)\n",
    "    sf.write(\"test.wav\",y,sr)\n",
    "    act = RNNDownBeatProcessor()(\"test.wav\")\n",
    "\n",
    "    dbn = DBNDownBeatTrackingProcessor(beats_per_bar=4, fps=100, min_bpm = tempo * 0.85, max_bpm = tempo * 1.15)\n",
    "\n",
    "    downbeats = dbn(act)\n",
    "\n",
    "    \n",
    "    beats = np.array([time for time, beat in downbeats])\n",
    "    downbeats = np.array([time for time, beat in downbeats if beat == 1])\n",
    "    print(60/np.mean(np.diff(beats)))\n",
    "    os.remove(\"test.wav\")\n",
    "    #print(beats_fixed)\n",
    "    #return beats\n",
    "    return (beats, downbeats, act)\n",
    "\n",
    "def load(path):\n",
    "    return librosa.load(path)\n",
    "\n",
    "def get_clicks(beats, sr):\n",
    "    return librosa.clicks(times=beats, sr=sr)\n",
    "\n",
    "def overlay(y, clicks, sr, path):\n",
    "    sf.write(\"y.wav\", y, sr, subtype='PCM_16')\n",
    "    sf.write(\"clicks.wav\", clicks, sr, subtype='PCM_16')\n",
    "\n",
    "   \n",
    "    y_audio = AudioSegment.from_wav(\"y.wav\")\n",
    "    clicks_audio = AudioSegment.from_wav(\"clicks.wav\")\n",
    "    audio = y_audio.overlay(clicks_audio)\n",
    "\n",
    "    os.remove(\"y.wav\")\n",
    "    os.remove(\"clicks.wav\")\n",
    "\n",
    "\n",
    "    audio.export(path, format=\"wav\")\n",
    "\n",
    "def trim_silence(y):\n",
    "    y_t, index = librosa.effects.trim(y, top_db=40)\n",
    "    return y_t\n",
    "\n",
    "\n",
    "def dtw_align(y_s_harmonic, y_s, y_p, downbeats_s, downbeats_p, sr, hop_length=512, n_beats=8, sim_metric='cosine', cost_threshold=1e3):\n",
    "    aligned = []\n",
    "    seg_s = np.array([])\n",
    "    seg_p = np.array([])\n",
    "    i = 0\n",
    "    j = 0\n",
    "    while i < len(downbeats_s):\n",
    "        if i + n_beats >= min(len(downbeats_s), len(downbeats_p)) - 1:\n",
    "            break\n",
    "        #print(i)\n",
    "        j = i\n",
    "        #while j < len(downbeats_p):\n",
    "        #for j in range(0, len(y_p)-16):\n",
    "        #    if j + n_beats >= len(downbeats_p) - 1:\n",
    "        #        break\n",
    "            #print(i, j)\n",
    "\n",
    "        t0_p, t1_p = downbeats_p[i], downbeats_p[i+n_beats]\n",
    "        t0_s, t1_s = downbeats_s[i], downbeats_s[i+n_beats]\n",
    "\n",
    "        s0_p, s1_p = int(t0_p * sr), int(t1_p * sr)\n",
    "        s0_s, s1_s = int(t0_s * sr), int(t1_s * sr)\n",
    "\n",
    "        y_chunk_p = y_p[s0_p: s1_p]\n",
    "        y_chunk_s_harmonic = y_s_harmonic[s0_s: s1_s]\n",
    "        y_chunk_s = y_s[s0_s: s1_s]\n",
    "\n",
    "        emb_p, _ = openl3.get_audio_embedding(y_chunk_p, sr, content_type='music', embedding_size=512, input_repr='mel256')\n",
    "        emb_s, _ = openl3.get_audio_embedding(y_chunk_s_harmonic, sr, content_type='music', embedding_size=512, input_repr='mel256')\n",
    "\n",
    "        D_feat = cdist(emb_p, emb_s, metric=sim_metric)\n",
    "\n",
    "        alpha = 0.03\n",
    "        idx1 = np.arange(D_feat.shape[0])[:,None]\n",
    "        idx2 = np.arange(D_feat.shape[1])[None,:]\n",
    "        D_time = alpha * np.abs(idx1 - idx2)\n",
    "\n",
    "        Cost = D_feat + D_time\n",
    "\n",
    "        D, wp = librosa.sequence.dtw(C=Cost)\n",
    "        cost = D[-1, -1]\n",
    "\n",
    "        print(i, cost)\n",
    "        if cost < cost_threshold:\n",
    "            aligned.append((t0_p, t1_p, t0_s, t1_s, cost))\n",
    "            seg_p = np.concatenate((seg_p, y_chunk_p))\n",
    "            seg_s = np.concatenate((seg_s, y_chunk_s))\n",
    "            #j += 8\n",
    "            i += 8\n",
    "        else:\n",
    "            break\n",
    "            #if len(downbeats_p) < len(downbeats_s):\n",
    "            #    i += 1\n",
    "            #else:\n",
    "            #   j += 1\n",
    "    \n",
    "    return aligned, seg_p, seg_s\n",
    "\n",
    "def export_aligned(y_s, y_p, sr, num, aligned):\n",
    "\n",
    "\n",
    "    for idx, (t0_p, t1_p, t0_s, t1_s, _) in enumerate(aligned):\n",
    "        s0_p, s1_p = int(t0_p * sr), int(t1_p * sr)\n",
    "        s0_s, s1_s = int(t0_s * sr), int(t1_s * sr)\n",
    "\n",
    "        seg_p = y_p[..., s0_p:s1_p]\n",
    "        seg_s = y_s[..., s0_s:s1_s]\n",
    "\n",
    "        #sf.write(\"align_test/\" + f\"seg{idx:02d}_p.wav\", seg_p.T, sr)\n",
    "        #sf.write(\"align_test/\" + f\"seg{idx:02d}_s.wav\",  seg_s.T, sr)\n",
    "\n",
    "    sf.write(f\"piano_data/{num}.mp3\", y_p, sr, bitrate_mode='VARIABLE', compression_level=0)\n",
    "    sf.write(f\"song_data/{num}.mp3\",  y_s, sr, bitrate_mode='VARIABLE', compression_level=0)"
   ]
  },
  {
   "cell_type": "code",
   "execution_count": 175,
   "id": "d048117f",
   "metadata": {},
   "outputs": [
    {
     "name": "stdout",
     "output_type": "stream",
     "text": [
      "[youtube] Extracting URL: https://www.youtube.com/watch?v=l5t9IXtTr6g\n",
      "[youtube] l5t9IXtTr6g: Downloading webpage\n",
      "[youtube] l5t9IXtTr6g: Downloading tv client config\n",
      "[youtube] l5t9IXtTr6g: Downloading tv player API JSON\n",
      "[youtube] l5t9IXtTr6g: Downloading ios player API JSON\n",
      "[youtube] l5t9IXtTr6g: Downloading player 59b252b9-main\n",
      "[youtube] l5t9IXtTr6g: Downloading m3u8 information\n",
      "[info] l5t9IXtTr6g: Downloading 1 format(s): 234\n",
      "[hlsnative] Downloading m3u8 manifest\n",
      "[hlsnative] Total fragments: 41\n",
      "[download] Destination: song_data\\1\n",
      "[download] 100% of    3.72MiB in 00:00:01 at 2.11MiB/s                   \n",
      "[ExtractAudio] Destination: song_data\\1.mp3\n",
      "Deleting original file song_data\\1 (pass -k to keep)\n",
      "[youtube] Extracting URL: https://www.youtube.com/watch?v=-iZmfIcnlBM\n",
      "[youtube] -iZmfIcnlBM: Downloading webpage\n",
      "[youtube] -iZmfIcnlBM: Downloading tv client config\n",
      "[youtube] -iZmfIcnlBM: Downloading tv player API JSON\n",
      "[youtube] -iZmfIcnlBM: Downloading ios player API JSON\n",
      "[youtube] -iZmfIcnlBM: Downloading player 59b252b9-main\n",
      "[youtube] -iZmfIcnlBM: Downloading m3u8 information\n",
      "[info] -iZmfIcnlBM: Downloading 1 format(s): 234\n",
      "[hlsnative] Downloading m3u8 manifest\n",
      "[hlsnative] Total fragments: 42\n",
      "[download] Destination: piano_data\\1\n",
      "[download] 100% of    3.42MiB in 00:00:07 at 438.71KiB/s                \n",
      "[ExtractAudio] Destination: piano_data\\1.mp3\n",
      "Deleting original file piano_data\\1 (pass -k to keep)\n"
     ]
    }
   ],
   "source": [
    "download_mp3(\"https://www.youtube.com/watch?v=l5t9IXtTr6g\", \"song_data/1\")\n",
    "download_mp3(\"https://www.youtube.com/watch?v=-iZmfIcnlBM\", \"piano_data/1\")"
   ]
  },
  {
   "cell_type": "code",
   "execution_count": 176,
   "id": "8236e8af",
   "metadata": {},
   "outputs": [],
   "source": [
    "y_p, sr = load(\"piano_data/1.mp3\")\n",
    "y_p = trim_silence(y_p)\n",
    "\n",
    "y_s, sr = load(\"song_data/1.mp3\")\n",
    "y_s = trim_silence(y_s)\n",
    "\n",
    "y_s_harmonic, y_s_percussive = librosa.effects.hpss(y_s)\n",
    "y_p_harmonic, y_p_percussive = librosa.effects.hpss(y_p)"
   ]
  },
  {
   "cell_type": "code",
   "execution_count": 177,
   "id": "cab249c0",
   "metadata": {},
   "outputs": [
    {
     "name": "stdout",
     "output_type": "stream",
     "text": [
      "[103.359375]\n"
     ]
    },
    {
     "name": "stderr",
     "output_type": "stream",
     "text": [
      "c:\\Users\\aymli\\anaconda3\\envs\\demucs\\lib\\site-packages\\numpy\\core\\_asarray.py:102: VisibleDeprecationWarning: Creating an ndarray from ragged nested sequences (which is a list-or-tuple of lists-or-tuples-or ndarrays with different lengths or shapes) is deprecated. If you meant to do this, you must specify 'dtype=object' when creating the ndarray.\n",
      "  return array(a, dtype, copy=False, order=order)\n"
     ]
    },
    {
     "name": "stdout",
     "output_type": "stream",
     "text": [
      "100.38281582305402\n",
      "[92.28515625]\n",
      "92.52886081463733\n"
     ]
    }
   ],
   "source": [
    "beats_p, downbeats_p, act_p = get_beats_and_downbeats(y_p, sr)\n",
    "\n",
    "beats_s, downbeats_s, act_s = get_beats_and_downbeats(y_s, sr)"
   ]
  },
  {
   "cell_type": "code",
   "execution_count": 178,
   "id": "8db1693a",
   "metadata": {},
   "outputs": [],
   "source": [
    "clicks_p = get_clicks(beats_p, sr)\n",
    "\n",
    "clicks_s = get_clicks(beats_s, sr)"
   ]
  },
  {
   "cell_type": "code",
   "execution_count": 179,
   "id": "935c529e",
   "metadata": {},
   "outputs": [],
   "source": [
    "overlay(y_p_harmonic, clicks_p, sr, \"piano_click.wav\")\n",
    "\n",
    "overlay(y_s, clicks_s, sr, \"song_click.wav\")"
   ]
  },
  {
   "cell_type": "code",
   "execution_count": 2,
   "id": "c2f14a42",
   "metadata": {},
   "outputs": [
    {
     "ename": "NameError",
     "evalue": "name 'dtw_align' is not defined",
     "output_type": "error",
     "traceback": [
      "\u001b[1;31m---------------------------------------------------------------------------\u001b[0m",
      "\u001b[1;31mNameError\u001b[0m                                 Traceback (most recent call last)",
      "Cell \u001b[1;32mIn[2], line 1\u001b[0m\n\u001b[1;32m----> 1\u001b[0m aligned, seg_p, seg_s \u001b[38;5;241m=\u001b[39m \u001b[43mdtw_align\u001b[49m(y_s_harmonic\u001b[38;5;241m=\u001b[39my_s_harmonic, y_s\u001b[38;5;241m=\u001b[39my_s, y_p\u001b[38;5;241m=\u001b[39my_p_harmonic, downbeats_s\u001b[38;5;241m=\u001b[39mdownbeats_s, downbeats_p\u001b[38;5;241m=\u001b[39mdownbeats_p, sr\u001b[38;5;241m=\u001b[39msr, cost_threshold\u001b[38;5;241m=\u001b[39m\u001b[38;5;241m12\u001b[39m)\n\u001b[0;32m      2\u001b[0m export_aligned(seg_s, seg_p, sr, aligned)\n",
      "\u001b[1;31mNameError\u001b[0m: name 'dtw_align' is not defined"
     ]
    }
   ],
   "source": [
    "aligned, seg_p, seg_s = dtw_align(y_s_harmonic=y_s_harmonic, y_s=y_s, y_p=y_p_harmonic, downbeats_s=downbeats_s, downbeats_p=downbeats_p, sr=sr, cost_threshold=12)\n",
    "export_aligned(seg_s, seg_p, sr, aligned)"
   ]
  },
  {
   "cell_type": "code",
   "execution_count": null,
   "id": "67d8272b",
   "metadata": {},
   "outputs": [
    {
     "name": "stdout",
     "output_type": "stream",
     "text": [
      "0 (1.29, 16.29, 1.28, 16.26, 5.334491688546183)\n",
      "1 (16.29, 31.29, 16.26, 31.27, 5.459741026942079)\n",
      "2 (31.29, 46.29, 31.27, 46.27, 5.846066501778152)\n",
      "3 (46.29, 61.29, 46.27, 61.27, 5.7083636063430285)\n",
      "4 (61.29, 76.29, 61.27, 76.28, 5.404086645188884)\n",
      "5 (76.29, 91.29, 76.28, 91.11, 5.34635182427443)\n",
      "6 (91.29, 106.29, 91.11, 106.13, 5.606575113936737)\n",
      "7 (106.29, 121.29, 106.13, 121.1, 5.199753430324616)\n",
      "8 (121.29, 136.3, 121.1, 136.12, 5.465182928827428)\n",
      "9 (136.3, 151.3, 136.12, 151.12, 4.870350664829438)\n",
      "10 (151.3, 166.29, 151.12, 166.12, 5.089253672059576)\n",
      "11 (166.29, 181.29, 166.12, 181.12, 5.375129957879572)\n",
      "12 (181.29, 196.3, 181.12, 196.11, 4.776375577618357)\n",
      "13 (196.3, 211.3, 196.11, 211.13, 4.7008008686572555)\n",
      "14 (211.3, 226.3, 211.13, 226.12, 4.7842672465586515)\n"
     ]
    }
   ],
   "source": [
    "for i in range(0, len(aligned)):\n",
    "    print(i, aligned[i])"
   ]
  },
  {
   "cell_type": "code",
   "execution_count": 10,
   "id": "c464088b",
   "metadata": {},
   "outputs": [
    {
     "name": "stdout",
     "output_type": "stream",
     "text": [
      "[youtube] Extracting URL: https://www.youtube.com/watch?v=2S0QhGGO1gQ\n",
      "[youtube] 2S0QhGGO1gQ: Downloading webpage\n",
      "[youtube] 2S0QhGGO1gQ: Downloading tv client config\n",
      "[youtube] 2S0QhGGO1gQ: Downloading tv player API JSON\n",
      "[youtube] 2S0QhGGO1gQ: Downloading ios player API JSON\n",
      "[youtube] 2S0QhGGO1gQ: Downloading player 59b252b9-main\n",
      "[youtube] 2S0QhGGO1gQ: Downloading m3u8 information\n",
      "[info] 2S0QhGGO1gQ: Downloading 1 format(s): 234\n",
      "[hlsnative] Downloading m3u8 manifest\n",
      "[hlsnative] Total fragments: 33\n",
      "[download] Destination: song_data\\0\n",
      "[download] 100% of    2.69MiB in 00:00:01 at 1.93MiB/s                   \n",
      "[ExtractAudio] Destination: song_data\\0.mp3\n",
      "Deleting original file song_data\\0 (pass -k to keep)\n",
      "[youtube] Extracting URL: https://www.youtube.com/watch?v=rmP2u0ymOqU\n",
      "[youtube] rmP2u0ymOqU: Downloading webpage\n",
      "[youtube] rmP2u0ymOqU: Downloading tv client config\n",
      "[youtube] rmP2u0ymOqU: Downloading tv player API JSON\n",
      "[youtube] rmP2u0ymOqU: Downloading ios player API JSON\n",
      "[youtube] rmP2u0ymOqU: Downloading player 59b252b9-main\n",
      "[youtube] rmP2u0ymOqU: Downloading m3u8 information\n",
      "[info] rmP2u0ymOqU: Downloading 1 format(s): 234\n",
      "[hlsnative] Downloading m3u8 manifest\n",
      "[hlsnative] Total fragments: 35\n",
      "[download] Destination: piano_data\\0\n",
      "[download] 100% of    2.90MiB in 00:00:03 at 777.21KiB/s                \n",
      "[ExtractAudio] Destination: piano_data\\0.mp3\n",
      "Deleting original file piano_data\\0 (pass -k to keep)\n",
      "[123.046875]\n"
     ]
    },
    {
     "name": "stderr",
     "output_type": "stream",
     "text": [
      "c:\\Users\\aymli\\anaconda3\\envs\\demucs\\lib\\site-packages\\numpy\\core\\_asarray.py:102: VisibleDeprecationWarning: Creating an ndarray from ragged nested sequences (which is a list-or-tuple of lists-or-tuples-or ndarrays with different lengths or shapes) is deprecated. If you meant to do this, you must specify 'dtype=object' when creating the ndarray.\n",
      "  return array(a, dtype, copy=False, order=order)\n"
     ]
    },
    {
     "name": "stdout",
     "output_type": "stream",
     "text": [
      "125.99461561471732\n",
      "[123.046875]\n",
      "126.09457092819613\n",
      "5/5 [==============================] - 10s 2s/step\n",
      "5/5 [==============================] - 11s 2s/step\n",
      "0 7.706603982443954\n",
      "5/5 [==============================] - 11s 2s/step\n",
      "5/5 [==============================] - 10s 2s/step\n",
      "8 6.603095966992492\n",
      "5/5 [==============================] - 11s 2s/step\n",
      "5/5 [==============================] - 11s 2s/step\n",
      "16 7.899924323444581\n"
     ]
    },
    {
     "ename": "KeyboardInterrupt",
     "evalue": "",
     "output_type": "error",
     "traceback": [
      "\u001b[1;31m---------------------------------------------------------------------------\u001b[0m",
      "\u001b[1;31mKeyboardInterrupt\u001b[0m                         Traceback (most recent call last)",
      "Cell \u001b[1;32mIn[10], line 26\u001b[0m\n\u001b[0;32m     22\u001b[0m beats_p, downbeats_p, act_p \u001b[38;5;241m=\u001b[39m get_beats_and_downbeats(y_p, sr)\n\u001b[0;32m     24\u001b[0m beats_s, downbeats_s, act_s \u001b[38;5;241m=\u001b[39m get_beats_and_downbeats(y_s, sr)\n\u001b[1;32m---> 26\u001b[0m aligned, seg_p, seg_s \u001b[38;5;241m=\u001b[39m \u001b[43mdtw_align\u001b[49m\u001b[43m(\u001b[49m\u001b[43my_s_harmonic\u001b[49m\u001b[38;5;241;43m=\u001b[39;49m\u001b[43my_s_harmonic\u001b[49m\u001b[43m,\u001b[49m\u001b[43m \u001b[49m\u001b[43my_s\u001b[49m\u001b[38;5;241;43m=\u001b[39;49m\u001b[43my_s\u001b[49m\u001b[43m,\u001b[49m\u001b[43m \u001b[49m\u001b[43my_p\u001b[49m\u001b[38;5;241;43m=\u001b[39;49m\u001b[43my_p_harmonic\u001b[49m\u001b[43m,\u001b[49m\u001b[43m \u001b[49m\u001b[43mdownbeats_s\u001b[49m\u001b[38;5;241;43m=\u001b[39;49m\u001b[43mdownbeats_s\u001b[49m\u001b[43m,\u001b[49m\u001b[43m \u001b[49m\u001b[43mdownbeats_p\u001b[49m\u001b[38;5;241;43m=\u001b[39;49m\u001b[43mdownbeats_p\u001b[49m\u001b[43m,\u001b[49m\u001b[43m \u001b[49m\u001b[43msr\u001b[49m\u001b[38;5;241;43m=\u001b[39;49m\u001b[43msr\u001b[49m\u001b[43m,\u001b[49m\u001b[43m \u001b[49m\u001b[43mcost_threshold\u001b[49m\u001b[38;5;241;43m=\u001b[39;49m\u001b[38;5;241;43m12\u001b[39;49m\u001b[43m)\u001b[49m\n\u001b[0;32m     27\u001b[0m export_aligned(seg_s, seg_p, sr, i, aligned)\n",
      "Cell \u001b[1;32mIn[9], line 77\u001b[0m, in \u001b[0;36mdtw_align\u001b[1;34m(y_s_harmonic, y_s, y_p, downbeats_s, downbeats_p, sr, hop_length, n_beats, sim_metric, cost_threshold)\u001b[0m\n\u001b[0;32m     74\u001b[0m y_chunk_s_harmonic \u001b[38;5;241m=\u001b[39m y_s_harmonic[s0_s: s1_s]\n\u001b[0;32m     75\u001b[0m y_chunk_s \u001b[38;5;241m=\u001b[39m y_s[s0_s: s1_s]\n\u001b[1;32m---> 77\u001b[0m emb_p, _ \u001b[38;5;241m=\u001b[39m \u001b[43mopenl3\u001b[49m\u001b[38;5;241;43m.\u001b[39;49m\u001b[43mget_audio_embedding\u001b[49m\u001b[43m(\u001b[49m\u001b[43my_chunk_p\u001b[49m\u001b[43m,\u001b[49m\u001b[43m \u001b[49m\u001b[43msr\u001b[49m\u001b[43m,\u001b[49m\u001b[43m \u001b[49m\u001b[43mcontent_type\u001b[49m\u001b[38;5;241;43m=\u001b[39;49m\u001b[38;5;124;43m'\u001b[39;49m\u001b[38;5;124;43mmusic\u001b[39;49m\u001b[38;5;124;43m'\u001b[39;49m\u001b[43m,\u001b[49m\u001b[43m \u001b[49m\u001b[43membedding_size\u001b[49m\u001b[38;5;241;43m=\u001b[39;49m\u001b[38;5;241;43m512\u001b[39;49m\u001b[43m,\u001b[49m\u001b[43m \u001b[49m\u001b[43minput_repr\u001b[49m\u001b[38;5;241;43m=\u001b[39;49m\u001b[38;5;124;43m'\u001b[39;49m\u001b[38;5;124;43mmel256\u001b[39;49m\u001b[38;5;124;43m'\u001b[39;49m\u001b[43m)\u001b[49m\n\u001b[0;32m     78\u001b[0m emb_s, _ \u001b[38;5;241m=\u001b[39m openl3\u001b[38;5;241m.\u001b[39mget_audio_embedding(y_chunk_s_harmonic, sr, content_type\u001b[38;5;241m=\u001b[39m\u001b[38;5;124m'\u001b[39m\u001b[38;5;124mmusic\u001b[39m\u001b[38;5;124m'\u001b[39m, embedding_size\u001b[38;5;241m=\u001b[39m\u001b[38;5;241m512\u001b[39m, input_repr\u001b[38;5;241m=\u001b[39m\u001b[38;5;124m'\u001b[39m\u001b[38;5;124mmel256\u001b[39m\u001b[38;5;124m'\u001b[39m)\n\u001b[0;32m     80\u001b[0m D_feat \u001b[38;5;241m=\u001b[39m cdist(emb_p, emb_s, metric\u001b[38;5;241m=\u001b[39msim_metric)\n",
      "File \u001b[1;32mc:\\Users\\aymli\\anaconda3\\envs\\demucs\\lib\\site-packages\\openl3\\core.py:277\u001b[0m, in \u001b[0;36mget_audio_embedding\u001b[1;34m(audio, sr, model, input_repr, content_type, embedding_size, center, hop_size, batch_size, frontend, verbose)\u001b[0m\n\u001b[0;32m    275\u001b[0m batch \u001b[38;5;241m=\u001b[39m np\u001b[38;5;241m.\u001b[39mvstack(batch)\n\u001b[0;32m    276\u001b[0m \u001b[38;5;66;03m# Compute embeddings\u001b[39;00m\n\u001b[1;32m--> 277\u001b[0m batch_embedding \u001b[38;5;241m=\u001b[39m \u001b[43mmodel\u001b[49m\u001b[38;5;241;43m.\u001b[39;49m\u001b[43mpredict\u001b[49m\u001b[43m(\u001b[49m\u001b[43mbatch\u001b[49m\u001b[43m,\u001b[49m\u001b[43m \u001b[49m\u001b[43mverbose\u001b[49m\u001b[38;5;241;43m=\u001b[39;49m\u001b[38;5;241;43m1\u001b[39;49m\u001b[43m \u001b[49m\u001b[38;5;28;43;01mif\u001b[39;49;00m\u001b[43m \u001b[49m\u001b[43mverbose\u001b[49m\u001b[43m \u001b[49m\u001b[38;5;28;43;01melse\u001b[39;49;00m\u001b[43m \u001b[49m\u001b[38;5;241;43m0\u001b[39;49m\u001b[43m,\u001b[49m\n\u001b[0;32m    278\u001b[0m \u001b[43m                                \u001b[49m\u001b[43mbatch_size\u001b[49m\u001b[38;5;241;43m=\u001b[39;49m\u001b[43mbatch_size\u001b[49m\u001b[43m)\u001b[49m\n\u001b[0;32m    280\u001b[0m embedding_list \u001b[38;5;241m=\u001b[39m []\n\u001b[0;32m    281\u001b[0m start_idx \u001b[38;5;241m=\u001b[39m \u001b[38;5;241m0\u001b[39m\n",
      "File \u001b[1;32mc:\\Users\\aymli\\anaconda3\\envs\\demucs\\lib\\site-packages\\keras\\utils\\traceback_utils.py:64\u001b[0m, in \u001b[0;36mfilter_traceback.<locals>.error_handler\u001b[1;34m(*args, **kwargs)\u001b[0m\n\u001b[0;32m     62\u001b[0m filtered_tb \u001b[38;5;241m=\u001b[39m \u001b[38;5;28;01mNone\u001b[39;00m\n\u001b[0;32m     63\u001b[0m \u001b[38;5;28;01mtry\u001b[39;00m:\n\u001b[1;32m---> 64\u001b[0m   \u001b[38;5;28;01mreturn\u001b[39;00m fn(\u001b[38;5;241m*\u001b[39margs, \u001b[38;5;241m*\u001b[39m\u001b[38;5;241m*\u001b[39mkwargs)\n\u001b[0;32m     65\u001b[0m \u001b[38;5;28;01mexcept\u001b[39;00m \u001b[38;5;167;01mException\u001b[39;00m \u001b[38;5;28;01mas\u001b[39;00m e:  \u001b[38;5;66;03m# pylint: disable=broad-except\u001b[39;00m\n\u001b[0;32m     66\u001b[0m   filtered_tb \u001b[38;5;241m=\u001b[39m _process_traceback_frames(e\u001b[38;5;241m.\u001b[39m__traceback__)\n",
      "File \u001b[1;32mc:\\Users\\aymli\\anaconda3\\envs\\demucs\\lib\\site-packages\\keras\\engine\\training.py:1789\u001b[0m, in \u001b[0;36mModel.predict\u001b[1;34m(self, x, batch_size, verbose, steps, callbacks, max_queue_size, workers, use_multiprocessing)\u001b[0m\n\u001b[0;32m   1787\u001b[0m \u001b[38;5;28;01mfor\u001b[39;00m step \u001b[38;5;129;01min\u001b[39;00m data_handler\u001b[38;5;241m.\u001b[39msteps():\n\u001b[0;32m   1788\u001b[0m   callbacks\u001b[38;5;241m.\u001b[39mon_predict_batch_begin(step)\n\u001b[1;32m-> 1789\u001b[0m   tmp_batch_outputs \u001b[38;5;241m=\u001b[39m \u001b[38;5;28;43mself\u001b[39;49m\u001b[38;5;241;43m.\u001b[39;49m\u001b[43mpredict_function\u001b[49m\u001b[43m(\u001b[49m\u001b[43miterator\u001b[49m\u001b[43m)\u001b[49m\n\u001b[0;32m   1790\u001b[0m   \u001b[38;5;28;01mif\u001b[39;00m data_handler\u001b[38;5;241m.\u001b[39mshould_sync:\n\u001b[0;32m   1791\u001b[0m     context\u001b[38;5;241m.\u001b[39masync_wait()\n",
      "File \u001b[1;32mc:\\Users\\aymli\\anaconda3\\envs\\demucs\\lib\\site-packages\\tensorflow\\python\\util\\traceback_utils.py:150\u001b[0m, in \u001b[0;36mfilter_traceback.<locals>.error_handler\u001b[1;34m(*args, **kwargs)\u001b[0m\n\u001b[0;32m    148\u001b[0m filtered_tb \u001b[38;5;241m=\u001b[39m \u001b[38;5;28;01mNone\u001b[39;00m\n\u001b[0;32m    149\u001b[0m \u001b[38;5;28;01mtry\u001b[39;00m:\n\u001b[1;32m--> 150\u001b[0m   \u001b[38;5;28;01mreturn\u001b[39;00m fn(\u001b[38;5;241m*\u001b[39margs, \u001b[38;5;241m*\u001b[39m\u001b[38;5;241m*\u001b[39mkwargs)\n\u001b[0;32m    151\u001b[0m \u001b[38;5;28;01mexcept\u001b[39;00m \u001b[38;5;167;01mException\u001b[39;00m \u001b[38;5;28;01mas\u001b[39;00m e:\n\u001b[0;32m    152\u001b[0m   filtered_tb \u001b[38;5;241m=\u001b[39m _process_traceback_frames(e\u001b[38;5;241m.\u001b[39m__traceback__)\n",
      "File \u001b[1;32mc:\\Users\\aymli\\anaconda3\\envs\\demucs\\lib\\site-packages\\tensorflow\\python\\eager\\def_function.py:910\u001b[0m, in \u001b[0;36mFunction.__call__\u001b[1;34m(self, *args, **kwds)\u001b[0m\n\u001b[0;32m    907\u001b[0m compiler \u001b[38;5;241m=\u001b[39m \u001b[38;5;124m\"\u001b[39m\u001b[38;5;124mxla\u001b[39m\u001b[38;5;124m\"\u001b[39m \u001b[38;5;28;01mif\u001b[39;00m \u001b[38;5;28mself\u001b[39m\u001b[38;5;241m.\u001b[39m_jit_compile \u001b[38;5;28;01melse\u001b[39;00m \u001b[38;5;124m\"\u001b[39m\u001b[38;5;124mnonXla\u001b[39m\u001b[38;5;124m\"\u001b[39m\n\u001b[0;32m    909\u001b[0m \u001b[38;5;28;01mwith\u001b[39;00m OptionalXlaContext(\u001b[38;5;28mself\u001b[39m\u001b[38;5;241m.\u001b[39m_jit_compile):\n\u001b[1;32m--> 910\u001b[0m   result \u001b[38;5;241m=\u001b[39m \u001b[38;5;28mself\u001b[39m\u001b[38;5;241m.\u001b[39m_call(\u001b[38;5;241m*\u001b[39margs, \u001b[38;5;241m*\u001b[39m\u001b[38;5;241m*\u001b[39mkwds)\n\u001b[0;32m    912\u001b[0m new_tracing_count \u001b[38;5;241m=\u001b[39m \u001b[38;5;28mself\u001b[39m\u001b[38;5;241m.\u001b[39mexperimental_get_tracing_count()\n\u001b[0;32m    913\u001b[0m without_tracing \u001b[38;5;241m=\u001b[39m (tracing_count \u001b[38;5;241m==\u001b[39m new_tracing_count)\n",
      "File \u001b[1;32mc:\\Users\\aymli\\anaconda3\\envs\\demucs\\lib\\site-packages\\tensorflow\\python\\eager\\def_function.py:981\u001b[0m, in \u001b[0;36mFunction._call\u001b[1;34m(self, *args, **kwds)\u001b[0m\n\u001b[0;32m    977\u001b[0m   _, _, _, filtered_flat_args \u001b[38;5;241m=\u001b[39m \\\n\u001b[0;32m    978\u001b[0m       \u001b[38;5;28mself\u001b[39m\u001b[38;5;241m.\u001b[39m_stateful_fn\u001b[38;5;241m.\u001b[39m_function_spec\u001b[38;5;241m.\u001b[39mcanonicalize_function_inputs(  \u001b[38;5;66;03m# pylint: disable=protected-access\u001b[39;00m\n\u001b[0;32m    979\u001b[0m           \u001b[38;5;241m*\u001b[39margs, \u001b[38;5;241m*\u001b[39m\u001b[38;5;241m*\u001b[39mkwds)\n\u001b[0;32m    980\u001b[0m   \u001b[38;5;66;03m# If we did not create any variables the trace we have is good enough.\u001b[39;00m\n\u001b[1;32m--> 981\u001b[0m   \u001b[38;5;28;01mreturn\u001b[39;00m \u001b[38;5;28;43mself\u001b[39;49m\u001b[38;5;241;43m.\u001b[39;49m\u001b[43m_concrete_stateful_fn\u001b[49m\u001b[38;5;241;43m.\u001b[39;49m\u001b[43m_call_flat\u001b[49m\u001b[43m(\u001b[49m\n\u001b[0;32m    982\u001b[0m \u001b[43m      \u001b[49m\u001b[43mfiltered_flat_args\u001b[49m\u001b[43m,\u001b[49m\u001b[43m \u001b[49m\u001b[38;5;28;43mself\u001b[39;49m\u001b[38;5;241;43m.\u001b[39;49m\u001b[43m_concrete_stateful_fn\u001b[49m\u001b[38;5;241;43m.\u001b[39;49m\u001b[43mcaptured_inputs\u001b[49m\u001b[43m)\u001b[49m  \u001b[38;5;66;03m# pylint: disable=protected-access\u001b[39;00m\n\u001b[0;32m    984\u001b[0m \u001b[38;5;28;01mdef\u001b[39;00m\u001b[38;5;250m \u001b[39m\u001b[38;5;21mfn_with_cond\u001b[39m(inner_args, inner_kwds, inner_filtered_flat_args):\n\u001b[0;32m    985\u001b[0m \u001b[38;5;250m  \u001b[39m\u001b[38;5;124;03m\"\"\"Conditionally runs initialization if it's needed.\"\"\"\u001b[39;00m\n",
      "File \u001b[1;32mc:\\Users\\aymli\\anaconda3\\envs\\demucs\\lib\\site-packages\\tensorflow\\python\\eager\\function.py:1959\u001b[0m, in \u001b[0;36mConcreteFunction._call_flat\u001b[1;34m(self, args, captured_inputs, cancellation_manager)\u001b[0m\n\u001b[0;32m   1955\u001b[0m possible_gradient_type \u001b[38;5;241m=\u001b[39m gradients_util\u001b[38;5;241m.\u001b[39mPossibleTapeGradientTypes(args)\n\u001b[0;32m   1956\u001b[0m \u001b[38;5;28;01mif\u001b[39;00m (possible_gradient_type \u001b[38;5;241m==\u001b[39m gradients_util\u001b[38;5;241m.\u001b[39mPOSSIBLE_GRADIENT_TYPES_NONE\n\u001b[0;32m   1957\u001b[0m     \u001b[38;5;129;01mand\u001b[39;00m executing_eagerly):\n\u001b[0;32m   1958\u001b[0m   \u001b[38;5;66;03m# No tape is watching; skip to running the function.\u001b[39;00m\n\u001b[1;32m-> 1959\u001b[0m   \u001b[38;5;28;01mreturn\u001b[39;00m \u001b[38;5;28mself\u001b[39m\u001b[38;5;241m.\u001b[39m_build_call_outputs(\u001b[38;5;28;43mself\u001b[39;49m\u001b[38;5;241;43m.\u001b[39;49m\u001b[43m_inference_function\u001b[49m\u001b[38;5;241;43m.\u001b[39;49m\u001b[43mcall\u001b[49m\u001b[43m(\u001b[49m\n\u001b[0;32m   1960\u001b[0m \u001b[43m      \u001b[49m\u001b[43mctx\u001b[49m\u001b[43m,\u001b[49m\u001b[43m \u001b[49m\u001b[43margs\u001b[49m\u001b[43m,\u001b[49m\u001b[43m \u001b[49m\u001b[43mcancellation_manager\u001b[49m\u001b[38;5;241;43m=\u001b[39;49m\u001b[43mcancellation_manager\u001b[49m\u001b[43m)\u001b[49m)\n\u001b[0;32m   1961\u001b[0m forward_backward \u001b[38;5;241m=\u001b[39m \u001b[38;5;28mself\u001b[39m\u001b[38;5;241m.\u001b[39m_select_forward_and_backward_functions(\n\u001b[0;32m   1962\u001b[0m     args,\n\u001b[0;32m   1963\u001b[0m     possible_gradient_type,\n\u001b[0;32m   1964\u001b[0m     executing_eagerly)\n\u001b[0;32m   1965\u001b[0m forward_function, args_with_tangents \u001b[38;5;241m=\u001b[39m forward_backward\u001b[38;5;241m.\u001b[39mforward()\n",
      "File \u001b[1;32mc:\\Users\\aymli\\anaconda3\\envs\\demucs\\lib\\site-packages\\tensorflow\\python\\eager\\function.py:598\u001b[0m, in \u001b[0;36m_EagerDefinedFunction.call\u001b[1;34m(self, ctx, args, cancellation_manager)\u001b[0m\n\u001b[0;32m    596\u001b[0m \u001b[38;5;28;01mwith\u001b[39;00m _InterpolateFunctionError(\u001b[38;5;28mself\u001b[39m):\n\u001b[0;32m    597\u001b[0m   \u001b[38;5;28;01mif\u001b[39;00m cancellation_manager \u001b[38;5;129;01mis\u001b[39;00m \u001b[38;5;28;01mNone\u001b[39;00m:\n\u001b[1;32m--> 598\u001b[0m     outputs \u001b[38;5;241m=\u001b[39m \u001b[43mexecute\u001b[49m\u001b[38;5;241;43m.\u001b[39;49m\u001b[43mexecute\u001b[49m\u001b[43m(\u001b[49m\n\u001b[0;32m    599\u001b[0m \u001b[43m        \u001b[49m\u001b[38;5;28;43mstr\u001b[39;49m\u001b[43m(\u001b[49m\u001b[38;5;28;43mself\u001b[39;49m\u001b[38;5;241;43m.\u001b[39;49m\u001b[43msignature\u001b[49m\u001b[38;5;241;43m.\u001b[39;49m\u001b[43mname\u001b[49m\u001b[43m)\u001b[49m\u001b[43m,\u001b[49m\n\u001b[0;32m    600\u001b[0m \u001b[43m        \u001b[49m\u001b[43mnum_outputs\u001b[49m\u001b[38;5;241;43m=\u001b[39;49m\u001b[38;5;28;43mself\u001b[39;49m\u001b[38;5;241;43m.\u001b[39;49m\u001b[43m_num_outputs\u001b[49m\u001b[43m,\u001b[49m\n\u001b[0;32m    601\u001b[0m \u001b[43m        \u001b[49m\u001b[43minputs\u001b[49m\u001b[38;5;241;43m=\u001b[39;49m\u001b[43margs\u001b[49m\u001b[43m,\u001b[49m\n\u001b[0;32m    602\u001b[0m \u001b[43m        \u001b[49m\u001b[43mattrs\u001b[49m\u001b[38;5;241;43m=\u001b[39;49m\u001b[43mattrs\u001b[49m\u001b[43m,\u001b[49m\n\u001b[0;32m    603\u001b[0m \u001b[43m        \u001b[49m\u001b[43mctx\u001b[49m\u001b[38;5;241;43m=\u001b[39;49m\u001b[43mctx\u001b[49m\u001b[43m)\u001b[49m\n\u001b[0;32m    604\u001b[0m   \u001b[38;5;28;01melse\u001b[39;00m:\n\u001b[0;32m    605\u001b[0m     outputs \u001b[38;5;241m=\u001b[39m execute\u001b[38;5;241m.\u001b[39mexecute_with_cancellation(\n\u001b[0;32m    606\u001b[0m         \u001b[38;5;28mstr\u001b[39m(\u001b[38;5;28mself\u001b[39m\u001b[38;5;241m.\u001b[39msignature\u001b[38;5;241m.\u001b[39mname),\n\u001b[0;32m    607\u001b[0m         num_outputs\u001b[38;5;241m=\u001b[39m\u001b[38;5;28mself\u001b[39m\u001b[38;5;241m.\u001b[39m_num_outputs,\n\u001b[1;32m   (...)\u001b[0m\n\u001b[0;32m    610\u001b[0m         ctx\u001b[38;5;241m=\u001b[39mctx,\n\u001b[0;32m    611\u001b[0m         cancellation_manager\u001b[38;5;241m=\u001b[39mcancellation_manager)\n",
      "File \u001b[1;32mc:\\Users\\aymli\\anaconda3\\envs\\demucs\\lib\\site-packages\\tensorflow\\python\\eager\\execute.py:58\u001b[0m, in \u001b[0;36mquick_execute\u001b[1;34m(op_name, num_outputs, inputs, attrs, ctx, name)\u001b[0m\n\u001b[0;32m     56\u001b[0m \u001b[38;5;28;01mtry\u001b[39;00m:\n\u001b[0;32m     57\u001b[0m   ctx\u001b[38;5;241m.\u001b[39mensure_initialized()\n\u001b[1;32m---> 58\u001b[0m   tensors \u001b[38;5;241m=\u001b[39m \u001b[43mpywrap_tfe\u001b[49m\u001b[38;5;241;43m.\u001b[39;49m\u001b[43mTFE_Py_Execute\u001b[49m\u001b[43m(\u001b[49m\u001b[43mctx\u001b[49m\u001b[38;5;241;43m.\u001b[39;49m\u001b[43m_handle\u001b[49m\u001b[43m,\u001b[49m\u001b[43m \u001b[49m\u001b[43mdevice_name\u001b[49m\u001b[43m,\u001b[49m\u001b[43m \u001b[49m\u001b[43mop_name\u001b[49m\u001b[43m,\u001b[49m\n\u001b[0;32m     59\u001b[0m \u001b[43m                                      \u001b[49m\u001b[43minputs\u001b[49m\u001b[43m,\u001b[49m\u001b[43m \u001b[49m\u001b[43mattrs\u001b[49m\u001b[43m,\u001b[49m\u001b[43m \u001b[49m\u001b[43mnum_outputs\u001b[49m\u001b[43m)\u001b[49m\n\u001b[0;32m     60\u001b[0m \u001b[38;5;28;01mexcept\u001b[39;00m core\u001b[38;5;241m.\u001b[39m_NotOkStatusException \u001b[38;5;28;01mas\u001b[39;00m e:\n\u001b[0;32m     61\u001b[0m   \u001b[38;5;28;01mif\u001b[39;00m name \u001b[38;5;129;01mis\u001b[39;00m \u001b[38;5;129;01mnot\u001b[39;00m \u001b[38;5;28;01mNone\u001b[39;00m:\n",
      "\u001b[1;31mKeyboardInterrupt\u001b[0m: "
     ]
    }
   ],
   "source": [
    "song_links = []\n",
    "cover_links = []\n",
    "with open(\"Dataset.csv\", newline=\"\") as f:\n",
    "    reader = csv.DictReader(f)\n",
    "    for row in reader:\n",
    "        song_links.append(row[\"audio_link\"])\n",
    "        cover_links.append(row[\"cover_link\"])\n",
    "\n",
    "for i in range(len(song_links)):\n",
    "    download_mp3(song_links[i], f\"song_data/{i}\")\n",
    "    download_mp3(cover_links[i], f\"piano_data/{i}\")\n",
    "\n",
    "    y_p, sr = load(f\"piano_data/{i}.mp3\")\n",
    "    y_p = trim_silence(y_p)\n",
    "\n",
    "    y_s, sr = load(f\"song_data/{i}.mp3\")\n",
    "    y_s = trim_silence(y_s)\n",
    "\n",
    "    y_s_harmonic, y_s_percussive = librosa.effects.hpss(y_s)\n",
    "    y_p_harmonic, y_p_percussive = librosa.effects.hpss(y_p)\n",
    "\n",
    "    beats_p, downbeats_p, act_p = get_beats_and_downbeats(y_p, sr)\n",
    "\n",
    "    beats_s, downbeats_s, act_s = get_beats_and_downbeats(y_s, sr)\n",
    "\n",
    "    aligned, seg_p, seg_s = dtw_align(y_s_harmonic=y_s_harmonic, y_s=y_s, y_p=y_p_harmonic, downbeats_s=downbeats_s, downbeats_p=downbeats_p, sr=sr, cost_threshold=11)\n",
    "    export_aligned(seg_s, seg_p, sr, i, aligned)"
   ]
  }
 ],
 "metadata": {
  "kernelspec": {
   "display_name": "demucs",
   "language": "python",
   "name": "python3"
  },
  "language_info": {
   "codemirror_mode": {
    "name": "ipython",
    "version": 3
   },
   "file_extension": ".py",
   "mimetype": "text/x-python",
   "name": "python",
   "nbconvert_exporter": "python",
   "pygments_lexer": "ipython3",
   "version": "3.9.21"
  }
 },
 "nbformat": 4,
 "nbformat_minor": 5
}
