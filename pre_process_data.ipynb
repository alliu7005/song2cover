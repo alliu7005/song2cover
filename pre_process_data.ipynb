{
 "cells": [
  {
   "cell_type": "code",
   "execution_count": null,
   "id": "3935165b",
   "metadata": {},
   "outputs": [],
   "source": []
  },
  {
   "cell_type": "code",
   "execution_count": 6,
   "id": "2195f570",
   "metadata": {},
   "outputs": [
    {
     "name": "stdout",
     "output_type": "stream",
     "text": [
      "The autoreload extension is already loaded. To reload it, use:\n",
      "  %reload_ext autoreload\n"
     ]
    }
   ],
   "source": [
    "from __future__ import unicode_literals\n",
    "from yt_dlp import YoutubeDL\n",
    "import librosa\n",
    "from madmom.features.beats import DBNBeatTrackingProcessor, RNNBeatProcessor\n",
    "from madmom.features.downbeats import DBNDownBeatTrackingProcessor, RNNDownBeatProcessor\n",
    "import soundfile as sf\n",
    "import numpy as np\n",
    "import os\n",
    "from pydub import AudioSegment\n",
    "import matplotlib.pyplot as plt\n",
    "from scipy.spatial.distance import cdist\n",
    "import openl3\n",
    "from madmom.features.chords import DeepChromaChordRecognitionProcessor, majmin_targets_to_chord_labels\n",
    "from madmom.evaluation.chords import encode as encode_chords, merge_chords, reduce_to_triads\n",
    "from madmom.audio.chroma import DeepChromaProcessor\n",
    "import csv\n",
    "import pretty_midi\n",
    "\n",
    "\n",
    "\n",
    "%load_ext autoreload\n",
    "%autoreload 2"
   ]
  },
  {
   "cell_type": "code",
   "execution_count": 2,
   "id": "4e78cb15",
   "metadata": {},
   "outputs": [],
   "source": [
    "def download_mp3(url, out_path=\"./%(title)s.%(ext)s\"):\n",
    "    ydl_opts = {\n",
    "        \"format\": \"bestaudio/best\",\n",
    "        \"outtmpl\": out_path,\n",
    "        \"ffmpeg_location\": r\"C:\\FFmpeg\\bin\",\n",
    "        \"postprocessors\": [{\n",
    "            \"key\": \"FFmpegExtractAudio\",\n",
    "            \"preferredcodec\": \"mp3\",\n",
    "                \"preferredquality\": \"192\",\n",
    "        }],\n",
    "        \"quiet\": False,\n",
    "        \"no_warnings\": True, \n",
    "    }\n",
    "\n",
    "    with YoutubeDL(ydl_opts) as ydl:\n",
    "        ydl.download([url])"
   ]
  },
  {
   "cell_type": "code",
   "execution_count": 4,
   "id": "c147c1bd",
   "metadata": {},
   "outputs": [],
   "source": [
    "song_links = []\n",
    "cover_links = []\n",
    "with open(\"Dataset.csv\", newline=\"\") as f:\n",
    "    reader = csv.DictReader(f)\n",
    "    for row in reader:\n",
    "        song_links.append(row[\"audio_link\"])\n",
    "        cover_links.append(row[\"cover_link\"])"
   ]
  },
  {
   "cell_type": "code",
   "execution_count": 10,
   "id": "4eb4f4d9",
   "metadata": {},
   "outputs": [],
   "source": [
    "def get_beats_and_downbeats(y, sr, tempo=0):\n",
    "\n",
    "    if tempo == 0:\n",
    "        tempo, _ = librosa.beat.beat_track(y=y, sr=sr)\n",
    "    #beat_tracker = BeatNet(1, mode=\"online\", inference_model=\"PF\", thread=False)\n",
    "    #beats_np = beat_tracker.process(y)\n",
    "    #print(beats_np)\n",
    "    print(tempo)\n",
    "    sf.write(\"test.wav\",y,sr)\n",
    "    act = RNNDownBeatProcessor()(\"test.wav\")\n",
    "\n",
    "    dbn = DBNDownBeatTrackingProcessor(beats_per_bar=4, fps=100, min_bpm = tempo * 0.8, max_bpm = tempo * 1.2)\n",
    "\n",
    "    downbeats = dbn(act)\n",
    "\n",
    "    \n",
    "    beats = np.array([time for time, beat in downbeats])\n",
    "    downbeats = np.array([time for time, beat in downbeats if beat == 1])\n",
    "    print(60/np.mean(np.diff(beats)))\n",
    "    os.remove(\"test.wav\")\n",
    "    #print(beats_fixed)\n",
    "    #return beats\n",
    "    return (beats, downbeats, act, tempo)\n",
    "\n",
    "def load(path):\n",
    "    return librosa.load(path)\n",
    "\n",
    "def get_clicks(beats, sr):\n",
    "    return librosa.clicks(times=beats, sr=sr)\n",
    "\n",
    "def overlay(y, clicks, sr, path):\n",
    "    sf.write(\"y.wav\", y, sr, subtype='PCM_16')\n",
    "    sf.write(\"clicks.wav\", clicks, sr, subtype='PCM_16')\n",
    "\n",
    "   \n",
    "    y_audio = AudioSegment.from_wav(\"y.wav\")\n",
    "    clicks_audio = AudioSegment.from_wav(\"clicks.wav\")\n",
    "    audio = y_audio.overlay(clicks_audio)\n",
    "\n",
    "    os.remove(\"y.wav\")\n",
    "    os.remove(\"clicks.wav\")\n",
    "\n",
    "\n",
    "    audio.export(path, format=\"wav\")\n",
    "\n",
    "def trim_silence(y):\n",
    "    y_t, index = librosa.effects.trim(y, top_db=40)\n",
    "    return y_t\n",
    "\n",
    "\n",
    "def dtw_align(y_s_harmonic, y_s, y_p, downbeats_s, downbeats_p, sr, hop_length=512, n_beats=8, sim_metric='cosine', cost_threshold=1e3):\n",
    "    aligned = []\n",
    "    seg_s = np.array([])\n",
    "    seg_p = np.array([])\n",
    "    i = 0\n",
    "    j = 0\n",
    "    while i < len(downbeats_s) or i < len(downbeats_p):\n",
    "        if i + n_beats >= min(len(downbeats_s), len(downbeats_p)) - 1:\n",
    "            break\n",
    "        #print(i)\n",
    "        j = i\n",
    "        #while j < len(downbeats_p):\n",
    "        #for j in range(0, len(y_p)-16):\n",
    "        #    if j + n_beats >= len(downbeats_p) - 1:\n",
    "        #        break\n",
    "            #print(i, j)\n",
    "\n",
    "        t0_p, t1_p = downbeats_p[i], downbeats_p[i+n_beats]\n",
    "        t0_s, t1_s = downbeats_s[i], downbeats_s[i+n_beats]\n",
    "\n",
    "        s0_p, s1_p = int(t0_p * sr), int(t1_p * sr)\n",
    "        s0_s, s1_s = int(t0_s * sr), int(t1_s * sr)\n",
    "\n",
    "        y_chunk_p = y_p[s0_p: s1_p]\n",
    "        y_chunk_s_harmonic = y_s_harmonic[s0_s: s1_s]\n",
    "        y_chunk_s = y_s[s0_s: s1_s]\n",
    "\n",
    "        emb_p, _ = openl3.get_audio_embedding(y_chunk_p, sr, content_type='music', embedding_size=512, input_repr='mel256')\n",
    "        emb_s, _ = openl3.get_audio_embedding(y_chunk_s_harmonic, sr, content_type='music', embedding_size=512, input_repr='mel256')\n",
    "\n",
    "        D_feat = cdist(emb_p, emb_s, metric=sim_metric)\n",
    "\n",
    "        alpha = 0.03\n",
    "        idx1 = np.arange(D_feat.shape[0])[:,None]\n",
    "        idx2 = np.arange(D_feat.shape[1])[None,:]\n",
    "        D_time = alpha * np.abs(idx1 - idx2)\n",
    "\n",
    "        Cost = D_feat + D_time\n",
    "\n",
    "        D, wp = librosa.sequence.dtw(C=Cost)\n",
    "        cost = D[-1, -1]\n",
    "\n",
    "        print(i, cost)\n",
    "        if cost < cost_threshold:\n",
    "            aligned.append((t0_p, t1_p, t0_s, t1_s, cost))\n",
    "            seg_p = np.concatenate((seg_p, y_chunk_p))\n",
    "            seg_s = np.concatenate((seg_s, y_chunk_s))\n",
    "            #j += 8\n",
    "            i += 8\n",
    "        else:\n",
    "            break\n",
    "            #if len(downbeats_p) < len(downbeats_s):\n",
    "            #    i += 1\n",
    "            #else:\n",
    "            #   j += 1\n",
    "    \n",
    "    return aligned, seg_p, seg_s\n",
    "\n",
    "def export_aligned(y_s, y_p, sr, num, aligned):\n",
    "\n",
    "\n",
    "    for idx, (t0_p, t1_p, t0_s, t1_s, _) in enumerate(aligned):\n",
    "        s0_p, s1_p = int(t0_p * sr), int(t1_p * sr)\n",
    "        s0_s, s1_s = int(t0_s * sr), int(t1_s * sr)\n",
    "\n",
    "        seg_p = y_p[..., s0_p:s1_p]\n",
    "        seg_s = y_s[..., s0_s:s1_s]\n",
    "\n",
    "        #sf.write(\"align_test/\" + f\"seg{idx:02d}_p.wav\", seg_p.T, sr)\n",
    "        #sf.write(\"align_test/\" + f\"seg{idx:02d}_s.wav\",  seg_s.T, sr)\n",
    "\n",
    "    sf.write(f\"piano_data/{num}.mp3\", y_p, sr, bitrate_mode='VARIABLE', compression_level=0)\n",
    "    sf.write(f\"song_data/{num}.mp3\",  y_s, sr, bitrate_mode='VARIABLE', compression_level=0)"
   ]
  },
  {
   "cell_type": "code",
   "execution_count": 175,
   "id": "d048117f",
   "metadata": {},
   "outputs": [
    {
     "name": "stdout",
     "output_type": "stream",
     "text": [
      "[youtube] Extracting URL: https://www.youtube.com/watch?v=l5t9IXtTr6g\n",
      "[youtube] l5t9IXtTr6g: Downloading webpage\n",
      "[youtube] l5t9IXtTr6g: Downloading tv client config\n",
      "[youtube] l5t9IXtTr6g: Downloading tv player API JSON\n",
      "[youtube] l5t9IXtTr6g: Downloading ios player API JSON\n",
      "[youtube] l5t9IXtTr6g: Downloading player 59b252b9-main\n",
      "[youtube] l5t9IXtTr6g: Downloading m3u8 information\n",
      "[info] l5t9IXtTr6g: Downloading 1 format(s): 234\n",
      "[hlsnative] Downloading m3u8 manifest\n",
      "[hlsnative] Total fragments: 41\n",
      "[download] Destination: song_data\\1\n",
      "[download] 100% of    3.72MiB in 00:00:01 at 2.11MiB/s                   \n",
      "[ExtractAudio] Destination: song_data\\1.mp3\n",
      "Deleting original file song_data\\1 (pass -k to keep)\n",
      "[youtube] Extracting URL: https://www.youtube.com/watch?v=-iZmfIcnlBM\n",
      "[youtube] -iZmfIcnlBM: Downloading webpage\n",
      "[youtube] -iZmfIcnlBM: Downloading tv client config\n",
      "[youtube] -iZmfIcnlBM: Downloading tv player API JSON\n",
      "[youtube] -iZmfIcnlBM: Downloading ios player API JSON\n",
      "[youtube] -iZmfIcnlBM: Downloading player 59b252b9-main\n",
      "[youtube] -iZmfIcnlBM: Downloading m3u8 information\n",
      "[info] -iZmfIcnlBM: Downloading 1 format(s): 234\n",
      "[hlsnative] Downloading m3u8 manifest\n",
      "[hlsnative] Total fragments: 42\n",
      "[download] Destination: piano_data\\1\n",
      "[download] 100% of    3.42MiB in 00:00:07 at 438.71KiB/s                \n",
      "[ExtractAudio] Destination: piano_data\\1.mp3\n",
      "Deleting original file piano_data\\1 (pass -k to keep)\n"
     ]
    }
   ],
   "source": [
    "download_mp3(\"https://www.youtube.com/watch?v=l5t9IXtTr6g\", \"song_data/1\")\n",
    "download_mp3(\"https://www.youtube.com/watch?v=-iZmfIcnlBM\", \"piano_data/1\")"
   ]
  },
  {
   "cell_type": "code",
   "execution_count": 176,
   "id": "8236e8af",
   "metadata": {},
   "outputs": [],
   "source": [
    "y_p, sr = load(\"piano_data/1.mp3\")\n",
    "y_p = trim_silence(y_p)\n",
    "\n",
    "y_s, sr = load(\"song_data/1.mp3\")\n",
    "y_s = trim_silence(y_s)\n",
    "\n",
    "y_s_harmonic, y_s_percussive = librosa.effects.hpss(y_s)\n",
    "y_p_harmonic, y_p_percussive = librosa.effects.hpss(y_p)"
   ]
  },
  {
   "cell_type": "code",
   "execution_count": 177,
   "id": "cab249c0",
   "metadata": {},
   "outputs": [
    {
     "name": "stdout",
     "output_type": "stream",
     "text": [
      "[103.359375]\n"
     ]
    },
    {
     "name": "stderr",
     "output_type": "stream",
     "text": [
      "c:\\Users\\aymli\\anaconda3\\envs\\demucs\\lib\\site-packages\\numpy\\core\\_asarray.py:102: VisibleDeprecationWarning: Creating an ndarray from ragged nested sequences (which is a list-or-tuple of lists-or-tuples-or ndarrays with different lengths or shapes) is deprecated. If you meant to do this, you must specify 'dtype=object' when creating the ndarray.\n",
      "  return array(a, dtype, copy=False, order=order)\n"
     ]
    },
    {
     "name": "stdout",
     "output_type": "stream",
     "text": [
      "100.38281582305402\n",
      "[92.28515625]\n",
      "92.52886081463733\n"
     ]
    }
   ],
   "source": [
    "beats_p, downbeats_p, act_p = get_beats_and_downbeats(y_p, sr)\n",
    "\n",
    "beats_s, downbeats_s, act_s = get_beats_and_downbeats(y_s, sr)"
   ]
  },
  {
   "cell_type": "code",
   "execution_count": 178,
   "id": "8db1693a",
   "metadata": {},
   "outputs": [],
   "source": [
    "clicks_p = get_clicks(beats_p, sr)\n",
    "\n",
    "clicks_s = get_clicks(beats_s, sr)"
   ]
  },
  {
   "cell_type": "code",
   "execution_count": 179,
   "id": "935c529e",
   "metadata": {},
   "outputs": [],
   "source": [
    "overlay(y_p_harmonic, clicks_p, sr, \"piano_click.wav\")\n",
    "\n",
    "overlay(y_s, clicks_s, sr, \"song_click.wav\")"
   ]
  },
  {
   "cell_type": "code",
   "execution_count": 2,
   "id": "c2f14a42",
   "metadata": {},
   "outputs": [
    {
     "ename": "NameError",
     "evalue": "name 'dtw_align' is not defined",
     "output_type": "error",
     "traceback": [
      "\u001b[1;31m---------------------------------------------------------------------------\u001b[0m",
      "\u001b[1;31mNameError\u001b[0m                                 Traceback (most recent call last)",
      "Cell \u001b[1;32mIn[2], line 1\u001b[0m\n\u001b[1;32m----> 1\u001b[0m aligned, seg_p, seg_s \u001b[38;5;241m=\u001b[39m \u001b[43mdtw_align\u001b[49m(y_s_harmonic\u001b[38;5;241m=\u001b[39my_s_harmonic, y_s\u001b[38;5;241m=\u001b[39my_s, y_p\u001b[38;5;241m=\u001b[39my_p_harmonic, downbeats_s\u001b[38;5;241m=\u001b[39mdownbeats_s, downbeats_p\u001b[38;5;241m=\u001b[39mdownbeats_p, sr\u001b[38;5;241m=\u001b[39msr, cost_threshold\u001b[38;5;241m=\u001b[39m\u001b[38;5;241m12\u001b[39m)\n\u001b[0;32m      2\u001b[0m export_aligned(seg_s, seg_p, sr, aligned)\n",
      "\u001b[1;31mNameError\u001b[0m: name 'dtw_align' is not defined"
     ]
    }
   ],
   "source": [
    "aligned, seg_p, seg_s = dtw_align(y_s_harmonic=y_s_harmonic, y_s=y_s, y_p=y_p_harmonic, downbeats_s=downbeats_s, downbeats_p=downbeats_p, sr=sr, cost_threshold=12)\n",
    "export_aligned(seg_s, seg_p, sr, aligned)"
   ]
  },
  {
   "cell_type": "code",
   "execution_count": null,
   "id": "67d8272b",
   "metadata": {},
   "outputs": [
    {
     "name": "stdout",
     "output_type": "stream",
     "text": [
      "0 (1.29, 16.29, 1.28, 16.26, 5.334491688546183)\n",
      "1 (16.29, 31.29, 16.26, 31.27, 5.459741026942079)\n",
      "2 (31.29, 46.29, 31.27, 46.27, 5.846066501778152)\n",
      "3 (46.29, 61.29, 46.27, 61.27, 5.7083636063430285)\n",
      "4 (61.29, 76.29, 61.27, 76.28, 5.404086645188884)\n",
      "5 (76.29, 91.29, 76.28, 91.11, 5.34635182427443)\n",
      "6 (91.29, 106.29, 91.11, 106.13, 5.606575113936737)\n",
      "7 (106.29, 121.29, 106.13, 121.1, 5.199753430324616)\n",
      "8 (121.29, 136.3, 121.1, 136.12, 5.465182928827428)\n",
      "9 (136.3, 151.3, 136.12, 151.12, 4.870350664829438)\n",
      "10 (151.3, 166.29, 151.12, 166.12, 5.089253672059576)\n",
      "11 (166.29, 181.29, 166.12, 181.12, 5.375129957879572)\n",
      "12 (181.29, 196.3, 181.12, 196.11, 4.776375577618357)\n",
      "13 (196.3, 211.3, 196.11, 211.13, 4.7008008686572555)\n",
      "14 (211.3, 226.3, 211.13, 226.12, 4.7842672465586515)\n"
     ]
    }
   ],
   "source": [
    "for i in range(0, len(aligned)):\n",
    "    print(i, aligned[i])"
   ]
  },
  {
   "cell_type": "code",
   "execution_count": 11,
   "id": "e086bb2f",
   "metadata": {},
   "outputs": [
    {
     "name": "stdout",
     "output_type": "stream",
     "text": [
      "[youtube] Extracting URL: https://www.youtube.com/watch?v=2S0QhGGO1gQ\n",
      "[youtube] 2S0QhGGO1gQ: Downloading webpage\n",
      "[youtube] 2S0QhGGO1gQ: Downloading tv client config\n",
      "[youtube] 2S0QhGGO1gQ: Downloading tv player API JSON\n",
      "[youtube] 2S0QhGGO1gQ: Downloading ios player API JSON\n",
      "[youtube] 2S0QhGGO1gQ: Downloading m3u8 information\n",
      "[info] 2S0QhGGO1gQ: Downloading 1 format(s): 251\n",
      "[download] Destination: song\\0\n",
      "[download] 100% of    2.74MiB in 00:00:00 at 5.23MiB/s   \n",
      "[ExtractAudio] Destination: song\\0.mp3\n",
      "Deleting original file song\\0 (pass -k to keep)\n",
      "[youtube] Extracting URL: https://www.youtube.com/watch?v=25ROFXjoaAU\n",
      "[youtube] 25ROFXjoaAU: Downloading webpage\n",
      "[youtube] 25ROFXjoaAU: Downloading tv client config\n",
      "[youtube] 25ROFXjoaAU: Downloading tv player API JSON\n",
      "[youtube] 25ROFXjoaAU: Downloading ios player API JSON\n",
      "[youtube] 25ROFXjoaAU: Downloading m3u8 information\n",
      "[info] 25ROFXjoaAU: Downloading 1 format(s): 251\n",
      "[download] Destination: song\\1\n",
      "[download] 100% of    3.89MiB in 00:00:00 at 17.58MiB/s  \n",
      "[ExtractAudio] Destination: song\\1.mp3\n",
      "Deleting original file song\\1 (pass -k to keep)\n",
      "[youtube] Extracting URL: https://www.youtube.com/watch?v=l5t9IXtTr6g\n",
      "[youtube] l5t9IXtTr6g: Downloading webpage\n",
      "[youtube] l5t9IXtTr6g: Downloading tv client config\n",
      "[youtube] l5t9IXtTr6g: Downloading tv player API JSON\n",
      "[youtube] l5t9IXtTr6g: Downloading ios player API JSON\n",
      "[youtube] l5t9IXtTr6g: Downloading m3u8 information\n",
      "[info] l5t9IXtTr6g: Downloading 1 format(s): 251\n",
      "[download] Destination: song\\2\n",
      "[download] 100% of    3.80MiB in 00:00:00 at 8.46MiB/s   \n",
      "[ExtractAudio] Destination: song\\2.mp3\n",
      "Deleting original file song\\2 (pass -k to keep)\n",
      "[youtube] Extracting URL: https://www.youtube.com/watch?v=SND2LY0s8FE\n",
      "[youtube] SND2LY0s8FE: Downloading webpage\n",
      "[youtube] SND2LY0s8FE: Downloading tv client config\n",
      "[youtube] SND2LY0s8FE: Downloading tv player API JSON\n",
      "[youtube] SND2LY0s8FE: Downloading ios player API JSON\n"
     ]
    },
    {
     "ename": "KeyboardInterrupt",
     "evalue": "",
     "output_type": "error",
     "traceback": [
      "\u001b[1;31m---------------------------------------------------------------------------\u001b[0m",
      "\u001b[1;31mKeyboardInterrupt\u001b[0m                         Traceback (most recent call last)",
      "Cell \u001b[1;32mIn[11], line 10\u001b[0m\n\u001b[0;32m      7\u001b[0m         \u001b[38;5;66;03m#cover_links.append(row[\"cover_link\"])\u001b[39;00m\n\u001b[0;32m      9\u001b[0m \u001b[38;5;28;01mfor\u001b[39;00m i \u001b[38;5;129;01min\u001b[39;00m \u001b[38;5;28mrange\u001b[39m(\u001b[38;5;28mlen\u001b[39m(song_links)):\n\u001b[1;32m---> 10\u001b[0m     \u001b[43mdownload_mp3\u001b[49m\u001b[43m(\u001b[49m\u001b[43msong_links\u001b[49m\u001b[43m[\u001b[49m\u001b[43mi\u001b[49m\u001b[43m]\u001b[49m\u001b[43m,\u001b[49m\u001b[43m \u001b[49m\u001b[38;5;124;43mf\u001b[39;49m\u001b[38;5;124;43m\"\u001b[39;49m\u001b[38;5;124;43msong/\u001b[39;49m\u001b[38;5;132;43;01m{\u001b[39;49;00m\u001b[43mi\u001b[49m\u001b[38;5;132;43;01m}\u001b[39;49;00m\u001b[38;5;124;43m\"\u001b[39;49m\u001b[43m)\u001b[49m\n\u001b[0;32m     11\u001b[0m     \u001b[38;5;66;03m#download_mp3(cover_links[i], f\"piano_data/{i}\")\u001b[39;00m\n\u001b[0;32m     12\u001b[0m \n\u001b[0;32m     13\u001b[0m     \u001b[38;5;66;03m#y_p, sr = load(f\"piano_data/{i}.mp3\")\u001b[39;00m\n\u001b[0;32m     14\u001b[0m     \u001b[38;5;66;03m#y_p = trim_silence(y_p)\u001b[39;00m\n\u001b[0;32m     16\u001b[0m     y_s, sr \u001b[38;5;241m=\u001b[39m load(\u001b[38;5;124mf\u001b[39m\u001b[38;5;124m\"\u001b[39m\u001b[38;5;124msong/\u001b[39m\u001b[38;5;132;01m{\u001b[39;00mi\u001b[38;5;132;01m}\u001b[39;00m\u001b[38;5;124m.mp3\u001b[39m\u001b[38;5;124m\"\u001b[39m)\n",
      "Cell \u001b[1;32mIn[2], line 16\u001b[0m, in \u001b[0;36mdownload_mp3\u001b[1;34m(url, out_path)\u001b[0m\n\u001b[0;32m      2\u001b[0m ydl_opts \u001b[38;5;241m=\u001b[39m {\n\u001b[0;32m      3\u001b[0m     \u001b[38;5;124m\"\u001b[39m\u001b[38;5;124mformat\u001b[39m\u001b[38;5;124m\"\u001b[39m: \u001b[38;5;124m\"\u001b[39m\u001b[38;5;124mbestaudio/best\u001b[39m\u001b[38;5;124m\"\u001b[39m,\n\u001b[0;32m      4\u001b[0m     \u001b[38;5;124m\"\u001b[39m\u001b[38;5;124mouttmpl\u001b[39m\u001b[38;5;124m\"\u001b[39m: out_path,\n\u001b[1;32m   (...)\u001b[0m\n\u001b[0;32m     12\u001b[0m     \u001b[38;5;124m\"\u001b[39m\u001b[38;5;124mno_warnings\u001b[39m\u001b[38;5;124m\"\u001b[39m: \u001b[38;5;28;01mTrue\u001b[39;00m, \n\u001b[0;32m     13\u001b[0m }\n\u001b[0;32m     15\u001b[0m \u001b[38;5;28;01mwith\u001b[39;00m YoutubeDL(ydl_opts) \u001b[38;5;28;01mas\u001b[39;00m ydl:\n\u001b[1;32m---> 16\u001b[0m     \u001b[43mydl\u001b[49m\u001b[38;5;241;43m.\u001b[39;49m\u001b[43mdownload\u001b[49m\u001b[43m(\u001b[49m\u001b[43m[\u001b[49m\u001b[43murl\u001b[49m\u001b[43m]\u001b[49m\u001b[43m)\u001b[49m\n",
      "File \u001b[1;32mc:\\Users\\aymli\\anaconda3\\envs\\demucs\\lib\\site-packages\\yt_dlp\\YoutubeDL.py:3634\u001b[0m, in \u001b[0;36mYoutubeDL.download\u001b[1;34m(self, url_list)\u001b[0m\n\u001b[0;32m   3631\u001b[0m     \u001b[38;5;28;01mraise\u001b[39;00m SameFileError(outtmpl)\n\u001b[0;32m   3633\u001b[0m \u001b[38;5;28;01mfor\u001b[39;00m url \u001b[38;5;129;01min\u001b[39;00m url_list:\n\u001b[1;32m-> 3634\u001b[0m     \u001b[38;5;28;43mself\u001b[39;49m\u001b[38;5;241;43m.\u001b[39;49m\u001b[43m__download_wrapper\u001b[49m\u001b[43m(\u001b[49m\u001b[38;5;28;43mself\u001b[39;49m\u001b[38;5;241;43m.\u001b[39;49m\u001b[43mextract_info\u001b[49m\u001b[43m)\u001b[49m\u001b[43m(\u001b[49m\n\u001b[0;32m   3635\u001b[0m \u001b[43m        \u001b[49m\u001b[43murl\u001b[49m\u001b[43m,\u001b[49m\u001b[43m \u001b[49m\u001b[43mforce_generic_extractor\u001b[49m\u001b[38;5;241;43m=\u001b[39;49m\u001b[38;5;28;43mself\u001b[39;49m\u001b[38;5;241;43m.\u001b[39;49m\u001b[43mparams\u001b[49m\u001b[38;5;241;43m.\u001b[39;49m\u001b[43mget\u001b[49m\u001b[43m(\u001b[49m\u001b[38;5;124;43m'\u001b[39;49m\u001b[38;5;124;43mforce_generic_extractor\u001b[39;49m\u001b[38;5;124;43m'\u001b[39;49m\u001b[43m,\u001b[49m\u001b[43m \u001b[49m\u001b[38;5;28;43;01mFalse\u001b[39;49;00m\u001b[43m)\u001b[49m\u001b[43m)\u001b[49m\n\u001b[0;32m   3637\u001b[0m \u001b[38;5;28;01mreturn\u001b[39;00m \u001b[38;5;28mself\u001b[39m\u001b[38;5;241m.\u001b[39m_download_retcode\n",
      "File \u001b[1;32mc:\\Users\\aymli\\anaconda3\\envs\\demucs\\lib\\site-packages\\yt_dlp\\YoutubeDL.py:3607\u001b[0m, in \u001b[0;36mYoutubeDL.__download_wrapper.<locals>.wrapper\u001b[1;34m(*args, **kwargs)\u001b[0m\n\u001b[0;32m   3604\u001b[0m \u001b[38;5;129m@functools\u001b[39m\u001b[38;5;241m.\u001b[39mwraps(func)\n\u001b[0;32m   3605\u001b[0m \u001b[38;5;28;01mdef\u001b[39;00m\u001b[38;5;250m \u001b[39m\u001b[38;5;21mwrapper\u001b[39m(\u001b[38;5;241m*\u001b[39margs, \u001b[38;5;241m*\u001b[39m\u001b[38;5;241m*\u001b[39mkwargs):\n\u001b[0;32m   3606\u001b[0m     \u001b[38;5;28;01mtry\u001b[39;00m:\n\u001b[1;32m-> 3607\u001b[0m         res \u001b[38;5;241m=\u001b[39m func(\u001b[38;5;241m*\u001b[39margs, \u001b[38;5;241m*\u001b[39m\u001b[38;5;241m*\u001b[39mkwargs)\n\u001b[0;32m   3608\u001b[0m     \u001b[38;5;28;01mexcept\u001b[39;00m CookieLoadError:\n\u001b[0;32m   3609\u001b[0m         \u001b[38;5;28;01mraise\u001b[39;00m\n",
      "File \u001b[1;32mc:\\Users\\aymli\\anaconda3\\envs\\demucs\\lib\\site-packages\\yt_dlp\\YoutubeDL.py:1642\u001b[0m, in \u001b[0;36mYoutubeDL.extract_info\u001b[1;34m(self, url, download, ie_key, extra_info, process, force_generic_extractor)\u001b[0m\n\u001b[0;32m   1640\u001b[0m             \u001b[38;5;28;01mraise\u001b[39;00m ExistingVideoReached\n\u001b[0;32m   1641\u001b[0m         \u001b[38;5;28;01mbreak\u001b[39;00m\n\u001b[1;32m-> 1642\u001b[0m     \u001b[38;5;28;01mreturn\u001b[39;00m \u001b[38;5;28;43mself\u001b[39;49m\u001b[38;5;241;43m.\u001b[39;49m\u001b[43m__extract_info\u001b[49m\u001b[43m(\u001b[49m\u001b[43murl\u001b[49m\u001b[43m,\u001b[49m\u001b[43m \u001b[49m\u001b[38;5;28;43mself\u001b[39;49m\u001b[38;5;241;43m.\u001b[39;49m\u001b[43mget_info_extractor\u001b[49m\u001b[43m(\u001b[49m\u001b[43mkey\u001b[49m\u001b[43m)\u001b[49m\u001b[43m,\u001b[49m\u001b[43m \u001b[49m\u001b[43mdownload\u001b[49m\u001b[43m,\u001b[49m\u001b[43m \u001b[49m\u001b[43mextra_info\u001b[49m\u001b[43m,\u001b[49m\u001b[43m \u001b[49m\u001b[43mprocess\u001b[49m\u001b[43m)\u001b[49m\n\u001b[0;32m   1643\u001b[0m \u001b[38;5;28;01melse\u001b[39;00m:\n\u001b[0;32m   1644\u001b[0m     extractors_restricted \u001b[38;5;241m=\u001b[39m \u001b[38;5;28mself\u001b[39m\u001b[38;5;241m.\u001b[39mparams\u001b[38;5;241m.\u001b[39mget(\u001b[38;5;124m'\u001b[39m\u001b[38;5;124mallowed_extractors\u001b[39m\u001b[38;5;124m'\u001b[39m) \u001b[38;5;129;01mnot\u001b[39;00m \u001b[38;5;129;01min\u001b[39;00m (\u001b[38;5;28;01mNone\u001b[39;00m, [\u001b[38;5;124m'\u001b[39m\u001b[38;5;124mdefault\u001b[39m\u001b[38;5;124m'\u001b[39m])\n",
      "File \u001b[1;32mc:\\Users\\aymli\\anaconda3\\envs\\demucs\\lib\\site-packages\\yt_dlp\\YoutubeDL.py:1653\u001b[0m, in \u001b[0;36mYoutubeDL._handle_extraction_exceptions.<locals>.wrapper\u001b[1;34m(self, *args, **kwargs)\u001b[0m\n\u001b[0;32m   1651\u001b[0m \u001b[38;5;28;01mwhile\u001b[39;00m \u001b[38;5;28;01mTrue\u001b[39;00m:\n\u001b[0;32m   1652\u001b[0m     \u001b[38;5;28;01mtry\u001b[39;00m:\n\u001b[1;32m-> 1653\u001b[0m         \u001b[38;5;28;01mreturn\u001b[39;00m func(\u001b[38;5;28mself\u001b[39m, \u001b[38;5;241m*\u001b[39margs, \u001b[38;5;241m*\u001b[39m\u001b[38;5;241m*\u001b[39mkwargs)\n\u001b[0;32m   1654\u001b[0m     \u001b[38;5;28;01mexcept\u001b[39;00m (CookieLoadError, DownloadCancelled, LazyList\u001b[38;5;241m.\u001b[39mIndexError, PagedList\u001b[38;5;241m.\u001b[39mIndexError):\n\u001b[0;32m   1655\u001b[0m         \u001b[38;5;28;01mraise\u001b[39;00m\n",
      "File \u001b[1;32mc:\\Users\\aymli\\anaconda3\\envs\\demucs\\lib\\site-packages\\yt_dlp\\YoutubeDL.py:1788\u001b[0m, in \u001b[0;36mYoutubeDL.__extract_info\u001b[1;34m(self, url, ie, download, extra_info, process)\u001b[0m\n\u001b[0;32m   1785\u001b[0m \u001b[38;5;28mself\u001b[39m\u001b[38;5;241m.\u001b[39m_apply_header_cookies(url)\n\u001b[0;32m   1787\u001b[0m \u001b[38;5;28;01mtry\u001b[39;00m:\n\u001b[1;32m-> 1788\u001b[0m     ie_result \u001b[38;5;241m=\u001b[39m \u001b[43mie\u001b[49m\u001b[38;5;241;43m.\u001b[39;49m\u001b[43mextract\u001b[49m\u001b[43m(\u001b[49m\u001b[43murl\u001b[49m\u001b[43m)\u001b[49m\n\u001b[0;32m   1789\u001b[0m \u001b[38;5;28;01mexcept\u001b[39;00m UserNotLive \u001b[38;5;28;01mas\u001b[39;00m e:\n\u001b[0;32m   1790\u001b[0m     \u001b[38;5;28;01mif\u001b[39;00m process:\n",
      "File \u001b[1;32mc:\\Users\\aymli\\anaconda3\\envs\\demucs\\lib\\site-packages\\yt_dlp\\extractor\\common.py:748\u001b[0m, in \u001b[0;36mInfoExtractor.extract\u001b[1;34m(self, url)\u001b[0m\n\u001b[0;32m    745\u001b[0m \u001b[38;5;28mself\u001b[39m\u001b[38;5;241m.\u001b[39minitialize()\n\u001b[0;32m    746\u001b[0m \u001b[38;5;28mself\u001b[39m\u001b[38;5;241m.\u001b[39mto_screen(\u001b[38;5;124m'\u001b[39m\u001b[38;5;124mExtracting URL: \u001b[39m\u001b[38;5;132;01m%s\u001b[39;00m\u001b[38;5;124m'\u001b[39m \u001b[38;5;241m%\u001b[39m (\n\u001b[0;32m    747\u001b[0m     url \u001b[38;5;28;01mif\u001b[39;00m \u001b[38;5;28mself\u001b[39m\u001b[38;5;241m.\u001b[39mget_param(\u001b[38;5;124m'\u001b[39m\u001b[38;5;124mverbose\u001b[39m\u001b[38;5;124m'\u001b[39m) \u001b[38;5;28;01melse\u001b[39;00m truncate_string(url, \u001b[38;5;241m100\u001b[39m, \u001b[38;5;241m20\u001b[39m)))\n\u001b[1;32m--> 748\u001b[0m ie_result \u001b[38;5;241m=\u001b[39m \u001b[38;5;28;43mself\u001b[39;49m\u001b[38;5;241;43m.\u001b[39;49m\u001b[43m_real_extract\u001b[49m\u001b[43m(\u001b[49m\u001b[43murl\u001b[49m\u001b[43m)\u001b[49m\n\u001b[0;32m    749\u001b[0m \u001b[38;5;28;01mif\u001b[39;00m ie_result \u001b[38;5;129;01mis\u001b[39;00m \u001b[38;5;28;01mNone\u001b[39;00m:\n\u001b[0;32m    750\u001b[0m     \u001b[38;5;28;01mreturn\u001b[39;00m \u001b[38;5;28;01mNone\u001b[39;00m\n",
      "File \u001b[1;32mc:\\Users\\aymli\\anaconda3\\envs\\demucs\\lib\\site-packages\\yt_dlp\\extractor\\youtube\\_video.py:3635\u001b[0m, in \u001b[0;36mYoutubeIE._real_extract\u001b[1;34m(self, url)\u001b[0m\n\u001b[0;32m   3627\u001b[0m         \u001b[38;5;28;01mreturn\u001b[39;00m \u001b[38;5;28mself\u001b[39m\u001b[38;5;241m.\u001b[39mplaylist_result(\n\u001b[0;32m   3628\u001b[0m             entries, video_id, video_title, video_description)\n\u001b[0;32m   3630\u001b[0m duration \u001b[38;5;241m=\u001b[39m (int_or_none(get_first(video_details, \u001b[38;5;124m'\u001b[39m\u001b[38;5;124mlengthSeconds\u001b[39m\u001b[38;5;124m'\u001b[39m))\n\u001b[0;32m   3631\u001b[0m             \u001b[38;5;129;01mor\u001b[39;00m int_or_none(get_first(microformats, \u001b[38;5;124m'\u001b[39m\u001b[38;5;124mlengthSeconds\u001b[39m\u001b[38;5;124m'\u001b[39m))\n\u001b[0;32m   3632\u001b[0m             \u001b[38;5;129;01mor\u001b[39;00m parse_duration(search_meta(\u001b[38;5;124m'\u001b[39m\u001b[38;5;124mduration\u001b[39m\u001b[38;5;124m'\u001b[39m)) \u001b[38;5;129;01mor\u001b[39;00m \u001b[38;5;28;01mNone\u001b[39;00m)\n\u001b[0;32m   3634\u001b[0m live_broadcast_details, live_status, streaming_data, formats, automatic_captions \u001b[38;5;241m=\u001b[39m \\\n\u001b[1;32m-> 3635\u001b[0m     \u001b[38;5;28;43mself\u001b[39;49m\u001b[38;5;241;43m.\u001b[39;49m\u001b[43m_list_formats\u001b[49m\u001b[43m(\u001b[49m\u001b[43mvideo_id\u001b[49m\u001b[43m,\u001b[49m\u001b[43m \u001b[49m\u001b[43mmicroformats\u001b[49m\u001b[43m,\u001b[49m\u001b[43m \u001b[49m\u001b[43mvideo_details\u001b[49m\u001b[43m,\u001b[49m\u001b[43m \u001b[49m\u001b[43mplayer_responses\u001b[49m\u001b[43m,\u001b[49m\u001b[43m \u001b[49m\u001b[43mplayer_url\u001b[49m\u001b[43m,\u001b[49m\u001b[43m \u001b[49m\u001b[43mduration\u001b[49m\u001b[43m)\u001b[49m\n\u001b[0;32m   3636\u001b[0m \u001b[38;5;28;01mif\u001b[39;00m live_status \u001b[38;5;241m==\u001b[39m \u001b[38;5;124m'\u001b[39m\u001b[38;5;124mpost_live\u001b[39m\u001b[38;5;124m'\u001b[39m:\n\u001b[0;32m   3637\u001b[0m     \u001b[38;5;28mself\u001b[39m\u001b[38;5;241m.\u001b[39mwrite_debug(\u001b[38;5;124mf\u001b[39m\u001b[38;5;124m'\u001b[39m\u001b[38;5;132;01m{\u001b[39;00mvideo_id\u001b[38;5;132;01m}\u001b[39;00m\u001b[38;5;124m: Video is in Post-Live Manifestless mode\u001b[39m\u001b[38;5;124m'\u001b[39m)\n",
      "File \u001b[1;32mc:\\Users\\aymli\\anaconda3\\envs\\demucs\\lib\\site-packages\\yt_dlp\\extractor\\youtube\\_video.py:3538\u001b[0m, in \u001b[0;36mYoutubeIE._list_formats\u001b[1;34m(self, video_id, microformats, video_details, player_responses, player_url, duration)\u001b[0m\n\u001b[0;32m   3531\u001b[0m live_status \u001b[38;5;241m=\u001b[39m (\u001b[38;5;124m'\u001b[39m\u001b[38;5;124mpost_live\u001b[39m\u001b[38;5;124m'\u001b[39m \u001b[38;5;28;01mif\u001b[39;00m post_live\n\u001b[0;32m   3532\u001b[0m                \u001b[38;5;28;01melse\u001b[39;00m \u001b[38;5;124m'\u001b[39m\u001b[38;5;124mis_live\u001b[39m\u001b[38;5;124m'\u001b[39m \u001b[38;5;28;01mif\u001b[39;00m is_live\n\u001b[0;32m   3533\u001b[0m                \u001b[38;5;28;01melse\u001b[39;00m \u001b[38;5;124m'\u001b[39m\u001b[38;5;124mis_upcoming\u001b[39m\u001b[38;5;124m'\u001b[39m \u001b[38;5;28;01mif\u001b[39;00m is_upcoming\n\u001b[0;32m   3534\u001b[0m                \u001b[38;5;28;01melse\u001b[39;00m \u001b[38;5;124m'\u001b[39m\u001b[38;5;124mwas_live\u001b[39m\u001b[38;5;124m'\u001b[39m \u001b[38;5;28;01mif\u001b[39;00m live_content\n\u001b[0;32m   3535\u001b[0m                \u001b[38;5;28;01melse\u001b[39;00m \u001b[38;5;124m'\u001b[39m\u001b[38;5;124mnot_live\u001b[39m\u001b[38;5;124m'\u001b[39m \u001b[38;5;28;01mif\u001b[39;00m \u001b[38;5;28;01mFalse\u001b[39;00m \u001b[38;5;129;01min\u001b[39;00m (is_live, live_content)\n\u001b[0;32m   3536\u001b[0m                \u001b[38;5;28;01melse\u001b[39;00m \u001b[38;5;28;01mNone\u001b[39;00m)\n\u001b[0;32m   3537\u001b[0m streaming_data \u001b[38;5;241m=\u001b[39m traverse_obj(player_responses, (\u001b[38;5;241m.\u001b[39m\u001b[38;5;241m.\u001b[39m\u001b[38;5;241m.\u001b[39m, \u001b[38;5;124m'\u001b[39m\u001b[38;5;124mstreamingData\u001b[39m\u001b[38;5;124m'\u001b[39m))\n\u001b[1;32m-> 3538\u001b[0m \u001b[38;5;241m*\u001b[39mformats, subtitles \u001b[38;5;241m=\u001b[39m \u001b[38;5;28mself\u001b[39m\u001b[38;5;241m.\u001b[39m_extract_formats_and_subtitles(streaming_data, video_id, player_url, live_status, duration)\n\u001b[0;32m   3539\u001b[0m \u001b[38;5;28;01mif\u001b[39;00m \u001b[38;5;28mall\u001b[39m(f\u001b[38;5;241m.\u001b[39mget(\u001b[38;5;124m'\u001b[39m\u001b[38;5;124mhas_drm\u001b[39m\u001b[38;5;124m'\u001b[39m) \u001b[38;5;28;01mfor\u001b[39;00m f \u001b[38;5;129;01min\u001b[39;00m formats):\n\u001b[0;32m   3540\u001b[0m     \u001b[38;5;66;03m# If there are no formats that definitely don't have DRM, all have DRM\u001b[39;00m\n\u001b[0;32m   3541\u001b[0m     \u001b[38;5;28;01mfor\u001b[39;00m f \u001b[38;5;129;01min\u001b[39;00m formats:\n",
      "File \u001b[1;32mc:\\Users\\aymli\\anaconda3\\envs\\demucs\\lib\\site-packages\\yt_dlp\\extractor\\youtube\\_video.py:3268\u001b[0m, in \u001b[0;36mYoutubeIE._extract_formats_and_subtitles\u001b[1;34m(self, streaming_data, video_id, player_url, live_status, duration)\u001b[0m\n\u001b[0;32m   3265\u001b[0m \u001b[38;5;28;01mtry\u001b[39;00m:\n\u001b[0;32m   3266\u001b[0m     decrypt_nsig \u001b[38;5;241m=\u001b[39m \u001b[38;5;28mself\u001b[39m\u001b[38;5;241m.\u001b[39m_cached(\u001b[38;5;28mself\u001b[39m\u001b[38;5;241m.\u001b[39m_decrypt_nsig, \u001b[38;5;124m'\u001b[39m\u001b[38;5;124mnsig\u001b[39m\u001b[38;5;124m'\u001b[39m, query[\u001b[38;5;124m'\u001b[39m\u001b[38;5;124mn\u001b[39m\u001b[38;5;124m'\u001b[39m][\u001b[38;5;241m0\u001b[39m])\n\u001b[0;32m   3267\u001b[0m     fmt_url \u001b[38;5;241m=\u001b[39m update_url_query(fmt_url, {\n\u001b[1;32m-> 3268\u001b[0m         \u001b[38;5;124m'\u001b[39m\u001b[38;5;124mn\u001b[39m\u001b[38;5;124m'\u001b[39m: \u001b[43mdecrypt_nsig\u001b[49m\u001b[43m(\u001b[49m\u001b[43mquery\u001b[49m\u001b[43m[\u001b[49m\u001b[38;5;124;43m'\u001b[39;49m\u001b[38;5;124;43mn\u001b[39;49m\u001b[38;5;124;43m'\u001b[39;49m\u001b[43m]\u001b[49m\u001b[43m[\u001b[49m\u001b[38;5;241;43m0\u001b[39;49m\u001b[43m]\u001b[49m\u001b[43m,\u001b[49m\u001b[43m \u001b[49m\u001b[43mvideo_id\u001b[49m\u001b[43m,\u001b[49m\u001b[43m \u001b[49m\u001b[43mplayer_url\u001b[49m\u001b[43m)\u001b[49m,\n\u001b[0;32m   3269\u001b[0m     })\n\u001b[0;32m   3270\u001b[0m \u001b[38;5;28;01mexcept\u001b[39;00m ExtractorError \u001b[38;5;28;01mas\u001b[39;00m e:\n\u001b[0;32m   3271\u001b[0m     \u001b[38;5;28;01mif\u001b[39;00m player_url:\n",
      "File \u001b[1;32mc:\\Users\\aymli\\anaconda3\\envs\\demucs\\lib\\site-packages\\yt_dlp\\extractor\\youtube\\_video.py:2113\u001b[0m, in \u001b[0;36mYoutubeIE._cached.<locals>.inner\u001b[1;34m(*args, **kwargs)\u001b[0m\n\u001b[0;32m   2111\u001b[0m \u001b[38;5;28;01mif\u001b[39;00m cache_id \u001b[38;5;129;01mnot\u001b[39;00m \u001b[38;5;129;01min\u001b[39;00m \u001b[38;5;28mself\u001b[39m\u001b[38;5;241m.\u001b[39m_player_cache:\n\u001b[0;32m   2112\u001b[0m     \u001b[38;5;28;01mtry\u001b[39;00m:\n\u001b[1;32m-> 2113\u001b[0m         \u001b[38;5;28mself\u001b[39m\u001b[38;5;241m.\u001b[39m_player_cache[cache_id] \u001b[38;5;241m=\u001b[39m func(\u001b[38;5;241m*\u001b[39margs, \u001b[38;5;241m*\u001b[39m\u001b[38;5;241m*\u001b[39mkwargs)\n\u001b[0;32m   2114\u001b[0m     \u001b[38;5;28;01mexcept\u001b[39;00m ExtractorError \u001b[38;5;28;01mas\u001b[39;00m e:\n\u001b[0;32m   2115\u001b[0m         \u001b[38;5;28mself\u001b[39m\u001b[38;5;241m.\u001b[39m_player_cache[cache_id] \u001b[38;5;241m=\u001b[39m e\n",
      "File \u001b[1;32mc:\\Users\\aymli\\anaconda3\\envs\\demucs\\lib\\site-packages\\yt_dlp\\extractor\\youtube\\_video.py:2166\u001b[0m, in \u001b[0;36mYoutubeIE._decrypt_nsig\u001b[1;34m(self, s, video_id, player_url)\u001b[0m\n\u001b[0;32m   2164\u001b[0m \u001b[38;5;28;01mtry\u001b[39;00m:\n\u001b[0;32m   2165\u001b[0m     extract_nsig \u001b[38;5;241m=\u001b[39m \u001b[38;5;28mself\u001b[39m\u001b[38;5;241m.\u001b[39m_cached(\u001b[38;5;28mself\u001b[39m\u001b[38;5;241m.\u001b[39m_extract_n_function_from_code, \u001b[38;5;124m'\u001b[39m\u001b[38;5;124mnsig func\u001b[39m\u001b[38;5;124m'\u001b[39m, player_url)\n\u001b[1;32m-> 2166\u001b[0m     ret \u001b[38;5;241m=\u001b[39m \u001b[43mextract_nsig\u001b[49m\u001b[43m(\u001b[49m\u001b[43mjsi\u001b[49m\u001b[43m,\u001b[49m\u001b[43m \u001b[49m\u001b[43mfunc_code\u001b[49m\u001b[43m)\u001b[49m\u001b[43m(\u001b[49m\u001b[43ms\u001b[49m\u001b[43m)\u001b[49m\n\u001b[0;32m   2167\u001b[0m \u001b[38;5;28;01mexcept\u001b[39;00m JSInterpreter\u001b[38;5;241m.\u001b[39mException \u001b[38;5;28;01mas\u001b[39;00m e:\n\u001b[0;32m   2168\u001b[0m     \u001b[38;5;28;01mtry\u001b[39;00m:\n",
      "File \u001b[1;32mc:\\Users\\aymli\\anaconda3\\envs\\demucs\\lib\\site-packages\\yt_dlp\\extractor\\youtube\\_video.py:2322\u001b[0m, in \u001b[0;36mYoutubeIE._extract_n_function_from_code.<locals>.extract_nsig\u001b[1;34m(s)\u001b[0m\n\u001b[0;32m   2320\u001b[0m \u001b[38;5;28;01mdef\u001b[39;00m\u001b[38;5;250m \u001b[39m\u001b[38;5;21mextract_nsig\u001b[39m(s):\n\u001b[0;32m   2321\u001b[0m     \u001b[38;5;28;01mtry\u001b[39;00m:\n\u001b[1;32m-> 2322\u001b[0m         ret \u001b[38;5;241m=\u001b[39m \u001b[43mfunc\u001b[49m\u001b[43m(\u001b[49m\u001b[43m[\u001b[49m\u001b[43ms\u001b[49m\u001b[43m]\u001b[49m\u001b[43m)\u001b[49m\n\u001b[0;32m   2323\u001b[0m     \u001b[38;5;28;01mexcept\u001b[39;00m JSInterpreter\u001b[38;5;241m.\u001b[39mException:\n\u001b[0;32m   2324\u001b[0m         \u001b[38;5;28;01mraise\u001b[39;00m\n",
      "File \u001b[1;32mc:\\Users\\aymli\\anaconda3\\envs\\demucs\\lib\\site-packages\\yt_dlp\\jsinterp.py:928\u001b[0m, in \u001b[0;36mJSInterpreter.build_function.<locals>.resf\u001b[1;34m(args, kwargs, allow_recursion)\u001b[0m\n\u001b[0;32m    926\u001b[0m global_stack[\u001b[38;5;241m0\u001b[39m]\u001b[38;5;241m.\u001b[39mupdate(kwargs)\n\u001b[0;32m    927\u001b[0m var_stack \u001b[38;5;241m=\u001b[39m LocalNameSpace(\u001b[38;5;241m*\u001b[39mglobal_stack)\n\u001b[1;32m--> 928\u001b[0m ret, should_abort \u001b[38;5;241m=\u001b[39m \u001b[38;5;28;43mself\u001b[39;49m\u001b[38;5;241;43m.\u001b[39;49m\u001b[43minterpret_statement\u001b[49m\u001b[43m(\u001b[49m\u001b[43mcode\u001b[49m\u001b[38;5;241;43m.\u001b[39;49m\u001b[43mreplace\u001b[49m\u001b[43m(\u001b[49m\u001b[38;5;124;43m'\u001b[39;49m\u001b[38;5;130;43;01m\\n\u001b[39;49;00m\u001b[38;5;124;43m'\u001b[39;49m\u001b[43m,\u001b[49m\u001b[43m \u001b[49m\u001b[38;5;124;43m'\u001b[39;49m\u001b[38;5;124;43m \u001b[39;49m\u001b[38;5;124;43m'\u001b[39;49m\u001b[43m)\u001b[49m\u001b[43m,\u001b[49m\u001b[43m \u001b[49m\u001b[43mvar_stack\u001b[49m\u001b[43m,\u001b[49m\u001b[43m \u001b[49m\u001b[43mallow_recursion\u001b[49m\u001b[43m \u001b[49m\u001b[38;5;241;43m-\u001b[39;49m\u001b[43m \u001b[49m\u001b[38;5;241;43m1\u001b[39;49m\u001b[43m)\u001b[49m\n\u001b[0;32m    929\u001b[0m \u001b[38;5;28;01mif\u001b[39;00m should_abort:\n\u001b[0;32m    930\u001b[0m     \u001b[38;5;28;01mreturn\u001b[39;00m ret\n",
      "File \u001b[1;32mc:\\Users\\aymli\\anaconda3\\envs\\demucs\\lib\\site-packages\\yt_dlp\\jsinterp.py:241\u001b[0m, in \u001b[0;36mDebugger.wrap_interpreter.<locals>.interpret_statement\u001b[1;34m(self, stmt, local_vars, allow_recursion, *args, **kwargs)\u001b[0m\n\u001b[0;32m    239\u001b[0m     \u001b[38;5;28mcls\u001b[39m\u001b[38;5;241m.\u001b[39mwrite(stmt, level\u001b[38;5;241m=\u001b[39mallow_recursion)\n\u001b[0;32m    240\u001b[0m \u001b[38;5;28;01mtry\u001b[39;00m:\n\u001b[1;32m--> 241\u001b[0m     ret, should_ret \u001b[38;5;241m=\u001b[39m f(\u001b[38;5;28mself\u001b[39m, stmt, local_vars, allow_recursion, \u001b[38;5;241m*\u001b[39margs, \u001b[38;5;241m*\u001b[39m\u001b[38;5;241m*\u001b[39mkwargs)\n\u001b[0;32m    242\u001b[0m \u001b[38;5;28;01mexcept\u001b[39;00m \u001b[38;5;167;01mException\u001b[39;00m \u001b[38;5;28;01mas\u001b[39;00m e:\n\u001b[0;32m    243\u001b[0m     \u001b[38;5;28;01mif\u001b[39;00m \u001b[38;5;28mcls\u001b[39m\u001b[38;5;241m.\u001b[39mENABLED:\n",
      "File \u001b[1;32mc:\\Users\\aymli\\anaconda3\\envs\\demucs\\lib\\site-packages\\yt_dlp\\jsinterp.py:496\u001b[0m, in \u001b[0;36mJSInterpreter.interpret_statement\u001b[1;34m(self, stmt, local_vars, allow_recursion)\u001b[0m\n\u001b[0;32m    494\u001b[0m err \u001b[38;5;241m=\u001b[39m \u001b[38;5;28;01mNone\u001b[39;00m\n\u001b[0;32m    495\u001b[0m \u001b[38;5;28;01mtry\u001b[39;00m:\n\u001b[1;32m--> 496\u001b[0m     ret, should_abort \u001b[38;5;241m=\u001b[39m \u001b[38;5;28;43mself\u001b[39;49m\u001b[38;5;241;43m.\u001b[39;49m\u001b[43minterpret_statement\u001b[49m\u001b[43m(\u001b[49m\u001b[43mtry_expr\u001b[49m\u001b[43m,\u001b[49m\u001b[43m \u001b[49m\u001b[43mlocal_vars\u001b[49m\u001b[43m,\u001b[49m\u001b[43m \u001b[49m\u001b[43mallow_recursion\u001b[49m\u001b[43m)\u001b[49m\n\u001b[0;32m    497\u001b[0m     \u001b[38;5;28;01mif\u001b[39;00m should_abort:\n\u001b[0;32m    498\u001b[0m         \u001b[38;5;28;01mreturn\u001b[39;00m ret, \u001b[38;5;28;01mTrue\u001b[39;00m\n",
      "File \u001b[1;32mc:\\Users\\aymli\\anaconda3\\envs\\demucs\\lib\\site-packages\\yt_dlp\\jsinterp.py:241\u001b[0m, in \u001b[0;36mDebugger.wrap_interpreter.<locals>.interpret_statement\u001b[1;34m(self, stmt, local_vars, allow_recursion, *args, **kwargs)\u001b[0m\n\u001b[0;32m    239\u001b[0m     \u001b[38;5;28mcls\u001b[39m\u001b[38;5;241m.\u001b[39mwrite(stmt, level\u001b[38;5;241m=\u001b[39mallow_recursion)\n\u001b[0;32m    240\u001b[0m \u001b[38;5;28;01mtry\u001b[39;00m:\n\u001b[1;32m--> 241\u001b[0m     ret, should_ret \u001b[38;5;241m=\u001b[39m f(\u001b[38;5;28mself\u001b[39m, stmt, local_vars, allow_recursion, \u001b[38;5;241m*\u001b[39margs, \u001b[38;5;241m*\u001b[39m\u001b[38;5;241m*\u001b[39mkwargs)\n\u001b[0;32m    242\u001b[0m \u001b[38;5;28;01mexcept\u001b[39;00m \u001b[38;5;167;01mException\u001b[39;00m \u001b[38;5;28;01mas\u001b[39;00m e:\n\u001b[0;32m    243\u001b[0m     \u001b[38;5;28;01mif\u001b[39;00m \u001b[38;5;28mcls\u001b[39m\u001b[38;5;241m.\u001b[39mENABLED:\n",
      "File \u001b[1;32mc:\\Users\\aymli\\anaconda3\\envs\\demucs\\lib\\site-packages\\yt_dlp\\jsinterp.py:581\u001b[0m, in \u001b[0;36mJSInterpreter.interpret_statement\u001b[1;34m(self, stmt, local_vars, allow_recursion)\u001b[0m\n\u001b[0;32m    578\u001b[0m             \u001b[38;5;28;01mbreak\u001b[39;00m\n\u001b[0;32m    580\u001b[0m \u001b[38;5;28;01mif\u001b[39;00m md:\n\u001b[1;32m--> 581\u001b[0m     ret, should_abort \u001b[38;5;241m=\u001b[39m \u001b[38;5;28;43mself\u001b[39;49m\u001b[38;5;241;43m.\u001b[39;49m\u001b[43minterpret_statement\u001b[49m\u001b[43m(\u001b[49m\u001b[43mexpr\u001b[49m\u001b[43m,\u001b[49m\u001b[43m \u001b[49m\u001b[43mlocal_vars\u001b[49m\u001b[43m,\u001b[49m\u001b[43m \u001b[49m\u001b[43mallow_recursion\u001b[49m\u001b[43m)\u001b[49m\n\u001b[0;32m    582\u001b[0m     \u001b[38;5;28;01mreturn\u001b[39;00m ret, should_abort \u001b[38;5;129;01mor\u001b[39;00m should_return\n\u001b[0;32m    584\u001b[0m \u001b[38;5;66;03m# Comma separated statements\u001b[39;00m\n",
      "File \u001b[1;32mc:\\Users\\aymli\\anaconda3\\envs\\demucs\\lib\\site-packages\\yt_dlp\\jsinterp.py:241\u001b[0m, in \u001b[0;36mDebugger.wrap_interpreter.<locals>.interpret_statement\u001b[1;34m(self, stmt, local_vars, allow_recursion, *args, **kwargs)\u001b[0m\n\u001b[0;32m    239\u001b[0m     \u001b[38;5;28mcls\u001b[39m\u001b[38;5;241m.\u001b[39mwrite(stmt, level\u001b[38;5;241m=\u001b[39mallow_recursion)\n\u001b[0;32m    240\u001b[0m \u001b[38;5;28;01mtry\u001b[39;00m:\n\u001b[1;32m--> 241\u001b[0m     ret, should_ret \u001b[38;5;241m=\u001b[39m f(\u001b[38;5;28mself\u001b[39m, stmt, local_vars, allow_recursion, \u001b[38;5;241m*\u001b[39margs, \u001b[38;5;241m*\u001b[39m\u001b[38;5;241m*\u001b[39mkwargs)\n\u001b[0;32m    242\u001b[0m \u001b[38;5;28;01mexcept\u001b[39;00m \u001b[38;5;167;01mException\u001b[39;00m \u001b[38;5;28;01mas\u001b[39;00m e:\n\u001b[0;32m    243\u001b[0m     \u001b[38;5;28;01mif\u001b[39;00m \u001b[38;5;28mcls\u001b[39m\u001b[38;5;241m.\u001b[39mENABLED:\n",
      "File \u001b[1;32mc:\\Users\\aymli\\anaconda3\\envs\\demucs\\lib\\site-packages\\yt_dlp\\jsinterp.py:496\u001b[0m, in \u001b[0;36mJSInterpreter.interpret_statement\u001b[1;34m(self, stmt, local_vars, allow_recursion)\u001b[0m\n\u001b[0;32m    494\u001b[0m err \u001b[38;5;241m=\u001b[39m \u001b[38;5;28;01mNone\u001b[39;00m\n\u001b[0;32m    495\u001b[0m \u001b[38;5;28;01mtry\u001b[39;00m:\n\u001b[1;32m--> 496\u001b[0m     ret, should_abort \u001b[38;5;241m=\u001b[39m \u001b[38;5;28;43mself\u001b[39;49m\u001b[38;5;241;43m.\u001b[39;49m\u001b[43minterpret_statement\u001b[49m\u001b[43m(\u001b[49m\u001b[43mtry_expr\u001b[49m\u001b[43m,\u001b[49m\u001b[43m \u001b[49m\u001b[43mlocal_vars\u001b[49m\u001b[43m,\u001b[49m\u001b[43m \u001b[49m\u001b[43mallow_recursion\u001b[49m\u001b[43m)\u001b[49m\n\u001b[0;32m    497\u001b[0m     \u001b[38;5;28;01mif\u001b[39;00m should_abort:\n\u001b[0;32m    498\u001b[0m         \u001b[38;5;28;01mreturn\u001b[39;00m ret, \u001b[38;5;28;01mTrue\u001b[39;00m\n",
      "File \u001b[1;32mc:\\Users\\aymli\\anaconda3\\envs\\demucs\\lib\\site-packages\\yt_dlp\\jsinterp.py:241\u001b[0m, in \u001b[0;36mDebugger.wrap_interpreter.<locals>.interpret_statement\u001b[1;34m(self, stmt, local_vars, allow_recursion, *args, **kwargs)\u001b[0m\n\u001b[0;32m    239\u001b[0m     \u001b[38;5;28mcls\u001b[39m\u001b[38;5;241m.\u001b[39mwrite(stmt, level\u001b[38;5;241m=\u001b[39mallow_recursion)\n\u001b[0;32m    240\u001b[0m \u001b[38;5;28;01mtry\u001b[39;00m:\n\u001b[1;32m--> 241\u001b[0m     ret, should_ret \u001b[38;5;241m=\u001b[39m f(\u001b[38;5;28mself\u001b[39m, stmt, local_vars, allow_recursion, \u001b[38;5;241m*\u001b[39margs, \u001b[38;5;241m*\u001b[39m\u001b[38;5;241m*\u001b[39mkwargs)\n\u001b[0;32m    242\u001b[0m \u001b[38;5;28;01mexcept\u001b[39;00m \u001b[38;5;167;01mException\u001b[39;00m \u001b[38;5;28;01mas\u001b[39;00m e:\n\u001b[0;32m    243\u001b[0m     \u001b[38;5;28;01mif\u001b[39;00m \u001b[38;5;28mcls\u001b[39m\u001b[38;5;241m.\u001b[39mENABLED:\n",
      "File \u001b[1;32mc:\\Users\\aymli\\anaconda3\\envs\\demucs\\lib\\site-packages\\yt_dlp\\jsinterp.py:588\u001b[0m, in \u001b[0;36mJSInterpreter.interpret_statement\u001b[1;34m(self, stmt, local_vars, allow_recursion)\u001b[0m\n\u001b[0;32m    586\u001b[0m \u001b[38;5;28;01mif\u001b[39;00m \u001b[38;5;28mlen\u001b[39m(sub_expressions) \u001b[38;5;241m>\u001b[39m \u001b[38;5;241m1\u001b[39m:\n\u001b[0;32m    587\u001b[0m     \u001b[38;5;28;01mfor\u001b[39;00m sub_expr \u001b[38;5;129;01min\u001b[39;00m sub_expressions:\n\u001b[1;32m--> 588\u001b[0m         ret, should_abort \u001b[38;5;241m=\u001b[39m \u001b[38;5;28;43mself\u001b[39;49m\u001b[38;5;241;43m.\u001b[39;49m\u001b[43minterpret_statement\u001b[49m\u001b[43m(\u001b[49m\u001b[43msub_expr\u001b[49m\u001b[43m,\u001b[49m\u001b[43m \u001b[49m\u001b[43mlocal_vars\u001b[49m\u001b[43m,\u001b[49m\u001b[43m \u001b[49m\u001b[43mallow_recursion\u001b[49m\u001b[43m)\u001b[49m\n\u001b[0;32m    589\u001b[0m         \u001b[38;5;28;01mif\u001b[39;00m should_abort:\n\u001b[0;32m    590\u001b[0m             \u001b[38;5;28;01mreturn\u001b[39;00m ret, \u001b[38;5;28;01mTrue\u001b[39;00m\n",
      "File \u001b[1;32mc:\\Users\\aymli\\anaconda3\\envs\\demucs\\lib\\site-packages\\yt_dlp\\jsinterp.py:241\u001b[0m, in \u001b[0;36mDebugger.wrap_interpreter.<locals>.interpret_statement\u001b[1;34m(self, stmt, local_vars, allow_recursion, *args, **kwargs)\u001b[0m\n\u001b[0;32m    239\u001b[0m     \u001b[38;5;28mcls\u001b[39m\u001b[38;5;241m.\u001b[39mwrite(stmt, level\u001b[38;5;241m=\u001b[39mallow_recursion)\n\u001b[0;32m    240\u001b[0m \u001b[38;5;28;01mtry\u001b[39;00m:\n\u001b[1;32m--> 241\u001b[0m     ret, should_ret \u001b[38;5;241m=\u001b[39m f(\u001b[38;5;28mself\u001b[39m, stmt, local_vars, allow_recursion, \u001b[38;5;241m*\u001b[39margs, \u001b[38;5;241m*\u001b[39m\u001b[38;5;241m*\u001b[39mkwargs)\n\u001b[0;32m    242\u001b[0m \u001b[38;5;28;01mexcept\u001b[39;00m \u001b[38;5;167;01mException\u001b[39;00m \u001b[38;5;28;01mas\u001b[39;00m e:\n\u001b[0;32m    243\u001b[0m     \u001b[38;5;28;01mif\u001b[39;00m \u001b[38;5;28mcls\u001b[39m\u001b[38;5;241m.\u001b[39mENABLED:\n",
      "File \u001b[1;32mc:\\Users\\aymli\\anaconda3\\envs\\demucs\\lib\\site-packages\\yt_dlp\\jsinterp.py:680\u001b[0m, in \u001b[0;36mJSInterpreter.interpret_statement\u001b[1;34m(self, stmt, local_vars, allow_recursion)\u001b[0m\n\u001b[0;32m    678\u001b[0m         \u001b[38;5;28;01mcontinue\u001b[39;00m\n\u001b[0;32m    679\u001b[0m     left_val \u001b[38;5;241m=\u001b[39m \u001b[38;5;28mself\u001b[39m\u001b[38;5;241m.\u001b[39minterpret_expression(op\u001b[38;5;241m.\u001b[39mjoin(separated), local_vars, allow_recursion)\n\u001b[1;32m--> 680\u001b[0m     \u001b[38;5;28;01mreturn\u001b[39;00m \u001b[38;5;28;43mself\u001b[39;49m\u001b[38;5;241;43m.\u001b[39;49m\u001b[43m_operator\u001b[49m\u001b[43m(\u001b[49m\u001b[43mop\u001b[49m\u001b[43m,\u001b[49m\u001b[43m \u001b[49m\u001b[43mleft_val\u001b[49m\u001b[43m,\u001b[49m\u001b[43m \u001b[49m\u001b[43mright_expr\u001b[49m\u001b[43m,\u001b[49m\u001b[43m \u001b[49m\u001b[43mexpr\u001b[49m\u001b[43m,\u001b[49m\u001b[43m \u001b[49m\u001b[43mlocal_vars\u001b[49m\u001b[43m,\u001b[49m\u001b[43m \u001b[49m\u001b[43mallow_recursion\u001b[49m\u001b[43m)\u001b[49m, should_return\n\u001b[0;32m    682\u001b[0m \u001b[38;5;28;01mif\u001b[39;00m m \u001b[38;5;129;01mand\u001b[39;00m m\u001b[38;5;241m.\u001b[39mgroup(\u001b[38;5;124m'\u001b[39m\u001b[38;5;124mattribute\u001b[39m\u001b[38;5;124m'\u001b[39m):\n\u001b[0;32m    683\u001b[0m     variable, member, nullish \u001b[38;5;241m=\u001b[39m m\u001b[38;5;241m.\u001b[39mgroup(\u001b[38;5;124m'\u001b[39m\u001b[38;5;124mvar\u001b[39m\u001b[38;5;124m'\u001b[39m, \u001b[38;5;124m'\u001b[39m\u001b[38;5;124mmember\u001b[39m\u001b[38;5;124m'\u001b[39m, \u001b[38;5;124m'\u001b[39m\u001b[38;5;124mnullish\u001b[39m\u001b[38;5;124m'\u001b[39m)\n",
      "File \u001b[1;32mc:\\Users\\aymli\\anaconda3\\envs\\demucs\\lib\\site-packages\\yt_dlp\\jsinterp.py:358\u001b[0m, in \u001b[0;36mJSInterpreter._operator\u001b[1;34m(self, op, left_val, right_expr, expr, local_vars, allow_recursion)\u001b[0m\n\u001b[0;32m    355\u001b[0m \u001b[38;5;28;01melif\u001b[39;00m op \u001b[38;5;241m==\u001b[39m \u001b[38;5;124m'\u001b[39m\u001b[38;5;124m?\u001b[39m\u001b[38;5;124m'\u001b[39m:\n\u001b[0;32m    356\u001b[0m     right_expr \u001b[38;5;241m=\u001b[39m _js_ternary(left_val, \u001b[38;5;241m*\u001b[39m\u001b[38;5;28mself\u001b[39m\u001b[38;5;241m.\u001b[39m_separate(right_expr, \u001b[38;5;124m'\u001b[39m\u001b[38;5;124m:\u001b[39m\u001b[38;5;124m'\u001b[39m, \u001b[38;5;241m1\u001b[39m))\n\u001b[1;32m--> 358\u001b[0m right_val \u001b[38;5;241m=\u001b[39m \u001b[38;5;28;43mself\u001b[39;49m\u001b[38;5;241;43m.\u001b[39;49m\u001b[43minterpret_expression\u001b[49m\u001b[43m(\u001b[49m\u001b[43mright_expr\u001b[49m\u001b[43m,\u001b[49m\u001b[43m \u001b[49m\u001b[43mlocal_vars\u001b[49m\u001b[43m,\u001b[49m\u001b[43m \u001b[49m\u001b[43mallow_recursion\u001b[49m\u001b[43m)\u001b[49m\n\u001b[0;32m    359\u001b[0m \u001b[38;5;28;01mif\u001b[39;00m \u001b[38;5;129;01mnot\u001b[39;00m _OPERATORS\u001b[38;5;241m.\u001b[39mget(op):\n\u001b[0;32m    360\u001b[0m     \u001b[38;5;28;01mreturn\u001b[39;00m right_val\n",
      "File \u001b[1;32mc:\\Users\\aymli\\anaconda3\\envs\\demucs\\lib\\site-packages\\yt_dlp\\jsinterp.py:849\u001b[0m, in \u001b[0;36mJSInterpreter.interpret_expression\u001b[1;34m(self, expr, local_vars, allow_recursion)\u001b[0m\n\u001b[0;32m    848\u001b[0m \u001b[38;5;28;01mdef\u001b[39;00m\u001b[38;5;250m \u001b[39m\u001b[38;5;21minterpret_expression\u001b[39m(\u001b[38;5;28mself\u001b[39m, expr, local_vars, allow_recursion):\n\u001b[1;32m--> 849\u001b[0m     ret, should_return \u001b[38;5;241m=\u001b[39m \u001b[38;5;28;43mself\u001b[39;49m\u001b[38;5;241;43m.\u001b[39;49m\u001b[43minterpret_statement\u001b[49m\u001b[43m(\u001b[49m\u001b[43mexpr\u001b[49m\u001b[43m,\u001b[49m\u001b[43m \u001b[49m\u001b[43mlocal_vars\u001b[49m\u001b[43m,\u001b[49m\u001b[43m \u001b[49m\u001b[43mallow_recursion\u001b[49m\u001b[43m)\u001b[49m\n\u001b[0;32m    850\u001b[0m     \u001b[38;5;28;01mif\u001b[39;00m should_return:\n\u001b[0;32m    851\u001b[0m         \u001b[38;5;28;01mraise\u001b[39;00m \u001b[38;5;28mself\u001b[39m\u001b[38;5;241m.\u001b[39mException(\u001b[38;5;124m'\u001b[39m\u001b[38;5;124mCannot return from an expression\u001b[39m\u001b[38;5;124m'\u001b[39m, expr)\n",
      "File \u001b[1;32mc:\\Users\\aymli\\anaconda3\\envs\\demucs\\lib\\site-packages\\yt_dlp\\jsinterp.py:241\u001b[0m, in \u001b[0;36mDebugger.wrap_interpreter.<locals>.interpret_statement\u001b[1;34m(self, stmt, local_vars, allow_recursion, *args, **kwargs)\u001b[0m\n\u001b[0;32m    239\u001b[0m     \u001b[38;5;28mcls\u001b[39m\u001b[38;5;241m.\u001b[39mwrite(stmt, level\u001b[38;5;241m=\u001b[39mallow_recursion)\n\u001b[0;32m    240\u001b[0m \u001b[38;5;28;01mtry\u001b[39;00m:\n\u001b[1;32m--> 241\u001b[0m     ret, should_ret \u001b[38;5;241m=\u001b[39m f(\u001b[38;5;28mself\u001b[39m, stmt, local_vars, allow_recursion, \u001b[38;5;241m*\u001b[39margs, \u001b[38;5;241m*\u001b[39m\u001b[38;5;241m*\u001b[39mkwargs)\n\u001b[0;32m    242\u001b[0m \u001b[38;5;28;01mexcept\u001b[39;00m \u001b[38;5;167;01mException\u001b[39;00m \u001b[38;5;28;01mas\u001b[39;00m e:\n\u001b[0;32m    243\u001b[0m     \u001b[38;5;28;01mif\u001b[39;00m \u001b[38;5;28mcls\u001b[39m\u001b[38;5;241m.\u001b[39mENABLED:\n",
      "File \u001b[1;32mc:\\Users\\aymli\\anaconda3\\envs\\demucs\\lib\\site-packages\\yt_dlp\\jsinterp.py:458\u001b[0m, in \u001b[0;36mJSInterpreter.interpret_statement\u001b[1;34m(self, stmt, local_vars, allow_recursion)\u001b[0m\n\u001b[0;32m    456\u001b[0m \u001b[38;5;28;01mif\u001b[39;00m expr\u001b[38;5;241m.\u001b[39mstartswith(\u001b[38;5;124m'\u001b[39m\u001b[38;5;124m(\u001b[39m\u001b[38;5;124m'\u001b[39m):\n\u001b[0;32m    457\u001b[0m     inner, outer \u001b[38;5;241m=\u001b[39m \u001b[38;5;28mself\u001b[39m\u001b[38;5;241m.\u001b[39m_separate_at_paren(expr)\n\u001b[1;32m--> 458\u001b[0m     inner, should_abort \u001b[38;5;241m=\u001b[39m \u001b[38;5;28;43mself\u001b[39;49m\u001b[38;5;241;43m.\u001b[39;49m\u001b[43minterpret_statement\u001b[49m\u001b[43m(\u001b[49m\u001b[43minner\u001b[49m\u001b[43m,\u001b[49m\u001b[43m \u001b[49m\u001b[43mlocal_vars\u001b[49m\u001b[43m,\u001b[49m\u001b[43m \u001b[49m\u001b[43mallow_recursion\u001b[49m\u001b[43m)\u001b[49m\n\u001b[0;32m    459\u001b[0m     \u001b[38;5;28;01mif\u001b[39;00m \u001b[38;5;129;01mnot\u001b[39;00m outer \u001b[38;5;129;01mor\u001b[39;00m should_abort:\n\u001b[0;32m    460\u001b[0m         \u001b[38;5;28;01mreturn\u001b[39;00m inner, should_abort \u001b[38;5;129;01mor\u001b[39;00m should_return\n",
      "File \u001b[1;32mc:\\Users\\aymli\\anaconda3\\envs\\demucs\\lib\\site-packages\\yt_dlp\\jsinterp.py:241\u001b[0m, in \u001b[0;36mDebugger.wrap_interpreter.<locals>.interpret_statement\u001b[1;34m(self, stmt, local_vars, allow_recursion, *args, **kwargs)\u001b[0m\n\u001b[0;32m    239\u001b[0m     \u001b[38;5;28mcls\u001b[39m\u001b[38;5;241m.\u001b[39mwrite(stmt, level\u001b[38;5;241m=\u001b[39mallow_recursion)\n\u001b[0;32m    240\u001b[0m \u001b[38;5;28;01mtry\u001b[39;00m:\n\u001b[1;32m--> 241\u001b[0m     ret, should_ret \u001b[38;5;241m=\u001b[39m f(\u001b[38;5;28mself\u001b[39m, stmt, local_vars, allow_recursion, \u001b[38;5;241m*\u001b[39margs, \u001b[38;5;241m*\u001b[39m\u001b[38;5;241m*\u001b[39mkwargs)\n\u001b[0;32m    242\u001b[0m \u001b[38;5;28;01mexcept\u001b[39;00m \u001b[38;5;167;01mException\u001b[39;00m \u001b[38;5;28;01mas\u001b[39;00m e:\n\u001b[0;32m    243\u001b[0m     \u001b[38;5;28;01mif\u001b[39;00m \u001b[38;5;28mcls\u001b[39m\u001b[38;5;241m.\u001b[39mENABLED:\n",
      "File \u001b[1;32mc:\\Users\\aymli\\anaconda3\\envs\\demucs\\lib\\site-packages\\yt_dlp\\jsinterp.py:588\u001b[0m, in \u001b[0;36mJSInterpreter.interpret_statement\u001b[1;34m(self, stmt, local_vars, allow_recursion)\u001b[0m\n\u001b[0;32m    586\u001b[0m \u001b[38;5;28;01mif\u001b[39;00m \u001b[38;5;28mlen\u001b[39m(sub_expressions) \u001b[38;5;241m>\u001b[39m \u001b[38;5;241m1\u001b[39m:\n\u001b[0;32m    587\u001b[0m     \u001b[38;5;28;01mfor\u001b[39;00m sub_expr \u001b[38;5;129;01min\u001b[39;00m sub_expressions:\n\u001b[1;32m--> 588\u001b[0m         ret, should_abort \u001b[38;5;241m=\u001b[39m \u001b[38;5;28;43mself\u001b[39;49m\u001b[38;5;241;43m.\u001b[39;49m\u001b[43minterpret_statement\u001b[49m\u001b[43m(\u001b[49m\u001b[43msub_expr\u001b[49m\u001b[43m,\u001b[49m\u001b[43m \u001b[49m\u001b[43mlocal_vars\u001b[49m\u001b[43m,\u001b[49m\u001b[43m \u001b[49m\u001b[43mallow_recursion\u001b[49m\u001b[43m)\u001b[49m\n\u001b[0;32m    589\u001b[0m         \u001b[38;5;28;01mif\u001b[39;00m should_abort:\n\u001b[0;32m    590\u001b[0m             \u001b[38;5;28;01mreturn\u001b[39;00m ret, \u001b[38;5;28;01mTrue\u001b[39;00m\n",
      "File \u001b[1;32mc:\\Users\\aymli\\anaconda3\\envs\\demucs\\lib\\site-packages\\yt_dlp\\jsinterp.py:241\u001b[0m, in \u001b[0;36mDebugger.wrap_interpreter.<locals>.interpret_statement\u001b[1;34m(self, stmt, local_vars, allow_recursion, *args, **kwargs)\u001b[0m\n\u001b[0;32m    239\u001b[0m     \u001b[38;5;28mcls\u001b[39m\u001b[38;5;241m.\u001b[39mwrite(stmt, level\u001b[38;5;241m=\u001b[39mallow_recursion)\n\u001b[0;32m    240\u001b[0m \u001b[38;5;28;01mtry\u001b[39;00m:\n\u001b[1;32m--> 241\u001b[0m     ret, should_ret \u001b[38;5;241m=\u001b[39m f(\u001b[38;5;28mself\u001b[39m, stmt, local_vars, allow_recursion, \u001b[38;5;241m*\u001b[39margs, \u001b[38;5;241m*\u001b[39m\u001b[38;5;241m*\u001b[39mkwargs)\n\u001b[0;32m    242\u001b[0m \u001b[38;5;28;01mexcept\u001b[39;00m \u001b[38;5;167;01mException\u001b[39;00m \u001b[38;5;28;01mas\u001b[39;00m e:\n\u001b[0;32m    243\u001b[0m     \u001b[38;5;28;01mif\u001b[39;00m \u001b[38;5;28mcls\u001b[39m\u001b[38;5;241m.\u001b[39mENABLED:\n",
      "File \u001b[1;32mc:\\Users\\aymli\\anaconda3\\envs\\demucs\\lib\\site-packages\\yt_dlp\\jsinterp.py:837\u001b[0m, in \u001b[0;36mJSInterpreter.interpret_statement\u001b[1;34m(self, stmt, local_vars, allow_recursion)\u001b[0m\n\u001b[0;32m    835\u001b[0m \u001b[38;5;28;01melif\u001b[39;00m m \u001b[38;5;129;01mand\u001b[39;00m m\u001b[38;5;241m.\u001b[39mgroup(\u001b[38;5;124m'\u001b[39m\u001b[38;5;124mfunction\u001b[39m\u001b[38;5;124m'\u001b[39m):\n\u001b[0;32m    836\u001b[0m     fname \u001b[38;5;241m=\u001b[39m m\u001b[38;5;241m.\u001b[39mgroup(\u001b[38;5;124m'\u001b[39m\u001b[38;5;124mfname\u001b[39m\u001b[38;5;124m'\u001b[39m)\n\u001b[1;32m--> 837\u001b[0m     argvals \u001b[38;5;241m=\u001b[39m [\u001b[38;5;28mself\u001b[39m\u001b[38;5;241m.\u001b[39minterpret_expression(v, local_vars, allow_recursion)\n\u001b[0;32m    838\u001b[0m                \u001b[38;5;28;01mfor\u001b[39;00m v \u001b[38;5;129;01min\u001b[39;00m \u001b[38;5;28mself\u001b[39m\u001b[38;5;241m.\u001b[39m_separate(m\u001b[38;5;241m.\u001b[39mgroup(\u001b[38;5;124m'\u001b[39m\u001b[38;5;124margs\u001b[39m\u001b[38;5;124m'\u001b[39m))]\n\u001b[0;32m    839\u001b[0m     \u001b[38;5;28;01mif\u001b[39;00m fname \u001b[38;5;129;01min\u001b[39;00m local_vars:\n\u001b[0;32m    840\u001b[0m         \u001b[38;5;28;01mreturn\u001b[39;00m local_vars[fname](argvals, allow_recursion\u001b[38;5;241m=\u001b[39mallow_recursion), should_return\n",
      "File \u001b[1;32mc:\\Users\\aymli\\anaconda3\\envs\\demucs\\lib\\site-packages\\yt_dlp\\jsinterp.py:837\u001b[0m, in \u001b[0;36m<listcomp>\u001b[1;34m(.0)\u001b[0m\n\u001b[0;32m    835\u001b[0m \u001b[38;5;28;01melif\u001b[39;00m m \u001b[38;5;129;01mand\u001b[39;00m m\u001b[38;5;241m.\u001b[39mgroup(\u001b[38;5;124m'\u001b[39m\u001b[38;5;124mfunction\u001b[39m\u001b[38;5;124m'\u001b[39m):\n\u001b[0;32m    836\u001b[0m     fname \u001b[38;5;241m=\u001b[39m m\u001b[38;5;241m.\u001b[39mgroup(\u001b[38;5;124m'\u001b[39m\u001b[38;5;124mfname\u001b[39m\u001b[38;5;124m'\u001b[39m)\n\u001b[1;32m--> 837\u001b[0m     argvals \u001b[38;5;241m=\u001b[39m [\u001b[38;5;28;43mself\u001b[39;49m\u001b[38;5;241;43m.\u001b[39;49m\u001b[43minterpret_expression\u001b[49m\u001b[43m(\u001b[49m\u001b[43mv\u001b[49m\u001b[43m,\u001b[49m\u001b[43m \u001b[49m\u001b[43mlocal_vars\u001b[49m\u001b[43m,\u001b[49m\u001b[43m \u001b[49m\u001b[43mallow_recursion\u001b[49m\u001b[43m)\u001b[49m\n\u001b[0;32m    838\u001b[0m                \u001b[38;5;28;01mfor\u001b[39;00m v \u001b[38;5;129;01min\u001b[39;00m \u001b[38;5;28mself\u001b[39m\u001b[38;5;241m.\u001b[39m_separate(m\u001b[38;5;241m.\u001b[39mgroup(\u001b[38;5;124m'\u001b[39m\u001b[38;5;124margs\u001b[39m\u001b[38;5;124m'\u001b[39m))]\n\u001b[0;32m    839\u001b[0m     \u001b[38;5;28;01mif\u001b[39;00m fname \u001b[38;5;129;01min\u001b[39;00m local_vars:\n\u001b[0;32m    840\u001b[0m         \u001b[38;5;28;01mreturn\u001b[39;00m local_vars[fname](argvals, allow_recursion\u001b[38;5;241m=\u001b[39mallow_recursion), should_return\n",
      "File \u001b[1;32mc:\\Users\\aymli\\anaconda3\\envs\\demucs\\lib\\site-packages\\yt_dlp\\jsinterp.py:849\u001b[0m, in \u001b[0;36mJSInterpreter.interpret_expression\u001b[1;34m(self, expr, local_vars, allow_recursion)\u001b[0m\n\u001b[0;32m    848\u001b[0m \u001b[38;5;28;01mdef\u001b[39;00m\u001b[38;5;250m \u001b[39m\u001b[38;5;21minterpret_expression\u001b[39m(\u001b[38;5;28mself\u001b[39m, expr, local_vars, allow_recursion):\n\u001b[1;32m--> 849\u001b[0m     ret, should_return \u001b[38;5;241m=\u001b[39m \u001b[38;5;28;43mself\u001b[39;49m\u001b[38;5;241;43m.\u001b[39;49m\u001b[43minterpret_statement\u001b[49m\u001b[43m(\u001b[49m\u001b[43mexpr\u001b[49m\u001b[43m,\u001b[49m\u001b[43m \u001b[49m\u001b[43mlocal_vars\u001b[49m\u001b[43m,\u001b[49m\u001b[43m \u001b[49m\u001b[43mallow_recursion\u001b[49m\u001b[43m)\u001b[49m\n\u001b[0;32m    850\u001b[0m     \u001b[38;5;28;01mif\u001b[39;00m should_return:\n\u001b[0;32m    851\u001b[0m         \u001b[38;5;28;01mraise\u001b[39;00m \u001b[38;5;28mself\u001b[39m\u001b[38;5;241m.\u001b[39mException(\u001b[38;5;124m'\u001b[39m\u001b[38;5;124mCannot return from an expression\u001b[39m\u001b[38;5;124m'\u001b[39m, expr)\n",
      "File \u001b[1;32mc:\\Users\\aymli\\anaconda3\\envs\\demucs\\lib\\site-packages\\yt_dlp\\jsinterp.py:241\u001b[0m, in \u001b[0;36mDebugger.wrap_interpreter.<locals>.interpret_statement\u001b[1;34m(self, stmt, local_vars, allow_recursion, *args, **kwargs)\u001b[0m\n\u001b[0;32m    239\u001b[0m     \u001b[38;5;28mcls\u001b[39m\u001b[38;5;241m.\u001b[39mwrite(stmt, level\u001b[38;5;241m=\u001b[39mallow_recursion)\n\u001b[0;32m    240\u001b[0m \u001b[38;5;28;01mtry\u001b[39;00m:\n\u001b[1;32m--> 241\u001b[0m     ret, should_ret \u001b[38;5;241m=\u001b[39m f(\u001b[38;5;28mself\u001b[39m, stmt, local_vars, allow_recursion, \u001b[38;5;241m*\u001b[39margs, \u001b[38;5;241m*\u001b[39m\u001b[38;5;241m*\u001b[39mkwargs)\n\u001b[0;32m    242\u001b[0m \u001b[38;5;28;01mexcept\u001b[39;00m \u001b[38;5;167;01mException\u001b[39;00m \u001b[38;5;28;01mas\u001b[39;00m e:\n\u001b[0;32m    243\u001b[0m     \u001b[38;5;28;01mif\u001b[39;00m \u001b[38;5;28mcls\u001b[39m\u001b[38;5;241m.\u001b[39mENABLED:\n",
      "File \u001b[1;32mc:\\Users\\aymli\\anaconda3\\envs\\demucs\\lib\\site-packages\\yt_dlp\\jsinterp.py:679\u001b[0m, in \u001b[0;36mJSInterpreter.interpret_statement\u001b[1;34m(self, stmt, local_vars, allow_recursion)\u001b[0m\n\u001b[0;32m    677\u001b[0m     \u001b[38;5;28;01mif\u001b[39;00m \u001b[38;5;129;01mnot\u001b[39;00m separated:\n\u001b[0;32m    678\u001b[0m         \u001b[38;5;28;01mcontinue\u001b[39;00m\n\u001b[1;32m--> 679\u001b[0m     left_val \u001b[38;5;241m=\u001b[39m \u001b[38;5;28;43mself\u001b[39;49m\u001b[38;5;241;43m.\u001b[39;49m\u001b[43minterpret_expression\u001b[49m\u001b[43m(\u001b[49m\u001b[43mop\u001b[49m\u001b[38;5;241;43m.\u001b[39;49m\u001b[43mjoin\u001b[49m\u001b[43m(\u001b[49m\u001b[43mseparated\u001b[49m\u001b[43m)\u001b[49m\u001b[43m,\u001b[49m\u001b[43m \u001b[49m\u001b[43mlocal_vars\u001b[49m\u001b[43m,\u001b[49m\u001b[43m \u001b[49m\u001b[43mallow_recursion\u001b[49m\u001b[43m)\u001b[49m\n\u001b[0;32m    680\u001b[0m     \u001b[38;5;28;01mreturn\u001b[39;00m \u001b[38;5;28mself\u001b[39m\u001b[38;5;241m.\u001b[39m_operator(op, left_val, right_expr, expr, local_vars, allow_recursion), should_return\n\u001b[0;32m    682\u001b[0m \u001b[38;5;28;01mif\u001b[39;00m m \u001b[38;5;129;01mand\u001b[39;00m m\u001b[38;5;241m.\u001b[39mgroup(\u001b[38;5;124m'\u001b[39m\u001b[38;5;124mattribute\u001b[39m\u001b[38;5;124m'\u001b[39m):\n",
      "File \u001b[1;32mc:\\Users\\aymli\\anaconda3\\envs\\demucs\\lib\\site-packages\\yt_dlp\\jsinterp.py:849\u001b[0m, in \u001b[0;36mJSInterpreter.interpret_expression\u001b[1;34m(self, expr, local_vars, allow_recursion)\u001b[0m\n\u001b[0;32m    848\u001b[0m \u001b[38;5;28;01mdef\u001b[39;00m\u001b[38;5;250m \u001b[39m\u001b[38;5;21minterpret_expression\u001b[39m(\u001b[38;5;28mself\u001b[39m, expr, local_vars, allow_recursion):\n\u001b[1;32m--> 849\u001b[0m     ret, should_return \u001b[38;5;241m=\u001b[39m \u001b[38;5;28;43mself\u001b[39;49m\u001b[38;5;241;43m.\u001b[39;49m\u001b[43minterpret_statement\u001b[49m\u001b[43m(\u001b[49m\u001b[43mexpr\u001b[49m\u001b[43m,\u001b[49m\u001b[43m \u001b[49m\u001b[43mlocal_vars\u001b[49m\u001b[43m,\u001b[49m\u001b[43m \u001b[49m\u001b[43mallow_recursion\u001b[49m\u001b[43m)\u001b[49m\n\u001b[0;32m    850\u001b[0m     \u001b[38;5;28;01mif\u001b[39;00m should_return:\n\u001b[0;32m    851\u001b[0m         \u001b[38;5;28;01mraise\u001b[39;00m \u001b[38;5;28mself\u001b[39m\u001b[38;5;241m.\u001b[39mException(\u001b[38;5;124m'\u001b[39m\u001b[38;5;124mCannot return from an expression\u001b[39m\u001b[38;5;124m'\u001b[39m, expr)\n",
      "File \u001b[1;32mc:\\Users\\aymli\\anaconda3\\envs\\demucs\\lib\\site-packages\\yt_dlp\\jsinterp.py:241\u001b[0m, in \u001b[0;36mDebugger.wrap_interpreter.<locals>.interpret_statement\u001b[1;34m(self, stmt, local_vars, allow_recursion, *args, **kwargs)\u001b[0m\n\u001b[0;32m    239\u001b[0m     \u001b[38;5;28mcls\u001b[39m\u001b[38;5;241m.\u001b[39mwrite(stmt, level\u001b[38;5;241m=\u001b[39mallow_recursion)\n\u001b[0;32m    240\u001b[0m \u001b[38;5;28;01mtry\u001b[39;00m:\n\u001b[1;32m--> 241\u001b[0m     ret, should_ret \u001b[38;5;241m=\u001b[39m f(\u001b[38;5;28mself\u001b[39m, stmt, local_vars, allow_recursion, \u001b[38;5;241m*\u001b[39margs, \u001b[38;5;241m*\u001b[39m\u001b[38;5;241m*\u001b[39mkwargs)\n\u001b[0;32m    242\u001b[0m \u001b[38;5;28;01mexcept\u001b[39;00m \u001b[38;5;167;01mException\u001b[39;00m \u001b[38;5;28;01mas\u001b[39;00m e:\n\u001b[0;32m    243\u001b[0m     \u001b[38;5;28;01mif\u001b[39;00m \u001b[38;5;28mcls\u001b[39m\u001b[38;5;241m.\u001b[39mENABLED:\n",
      "File \u001b[1;32mc:\\Users\\aymli\\anaconda3\\envs\\demucs\\lib\\site-packages\\yt_dlp\\jsinterp.py:840\u001b[0m, in \u001b[0;36mJSInterpreter.interpret_statement\u001b[1;34m(self, stmt, local_vars, allow_recursion)\u001b[0m\n\u001b[0;32m    837\u001b[0m argvals \u001b[38;5;241m=\u001b[39m [\u001b[38;5;28mself\u001b[39m\u001b[38;5;241m.\u001b[39minterpret_expression(v, local_vars, allow_recursion)\n\u001b[0;32m    838\u001b[0m            \u001b[38;5;28;01mfor\u001b[39;00m v \u001b[38;5;129;01min\u001b[39;00m \u001b[38;5;28mself\u001b[39m\u001b[38;5;241m.\u001b[39m_separate(m\u001b[38;5;241m.\u001b[39mgroup(\u001b[38;5;124m'\u001b[39m\u001b[38;5;124margs\u001b[39m\u001b[38;5;124m'\u001b[39m))]\n\u001b[0;32m    839\u001b[0m \u001b[38;5;28;01mif\u001b[39;00m fname \u001b[38;5;129;01min\u001b[39;00m local_vars:\n\u001b[1;32m--> 840\u001b[0m     \u001b[38;5;28;01mreturn\u001b[39;00m \u001b[43mlocal_vars\u001b[49m\u001b[43m[\u001b[49m\u001b[43mfname\u001b[49m\u001b[43m]\u001b[49m\u001b[43m(\u001b[49m\u001b[43margvals\u001b[49m\u001b[43m,\u001b[49m\u001b[43m \u001b[49m\u001b[43mallow_recursion\u001b[49m\u001b[38;5;241;43m=\u001b[39;49m\u001b[43mallow_recursion\u001b[49m\u001b[43m)\u001b[49m, should_return\n\u001b[0;32m    841\u001b[0m \u001b[38;5;28;01melif\u001b[39;00m fname \u001b[38;5;129;01mnot\u001b[39;00m \u001b[38;5;129;01min\u001b[39;00m \u001b[38;5;28mself\u001b[39m\u001b[38;5;241m.\u001b[39m_functions:\n\u001b[0;32m    842\u001b[0m     \u001b[38;5;28mself\u001b[39m\u001b[38;5;241m.\u001b[39m_functions[fname] \u001b[38;5;241m=\u001b[39m \u001b[38;5;28mself\u001b[39m\u001b[38;5;241m.\u001b[39mextract_function(fname)\n",
      "File \u001b[1;32mc:\\Users\\aymli\\anaconda3\\envs\\demucs\\lib\\site-packages\\yt_dlp\\utils\\_utils.py:5046\u001b[0m, in \u001b[0;36mfunction_with_repr.__call__\u001b[1;34m(self, *args, **kwargs)\u001b[0m\n\u001b[0;32m   5045\u001b[0m \u001b[38;5;28;01mdef\u001b[39;00m\u001b[38;5;250m \u001b[39m\u001b[38;5;21m__call__\u001b[39m(\u001b[38;5;28mself\u001b[39m, \u001b[38;5;241m*\u001b[39margs, \u001b[38;5;241m*\u001b[39m\u001b[38;5;241m*\u001b[39mkwargs):\n\u001b[1;32m-> 5046\u001b[0m     \u001b[38;5;28;01mreturn\u001b[39;00m \u001b[38;5;28mself\u001b[39m\u001b[38;5;241m.\u001b[39mfunc(\u001b[38;5;241m*\u001b[39margs, \u001b[38;5;241m*\u001b[39m\u001b[38;5;241m*\u001b[39mkwargs)\n",
      "File \u001b[1;32mc:\\Users\\aymli\\anaconda3\\envs\\demucs\\lib\\site-packages\\yt_dlp\\jsinterp.py:928\u001b[0m, in \u001b[0;36mJSInterpreter.build_function.<locals>.resf\u001b[1;34m(args, kwargs, allow_recursion)\u001b[0m\n\u001b[0;32m    926\u001b[0m global_stack[\u001b[38;5;241m0\u001b[39m]\u001b[38;5;241m.\u001b[39mupdate(kwargs)\n\u001b[0;32m    927\u001b[0m var_stack \u001b[38;5;241m=\u001b[39m LocalNameSpace(\u001b[38;5;241m*\u001b[39mglobal_stack)\n\u001b[1;32m--> 928\u001b[0m ret, should_abort \u001b[38;5;241m=\u001b[39m \u001b[38;5;28;43mself\u001b[39;49m\u001b[38;5;241;43m.\u001b[39;49m\u001b[43minterpret_statement\u001b[49m\u001b[43m(\u001b[49m\u001b[43mcode\u001b[49m\u001b[38;5;241;43m.\u001b[39;49m\u001b[43mreplace\u001b[49m\u001b[43m(\u001b[49m\u001b[38;5;124;43m'\u001b[39;49m\u001b[38;5;130;43;01m\\n\u001b[39;49;00m\u001b[38;5;124;43m'\u001b[39;49m\u001b[43m,\u001b[49m\u001b[43m \u001b[49m\u001b[38;5;124;43m'\u001b[39;49m\u001b[38;5;124;43m \u001b[39;49m\u001b[38;5;124;43m'\u001b[39;49m\u001b[43m)\u001b[49m\u001b[43m,\u001b[49m\u001b[43m \u001b[49m\u001b[43mvar_stack\u001b[49m\u001b[43m,\u001b[49m\u001b[43m \u001b[49m\u001b[43mallow_recursion\u001b[49m\u001b[43m \u001b[49m\u001b[38;5;241;43m-\u001b[39;49m\u001b[43m \u001b[49m\u001b[38;5;241;43m1\u001b[39;49m\u001b[43m)\u001b[49m\n\u001b[0;32m    929\u001b[0m \u001b[38;5;28;01mif\u001b[39;00m should_abort:\n\u001b[0;32m    930\u001b[0m     \u001b[38;5;28;01mreturn\u001b[39;00m ret\n",
      "File \u001b[1;32mc:\\Users\\aymli\\anaconda3\\envs\\demucs\\lib\\site-packages\\yt_dlp\\jsinterp.py:241\u001b[0m, in \u001b[0;36mDebugger.wrap_interpreter.<locals>.interpret_statement\u001b[1;34m(self, stmt, local_vars, allow_recursion, *args, **kwargs)\u001b[0m\n\u001b[0;32m    239\u001b[0m     \u001b[38;5;28mcls\u001b[39m\u001b[38;5;241m.\u001b[39mwrite(stmt, level\u001b[38;5;241m=\u001b[39mallow_recursion)\n\u001b[0;32m    240\u001b[0m \u001b[38;5;28;01mtry\u001b[39;00m:\n\u001b[1;32m--> 241\u001b[0m     ret, should_ret \u001b[38;5;241m=\u001b[39m f(\u001b[38;5;28mself\u001b[39m, stmt, local_vars, allow_recursion, \u001b[38;5;241m*\u001b[39margs, \u001b[38;5;241m*\u001b[39m\u001b[38;5;241m*\u001b[39mkwargs)\n\u001b[0;32m    242\u001b[0m \u001b[38;5;28;01mexcept\u001b[39;00m \u001b[38;5;167;01mException\u001b[39;00m \u001b[38;5;28;01mas\u001b[39;00m e:\n\u001b[0;32m    243\u001b[0m     \u001b[38;5;28;01mif\u001b[39;00m \u001b[38;5;28mcls\u001b[39m\u001b[38;5;241m.\u001b[39mENABLED:\n",
      "File \u001b[1;32mc:\\Users\\aymli\\anaconda3\\envs\\demucs\\lib\\site-packages\\yt_dlp\\jsinterp.py:833\u001b[0m, in \u001b[0;36mJSInterpreter.interpret_statement\u001b[1;34m(self, stmt, local_vars, allow_recursion)\u001b[0m\n\u001b[0;32m    831\u001b[0m         \u001b[38;5;28;01mreturn\u001b[39;00m ret, should_return \u001b[38;5;129;01mor\u001b[39;00m should_abort\n\u001b[0;32m    832\u001b[0m     \u001b[38;5;28;01melse\u001b[39;00m:\n\u001b[1;32m--> 833\u001b[0m         \u001b[38;5;28;01mreturn\u001b[39;00m \u001b[43meval_method\u001b[49m\u001b[43m(\u001b[49m\u001b[43m)\u001b[49m, should_return\n\u001b[0;32m    835\u001b[0m \u001b[38;5;28;01melif\u001b[39;00m m \u001b[38;5;129;01mand\u001b[39;00m m\u001b[38;5;241m.\u001b[39mgroup(\u001b[38;5;124m'\u001b[39m\u001b[38;5;124mfunction\u001b[39m\u001b[38;5;124m'\u001b[39m):\n\u001b[0;32m    836\u001b[0m     fname \u001b[38;5;241m=\u001b[39m m\u001b[38;5;241m.\u001b[39mgroup(\u001b[38;5;124m'\u001b[39m\u001b[38;5;124mfname\u001b[39m\u001b[38;5;124m'\u001b[39m)\n",
      "File \u001b[1;32mc:\\Users\\aymli\\anaconda3\\envs\\demucs\\lib\\site-packages\\yt_dlp\\jsinterp.py:807\u001b[0m, in \u001b[0;36mJSInterpreter.interpret_statement.<locals>.eval_method\u001b[1;34m()\u001b[0m\n\u001b[0;32m    805\u001b[0m     assertion(\u001b[38;5;28mlen\u001b[39m(argvals) \u001b[38;5;241m<\u001b[39m\u001b[38;5;241m=\u001b[39m \u001b[38;5;241m2\u001b[39m, \u001b[38;5;124m'\u001b[39m\u001b[38;5;124mtakes at-most 2 arguments\u001b[39m\u001b[38;5;124m'\u001b[39m)\n\u001b[0;32m    806\u001b[0m     f, this \u001b[38;5;241m=\u001b[39m ([\u001b[38;5;241m*\u001b[39margvals, \u001b[38;5;124m'\u001b[39m\u001b[38;5;124m'\u001b[39m])[:\u001b[38;5;241m2\u001b[39m]\n\u001b[1;32m--> 807\u001b[0m     \u001b[38;5;28;01mreturn\u001b[39;00m [f((item, idx, obj), {\u001b[38;5;124m'\u001b[39m\u001b[38;5;124mthis\u001b[39m\u001b[38;5;124m'\u001b[39m: this}, allow_recursion) \u001b[38;5;28;01mfor\u001b[39;00m idx, item \u001b[38;5;129;01min\u001b[39;00m \u001b[38;5;28menumerate\u001b[39m(obj)]\n\u001b[0;32m    808\u001b[0m \u001b[38;5;28;01melif\u001b[39;00m member \u001b[38;5;241m==\u001b[39m \u001b[38;5;124m'\u001b[39m\u001b[38;5;124mindexOf\u001b[39m\u001b[38;5;124m'\u001b[39m:\n\u001b[0;32m    809\u001b[0m     assertion(argvals, \u001b[38;5;124m'\u001b[39m\u001b[38;5;124mtakes one or more arguments\u001b[39m\u001b[38;5;124m'\u001b[39m)\n",
      "File \u001b[1;32mc:\\Users\\aymli\\anaconda3\\envs\\demucs\\lib\\site-packages\\yt_dlp\\jsinterp.py:807\u001b[0m, in \u001b[0;36m<listcomp>\u001b[1;34m(.0)\u001b[0m\n\u001b[0;32m    805\u001b[0m     assertion(\u001b[38;5;28mlen\u001b[39m(argvals) \u001b[38;5;241m<\u001b[39m\u001b[38;5;241m=\u001b[39m \u001b[38;5;241m2\u001b[39m, \u001b[38;5;124m'\u001b[39m\u001b[38;5;124mtakes at-most 2 arguments\u001b[39m\u001b[38;5;124m'\u001b[39m)\n\u001b[0;32m    806\u001b[0m     f, this \u001b[38;5;241m=\u001b[39m ([\u001b[38;5;241m*\u001b[39margvals, \u001b[38;5;124m'\u001b[39m\u001b[38;5;124m'\u001b[39m])[:\u001b[38;5;241m2\u001b[39m]\n\u001b[1;32m--> 807\u001b[0m     \u001b[38;5;28;01mreturn\u001b[39;00m [\u001b[43mf\u001b[49m\u001b[43m(\u001b[49m\u001b[43m(\u001b[49m\u001b[43mitem\u001b[49m\u001b[43m,\u001b[49m\u001b[43m \u001b[49m\u001b[43midx\u001b[49m\u001b[43m,\u001b[49m\u001b[43m \u001b[49m\u001b[43mobj\u001b[49m\u001b[43m)\u001b[49m\u001b[43m,\u001b[49m\u001b[43m \u001b[49m\u001b[43m{\u001b[49m\u001b[38;5;124;43m'\u001b[39;49m\u001b[38;5;124;43mthis\u001b[39;49m\u001b[38;5;124;43m'\u001b[39;49m\u001b[43m:\u001b[49m\u001b[43m \u001b[49m\u001b[43mthis\u001b[49m\u001b[43m}\u001b[49m\u001b[43m,\u001b[49m\u001b[43m \u001b[49m\u001b[43mallow_recursion\u001b[49m\u001b[43m)\u001b[49m \u001b[38;5;28;01mfor\u001b[39;00m idx, item \u001b[38;5;129;01min\u001b[39;00m \u001b[38;5;28menumerate\u001b[39m(obj)]\n\u001b[0;32m    808\u001b[0m \u001b[38;5;28;01melif\u001b[39;00m member \u001b[38;5;241m==\u001b[39m \u001b[38;5;124m'\u001b[39m\u001b[38;5;124mindexOf\u001b[39m\u001b[38;5;124m'\u001b[39m:\n\u001b[0;32m    809\u001b[0m     assertion(argvals, \u001b[38;5;124m'\u001b[39m\u001b[38;5;124mtakes one or more arguments\u001b[39m\u001b[38;5;124m'\u001b[39m)\n",
      "File \u001b[1;32mc:\\Users\\aymli\\anaconda3\\envs\\demucs\\lib\\site-packages\\yt_dlp\\utils\\_utils.py:5046\u001b[0m, in \u001b[0;36mfunction_with_repr.__call__\u001b[1;34m(self, *args, **kwargs)\u001b[0m\n\u001b[0;32m   5045\u001b[0m \u001b[38;5;28;01mdef\u001b[39;00m\u001b[38;5;250m \u001b[39m\u001b[38;5;21m__call__\u001b[39m(\u001b[38;5;28mself\u001b[39m, \u001b[38;5;241m*\u001b[39margs, \u001b[38;5;241m*\u001b[39m\u001b[38;5;241m*\u001b[39mkwargs):\n\u001b[1;32m-> 5046\u001b[0m     \u001b[38;5;28;01mreturn\u001b[39;00m \u001b[38;5;28mself\u001b[39m\u001b[38;5;241m.\u001b[39mfunc(\u001b[38;5;241m*\u001b[39margs, \u001b[38;5;241m*\u001b[39m\u001b[38;5;241m*\u001b[39mkwargs)\n",
      "File \u001b[1;32mc:\\Users\\aymli\\anaconda3\\envs\\demucs\\lib\\site-packages\\yt_dlp\\jsinterp.py:928\u001b[0m, in \u001b[0;36mJSInterpreter.build_function.<locals>.resf\u001b[1;34m(args, kwargs, allow_recursion)\u001b[0m\n\u001b[0;32m    926\u001b[0m global_stack[\u001b[38;5;241m0\u001b[39m]\u001b[38;5;241m.\u001b[39mupdate(kwargs)\n\u001b[0;32m    927\u001b[0m var_stack \u001b[38;5;241m=\u001b[39m LocalNameSpace(\u001b[38;5;241m*\u001b[39mglobal_stack)\n\u001b[1;32m--> 928\u001b[0m ret, should_abort \u001b[38;5;241m=\u001b[39m \u001b[38;5;28;43mself\u001b[39;49m\u001b[38;5;241;43m.\u001b[39;49m\u001b[43minterpret_statement\u001b[49m\u001b[43m(\u001b[49m\u001b[43mcode\u001b[49m\u001b[38;5;241;43m.\u001b[39;49m\u001b[43mreplace\u001b[49m\u001b[43m(\u001b[49m\u001b[38;5;124;43m'\u001b[39;49m\u001b[38;5;130;43;01m\\n\u001b[39;49;00m\u001b[38;5;124;43m'\u001b[39;49m\u001b[43m,\u001b[49m\u001b[43m \u001b[49m\u001b[38;5;124;43m'\u001b[39;49m\u001b[38;5;124;43m \u001b[39;49m\u001b[38;5;124;43m'\u001b[39;49m\u001b[43m)\u001b[49m\u001b[43m,\u001b[49m\u001b[43m \u001b[49m\u001b[43mvar_stack\u001b[49m\u001b[43m,\u001b[49m\u001b[43m \u001b[49m\u001b[43mallow_recursion\u001b[49m\u001b[43m \u001b[49m\u001b[38;5;241;43m-\u001b[39;49m\u001b[43m \u001b[49m\u001b[38;5;241;43m1\u001b[39;49m\u001b[43m)\u001b[49m\n\u001b[0;32m    929\u001b[0m \u001b[38;5;28;01mif\u001b[39;00m should_abort:\n\u001b[0;32m    930\u001b[0m     \u001b[38;5;28;01mreturn\u001b[39;00m ret\n",
      "File \u001b[1;32mc:\\Users\\aymli\\anaconda3\\envs\\demucs\\lib\\site-packages\\yt_dlp\\jsinterp.py:241\u001b[0m, in \u001b[0;36mDebugger.wrap_interpreter.<locals>.interpret_statement\u001b[1;34m(self, stmt, local_vars, allow_recursion, *args, **kwargs)\u001b[0m\n\u001b[0;32m    239\u001b[0m     \u001b[38;5;28mcls\u001b[39m\u001b[38;5;241m.\u001b[39mwrite(stmt, level\u001b[38;5;241m=\u001b[39mallow_recursion)\n\u001b[0;32m    240\u001b[0m \u001b[38;5;28;01mtry\u001b[39;00m:\n\u001b[1;32m--> 241\u001b[0m     ret, should_ret \u001b[38;5;241m=\u001b[39m f(\u001b[38;5;28mself\u001b[39m, stmt, local_vars, allow_recursion, \u001b[38;5;241m*\u001b[39margs, \u001b[38;5;241m*\u001b[39m\u001b[38;5;241m*\u001b[39mkwargs)\n\u001b[0;32m    242\u001b[0m \u001b[38;5;28;01mexcept\u001b[39;00m \u001b[38;5;167;01mException\u001b[39;00m \u001b[38;5;28;01mas\u001b[39;00m e:\n\u001b[0;32m    243\u001b[0m     \u001b[38;5;28;01mif\u001b[39;00m \u001b[38;5;28mcls\u001b[39m\u001b[38;5;241m.\u001b[39mENABLED:\n",
      "File \u001b[1;32mc:\\Users\\aymli\\anaconda3\\envs\\demucs\\lib\\site-packages\\yt_dlp\\jsinterp.py:833\u001b[0m, in \u001b[0;36mJSInterpreter.interpret_statement\u001b[1;34m(self, stmt, local_vars, allow_recursion)\u001b[0m\n\u001b[0;32m    831\u001b[0m         \u001b[38;5;28;01mreturn\u001b[39;00m ret, should_return \u001b[38;5;129;01mor\u001b[39;00m should_abort\n\u001b[0;32m    832\u001b[0m     \u001b[38;5;28;01melse\u001b[39;00m:\n\u001b[1;32m--> 833\u001b[0m         \u001b[38;5;28;01mreturn\u001b[39;00m \u001b[43meval_method\u001b[49m\u001b[43m(\u001b[49m\u001b[43m)\u001b[49m, should_return\n\u001b[0;32m    835\u001b[0m \u001b[38;5;28;01melif\u001b[39;00m m \u001b[38;5;129;01mand\u001b[39;00m m\u001b[38;5;241m.\u001b[39mgroup(\u001b[38;5;124m'\u001b[39m\u001b[38;5;124mfunction\u001b[39m\u001b[38;5;124m'\u001b[39m):\n\u001b[0;32m    836\u001b[0m     fname \u001b[38;5;241m=\u001b[39m m\u001b[38;5;241m.\u001b[39mgroup(\u001b[38;5;124m'\u001b[39m\u001b[38;5;124mfname\u001b[39m\u001b[38;5;124m'\u001b[39m)\n",
      "File \u001b[1;32mc:\\Users\\aymli\\anaconda3\\envs\\demucs\\lib\\site-packages\\yt_dlp\\jsinterp.py:728\u001b[0m, in \u001b[0;36mJSInterpreter.interpret_statement.<locals>.eval_method\u001b[1;34m()\u001b[0m\n\u001b[0;32m    725\u001b[0m     \u001b[38;5;28;01mreturn\u001b[39;00m \u001b[38;5;28mself\u001b[39m\u001b[38;5;241m.\u001b[39m_index(obj, member, nullish)\n\u001b[0;32m    727\u001b[0m \u001b[38;5;66;03m# Function call\u001b[39;00m\n\u001b[1;32m--> 728\u001b[0m argvals \u001b[38;5;241m=\u001b[39m [\n\u001b[0;32m    729\u001b[0m     \u001b[38;5;28mself\u001b[39m\u001b[38;5;241m.\u001b[39minterpret_expression(v, local_vars, allow_recursion)\n\u001b[0;32m    730\u001b[0m     \u001b[38;5;28;01mfor\u001b[39;00m v \u001b[38;5;129;01min\u001b[39;00m \u001b[38;5;28mself\u001b[39m\u001b[38;5;241m.\u001b[39m_separate(arg_str)]\n\u001b[0;32m    732\u001b[0m \u001b[38;5;66;03m# Fixup prototype call\u001b[39;00m\n\u001b[0;32m    733\u001b[0m \u001b[38;5;28;01mif\u001b[39;00m \u001b[38;5;28misinstance\u001b[39m(obj, \u001b[38;5;28mtype\u001b[39m) \u001b[38;5;129;01mand\u001b[39;00m member\u001b[38;5;241m.\u001b[39mstartswith(\u001b[38;5;124m'\u001b[39m\u001b[38;5;124mprototype.\u001b[39m\u001b[38;5;124m'\u001b[39m):\n",
      "File \u001b[1;32mc:\\Users\\aymli\\anaconda3\\envs\\demucs\\lib\\site-packages\\yt_dlp\\jsinterp.py:729\u001b[0m, in \u001b[0;36m<listcomp>\u001b[1;34m(.0)\u001b[0m\n\u001b[0;32m    725\u001b[0m     \u001b[38;5;28;01mreturn\u001b[39;00m \u001b[38;5;28mself\u001b[39m\u001b[38;5;241m.\u001b[39m_index(obj, member, nullish)\n\u001b[0;32m    727\u001b[0m \u001b[38;5;66;03m# Function call\u001b[39;00m\n\u001b[0;32m    728\u001b[0m argvals \u001b[38;5;241m=\u001b[39m [\n\u001b[1;32m--> 729\u001b[0m     \u001b[38;5;28;43mself\u001b[39;49m\u001b[38;5;241;43m.\u001b[39;49m\u001b[43minterpret_expression\u001b[49m\u001b[43m(\u001b[49m\u001b[43mv\u001b[49m\u001b[43m,\u001b[49m\u001b[43m \u001b[49m\u001b[43mlocal_vars\u001b[49m\u001b[43m,\u001b[49m\u001b[43m \u001b[49m\u001b[43mallow_recursion\u001b[49m\u001b[43m)\u001b[49m\n\u001b[0;32m    730\u001b[0m     \u001b[38;5;28;01mfor\u001b[39;00m v \u001b[38;5;129;01min\u001b[39;00m \u001b[38;5;28mself\u001b[39m\u001b[38;5;241m.\u001b[39m_separate(arg_str)]\n\u001b[0;32m    732\u001b[0m \u001b[38;5;66;03m# Fixup prototype call\u001b[39;00m\n\u001b[0;32m    733\u001b[0m \u001b[38;5;28;01mif\u001b[39;00m \u001b[38;5;28misinstance\u001b[39m(obj, \u001b[38;5;28mtype\u001b[39m) \u001b[38;5;129;01mand\u001b[39;00m member\u001b[38;5;241m.\u001b[39mstartswith(\u001b[38;5;124m'\u001b[39m\u001b[38;5;124mprototype.\u001b[39m\u001b[38;5;124m'\u001b[39m):\n",
      "File \u001b[1;32mc:\\Users\\aymli\\anaconda3\\envs\\demucs\\lib\\site-packages\\yt_dlp\\jsinterp.py:849\u001b[0m, in \u001b[0;36mJSInterpreter.interpret_expression\u001b[1;34m(self, expr, local_vars, allow_recursion)\u001b[0m\n\u001b[0;32m    848\u001b[0m \u001b[38;5;28;01mdef\u001b[39;00m\u001b[38;5;250m \u001b[39m\u001b[38;5;21minterpret_expression\u001b[39m(\u001b[38;5;28mself\u001b[39m, expr, local_vars, allow_recursion):\n\u001b[1;32m--> 849\u001b[0m     ret, should_return \u001b[38;5;241m=\u001b[39m \u001b[38;5;28;43mself\u001b[39;49m\u001b[38;5;241;43m.\u001b[39;49m\u001b[43minterpret_statement\u001b[49m\u001b[43m(\u001b[49m\u001b[43mexpr\u001b[49m\u001b[43m,\u001b[49m\u001b[43m \u001b[49m\u001b[43mlocal_vars\u001b[49m\u001b[43m,\u001b[49m\u001b[43m \u001b[49m\u001b[43mallow_recursion\u001b[49m\u001b[43m)\u001b[49m\n\u001b[0;32m    850\u001b[0m     \u001b[38;5;28;01mif\u001b[39;00m should_return:\n\u001b[0;32m    851\u001b[0m         \u001b[38;5;28;01mraise\u001b[39;00m \u001b[38;5;28mself\u001b[39m\u001b[38;5;241m.\u001b[39mException(\u001b[38;5;124m'\u001b[39m\u001b[38;5;124mCannot return from an expression\u001b[39m\u001b[38;5;124m'\u001b[39m, expr)\n",
      "File \u001b[1;32mc:\\Users\\aymli\\anaconda3\\envs\\demucs\\lib\\site-packages\\yt_dlp\\jsinterp.py:241\u001b[0m, in \u001b[0;36mDebugger.wrap_interpreter.<locals>.interpret_statement\u001b[1;34m(self, stmt, local_vars, allow_recursion, *args, **kwargs)\u001b[0m\n\u001b[0;32m    239\u001b[0m     \u001b[38;5;28mcls\u001b[39m\u001b[38;5;241m.\u001b[39mwrite(stmt, level\u001b[38;5;241m=\u001b[39mallow_recursion)\n\u001b[0;32m    240\u001b[0m \u001b[38;5;28;01mtry\u001b[39;00m:\n\u001b[1;32m--> 241\u001b[0m     ret, should_ret \u001b[38;5;241m=\u001b[39m f(\u001b[38;5;28mself\u001b[39m, stmt, local_vars, allow_recursion, \u001b[38;5;241m*\u001b[39margs, \u001b[38;5;241m*\u001b[39m\u001b[38;5;241m*\u001b[39mkwargs)\n\u001b[0;32m    242\u001b[0m \u001b[38;5;28;01mexcept\u001b[39;00m \u001b[38;5;167;01mException\u001b[39;00m \u001b[38;5;28;01mas\u001b[39;00m e:\n\u001b[0;32m    243\u001b[0m     \u001b[38;5;28;01mif\u001b[39;00m \u001b[38;5;28mcls\u001b[39m\u001b[38;5;241m.\u001b[39mENABLED:\n",
      "File \u001b[1;32mc:\\Users\\aymli\\anaconda3\\envs\\demucs\\lib\\site-packages\\yt_dlp\\jsinterp.py:639\u001b[0m, in \u001b[0;36mJSInterpreter.interpret_statement\u001b[1;34m(self, stmt, local_vars, allow_recursion)\u001b[0m\n\u001b[0;32m    637\u001b[0m         \u001b[38;5;28;01mraise\u001b[39;00m \u001b[38;5;28mself\u001b[39m\u001b[38;5;241m.\u001b[39mException(\u001b[38;5;124mf\u001b[39m\u001b[38;5;124m'\u001b[39m\u001b[38;5;124mList index \u001b[39m\u001b[38;5;132;01m{\u001b[39;00midx\u001b[38;5;132;01m}\u001b[39;00m\u001b[38;5;124m must be integer\u001b[39m\u001b[38;5;124m'\u001b[39m, expr)\n\u001b[0;32m    638\u001b[0m     idx \u001b[38;5;241m=\u001b[39m \u001b[38;5;28mint\u001b[39m(idx)\n\u001b[1;32m--> 639\u001b[0m     left_val[idx] \u001b[38;5;241m=\u001b[39m \u001b[38;5;28;43mself\u001b[39;49m\u001b[38;5;241;43m.\u001b[39;49m\u001b[43m_operator\u001b[49m\u001b[43m(\u001b[49m\n\u001b[0;32m    640\u001b[0m \u001b[43m        \u001b[49m\u001b[43mm\u001b[49m\u001b[38;5;241;43m.\u001b[39;49m\u001b[43mgroup\u001b[49m\u001b[43m(\u001b[49m\u001b[38;5;124;43m'\u001b[39;49m\u001b[38;5;124;43mop\u001b[39;49m\u001b[38;5;124;43m'\u001b[39;49m\u001b[43m)\u001b[49m\u001b[43m,\u001b[49m\u001b[43m \u001b[49m\u001b[38;5;28;43mself\u001b[39;49m\u001b[38;5;241;43m.\u001b[39;49m\u001b[43m_index\u001b[49m\u001b[43m(\u001b[49m\u001b[43mleft_val\u001b[49m\u001b[43m,\u001b[49m\u001b[43m \u001b[49m\u001b[43midx\u001b[49m\u001b[43m)\u001b[49m\u001b[43m,\u001b[49m\u001b[43m \u001b[49m\u001b[43mm\u001b[49m\u001b[38;5;241;43m.\u001b[39;49m\u001b[43mgroup\u001b[49m\u001b[43m(\u001b[49m\u001b[38;5;124;43m'\u001b[39;49m\u001b[38;5;124;43mexpr\u001b[39;49m\u001b[38;5;124;43m'\u001b[39;49m\u001b[43m)\u001b[49m\u001b[43m,\u001b[49m\u001b[43m \u001b[49m\u001b[43mexpr\u001b[49m\u001b[43m,\u001b[49m\u001b[43m \u001b[49m\u001b[43mlocal_vars\u001b[49m\u001b[43m,\u001b[49m\u001b[43m \u001b[49m\u001b[43mallow_recursion\u001b[49m\u001b[43m)\u001b[49m\n\u001b[0;32m    641\u001b[0m     \u001b[38;5;28;01mreturn\u001b[39;00m left_val[idx], should_return\n\u001b[0;32m    643\u001b[0m \u001b[38;5;28;01melif\u001b[39;00m expr\u001b[38;5;241m.\u001b[39misdigit():\n",
      "File \u001b[1;32mc:\\Users\\aymli\\anaconda3\\envs\\demucs\\lib\\site-packages\\yt_dlp\\jsinterp.py:358\u001b[0m, in \u001b[0;36mJSInterpreter._operator\u001b[1;34m(self, op, left_val, right_expr, expr, local_vars, allow_recursion)\u001b[0m\n\u001b[0;32m    355\u001b[0m \u001b[38;5;28;01melif\u001b[39;00m op \u001b[38;5;241m==\u001b[39m \u001b[38;5;124m'\u001b[39m\u001b[38;5;124m?\u001b[39m\u001b[38;5;124m'\u001b[39m:\n\u001b[0;32m    356\u001b[0m     right_expr \u001b[38;5;241m=\u001b[39m _js_ternary(left_val, \u001b[38;5;241m*\u001b[39m\u001b[38;5;28mself\u001b[39m\u001b[38;5;241m.\u001b[39m_separate(right_expr, \u001b[38;5;124m'\u001b[39m\u001b[38;5;124m:\u001b[39m\u001b[38;5;124m'\u001b[39m, \u001b[38;5;241m1\u001b[39m))\n\u001b[1;32m--> 358\u001b[0m right_val \u001b[38;5;241m=\u001b[39m \u001b[38;5;28;43mself\u001b[39;49m\u001b[38;5;241;43m.\u001b[39;49m\u001b[43minterpret_expression\u001b[49m\u001b[43m(\u001b[49m\u001b[43mright_expr\u001b[49m\u001b[43m,\u001b[49m\u001b[43m \u001b[49m\u001b[43mlocal_vars\u001b[49m\u001b[43m,\u001b[49m\u001b[43m \u001b[49m\u001b[43mallow_recursion\u001b[49m\u001b[43m)\u001b[49m\n\u001b[0;32m    359\u001b[0m \u001b[38;5;28;01mif\u001b[39;00m \u001b[38;5;129;01mnot\u001b[39;00m _OPERATORS\u001b[38;5;241m.\u001b[39mget(op):\n\u001b[0;32m    360\u001b[0m     \u001b[38;5;28;01mreturn\u001b[39;00m right_val\n",
      "File \u001b[1;32mc:\\Users\\aymli\\anaconda3\\envs\\demucs\\lib\\site-packages\\yt_dlp\\jsinterp.py:849\u001b[0m, in \u001b[0;36mJSInterpreter.interpret_expression\u001b[1;34m(self, expr, local_vars, allow_recursion)\u001b[0m\n\u001b[0;32m    848\u001b[0m \u001b[38;5;28;01mdef\u001b[39;00m\u001b[38;5;250m \u001b[39m\u001b[38;5;21minterpret_expression\u001b[39m(\u001b[38;5;28mself\u001b[39m, expr, local_vars, allow_recursion):\n\u001b[1;32m--> 849\u001b[0m     ret, should_return \u001b[38;5;241m=\u001b[39m \u001b[38;5;28;43mself\u001b[39;49m\u001b[38;5;241;43m.\u001b[39;49m\u001b[43minterpret_statement\u001b[49m\u001b[43m(\u001b[49m\u001b[43mexpr\u001b[49m\u001b[43m,\u001b[49m\u001b[43m \u001b[49m\u001b[43mlocal_vars\u001b[49m\u001b[43m,\u001b[49m\u001b[43m \u001b[49m\u001b[43mallow_recursion\u001b[49m\u001b[43m)\u001b[49m\n\u001b[0;32m    850\u001b[0m     \u001b[38;5;28;01mif\u001b[39;00m should_return:\n\u001b[0;32m    851\u001b[0m         \u001b[38;5;28;01mraise\u001b[39;00m \u001b[38;5;28mself\u001b[39m\u001b[38;5;241m.\u001b[39mException(\u001b[38;5;124m'\u001b[39m\u001b[38;5;124mCannot return from an expression\u001b[39m\u001b[38;5;124m'\u001b[39m, expr)\n",
      "File \u001b[1;32mc:\\Users\\aymli\\anaconda3\\envs\\demucs\\lib\\site-packages\\yt_dlp\\jsinterp.py:241\u001b[0m, in \u001b[0;36mDebugger.wrap_interpreter.<locals>.interpret_statement\u001b[1;34m(self, stmt, local_vars, allow_recursion, *args, **kwargs)\u001b[0m\n\u001b[0;32m    239\u001b[0m     \u001b[38;5;28mcls\u001b[39m\u001b[38;5;241m.\u001b[39mwrite(stmt, level\u001b[38;5;241m=\u001b[39mallow_recursion)\n\u001b[0;32m    240\u001b[0m \u001b[38;5;28;01mtry\u001b[39;00m:\n\u001b[1;32m--> 241\u001b[0m     ret, should_ret \u001b[38;5;241m=\u001b[39m f(\u001b[38;5;28mself\u001b[39m, stmt, local_vars, allow_recursion, \u001b[38;5;241m*\u001b[39margs, \u001b[38;5;241m*\u001b[39m\u001b[38;5;241m*\u001b[39mkwargs)\n\u001b[0;32m    242\u001b[0m \u001b[38;5;28;01mexcept\u001b[39;00m \u001b[38;5;167;01mException\u001b[39;00m \u001b[38;5;28;01mas\u001b[39;00m e:\n\u001b[0;32m    243\u001b[0m     \u001b[38;5;28;01mif\u001b[39;00m \u001b[38;5;28mcls\u001b[39m\u001b[38;5;241m.\u001b[39mENABLED:\n",
      "File \u001b[1;32mc:\\Users\\aymli\\anaconda3\\envs\\demucs\\lib\\site-packages\\yt_dlp\\jsinterp.py:663\u001b[0m, in \u001b[0;36mJSInterpreter.interpret_statement\u001b[1;34m(self, stmt, local_vars, allow_recursion)\u001b[0m\n\u001b[0;32m    661\u001b[0m \u001b[38;5;28;01mif\u001b[39;00m m \u001b[38;5;129;01mand\u001b[39;00m m\u001b[38;5;241m.\u001b[39mgroup(\u001b[38;5;124m'\u001b[39m\u001b[38;5;124mindexing\u001b[39m\u001b[38;5;124m'\u001b[39m):\n\u001b[0;32m    662\u001b[0m     val \u001b[38;5;241m=\u001b[39m local_vars[m\u001b[38;5;241m.\u001b[39mgroup(\u001b[38;5;124m'\u001b[39m\u001b[38;5;124min\u001b[39m\u001b[38;5;124m'\u001b[39m)]\n\u001b[1;32m--> 663\u001b[0m     idx \u001b[38;5;241m=\u001b[39m \u001b[38;5;28;43mself\u001b[39;49m\u001b[38;5;241;43m.\u001b[39;49m\u001b[43minterpret_expression\u001b[49m\u001b[43m(\u001b[49m\u001b[43mm\u001b[49m\u001b[38;5;241;43m.\u001b[39;49m\u001b[43mgroup\u001b[49m\u001b[43m(\u001b[49m\u001b[38;5;124;43m'\u001b[39;49m\u001b[38;5;124;43midx\u001b[39;49m\u001b[38;5;124;43m'\u001b[39;49m\u001b[43m)\u001b[49m\u001b[43m,\u001b[49m\u001b[43m \u001b[49m\u001b[43mlocal_vars\u001b[49m\u001b[43m,\u001b[49m\u001b[43m \u001b[49m\u001b[43mallow_recursion\u001b[49m\u001b[43m)\u001b[49m\n\u001b[0;32m    664\u001b[0m     \u001b[38;5;28;01mreturn\u001b[39;00m \u001b[38;5;28mself\u001b[39m\u001b[38;5;241m.\u001b[39m_index(val, idx), should_return\n\u001b[0;32m    666\u001b[0m \u001b[38;5;28;01mfor\u001b[39;00m op \u001b[38;5;129;01min\u001b[39;00m _OPERATORS:\n",
      "File \u001b[1;32mc:\\Users\\aymli\\anaconda3\\envs\\demucs\\lib\\site-packages\\yt_dlp\\jsinterp.py:849\u001b[0m, in \u001b[0;36mJSInterpreter.interpret_expression\u001b[1;34m(self, expr, local_vars, allow_recursion)\u001b[0m\n\u001b[0;32m    848\u001b[0m \u001b[38;5;28;01mdef\u001b[39;00m\u001b[38;5;250m \u001b[39m\u001b[38;5;21minterpret_expression\u001b[39m(\u001b[38;5;28mself\u001b[39m, expr, local_vars, allow_recursion):\n\u001b[1;32m--> 849\u001b[0m     ret, should_return \u001b[38;5;241m=\u001b[39m \u001b[38;5;28;43mself\u001b[39;49m\u001b[38;5;241;43m.\u001b[39;49m\u001b[43minterpret_statement\u001b[49m\u001b[43m(\u001b[49m\u001b[43mexpr\u001b[49m\u001b[43m,\u001b[49m\u001b[43m \u001b[49m\u001b[43mlocal_vars\u001b[49m\u001b[43m,\u001b[49m\u001b[43m \u001b[49m\u001b[43mallow_recursion\u001b[49m\u001b[43m)\u001b[49m\n\u001b[0;32m    850\u001b[0m     \u001b[38;5;28;01mif\u001b[39;00m should_return:\n\u001b[0;32m    851\u001b[0m         \u001b[38;5;28;01mraise\u001b[39;00m \u001b[38;5;28mself\u001b[39m\u001b[38;5;241m.\u001b[39mException(\u001b[38;5;124m'\u001b[39m\u001b[38;5;124mCannot return from an expression\u001b[39m\u001b[38;5;124m'\u001b[39m, expr)\n",
      "File \u001b[1;32mc:\\Users\\aymli\\anaconda3\\envs\\demucs\\lib\\site-packages\\yt_dlp\\jsinterp.py:241\u001b[0m, in \u001b[0;36mDebugger.wrap_interpreter.<locals>.interpret_statement\u001b[1;34m(self, stmt, local_vars, allow_recursion, *args, **kwargs)\u001b[0m\n\u001b[0;32m    239\u001b[0m     \u001b[38;5;28mcls\u001b[39m\u001b[38;5;241m.\u001b[39mwrite(stmt, level\u001b[38;5;241m=\u001b[39mallow_recursion)\n\u001b[0;32m    240\u001b[0m \u001b[38;5;28;01mtry\u001b[39;00m:\n\u001b[1;32m--> 241\u001b[0m     ret, should_ret \u001b[38;5;241m=\u001b[39m f(\u001b[38;5;28mself\u001b[39m, stmt, local_vars, allow_recursion, \u001b[38;5;241m*\u001b[39margs, \u001b[38;5;241m*\u001b[39m\u001b[38;5;241m*\u001b[39mkwargs)\n\u001b[0;32m    242\u001b[0m \u001b[38;5;28;01mexcept\u001b[39;00m \u001b[38;5;167;01mException\u001b[39;00m \u001b[38;5;28;01mas\u001b[39;00m e:\n\u001b[0;32m    243\u001b[0m     \u001b[38;5;28;01mif\u001b[39;00m \u001b[38;5;28mcls\u001b[39m\u001b[38;5;241m.\u001b[39mENABLED:\n",
      "File \u001b[1;32mc:\\Users\\aymli\\anaconda3\\envs\\demucs\\lib\\site-packages\\yt_dlp\\jsinterp.py:458\u001b[0m, in \u001b[0;36mJSInterpreter.interpret_statement\u001b[1;34m(self, stmt, local_vars, allow_recursion)\u001b[0m\n\u001b[0;32m    456\u001b[0m \u001b[38;5;28;01mif\u001b[39;00m expr\u001b[38;5;241m.\u001b[39mstartswith(\u001b[38;5;124m'\u001b[39m\u001b[38;5;124m(\u001b[39m\u001b[38;5;124m'\u001b[39m):\n\u001b[0;32m    457\u001b[0m     inner, outer \u001b[38;5;241m=\u001b[39m \u001b[38;5;28mself\u001b[39m\u001b[38;5;241m.\u001b[39m_separate_at_paren(expr)\n\u001b[1;32m--> 458\u001b[0m     inner, should_abort \u001b[38;5;241m=\u001b[39m \u001b[38;5;28;43mself\u001b[39;49m\u001b[38;5;241;43m.\u001b[39;49m\u001b[43minterpret_statement\u001b[49m\u001b[43m(\u001b[49m\u001b[43minner\u001b[49m\u001b[43m,\u001b[49m\u001b[43m \u001b[49m\u001b[43mlocal_vars\u001b[49m\u001b[43m,\u001b[49m\u001b[43m \u001b[49m\u001b[43mallow_recursion\u001b[49m\u001b[43m)\u001b[49m\n\u001b[0;32m    459\u001b[0m     \u001b[38;5;28;01mif\u001b[39;00m \u001b[38;5;129;01mnot\u001b[39;00m outer \u001b[38;5;129;01mor\u001b[39;00m should_abort:\n\u001b[0;32m    460\u001b[0m         \u001b[38;5;28;01mreturn\u001b[39;00m inner, should_abort \u001b[38;5;129;01mor\u001b[39;00m should_return\n",
      "File \u001b[1;32mc:\\Users\\aymli\\anaconda3\\envs\\demucs\\lib\\site-packages\\yt_dlp\\jsinterp.py:241\u001b[0m, in \u001b[0;36mDebugger.wrap_interpreter.<locals>.interpret_statement\u001b[1;34m(self, stmt, local_vars, allow_recursion, *args, **kwargs)\u001b[0m\n\u001b[0;32m    239\u001b[0m     \u001b[38;5;28mcls\u001b[39m\u001b[38;5;241m.\u001b[39mwrite(stmt, level\u001b[38;5;241m=\u001b[39mallow_recursion)\n\u001b[0;32m    240\u001b[0m \u001b[38;5;28;01mtry\u001b[39;00m:\n\u001b[1;32m--> 241\u001b[0m     ret, should_ret \u001b[38;5;241m=\u001b[39m f(\u001b[38;5;28mself\u001b[39m, stmt, local_vars, allow_recursion, \u001b[38;5;241m*\u001b[39margs, \u001b[38;5;241m*\u001b[39m\u001b[38;5;241m*\u001b[39mkwargs)\n\u001b[0;32m    242\u001b[0m \u001b[38;5;28;01mexcept\u001b[39;00m \u001b[38;5;167;01mException\u001b[39;00m \u001b[38;5;28;01mas\u001b[39;00m e:\n\u001b[0;32m    243\u001b[0m     \u001b[38;5;28;01mif\u001b[39;00m \u001b[38;5;28mcls\u001b[39m\u001b[38;5;241m.\u001b[39mENABLED:\n",
      "File \u001b[1;32mc:\\Users\\aymli\\anaconda3\\envs\\demucs\\lib\\site-packages\\yt_dlp\\jsinterp.py:679\u001b[0m, in \u001b[0;36mJSInterpreter.interpret_statement\u001b[1;34m(self, stmt, local_vars, allow_recursion)\u001b[0m\n\u001b[0;32m    677\u001b[0m     \u001b[38;5;28;01mif\u001b[39;00m \u001b[38;5;129;01mnot\u001b[39;00m separated:\n\u001b[0;32m    678\u001b[0m         \u001b[38;5;28;01mcontinue\u001b[39;00m\n\u001b[1;32m--> 679\u001b[0m     left_val \u001b[38;5;241m=\u001b[39m \u001b[38;5;28;43mself\u001b[39;49m\u001b[38;5;241;43m.\u001b[39;49m\u001b[43minterpret_expression\u001b[49m\u001b[43m(\u001b[49m\u001b[43mop\u001b[49m\u001b[38;5;241;43m.\u001b[39;49m\u001b[43mjoin\u001b[49m\u001b[43m(\u001b[49m\u001b[43mseparated\u001b[49m\u001b[43m)\u001b[49m\u001b[43m,\u001b[49m\u001b[43m \u001b[49m\u001b[43mlocal_vars\u001b[49m\u001b[43m,\u001b[49m\u001b[43m \u001b[49m\u001b[43mallow_recursion\u001b[49m\u001b[43m)\u001b[49m\n\u001b[0;32m    680\u001b[0m     \u001b[38;5;28;01mreturn\u001b[39;00m \u001b[38;5;28mself\u001b[39m\u001b[38;5;241m.\u001b[39m_operator(op, left_val, right_expr, expr, local_vars, allow_recursion), should_return\n\u001b[0;32m    682\u001b[0m \u001b[38;5;28;01mif\u001b[39;00m m \u001b[38;5;129;01mand\u001b[39;00m m\u001b[38;5;241m.\u001b[39mgroup(\u001b[38;5;124m'\u001b[39m\u001b[38;5;124mattribute\u001b[39m\u001b[38;5;124m'\u001b[39m):\n",
      "File \u001b[1;32mc:\\Users\\aymli\\anaconda3\\envs\\demucs\\lib\\site-packages\\yt_dlp\\jsinterp.py:849\u001b[0m, in \u001b[0;36mJSInterpreter.interpret_expression\u001b[1;34m(self, expr, local_vars, allow_recursion)\u001b[0m\n\u001b[0;32m    848\u001b[0m \u001b[38;5;28;01mdef\u001b[39;00m\u001b[38;5;250m \u001b[39m\u001b[38;5;21minterpret_expression\u001b[39m(\u001b[38;5;28mself\u001b[39m, expr, local_vars, allow_recursion):\n\u001b[1;32m--> 849\u001b[0m     ret, should_return \u001b[38;5;241m=\u001b[39m \u001b[38;5;28;43mself\u001b[39;49m\u001b[38;5;241;43m.\u001b[39;49m\u001b[43minterpret_statement\u001b[49m\u001b[43m(\u001b[49m\u001b[43mexpr\u001b[49m\u001b[43m,\u001b[49m\u001b[43m \u001b[49m\u001b[43mlocal_vars\u001b[49m\u001b[43m,\u001b[49m\u001b[43m \u001b[49m\u001b[43mallow_recursion\u001b[49m\u001b[43m)\u001b[49m\n\u001b[0;32m    850\u001b[0m     \u001b[38;5;28;01mif\u001b[39;00m should_return:\n\u001b[0;32m    851\u001b[0m         \u001b[38;5;28;01mraise\u001b[39;00m \u001b[38;5;28mself\u001b[39m\u001b[38;5;241m.\u001b[39mException(\u001b[38;5;124m'\u001b[39m\u001b[38;5;124mCannot return from an expression\u001b[39m\u001b[38;5;124m'\u001b[39m, expr)\n",
      "File \u001b[1;32mc:\\Users\\aymli\\anaconda3\\envs\\demucs\\lib\\site-packages\\yt_dlp\\jsinterp.py:241\u001b[0m, in \u001b[0;36mDebugger.wrap_interpreter.<locals>.interpret_statement\u001b[1;34m(self, stmt, local_vars, allow_recursion, *args, **kwargs)\u001b[0m\n\u001b[0;32m    239\u001b[0m     \u001b[38;5;28mcls\u001b[39m\u001b[38;5;241m.\u001b[39mwrite(stmt, level\u001b[38;5;241m=\u001b[39mallow_recursion)\n\u001b[0;32m    240\u001b[0m \u001b[38;5;28;01mtry\u001b[39;00m:\n\u001b[1;32m--> 241\u001b[0m     ret, should_ret \u001b[38;5;241m=\u001b[39m f(\u001b[38;5;28mself\u001b[39m, stmt, local_vars, allow_recursion, \u001b[38;5;241m*\u001b[39margs, \u001b[38;5;241m*\u001b[39m\u001b[38;5;241m*\u001b[39mkwargs)\n\u001b[0;32m    242\u001b[0m \u001b[38;5;28;01mexcept\u001b[39;00m \u001b[38;5;167;01mException\u001b[39;00m \u001b[38;5;28;01mas\u001b[39;00m e:\n\u001b[0;32m    243\u001b[0m     \u001b[38;5;28;01mif\u001b[39;00m \u001b[38;5;28mcls\u001b[39m\u001b[38;5;241m.\u001b[39mENABLED:\n",
      "File \u001b[1;32mc:\\Users\\aymli\\anaconda3\\envs\\demucs\\lib\\site-packages\\yt_dlp\\jsinterp.py:679\u001b[0m, in \u001b[0;36mJSInterpreter.interpret_statement\u001b[1;34m(self, stmt, local_vars, allow_recursion)\u001b[0m\n\u001b[0;32m    677\u001b[0m     \u001b[38;5;28;01mif\u001b[39;00m \u001b[38;5;129;01mnot\u001b[39;00m separated:\n\u001b[0;32m    678\u001b[0m         \u001b[38;5;28;01mcontinue\u001b[39;00m\n\u001b[1;32m--> 679\u001b[0m     left_val \u001b[38;5;241m=\u001b[39m \u001b[38;5;28;43mself\u001b[39;49m\u001b[38;5;241;43m.\u001b[39;49m\u001b[43minterpret_expression\u001b[49m\u001b[43m(\u001b[49m\u001b[43mop\u001b[49m\u001b[38;5;241;43m.\u001b[39;49m\u001b[43mjoin\u001b[49m\u001b[43m(\u001b[49m\u001b[43mseparated\u001b[49m\u001b[43m)\u001b[49m\u001b[43m,\u001b[49m\u001b[43m \u001b[49m\u001b[43mlocal_vars\u001b[49m\u001b[43m,\u001b[49m\u001b[43m \u001b[49m\u001b[43mallow_recursion\u001b[49m\u001b[43m)\u001b[49m\n\u001b[0;32m    680\u001b[0m     \u001b[38;5;28;01mreturn\u001b[39;00m \u001b[38;5;28mself\u001b[39m\u001b[38;5;241m.\u001b[39m_operator(op, left_val, right_expr, expr, local_vars, allow_recursion), should_return\n\u001b[0;32m    682\u001b[0m \u001b[38;5;28;01mif\u001b[39;00m m \u001b[38;5;129;01mand\u001b[39;00m m\u001b[38;5;241m.\u001b[39mgroup(\u001b[38;5;124m'\u001b[39m\u001b[38;5;124mattribute\u001b[39m\u001b[38;5;124m'\u001b[39m):\n",
      "File \u001b[1;32mc:\\Users\\aymli\\anaconda3\\envs\\demucs\\lib\\site-packages\\yt_dlp\\jsinterp.py:849\u001b[0m, in \u001b[0;36mJSInterpreter.interpret_expression\u001b[1;34m(self, expr, local_vars, allow_recursion)\u001b[0m\n\u001b[0;32m    848\u001b[0m \u001b[38;5;28;01mdef\u001b[39;00m\u001b[38;5;250m \u001b[39m\u001b[38;5;21minterpret_expression\u001b[39m(\u001b[38;5;28mself\u001b[39m, expr, local_vars, allow_recursion):\n\u001b[1;32m--> 849\u001b[0m     ret, should_return \u001b[38;5;241m=\u001b[39m \u001b[38;5;28;43mself\u001b[39;49m\u001b[38;5;241;43m.\u001b[39;49m\u001b[43minterpret_statement\u001b[49m\u001b[43m(\u001b[49m\u001b[43mexpr\u001b[49m\u001b[43m,\u001b[49m\u001b[43m \u001b[49m\u001b[43mlocal_vars\u001b[49m\u001b[43m,\u001b[49m\u001b[43m \u001b[49m\u001b[43mallow_recursion\u001b[49m\u001b[43m)\u001b[49m\n\u001b[0;32m    850\u001b[0m     \u001b[38;5;28;01mif\u001b[39;00m should_return:\n\u001b[0;32m    851\u001b[0m         \u001b[38;5;28;01mraise\u001b[39;00m \u001b[38;5;28mself\u001b[39m\u001b[38;5;241m.\u001b[39mException(\u001b[38;5;124m'\u001b[39m\u001b[38;5;124mCannot return from an expression\u001b[39m\u001b[38;5;124m'\u001b[39m, expr)\n",
      "    \u001b[1;31m[... skipping similar frames: Debugger.wrap_interpreter.<locals>.interpret_statement at line 241 (1 times)]\u001b[0m\n",
      "File \u001b[1;32mc:\\Users\\aymli\\anaconda3\\envs\\demucs\\lib\\site-packages\\yt_dlp\\jsinterp.py:679\u001b[0m, in \u001b[0;36mJSInterpreter.interpret_statement\u001b[1;34m(self, stmt, local_vars, allow_recursion)\u001b[0m\n\u001b[0;32m    677\u001b[0m     \u001b[38;5;28;01mif\u001b[39;00m \u001b[38;5;129;01mnot\u001b[39;00m separated:\n\u001b[0;32m    678\u001b[0m         \u001b[38;5;28;01mcontinue\u001b[39;00m\n\u001b[1;32m--> 679\u001b[0m     left_val \u001b[38;5;241m=\u001b[39m \u001b[38;5;28;43mself\u001b[39;49m\u001b[38;5;241;43m.\u001b[39;49m\u001b[43minterpret_expression\u001b[49m\u001b[43m(\u001b[49m\u001b[43mop\u001b[49m\u001b[38;5;241;43m.\u001b[39;49m\u001b[43mjoin\u001b[49m\u001b[43m(\u001b[49m\u001b[43mseparated\u001b[49m\u001b[43m)\u001b[49m\u001b[43m,\u001b[49m\u001b[43m \u001b[49m\u001b[43mlocal_vars\u001b[49m\u001b[43m,\u001b[49m\u001b[43m \u001b[49m\u001b[43mallow_recursion\u001b[49m\u001b[43m)\u001b[49m\n\u001b[0;32m    680\u001b[0m     \u001b[38;5;28;01mreturn\u001b[39;00m \u001b[38;5;28mself\u001b[39m\u001b[38;5;241m.\u001b[39m_operator(op, left_val, right_expr, expr, local_vars, allow_recursion), should_return\n\u001b[0;32m    682\u001b[0m \u001b[38;5;28;01mif\u001b[39;00m m \u001b[38;5;129;01mand\u001b[39;00m m\u001b[38;5;241m.\u001b[39mgroup(\u001b[38;5;124m'\u001b[39m\u001b[38;5;124mattribute\u001b[39m\u001b[38;5;124m'\u001b[39m):\n",
      "File \u001b[1;32mc:\\Users\\aymli\\anaconda3\\envs\\demucs\\lib\\site-packages\\yt_dlp\\jsinterp.py:849\u001b[0m, in \u001b[0;36mJSInterpreter.interpret_expression\u001b[1;34m(self, expr, local_vars, allow_recursion)\u001b[0m\n\u001b[0;32m    848\u001b[0m \u001b[38;5;28;01mdef\u001b[39;00m\u001b[38;5;250m \u001b[39m\u001b[38;5;21minterpret_expression\u001b[39m(\u001b[38;5;28mself\u001b[39m, expr, local_vars, allow_recursion):\n\u001b[1;32m--> 849\u001b[0m     ret, should_return \u001b[38;5;241m=\u001b[39m \u001b[38;5;28;43mself\u001b[39;49m\u001b[38;5;241;43m.\u001b[39;49m\u001b[43minterpret_statement\u001b[49m\u001b[43m(\u001b[49m\u001b[43mexpr\u001b[49m\u001b[43m,\u001b[49m\u001b[43m \u001b[49m\u001b[43mlocal_vars\u001b[49m\u001b[43m,\u001b[49m\u001b[43m \u001b[49m\u001b[43mallow_recursion\u001b[49m\u001b[43m)\u001b[49m\n\u001b[0;32m    850\u001b[0m     \u001b[38;5;28;01mif\u001b[39;00m should_return:\n\u001b[0;32m    851\u001b[0m         \u001b[38;5;28;01mraise\u001b[39;00m \u001b[38;5;28mself\u001b[39m\u001b[38;5;241m.\u001b[39mException(\u001b[38;5;124m'\u001b[39m\u001b[38;5;124mCannot return from an expression\u001b[39m\u001b[38;5;124m'\u001b[39m, expr)\n",
      "File \u001b[1;32mc:\\Users\\aymli\\anaconda3\\envs\\demucs\\lib\\site-packages\\yt_dlp\\jsinterp.py:241\u001b[0m, in \u001b[0;36mDebugger.wrap_interpreter.<locals>.interpret_statement\u001b[1;34m(self, stmt, local_vars, allow_recursion, *args, **kwargs)\u001b[0m\n\u001b[0;32m    239\u001b[0m     \u001b[38;5;28mcls\u001b[39m\u001b[38;5;241m.\u001b[39mwrite(stmt, level\u001b[38;5;241m=\u001b[39mallow_recursion)\n\u001b[0;32m    240\u001b[0m \u001b[38;5;28;01mtry\u001b[39;00m:\n\u001b[1;32m--> 241\u001b[0m     ret, should_ret \u001b[38;5;241m=\u001b[39m f(\u001b[38;5;28mself\u001b[39m, stmt, local_vars, allow_recursion, \u001b[38;5;241m*\u001b[39margs, \u001b[38;5;241m*\u001b[39m\u001b[38;5;241m*\u001b[39mkwargs)\n\u001b[0;32m    242\u001b[0m \u001b[38;5;28;01mexcept\u001b[39;00m \u001b[38;5;167;01mException\u001b[39;00m \u001b[38;5;28;01mas\u001b[39;00m e:\n\u001b[0;32m    243\u001b[0m     \u001b[38;5;28;01mif\u001b[39;00m \u001b[38;5;28mcls\u001b[39m\u001b[38;5;241m.\u001b[39mENABLED:\n",
      "File \u001b[1;32mc:\\Users\\aymli\\anaconda3\\envs\\demucs\\lib\\site-packages\\yt_dlp\\jsinterp.py:667\u001b[0m, in \u001b[0;36mJSInterpreter.interpret_statement\u001b[1;34m(self, stmt, local_vars, allow_recursion)\u001b[0m\n\u001b[0;32m    664\u001b[0m     \u001b[38;5;28;01mreturn\u001b[39;00m \u001b[38;5;28mself\u001b[39m\u001b[38;5;241m.\u001b[39m_index(val, idx), should_return\n\u001b[0;32m    666\u001b[0m \u001b[38;5;28;01mfor\u001b[39;00m op \u001b[38;5;129;01min\u001b[39;00m _OPERATORS:\n\u001b[1;32m--> 667\u001b[0m     separated \u001b[38;5;241m=\u001b[39m \u001b[38;5;28mlist\u001b[39m(\u001b[38;5;28;43mself\u001b[39;49m\u001b[38;5;241m.\u001b[39m_separate(expr, op))\n\u001b[0;32m    668\u001b[0m     right_expr \u001b[38;5;241m=\u001b[39m separated\u001b[38;5;241m.\u001b[39mpop()\n\u001b[0;32m    669\u001b[0m     \u001b[38;5;28;01mwhile\u001b[39;00m \u001b[38;5;28;01mTrue\u001b[39;00m:\n",
      "\u001b[1;31mKeyboardInterrupt\u001b[0m: "
     ]
    }
   ],
   "source": [
    "song_links = []\n",
    "\n",
    "with open(\"Dataset.csv\", newline=\"\") as f:\n",
    "    reader = csv.DictReader(f)\n",
    "    for row in reader:\n",
    "        song_links.append(row[\"audio_link\"])\n",
    "        #cover_links.append(row[\"cover_link\"])\n",
    "\n",
    "for i in range(len(song_links)):\n",
    "    download_mp3(song_links[i], f\"song/{i}\")\n",
    "    #download_mp3(cover_links[i], f\"piano_data/{i}\")\n",
    "\n",
    "    #y_p, sr = load(f\"piano_data/{i}.mp3\")\n",
    "    #y_p = trim_silence(y_p)\n",
    "\n",
    "    y_s, sr = load(f\"song/{i}.mp3\")\n",
    "    y_s = trim_silence(y_s)\n",
    "\n",
    "    sf.write(f\"song/{i}.mp3\", y_s, sr, bitrate_mode='VARIABLE', compression_level=0)\n",
    "\n",
    "        #y_s_harmonic, y_s_percussive = librosa.effects.hpss(y_s)\n",
    "        #y_p_harmonic, y_p_percussive = librosa.effects.hpss(y_p)\n",
    "\n",
    "        #beats_p, downbeats_p, act_p, tempo_p = get_beats_and_downbeats(y_p, sr)\n",
    "\n",
    "        #beats_s, downbeats_s, act_s, tempo_s = get_beats_and_downbeats(y_s, sr)\n",
    "        \n",
    "        #if tempo_s / 1.8 > tempo_p:\n",
    "        #    beats_p, downbeats_p, act_p, tempo_p = get_beats_and_downbeats(y_p, sr, tempo=tempo_s)\n",
    "        \n",
    "        #if tempo_p / 1.8 > tempo_s:\n",
    "        #    beats_s, downbeats_s, act_s, tempo_s = get_beats_and_downbeats(y_s, sr, tempo=tempo_p)\n",
    "\n",
    "        #print(len(downbeats_p), len(downbeats_s))\n",
    "\n",
    "\n",
    "        #aligned, seg_p, seg_s = dtw_align(y_s_harmonic=y_s_harmonic, y_s=y_s, y_p=y_p, downbeats_s=downbeats_s, downbeats_p=downbeats_p, sr=sr, cost_threshold=11)\n",
    "\n",
    "        #os.remove(f\"song_data/{i}.mp3\")\n",
    "        #os.remove(f\"piano_data/{i}.mp3\")\n",
    "        #if len(seg_p) > 0:\n",
    "        #    export_aligned(seg_s, seg_p, sr, i, aligned)"
   ]
  },
  {
   "cell_type": "code",
   "execution_count": 5,
   "id": "c464088b",
   "metadata": {},
   "outputs": [
    {
     "name": "stdout",
     "output_type": "stream",
     "text": [
      "[youtube] Extracting URL: https://www.youtube.com/watch?v=2S0QhGGO1gQ\n",
      "[youtube] 2S0QhGGO1gQ: Downloading webpage\n",
      "[youtube] 2S0QhGGO1gQ: Downloading tv client config\n"
     ]
    },
    {
     "ename": "KeyboardInterrupt",
     "evalue": "",
     "output_type": "error",
     "traceback": [
      "\u001b[1;31m---------------------------------------------------------------------------\u001b[0m",
      "\u001b[1;31mKeyboardInterrupt\u001b[0m                         Traceback (most recent call last)",
      "Cell \u001b[1;32mIn[5], line 11\u001b[0m\n\u001b[0;32m      9\u001b[0m \u001b[38;5;28;01mfor\u001b[39;00m i \u001b[38;5;129;01min\u001b[39;00m \u001b[38;5;28mrange\u001b[39m(\u001b[38;5;28mlen\u001b[39m(song_links)):\n\u001b[0;32m     10\u001b[0m     \u001b[38;5;28;01mif\u001b[39;00m i \u001b[38;5;241m<\u001b[39m \u001b[38;5;241m65\u001b[39m:\n\u001b[1;32m---> 11\u001b[0m         \u001b[43mdownload_mp3\u001b[49m\u001b[43m(\u001b[49m\u001b[43msong_links\u001b[49m\u001b[43m[\u001b[49m\u001b[43mi\u001b[49m\u001b[43m]\u001b[49m\u001b[43m,\u001b[49m\u001b[43m \u001b[49m\u001b[38;5;124;43mf\u001b[39;49m\u001b[38;5;124;43m\"\u001b[39;49m\u001b[38;5;124;43msong_data/\u001b[39;49m\u001b[38;5;132;43;01m{\u001b[39;49;00m\u001b[43mi\u001b[49m\u001b[38;5;132;43;01m}\u001b[39;49;00m\u001b[38;5;124;43m\"\u001b[39;49m\u001b[43m)\u001b[49m\n\u001b[0;32m     12\u001b[0m         download_mp3(cover_links[i], \u001b[38;5;124mf\u001b[39m\u001b[38;5;124m\"\u001b[39m\u001b[38;5;124mpiano_data/\u001b[39m\u001b[38;5;132;01m{\u001b[39;00mi\u001b[38;5;132;01m}\u001b[39;00m\u001b[38;5;124m\"\u001b[39m)\n\u001b[0;32m     14\u001b[0m         y_p, sr \u001b[38;5;241m=\u001b[39m load(\u001b[38;5;124mf\u001b[39m\u001b[38;5;124m\"\u001b[39m\u001b[38;5;124mpiano_data/\u001b[39m\u001b[38;5;132;01m{\u001b[39;00mi\u001b[38;5;132;01m}\u001b[39;00m\u001b[38;5;124m.mp3\u001b[39m\u001b[38;5;124m\"\u001b[39m)\n",
      "Cell \u001b[1;32mIn[2], line 16\u001b[0m, in \u001b[0;36mdownload_mp3\u001b[1;34m(url, out_path)\u001b[0m\n\u001b[0;32m      2\u001b[0m ydl_opts \u001b[38;5;241m=\u001b[39m {\n\u001b[0;32m      3\u001b[0m     \u001b[38;5;124m\"\u001b[39m\u001b[38;5;124mformat\u001b[39m\u001b[38;5;124m\"\u001b[39m: \u001b[38;5;124m\"\u001b[39m\u001b[38;5;124mbestaudio/best\u001b[39m\u001b[38;5;124m\"\u001b[39m,\n\u001b[0;32m      4\u001b[0m     \u001b[38;5;124m\"\u001b[39m\u001b[38;5;124mouttmpl\u001b[39m\u001b[38;5;124m\"\u001b[39m: out_path,\n\u001b[1;32m   (...)\u001b[0m\n\u001b[0;32m     12\u001b[0m     \u001b[38;5;124m\"\u001b[39m\u001b[38;5;124mno_warnings\u001b[39m\u001b[38;5;124m\"\u001b[39m: \u001b[38;5;28;01mTrue\u001b[39;00m, \n\u001b[0;32m     13\u001b[0m }\n\u001b[0;32m     15\u001b[0m \u001b[38;5;28;01mwith\u001b[39;00m YoutubeDL(ydl_opts) \u001b[38;5;28;01mas\u001b[39;00m ydl:\n\u001b[1;32m---> 16\u001b[0m     \u001b[43mydl\u001b[49m\u001b[38;5;241;43m.\u001b[39;49m\u001b[43mdownload\u001b[49m\u001b[43m(\u001b[49m\u001b[43m[\u001b[49m\u001b[43murl\u001b[49m\u001b[43m]\u001b[49m\u001b[43m)\u001b[49m\n",
      "File \u001b[1;32mc:\\Users\\aymli\\anaconda3\\envs\\demucs\\lib\\site-packages\\yt_dlp\\YoutubeDL.py:3634\u001b[0m, in \u001b[0;36mYoutubeDL.download\u001b[1;34m(self, url_list)\u001b[0m\n\u001b[0;32m   3631\u001b[0m     \u001b[38;5;28;01mraise\u001b[39;00m SameFileError(outtmpl)\n\u001b[0;32m   3633\u001b[0m \u001b[38;5;28;01mfor\u001b[39;00m url \u001b[38;5;129;01min\u001b[39;00m url_list:\n\u001b[1;32m-> 3634\u001b[0m     \u001b[38;5;28;43mself\u001b[39;49m\u001b[38;5;241;43m.\u001b[39;49m\u001b[43m__download_wrapper\u001b[49m\u001b[43m(\u001b[49m\u001b[38;5;28;43mself\u001b[39;49m\u001b[38;5;241;43m.\u001b[39;49m\u001b[43mextract_info\u001b[49m\u001b[43m)\u001b[49m\u001b[43m(\u001b[49m\n\u001b[0;32m   3635\u001b[0m \u001b[43m        \u001b[49m\u001b[43murl\u001b[49m\u001b[43m,\u001b[49m\u001b[43m \u001b[49m\u001b[43mforce_generic_extractor\u001b[49m\u001b[38;5;241;43m=\u001b[39;49m\u001b[38;5;28;43mself\u001b[39;49m\u001b[38;5;241;43m.\u001b[39;49m\u001b[43mparams\u001b[49m\u001b[38;5;241;43m.\u001b[39;49m\u001b[43mget\u001b[49m\u001b[43m(\u001b[49m\u001b[38;5;124;43m'\u001b[39;49m\u001b[38;5;124;43mforce_generic_extractor\u001b[39;49m\u001b[38;5;124;43m'\u001b[39;49m\u001b[43m,\u001b[49m\u001b[43m \u001b[49m\u001b[38;5;28;43;01mFalse\u001b[39;49;00m\u001b[43m)\u001b[49m\u001b[43m)\u001b[49m\n\u001b[0;32m   3637\u001b[0m \u001b[38;5;28;01mreturn\u001b[39;00m \u001b[38;5;28mself\u001b[39m\u001b[38;5;241m.\u001b[39m_download_retcode\n",
      "File \u001b[1;32mc:\\Users\\aymli\\anaconda3\\envs\\demucs\\lib\\site-packages\\yt_dlp\\YoutubeDL.py:3607\u001b[0m, in \u001b[0;36mYoutubeDL.__download_wrapper.<locals>.wrapper\u001b[1;34m(*args, **kwargs)\u001b[0m\n\u001b[0;32m   3604\u001b[0m \u001b[38;5;129m@functools\u001b[39m\u001b[38;5;241m.\u001b[39mwraps(func)\n\u001b[0;32m   3605\u001b[0m \u001b[38;5;28;01mdef\u001b[39;00m\u001b[38;5;250m \u001b[39m\u001b[38;5;21mwrapper\u001b[39m(\u001b[38;5;241m*\u001b[39margs, \u001b[38;5;241m*\u001b[39m\u001b[38;5;241m*\u001b[39mkwargs):\n\u001b[0;32m   3606\u001b[0m     \u001b[38;5;28;01mtry\u001b[39;00m:\n\u001b[1;32m-> 3607\u001b[0m         res \u001b[38;5;241m=\u001b[39m func(\u001b[38;5;241m*\u001b[39margs, \u001b[38;5;241m*\u001b[39m\u001b[38;5;241m*\u001b[39mkwargs)\n\u001b[0;32m   3608\u001b[0m     \u001b[38;5;28;01mexcept\u001b[39;00m CookieLoadError:\n\u001b[0;32m   3609\u001b[0m         \u001b[38;5;28;01mraise\u001b[39;00m\n",
      "File \u001b[1;32mc:\\Users\\aymli\\anaconda3\\envs\\demucs\\lib\\site-packages\\yt_dlp\\YoutubeDL.py:1642\u001b[0m, in \u001b[0;36mYoutubeDL.extract_info\u001b[1;34m(self, url, download, ie_key, extra_info, process, force_generic_extractor)\u001b[0m\n\u001b[0;32m   1640\u001b[0m             \u001b[38;5;28;01mraise\u001b[39;00m ExistingVideoReached\n\u001b[0;32m   1641\u001b[0m         \u001b[38;5;28;01mbreak\u001b[39;00m\n\u001b[1;32m-> 1642\u001b[0m     \u001b[38;5;28;01mreturn\u001b[39;00m \u001b[38;5;28;43mself\u001b[39;49m\u001b[38;5;241;43m.\u001b[39;49m\u001b[43m__extract_info\u001b[49m\u001b[43m(\u001b[49m\u001b[43murl\u001b[49m\u001b[43m,\u001b[49m\u001b[43m \u001b[49m\u001b[38;5;28;43mself\u001b[39;49m\u001b[38;5;241;43m.\u001b[39;49m\u001b[43mget_info_extractor\u001b[49m\u001b[43m(\u001b[49m\u001b[43mkey\u001b[49m\u001b[43m)\u001b[49m\u001b[43m,\u001b[49m\u001b[43m \u001b[49m\u001b[43mdownload\u001b[49m\u001b[43m,\u001b[49m\u001b[43m \u001b[49m\u001b[43mextra_info\u001b[49m\u001b[43m,\u001b[49m\u001b[43m \u001b[49m\u001b[43mprocess\u001b[49m\u001b[43m)\u001b[49m\n\u001b[0;32m   1643\u001b[0m \u001b[38;5;28;01melse\u001b[39;00m:\n\u001b[0;32m   1644\u001b[0m     extractors_restricted \u001b[38;5;241m=\u001b[39m \u001b[38;5;28mself\u001b[39m\u001b[38;5;241m.\u001b[39mparams\u001b[38;5;241m.\u001b[39mget(\u001b[38;5;124m'\u001b[39m\u001b[38;5;124mallowed_extractors\u001b[39m\u001b[38;5;124m'\u001b[39m) \u001b[38;5;129;01mnot\u001b[39;00m \u001b[38;5;129;01min\u001b[39;00m (\u001b[38;5;28;01mNone\u001b[39;00m, [\u001b[38;5;124m'\u001b[39m\u001b[38;5;124mdefault\u001b[39m\u001b[38;5;124m'\u001b[39m])\n",
      "File \u001b[1;32mc:\\Users\\aymli\\anaconda3\\envs\\demucs\\lib\\site-packages\\yt_dlp\\YoutubeDL.py:1653\u001b[0m, in \u001b[0;36mYoutubeDL._handle_extraction_exceptions.<locals>.wrapper\u001b[1;34m(self, *args, **kwargs)\u001b[0m\n\u001b[0;32m   1651\u001b[0m \u001b[38;5;28;01mwhile\u001b[39;00m \u001b[38;5;28;01mTrue\u001b[39;00m:\n\u001b[0;32m   1652\u001b[0m     \u001b[38;5;28;01mtry\u001b[39;00m:\n\u001b[1;32m-> 1653\u001b[0m         \u001b[38;5;28;01mreturn\u001b[39;00m func(\u001b[38;5;28mself\u001b[39m, \u001b[38;5;241m*\u001b[39margs, \u001b[38;5;241m*\u001b[39m\u001b[38;5;241m*\u001b[39mkwargs)\n\u001b[0;32m   1654\u001b[0m     \u001b[38;5;28;01mexcept\u001b[39;00m (CookieLoadError, DownloadCancelled, LazyList\u001b[38;5;241m.\u001b[39mIndexError, PagedList\u001b[38;5;241m.\u001b[39mIndexError):\n\u001b[0;32m   1655\u001b[0m         \u001b[38;5;28;01mraise\u001b[39;00m\n",
      "File \u001b[1;32mc:\\Users\\aymli\\anaconda3\\envs\\demucs\\lib\\site-packages\\yt_dlp\\YoutubeDL.py:1788\u001b[0m, in \u001b[0;36mYoutubeDL.__extract_info\u001b[1;34m(self, url, ie, download, extra_info, process)\u001b[0m\n\u001b[0;32m   1785\u001b[0m \u001b[38;5;28mself\u001b[39m\u001b[38;5;241m.\u001b[39m_apply_header_cookies(url)\n\u001b[0;32m   1787\u001b[0m \u001b[38;5;28;01mtry\u001b[39;00m:\n\u001b[1;32m-> 1788\u001b[0m     ie_result \u001b[38;5;241m=\u001b[39m \u001b[43mie\u001b[49m\u001b[38;5;241;43m.\u001b[39;49m\u001b[43mextract\u001b[49m\u001b[43m(\u001b[49m\u001b[43murl\u001b[49m\u001b[43m)\u001b[49m\n\u001b[0;32m   1789\u001b[0m \u001b[38;5;28;01mexcept\u001b[39;00m UserNotLive \u001b[38;5;28;01mas\u001b[39;00m e:\n\u001b[0;32m   1790\u001b[0m     \u001b[38;5;28;01mif\u001b[39;00m process:\n",
      "File \u001b[1;32mc:\\Users\\aymli\\anaconda3\\envs\\demucs\\lib\\site-packages\\yt_dlp\\extractor\\common.py:748\u001b[0m, in \u001b[0;36mInfoExtractor.extract\u001b[1;34m(self, url)\u001b[0m\n\u001b[0;32m    745\u001b[0m \u001b[38;5;28mself\u001b[39m\u001b[38;5;241m.\u001b[39minitialize()\n\u001b[0;32m    746\u001b[0m \u001b[38;5;28mself\u001b[39m\u001b[38;5;241m.\u001b[39mto_screen(\u001b[38;5;124m'\u001b[39m\u001b[38;5;124mExtracting URL: \u001b[39m\u001b[38;5;132;01m%s\u001b[39;00m\u001b[38;5;124m'\u001b[39m \u001b[38;5;241m%\u001b[39m (\n\u001b[0;32m    747\u001b[0m     url \u001b[38;5;28;01mif\u001b[39;00m \u001b[38;5;28mself\u001b[39m\u001b[38;5;241m.\u001b[39mget_param(\u001b[38;5;124m'\u001b[39m\u001b[38;5;124mverbose\u001b[39m\u001b[38;5;124m'\u001b[39m) \u001b[38;5;28;01melse\u001b[39;00m truncate_string(url, \u001b[38;5;241m100\u001b[39m, \u001b[38;5;241m20\u001b[39m)))\n\u001b[1;32m--> 748\u001b[0m ie_result \u001b[38;5;241m=\u001b[39m \u001b[38;5;28;43mself\u001b[39;49m\u001b[38;5;241;43m.\u001b[39;49m\u001b[43m_real_extract\u001b[49m\u001b[43m(\u001b[49m\u001b[43murl\u001b[49m\u001b[43m)\u001b[49m\n\u001b[0;32m    749\u001b[0m \u001b[38;5;28;01mif\u001b[39;00m ie_result \u001b[38;5;129;01mis\u001b[39;00m \u001b[38;5;28;01mNone\u001b[39;00m:\n\u001b[0;32m    750\u001b[0m     \u001b[38;5;28;01mreturn\u001b[39;00m \u001b[38;5;28;01mNone\u001b[39;00m\n",
      "File \u001b[1;32mc:\\Users\\aymli\\anaconda3\\envs\\demucs\\lib\\site-packages\\yt_dlp\\extractor\\youtube\\_video.py:3553\u001b[0m, in \u001b[0;36mYoutubeIE._real_extract\u001b[1;34m(self, url)\u001b[0m\n\u001b[0;32m   3550\u001b[0m base_url \u001b[38;5;241m=\u001b[39m \u001b[38;5;28mself\u001b[39m\u001b[38;5;241m.\u001b[39mhttp_scheme() \u001b[38;5;241m+\u001b[39m \u001b[38;5;124m'\u001b[39m\u001b[38;5;124m//www.youtube.com/\u001b[39m\u001b[38;5;124m'\u001b[39m\n\u001b[0;32m   3551\u001b[0m webpage_url \u001b[38;5;241m=\u001b[39m base_url \u001b[38;5;241m+\u001b[39m \u001b[38;5;124m'\u001b[39m\u001b[38;5;124mwatch?v=\u001b[39m\u001b[38;5;124m'\u001b[39m \u001b[38;5;241m+\u001b[39m video_id\n\u001b[1;32m-> 3553\u001b[0m webpage, master_ytcfg, player_responses, player_url \u001b[38;5;241m=\u001b[39m \u001b[38;5;28;43mself\u001b[39;49m\u001b[38;5;241;43m.\u001b[39;49m\u001b[43m_download_player_responses\u001b[49m\u001b[43m(\u001b[49m\u001b[43murl\u001b[49m\u001b[43m,\u001b[49m\u001b[43m \u001b[49m\u001b[43msmuggled_data\u001b[49m\u001b[43m,\u001b[49m\u001b[43m \u001b[49m\u001b[43mvideo_id\u001b[49m\u001b[43m,\u001b[49m\u001b[43m \u001b[49m\u001b[43mwebpage_url\u001b[49m\u001b[43m)\u001b[49m\n\u001b[0;32m   3555\u001b[0m playability_statuses \u001b[38;5;241m=\u001b[39m traverse_obj(\n\u001b[0;32m   3556\u001b[0m     player_responses, (\u001b[38;5;241m.\u001b[39m\u001b[38;5;241m.\u001b[39m\u001b[38;5;241m.\u001b[39m, \u001b[38;5;124m'\u001b[39m\u001b[38;5;124mplayabilityStatus\u001b[39m\u001b[38;5;124m'\u001b[39m), expected_type\u001b[38;5;241m=\u001b[39m\u001b[38;5;28mdict\u001b[39m)\n\u001b[0;32m   3558\u001b[0m trailer_video_id \u001b[38;5;241m=\u001b[39m get_first(\n\u001b[0;32m   3559\u001b[0m     playability_statuses,\n\u001b[0;32m   3560\u001b[0m     (\u001b[38;5;124m'\u001b[39m\u001b[38;5;124merrorScreen\u001b[39m\u001b[38;5;124m'\u001b[39m, \u001b[38;5;124m'\u001b[39m\u001b[38;5;124mplayerLegacyDesktopYpcTrailerRenderer\u001b[39m\u001b[38;5;124m'\u001b[39m, \u001b[38;5;124m'\u001b[39m\u001b[38;5;124mtrailerVideoId\u001b[39m\u001b[38;5;124m'\u001b[39m),\n\u001b[0;32m   3561\u001b[0m     expected_type\u001b[38;5;241m=\u001b[39m\u001b[38;5;28mstr\u001b[39m)\n",
      "File \u001b[1;32mc:\\Users\\aymli\\anaconda3\\envs\\demucs\\lib\\site-packages\\yt_dlp\\extractor\\youtube\\_video.py:3517\u001b[0m, in \u001b[0;36mYoutubeIE._download_player_responses\u001b[1;34m(self, url, smuggled_data, video_id, webpage_url)\u001b[0m\n\u001b[0;32m   3513\u001b[0m     webpage \u001b[38;5;241m=\u001b[39m \u001b[38;5;28mself\u001b[39m\u001b[38;5;241m.\u001b[39m_download_webpage_with_retries(webpage_url, video_id, query\u001b[38;5;241m=\u001b[39mquery)\n\u001b[0;32m   3515\u001b[0m master_ytcfg \u001b[38;5;241m=\u001b[39m \u001b[38;5;28mself\u001b[39m\u001b[38;5;241m.\u001b[39mextract_ytcfg(video_id, webpage) \u001b[38;5;129;01mor\u001b[39;00m \u001b[38;5;28mself\u001b[39m\u001b[38;5;241m.\u001b[39m_get_default_ytcfg()\n\u001b[1;32m-> 3517\u001b[0m player_responses, player_url \u001b[38;5;241m=\u001b[39m \u001b[38;5;28;43mself\u001b[39;49m\u001b[38;5;241;43m.\u001b[39;49m\u001b[43m_extract_player_responses\u001b[49m\u001b[43m(\u001b[49m\n\u001b[0;32m   3518\u001b[0m \u001b[43m    \u001b[49m\u001b[38;5;28;43mself\u001b[39;49m\u001b[38;5;241;43m.\u001b[39;49m\u001b[43m_get_requested_clients\u001b[49m\u001b[43m(\u001b[49m\u001b[43murl\u001b[49m\u001b[43m,\u001b[49m\u001b[43m \u001b[49m\u001b[43msmuggled_data\u001b[49m\u001b[43m)\u001b[49m\u001b[43m,\u001b[49m\n\u001b[0;32m   3519\u001b[0m \u001b[43m    \u001b[49m\u001b[43mvideo_id\u001b[49m\u001b[43m,\u001b[49m\u001b[43m \u001b[49m\u001b[43mwebpage\u001b[49m\u001b[43m,\u001b[49m\u001b[43m \u001b[49m\u001b[43mmaster_ytcfg\u001b[49m\u001b[43m,\u001b[49m\u001b[43m \u001b[49m\u001b[43msmuggled_data\u001b[49m\u001b[43m)\u001b[49m\n\u001b[0;32m   3521\u001b[0m \u001b[38;5;28;01mreturn\u001b[39;00m webpage, master_ytcfg, player_responses, player_url\n",
      "File \u001b[1;32mc:\\Users\\aymli\\anaconda3\\envs\\demucs\\lib\\site-packages\\yt_dlp\\extractor\\youtube\\_video.py:3025\u001b[0m, in \u001b[0;36mYoutubeIE._extract_player_responses\u001b[1;34m(self, clients, video_id, webpage, master_ytcfg, smuggled_data)\u001b[0m\n\u001b[0;32m   3023\u001b[0m player_ytcfg \u001b[38;5;241m=\u001b[39m master_ytcfg \u001b[38;5;28;01mif\u001b[39;00m client \u001b[38;5;241m==\u001b[39m \u001b[38;5;124m'\u001b[39m\u001b[38;5;124mweb\u001b[39m\u001b[38;5;124m'\u001b[39m \u001b[38;5;28;01melse\u001b[39;00m {}\n\u001b[0;32m   3024\u001b[0m \u001b[38;5;28;01mif\u001b[39;00m \u001b[38;5;124m'\u001b[39m\u001b[38;5;124mconfigs\u001b[39m\u001b[38;5;124m'\u001b[39m \u001b[38;5;129;01mnot\u001b[39;00m \u001b[38;5;129;01min\u001b[39;00m \u001b[38;5;28mself\u001b[39m\u001b[38;5;241m.\u001b[39m_configuration_arg(\u001b[38;5;124m'\u001b[39m\u001b[38;5;124mplayer_skip\u001b[39m\u001b[38;5;124m'\u001b[39m) \u001b[38;5;129;01mand\u001b[39;00m client \u001b[38;5;241m!=\u001b[39m \u001b[38;5;124m'\u001b[39m\u001b[38;5;124mweb\u001b[39m\u001b[38;5;124m'\u001b[39m:\n\u001b[1;32m-> 3025\u001b[0m     player_ytcfg \u001b[38;5;241m=\u001b[39m \u001b[38;5;28;43mself\u001b[39;49m\u001b[38;5;241;43m.\u001b[39;49m\u001b[43m_download_ytcfg\u001b[49m\u001b[43m(\u001b[49m\u001b[43mclient\u001b[49m\u001b[43m,\u001b[49m\u001b[43m \u001b[49m\u001b[43mvideo_id\u001b[49m\u001b[43m)\u001b[49m \u001b[38;5;129;01mor\u001b[39;00m player_ytcfg\n\u001b[0;32m   3027\u001b[0m player_url \u001b[38;5;241m=\u001b[39m player_url \u001b[38;5;129;01mor\u001b[39;00m \u001b[38;5;28mself\u001b[39m\u001b[38;5;241m.\u001b[39m_extract_player_url(master_ytcfg, player_ytcfg, webpage\u001b[38;5;241m=\u001b[39mwebpage)\n\u001b[0;32m   3028\u001b[0m require_js_player \u001b[38;5;241m=\u001b[39m \u001b[38;5;28mself\u001b[39m\u001b[38;5;241m.\u001b[39m_get_default_ytcfg(client)\u001b[38;5;241m.\u001b[39mget(\u001b[38;5;124m'\u001b[39m\u001b[38;5;124mREQUIRE_JS_PLAYER\u001b[39m\u001b[38;5;124m'\u001b[39m)\n",
      "File \u001b[1;32mc:\\Users\\aymli\\anaconda3\\envs\\demucs\\lib\\site-packages\\yt_dlp\\extractor\\youtube\\_base.py:797\u001b[0m, in \u001b[0;36mYoutubeBaseInfoExtractor._download_ytcfg\u001b[1;34m(self, client, video_id)\u001b[0m\n\u001b[0;32m    795\u001b[0m \u001b[38;5;28;01mif\u001b[39;00m \u001b[38;5;129;01mnot\u001b[39;00m url:\n\u001b[0;32m    796\u001b[0m     \u001b[38;5;28;01mreturn\u001b[39;00m {}\n\u001b[1;32m--> 797\u001b[0m webpage \u001b[38;5;241m=\u001b[39m \u001b[38;5;28;43mself\u001b[39;49m\u001b[38;5;241;43m.\u001b[39;49m\u001b[43m_download_webpage_with_retries\u001b[49m\u001b[43m(\u001b[49m\n\u001b[0;32m    798\u001b[0m \u001b[43m    \u001b[49m\u001b[43murl\u001b[49m\u001b[43m,\u001b[49m\u001b[43m \u001b[49m\u001b[43mvideo_id\u001b[49m\u001b[43m,\u001b[49m\u001b[43m \u001b[49m\u001b[43mnote\u001b[49m\u001b[38;5;241;43m=\u001b[39;49m\u001b[38;5;124;43mf\u001b[39;49m\u001b[38;5;124;43m'\u001b[39;49m\u001b[38;5;124;43mDownloading \u001b[39;49m\u001b[38;5;132;43;01m{\u001b[39;49;00m\u001b[43mclient\u001b[49m\u001b[38;5;241;43m.\u001b[39;49m\u001b[43mreplace\u001b[49m\u001b[43m(\u001b[49m\u001b[38;5;124;43m\"\u001b[39;49m\u001b[38;5;124;43m_\u001b[39;49m\u001b[38;5;124;43m\"\u001b[39;49m\u001b[43m,\u001b[49m\u001b[38;5;250;43m \u001b[39;49m\u001b[38;5;124;43m\"\u001b[39;49m\u001b[38;5;124;43m \u001b[39;49m\u001b[38;5;124;43m\"\u001b[39;49m\u001b[43m)\u001b[49m\u001b[38;5;241;43m.\u001b[39;49m\u001b[43mstrip\u001b[49m\u001b[43m(\u001b[49m\u001b[43m)\u001b[49m\u001b[38;5;132;43;01m}\u001b[39;49;00m\u001b[38;5;124;43m client config\u001b[39;49m\u001b[38;5;124;43m'\u001b[39;49m\u001b[43m,\u001b[49m\n\u001b[0;32m    799\u001b[0m \u001b[43m    \u001b[49m\u001b[43mheaders\u001b[49m\u001b[38;5;241;43m=\u001b[39;49m\u001b[43mtraverse_obj\u001b[49m\u001b[43m(\u001b[49m\u001b[38;5;28;43mself\u001b[39;49m\u001b[38;5;241;43m.\u001b[39;49m\u001b[43m_get_default_ytcfg\u001b[49m\u001b[43m(\u001b[49m\u001b[43mclient\u001b[49m\u001b[43m)\u001b[49m\u001b[43m,\u001b[49m\u001b[43m \u001b[49m\u001b[43m{\u001b[49m\n\u001b[0;32m    800\u001b[0m \u001b[43m        \u001b[49m\u001b[38;5;124;43m'\u001b[39;49m\u001b[38;5;124;43mUser-Agent\u001b[39;49m\u001b[38;5;124;43m'\u001b[39;49m\u001b[43m:\u001b[49m\u001b[43m \u001b[49m\u001b[43m(\u001b[49m\u001b[38;5;124;43m'\u001b[39;49m\u001b[38;5;124;43mINNERTUBE_CONTEXT\u001b[39;49m\u001b[38;5;124;43m'\u001b[39;49m\u001b[43m,\u001b[49m\u001b[43m \u001b[49m\u001b[38;5;124;43m'\u001b[39;49m\u001b[38;5;124;43mclient\u001b[39;49m\u001b[38;5;124;43m'\u001b[39;49m\u001b[43m,\u001b[49m\u001b[43m \u001b[49m\u001b[38;5;124;43m'\u001b[39;49m\u001b[38;5;124;43muserAgent\u001b[39;49m\u001b[38;5;124;43m'\u001b[39;49m\u001b[43m,\u001b[49m\u001b[43m \u001b[49m\u001b[43m{\u001b[49m\u001b[38;5;28;43mstr\u001b[39;49m\u001b[43m}\u001b[49m\u001b[43m)\u001b[49m\u001b[43m,\u001b[49m\n\u001b[0;32m    801\u001b[0m \u001b[43m    \u001b[49m\u001b[43m}\u001b[49m\u001b[43m)\u001b[49m\u001b[43m)\u001b[49m\n\u001b[0;32m    802\u001b[0m \u001b[38;5;28;01mreturn\u001b[39;00m \u001b[38;5;28mself\u001b[39m\u001b[38;5;241m.\u001b[39mextract_ytcfg(video_id, webpage) \u001b[38;5;129;01mor\u001b[39;00m {}\n",
      "File \u001b[1;32mc:\\Users\\aymli\\anaconda3\\envs\\demucs\\lib\\site-packages\\yt_dlp\\extractor\\youtube\\_base.py:779\u001b[0m, in \u001b[0;36mYoutubeBaseInfoExtractor._download_webpage_with_retries\u001b[1;34m(self, retry_fatal, retry_on_status, *args, **kwargs)\u001b[0m\n\u001b[0;32m    777\u001b[0m \u001b[38;5;28;01mfor\u001b[39;00m retry \u001b[38;5;129;01min\u001b[39;00m \u001b[38;5;28mself\u001b[39m\u001b[38;5;241m.\u001b[39mRetryManager(fatal\u001b[38;5;241m=\u001b[39mretry_fatal):\n\u001b[0;32m    778\u001b[0m     \u001b[38;5;28;01mtry\u001b[39;00m:\n\u001b[1;32m--> 779\u001b[0m         \u001b[38;5;28;01mreturn\u001b[39;00m \u001b[38;5;28mself\u001b[39m\u001b[38;5;241m.\u001b[39m_download_webpage(\u001b[38;5;241m*\u001b[39margs, \u001b[38;5;241m*\u001b[39m\u001b[38;5;241m*\u001b[39mkwargs)\n\u001b[0;32m    780\u001b[0m     \u001b[38;5;28;01mexcept\u001b[39;00m ExtractorError \u001b[38;5;28;01mas\u001b[39;00m e:\n\u001b[0;32m    781\u001b[0m         \u001b[38;5;28;01mif\u001b[39;00m \u001b[38;5;28misinstance\u001b[39m(e\u001b[38;5;241m.\u001b[39mcause, network_exceptions):\n",
      "File \u001b[1;32mc:\\Users\\aymli\\anaconda3\\envs\\demucs\\lib\\site-packages\\yt_dlp\\extractor\\common.py:1194\u001b[0m, in \u001b[0;36mInfoExtractor._download_webpage\u001b[1;34m(self, url_or_request, video_id, note, errnote, fatal, tries, timeout, *args, **kwargs)\u001b[0m\n\u001b[0;32m   1192\u001b[0m \u001b[38;5;28;01mwhile\u001b[39;00m \u001b[38;5;28;01mTrue\u001b[39;00m:\n\u001b[0;32m   1193\u001b[0m     \u001b[38;5;28;01mtry\u001b[39;00m:\n\u001b[1;32m-> 1194\u001b[0m         \u001b[38;5;28;01mreturn\u001b[39;00m \u001b[38;5;28mself\u001b[39m\u001b[38;5;241m.\u001b[39m__download_webpage(url_or_request, video_id, note, errnote, \u001b[38;5;28;01mNone\u001b[39;00m, fatal, \u001b[38;5;241m*\u001b[39margs, \u001b[38;5;241m*\u001b[39m\u001b[38;5;241m*\u001b[39mkwargs)\n\u001b[0;32m   1195\u001b[0m     \u001b[38;5;28;01mexcept\u001b[39;00m IncompleteRead \u001b[38;5;28;01mas\u001b[39;00m e:\n\u001b[0;32m   1196\u001b[0m         try_count \u001b[38;5;241m+\u001b[39m\u001b[38;5;241m=\u001b[39m \u001b[38;5;241m1\u001b[39m\n",
      "File \u001b[1;32mc:\\Users\\aymli\\anaconda3\\envs\\demucs\\lib\\site-packages\\yt_dlp\\extractor\\common.py:1145\u001b[0m, in \u001b[0;36mInfoExtractor.__create_download_methods.<locals>.download_content\u001b[1;34m(self, url_or_request, video_id, note, errnote, transform_source, fatal, encoding, data, headers, query, expected_status, impersonate, require_impersonation)\u001b[0m\n\u001b[0;32m   1143\u001b[0m     kwargs\u001b[38;5;241m.\u001b[39mpop(\u001b[38;5;124m'\u001b[39m\u001b[38;5;124mtransform_source\u001b[39m\u001b[38;5;124m'\u001b[39m)\n\u001b[0;32m   1144\u001b[0m \u001b[38;5;66;03m# The method is fetched by name so subclasses can override _download_..._handle\u001b[39;00m\n\u001b[1;32m-> 1145\u001b[0m res \u001b[38;5;241m=\u001b[39m \u001b[38;5;28mgetattr\u001b[39m(\u001b[38;5;28mself\u001b[39m, download_handle\u001b[38;5;241m.\u001b[39m\u001b[38;5;18m__name__\u001b[39m)(url_or_request, video_id, \u001b[38;5;241m*\u001b[39m\u001b[38;5;241m*\u001b[39mkwargs)\n\u001b[0;32m   1146\u001b[0m \u001b[38;5;28;01mreturn\u001b[39;00m res \u001b[38;5;28;01mif\u001b[39;00m res \u001b[38;5;129;01mis\u001b[39;00m \u001b[38;5;28;01mFalse\u001b[39;00m \u001b[38;5;28;01melse\u001b[39;00m res[\u001b[38;5;241m0\u001b[39m]\n",
      "File \u001b[1;32mc:\\Users\\aymli\\anaconda3\\envs\\demucs\\lib\\site-packages\\yt_dlp\\extractor\\common.py:968\u001b[0m, in \u001b[0;36mInfoExtractor._download_webpage_handle\u001b[1;34m(self, url_or_request, video_id, note, errnote, fatal, encoding, data, headers, query, expected_status, impersonate, require_impersonation)\u001b[0m\n\u001b[0;32m    965\u001b[0m \u001b[38;5;28;01mif\u001b[39;00m \u001b[38;5;28misinstance\u001b[39m(url_or_request, \u001b[38;5;28mstr\u001b[39m):\n\u001b[0;32m    966\u001b[0m     url_or_request \u001b[38;5;241m=\u001b[39m url_or_request\u001b[38;5;241m.\u001b[39mpartition(\u001b[38;5;124m'\u001b[39m\u001b[38;5;124m#\u001b[39m\u001b[38;5;124m'\u001b[39m)[\u001b[38;5;241m0\u001b[39m]\n\u001b[1;32m--> 968\u001b[0m urlh \u001b[38;5;241m=\u001b[39m \u001b[38;5;28;43mself\u001b[39;49m\u001b[38;5;241;43m.\u001b[39;49m\u001b[43m_request_webpage\u001b[49m\u001b[43m(\u001b[49m\u001b[43murl_or_request\u001b[49m\u001b[43m,\u001b[49m\u001b[43m \u001b[49m\u001b[43mvideo_id\u001b[49m\u001b[43m,\u001b[49m\u001b[43m \u001b[49m\u001b[43mnote\u001b[49m\u001b[43m,\u001b[49m\u001b[43m \u001b[49m\u001b[43merrnote\u001b[49m\u001b[43m,\u001b[49m\u001b[43m \u001b[49m\u001b[43mfatal\u001b[49m\u001b[43m,\u001b[49m\u001b[43m \u001b[49m\u001b[43mdata\u001b[49m\u001b[38;5;241;43m=\u001b[39;49m\u001b[43mdata\u001b[49m\u001b[43m,\u001b[49m\n\u001b[0;32m    969\u001b[0m \u001b[43m                             \u001b[49m\u001b[43mheaders\u001b[49m\u001b[38;5;241;43m=\u001b[39;49m\u001b[43mheaders\u001b[49m\u001b[43m,\u001b[49m\u001b[43m \u001b[49m\u001b[43mquery\u001b[49m\u001b[38;5;241;43m=\u001b[39;49m\u001b[43mquery\u001b[49m\u001b[43m,\u001b[49m\u001b[43m \u001b[49m\u001b[43mexpected_status\u001b[49m\u001b[38;5;241;43m=\u001b[39;49m\u001b[43mexpected_status\u001b[49m\u001b[43m,\u001b[49m\n\u001b[0;32m    970\u001b[0m \u001b[43m                             \u001b[49m\u001b[43mimpersonate\u001b[49m\u001b[38;5;241;43m=\u001b[39;49m\u001b[43mimpersonate\u001b[49m\u001b[43m,\u001b[49m\u001b[43m \u001b[49m\u001b[43mrequire_impersonation\u001b[49m\u001b[38;5;241;43m=\u001b[39;49m\u001b[43mrequire_impersonation\u001b[49m\u001b[43m)\u001b[49m\n\u001b[0;32m    971\u001b[0m \u001b[38;5;28;01mif\u001b[39;00m urlh \u001b[38;5;129;01mis\u001b[39;00m \u001b[38;5;28;01mFalse\u001b[39;00m:\n\u001b[0;32m    972\u001b[0m     \u001b[38;5;28;01massert\u001b[39;00m \u001b[38;5;129;01mnot\u001b[39;00m fatal\n",
      "File \u001b[1;32mc:\\Users\\aymli\\anaconda3\\envs\\demucs\\lib\\site-packages\\yt_dlp\\extractor\\youtube\\_base.py:615\u001b[0m, in \u001b[0;36mYoutubeBaseInfoExtractor._request_webpage\u001b[1;34m(self, *args, **kwargs)\u001b[0m\n\u001b[0;32m    614\u001b[0m \u001b[38;5;28;01mdef\u001b[39;00m\u001b[38;5;250m \u001b[39m\u001b[38;5;21m_request_webpage\u001b[39m(\u001b[38;5;28mself\u001b[39m, \u001b[38;5;241m*\u001b[39margs, \u001b[38;5;241m*\u001b[39m\u001b[38;5;241m*\u001b[39mkwargs):\n\u001b[1;32m--> 615\u001b[0m     response \u001b[38;5;241m=\u001b[39m \u001b[38;5;28msuper\u001b[39m()\u001b[38;5;241m.\u001b[39m_request_webpage(\u001b[38;5;241m*\u001b[39margs, \u001b[38;5;241m*\u001b[39m\u001b[38;5;241m*\u001b[39mkwargs)\n\u001b[0;32m    617\u001b[0m     \u001b[38;5;66;03m# Check that we are still logged-in and cookies have not rotated after every request\u001b[39;00m\n\u001b[0;32m    618\u001b[0m     \u001b[38;5;28;01mif\u001b[39;00m \u001b[38;5;28mgetattr\u001b[39m(\u001b[38;5;28mself\u001b[39m, \u001b[38;5;124m'\u001b[39m\u001b[38;5;124m_passed_auth_cookies\u001b[39m\u001b[38;5;124m'\u001b[39m, \u001b[38;5;28;01mNone\u001b[39;00m) \u001b[38;5;129;01mand\u001b[39;00m \u001b[38;5;129;01mnot\u001b[39;00m \u001b[38;5;28mself\u001b[39m\u001b[38;5;241m.\u001b[39m_has_auth_cookies:\n",
      "File \u001b[1;32mc:\\Users\\aymli\\anaconda3\\envs\\demucs\\lib\\site-packages\\yt_dlp\\extractor\\common.py:904\u001b[0m, in \u001b[0;36mInfoExtractor._request_webpage\u001b[1;34m(self, url_or_request, video_id, note, errnote, fatal, data, headers, query, expected_status, impersonate, require_impersonation)\u001b[0m\n\u001b[0;32m    901\u001b[0m     \u001b[38;5;28mself\u001b[39m\u001b[38;5;241m.\u001b[39mreport_warning(\u001b[38;5;124mf\u001b[39m\u001b[38;5;124m'\u001b[39m\u001b[38;5;132;01m{\u001b[39;00mmessage\u001b[38;5;132;01m}\u001b[39;00m\u001b[38;5;124m; if you encounter errors, then \u001b[39m\u001b[38;5;132;01m{\u001b[39;00minfo_msg\u001b[38;5;132;01m}\u001b[39;00m\u001b[38;5;124m'\u001b[39m, only_once\u001b[38;5;241m=\u001b[39m\u001b[38;5;28;01mTrue\u001b[39;00m)\n\u001b[0;32m    903\u001b[0m \u001b[38;5;28;01mtry\u001b[39;00m:\n\u001b[1;32m--> 904\u001b[0m     \u001b[38;5;28;01mreturn\u001b[39;00m \u001b[38;5;28;43mself\u001b[39;49m\u001b[38;5;241;43m.\u001b[39;49m\u001b[43m_downloader\u001b[49m\u001b[38;5;241;43m.\u001b[39;49m\u001b[43murlopen\u001b[49m\u001b[43m(\u001b[49m\u001b[38;5;28;43mself\u001b[39;49m\u001b[38;5;241;43m.\u001b[39;49m\u001b[43m_create_request\u001b[49m\u001b[43m(\u001b[49m\u001b[43murl_or_request\u001b[49m\u001b[43m,\u001b[49m\u001b[43m \u001b[49m\u001b[43mdata\u001b[49m\u001b[43m,\u001b[49m\u001b[43m \u001b[49m\u001b[43mheaders\u001b[49m\u001b[43m,\u001b[49m\u001b[43m \u001b[49m\u001b[43mquery\u001b[49m\u001b[43m,\u001b[49m\u001b[43m \u001b[49m\u001b[43mextensions\u001b[49m\u001b[43m)\u001b[49m\u001b[43m)\u001b[49m\n\u001b[0;32m    905\u001b[0m \u001b[38;5;28;01mexcept\u001b[39;00m network_exceptions \u001b[38;5;28;01mas\u001b[39;00m err:\n\u001b[0;32m    906\u001b[0m     \u001b[38;5;28;01mif\u001b[39;00m \u001b[38;5;28misinstance\u001b[39m(err, HTTPError):\n",
      "File \u001b[1;32mc:\\Users\\aymli\\anaconda3\\envs\\demucs\\lib\\site-packages\\yt_dlp\\YoutubeDL.py:4186\u001b[0m, in \u001b[0;36mYoutubeDL.urlopen\u001b[1;34m(self, req)\u001b[0m\n\u001b[0;32m   4183\u001b[0m clean_headers(req\u001b[38;5;241m.\u001b[39mheaders)\n\u001b[0;32m   4185\u001b[0m \u001b[38;5;28;01mtry\u001b[39;00m:\n\u001b[1;32m-> 4186\u001b[0m     \u001b[38;5;28;01mreturn\u001b[39;00m \u001b[38;5;28;43mself\u001b[39;49m\u001b[38;5;241;43m.\u001b[39;49m\u001b[43m_request_director\u001b[49m\u001b[38;5;241;43m.\u001b[39;49m\u001b[43msend\u001b[49m\u001b[43m(\u001b[49m\u001b[43mreq\u001b[49m\u001b[43m)\u001b[49m\n\u001b[0;32m   4187\u001b[0m \u001b[38;5;28;01mexcept\u001b[39;00m NoSupportingHandlers \u001b[38;5;28;01mas\u001b[39;00m e:\n\u001b[0;32m   4188\u001b[0m     \u001b[38;5;28;01mfor\u001b[39;00m ue \u001b[38;5;129;01min\u001b[39;00m e\u001b[38;5;241m.\u001b[39munsupported_errors:\n\u001b[0;32m   4189\u001b[0m         \u001b[38;5;66;03m# FIXME: This depends on the order of errors.\u001b[39;00m\n",
      "File \u001b[1;32mc:\\Users\\aymli\\anaconda3\\envs\\demucs\\lib\\site-packages\\yt_dlp\\networking\\common.py:117\u001b[0m, in \u001b[0;36mRequestDirector.send\u001b[1;34m(self, request)\u001b[0m\n\u001b[0;32m    115\u001b[0m \u001b[38;5;28mself\u001b[39m\u001b[38;5;241m.\u001b[39m_print_verbose(\u001b[38;5;124mf\u001b[39m\u001b[38;5;124m'\u001b[39m\u001b[38;5;124mSending request via \u001b[39m\u001b[38;5;124m\"\u001b[39m\u001b[38;5;132;01m{\u001b[39;00mhandler\u001b[38;5;241m.\u001b[39mRH_NAME\u001b[38;5;132;01m}\u001b[39;00m\u001b[38;5;124m\"\u001b[39m\u001b[38;5;124m'\u001b[39m)\n\u001b[0;32m    116\u001b[0m \u001b[38;5;28;01mtry\u001b[39;00m:\n\u001b[1;32m--> 117\u001b[0m     response \u001b[38;5;241m=\u001b[39m \u001b[43mhandler\u001b[49m\u001b[38;5;241;43m.\u001b[39;49m\u001b[43msend\u001b[49m\u001b[43m(\u001b[49m\u001b[43mrequest\u001b[49m\u001b[43m)\u001b[49m\n\u001b[0;32m    118\u001b[0m \u001b[38;5;28;01mexcept\u001b[39;00m RequestError:\n\u001b[0;32m    119\u001b[0m     \u001b[38;5;28;01mraise\u001b[39;00m\n",
      "File \u001b[1;32mc:\\Users\\aymli\\anaconda3\\envs\\demucs\\lib\\site-packages\\yt_dlp\\networking\\_helper.py:208\u001b[0m, in \u001b[0;36mwrap_request_errors.<locals>.wrapper\u001b[1;34m(self, *args, **kwargs)\u001b[0m\n\u001b[0;32m    205\u001b[0m \u001b[38;5;129m@functools\u001b[39m\u001b[38;5;241m.\u001b[39mwraps(func)\n\u001b[0;32m    206\u001b[0m \u001b[38;5;28;01mdef\u001b[39;00m\u001b[38;5;250m \u001b[39m\u001b[38;5;21mwrapper\u001b[39m(\u001b[38;5;28mself\u001b[39m, \u001b[38;5;241m*\u001b[39margs, \u001b[38;5;241m*\u001b[39m\u001b[38;5;241m*\u001b[39mkwargs):\n\u001b[0;32m    207\u001b[0m     \u001b[38;5;28;01mtry\u001b[39;00m:\n\u001b[1;32m--> 208\u001b[0m         \u001b[38;5;28;01mreturn\u001b[39;00m func(\u001b[38;5;28mself\u001b[39m, \u001b[38;5;241m*\u001b[39margs, \u001b[38;5;241m*\u001b[39m\u001b[38;5;241m*\u001b[39mkwargs)\n\u001b[0;32m    209\u001b[0m     \u001b[38;5;28;01mexcept\u001b[39;00m RequestError \u001b[38;5;28;01mas\u001b[39;00m e:\n\u001b[0;32m    210\u001b[0m         \u001b[38;5;28;01mif\u001b[39;00m e\u001b[38;5;241m.\u001b[39mhandler \u001b[38;5;129;01mis\u001b[39;00m \u001b[38;5;28;01mNone\u001b[39;00m:\n",
      "File \u001b[1;32mc:\\Users\\aymli\\anaconda3\\envs\\demucs\\lib\\site-packages\\yt_dlp\\networking\\common.py:359\u001b[0m, in \u001b[0;36mRequestHandler.send\u001b[1;34m(self, request)\u001b[0m\n\u001b[0;32m    357\u001b[0m \u001b[38;5;28;01mif\u001b[39;00m \u001b[38;5;129;01mnot\u001b[39;00m \u001b[38;5;28misinstance\u001b[39m(request, Request):\n\u001b[0;32m    358\u001b[0m     \u001b[38;5;28;01mraise\u001b[39;00m \u001b[38;5;167;01mTypeError\u001b[39;00m(\u001b[38;5;124m'\u001b[39m\u001b[38;5;124mExpected an instance of Request\u001b[39m\u001b[38;5;124m'\u001b[39m)\n\u001b[1;32m--> 359\u001b[0m \u001b[38;5;28;01mreturn\u001b[39;00m \u001b[38;5;28;43mself\u001b[39;49m\u001b[38;5;241;43m.\u001b[39;49m\u001b[43m_send\u001b[49m\u001b[43m(\u001b[49m\u001b[43mrequest\u001b[49m\u001b[43m)\u001b[49m\n",
      "File \u001b[1;32mc:\\Users\\aymli\\anaconda3\\envs\\demucs\\lib\\site-packages\\yt_dlp\\networking\\_requests.py:332\u001b[0m, in \u001b[0;36mRequestsRH._send\u001b[1;34m(self, request)\u001b[0m\n\u001b[0;32m    326\u001b[0m session \u001b[38;5;241m=\u001b[39m \u001b[38;5;28mself\u001b[39m\u001b[38;5;241m.\u001b[39m_get_instance(\n\u001b[0;32m    327\u001b[0m     cookiejar\u001b[38;5;241m=\u001b[39m\u001b[38;5;28mself\u001b[39m\u001b[38;5;241m.\u001b[39m_get_cookiejar(request),\n\u001b[0;32m    328\u001b[0m     legacy_ssl_support\u001b[38;5;241m=\u001b[39mrequest\u001b[38;5;241m.\u001b[39mextensions\u001b[38;5;241m.\u001b[39mget(\u001b[38;5;124m'\u001b[39m\u001b[38;5;124mlegacy_ssl\u001b[39m\u001b[38;5;124m'\u001b[39m),\n\u001b[0;32m    329\u001b[0m )\n\u001b[0;32m    331\u001b[0m \u001b[38;5;28;01mtry\u001b[39;00m:\n\u001b[1;32m--> 332\u001b[0m     requests_res \u001b[38;5;241m=\u001b[39m \u001b[43msession\u001b[49m\u001b[38;5;241;43m.\u001b[39;49m\u001b[43mrequest\u001b[49m\u001b[43m(\u001b[49m\n\u001b[0;32m    333\u001b[0m \u001b[43m        \u001b[49m\u001b[43mmethod\u001b[49m\u001b[38;5;241;43m=\u001b[39;49m\u001b[43mrequest\u001b[49m\u001b[38;5;241;43m.\u001b[39;49m\u001b[43mmethod\u001b[49m\u001b[43m,\u001b[49m\n\u001b[0;32m    334\u001b[0m \u001b[43m        \u001b[49m\u001b[43murl\u001b[49m\u001b[38;5;241;43m=\u001b[39;49m\u001b[43mrequest\u001b[49m\u001b[38;5;241;43m.\u001b[39;49m\u001b[43murl\u001b[49m\u001b[43m,\u001b[49m\n\u001b[0;32m    335\u001b[0m \u001b[43m        \u001b[49m\u001b[43mdata\u001b[49m\u001b[38;5;241;43m=\u001b[39;49m\u001b[43mrequest\u001b[49m\u001b[38;5;241;43m.\u001b[39;49m\u001b[43mdata\u001b[49m\u001b[43m,\u001b[49m\n\u001b[0;32m    336\u001b[0m \u001b[43m        \u001b[49m\u001b[43mheaders\u001b[49m\u001b[38;5;241;43m=\u001b[39;49m\u001b[43mheaders\u001b[49m\u001b[43m,\u001b[49m\n\u001b[0;32m    337\u001b[0m \u001b[43m        \u001b[49m\u001b[43mtimeout\u001b[49m\u001b[38;5;241;43m=\u001b[39;49m\u001b[38;5;28;43mself\u001b[39;49m\u001b[38;5;241;43m.\u001b[39;49m\u001b[43m_calculate_timeout\u001b[49m\u001b[43m(\u001b[49m\u001b[43mrequest\u001b[49m\u001b[43m)\u001b[49m\u001b[43m,\u001b[49m\n\u001b[0;32m    338\u001b[0m \u001b[43m        \u001b[49m\u001b[43mproxies\u001b[49m\u001b[38;5;241;43m=\u001b[39;49m\u001b[38;5;28;43mself\u001b[39;49m\u001b[38;5;241;43m.\u001b[39;49m\u001b[43m_get_proxies\u001b[49m\u001b[43m(\u001b[49m\u001b[43mrequest\u001b[49m\u001b[43m)\u001b[49m\u001b[43m,\u001b[49m\n\u001b[0;32m    339\u001b[0m \u001b[43m        \u001b[49m\u001b[43mallow_redirects\u001b[49m\u001b[38;5;241;43m=\u001b[39;49m\u001b[38;5;28;43;01mTrue\u001b[39;49;00m\u001b[43m,\u001b[49m\n\u001b[0;32m    340\u001b[0m \u001b[43m        \u001b[49m\u001b[43mstream\u001b[49m\u001b[38;5;241;43m=\u001b[39;49m\u001b[38;5;28;43;01mTrue\u001b[39;49;00m\u001b[43m,\u001b[49m\n\u001b[0;32m    341\u001b[0m \u001b[43m    \u001b[49m\u001b[43m)\u001b[49m\n\u001b[0;32m    343\u001b[0m \u001b[38;5;28;01mexcept\u001b[39;00m requests\u001b[38;5;241m.\u001b[39mexceptions\u001b[38;5;241m.\u001b[39mTooManyRedirects \u001b[38;5;28;01mas\u001b[39;00m e:\n\u001b[0;32m    344\u001b[0m     max_redirects_exceeded \u001b[38;5;241m=\u001b[39m \u001b[38;5;28;01mTrue\u001b[39;00m\n",
      "File \u001b[1;32mc:\\Users\\aymli\\anaconda3\\envs\\demucs\\lib\\site-packages\\requests\\sessions.py:589\u001b[0m, in \u001b[0;36mSession.request\u001b[1;34m(self, method, url, params, data, headers, cookies, files, auth, timeout, allow_redirects, proxies, hooks, stream, verify, cert, json)\u001b[0m\n\u001b[0;32m    584\u001b[0m send_kwargs \u001b[38;5;241m=\u001b[39m {\n\u001b[0;32m    585\u001b[0m     \u001b[38;5;124m\"\u001b[39m\u001b[38;5;124mtimeout\u001b[39m\u001b[38;5;124m\"\u001b[39m: timeout,\n\u001b[0;32m    586\u001b[0m     \u001b[38;5;124m\"\u001b[39m\u001b[38;5;124mallow_redirects\u001b[39m\u001b[38;5;124m\"\u001b[39m: allow_redirects,\n\u001b[0;32m    587\u001b[0m }\n\u001b[0;32m    588\u001b[0m send_kwargs\u001b[38;5;241m.\u001b[39mupdate(settings)\n\u001b[1;32m--> 589\u001b[0m resp \u001b[38;5;241m=\u001b[39m \u001b[38;5;28mself\u001b[39m\u001b[38;5;241m.\u001b[39msend(prep, \u001b[38;5;241m*\u001b[39m\u001b[38;5;241m*\u001b[39msend_kwargs)\n\u001b[0;32m    591\u001b[0m \u001b[38;5;28;01mreturn\u001b[39;00m resp\n",
      "File \u001b[1;32mc:\\Users\\aymli\\anaconda3\\envs\\demucs\\lib\\site-packages\\requests\\sessions.py:703\u001b[0m, in \u001b[0;36mSession.send\u001b[1;34m(self, request, **kwargs)\u001b[0m\n\u001b[0;32m    700\u001b[0m start \u001b[38;5;241m=\u001b[39m preferred_clock()\n\u001b[0;32m    702\u001b[0m \u001b[38;5;66;03m# Send the request\u001b[39;00m\n\u001b[1;32m--> 703\u001b[0m r \u001b[38;5;241m=\u001b[39m adapter\u001b[38;5;241m.\u001b[39msend(request, \u001b[38;5;241m*\u001b[39m\u001b[38;5;241m*\u001b[39mkwargs)\n\u001b[0;32m    705\u001b[0m \u001b[38;5;66;03m# Total elapsed time of the request (approximately)\u001b[39;00m\n\u001b[0;32m    706\u001b[0m elapsed \u001b[38;5;241m=\u001b[39m preferred_clock() \u001b[38;5;241m-\u001b[39m start\n",
      "File \u001b[1;32mc:\\Users\\aymli\\anaconda3\\envs\\demucs\\lib\\site-packages\\requests\\adapters.py:667\u001b[0m, in \u001b[0;36mHTTPAdapter.send\u001b[1;34m(self, request, stream, timeout, verify, cert, proxies)\u001b[0m\n\u001b[0;32m    664\u001b[0m     timeout \u001b[38;5;241m=\u001b[39m TimeoutSauce(connect\u001b[38;5;241m=\u001b[39mtimeout, read\u001b[38;5;241m=\u001b[39mtimeout)\n\u001b[0;32m    666\u001b[0m \u001b[38;5;28;01mtry\u001b[39;00m:\n\u001b[1;32m--> 667\u001b[0m     resp \u001b[38;5;241m=\u001b[39m \u001b[43mconn\u001b[49m\u001b[38;5;241;43m.\u001b[39;49m\u001b[43murlopen\u001b[49m\u001b[43m(\u001b[49m\n\u001b[0;32m    668\u001b[0m \u001b[43m        \u001b[49m\u001b[43mmethod\u001b[49m\u001b[38;5;241;43m=\u001b[39;49m\u001b[43mrequest\u001b[49m\u001b[38;5;241;43m.\u001b[39;49m\u001b[43mmethod\u001b[49m\u001b[43m,\u001b[49m\n\u001b[0;32m    669\u001b[0m \u001b[43m        \u001b[49m\u001b[43murl\u001b[49m\u001b[38;5;241;43m=\u001b[39;49m\u001b[43murl\u001b[49m\u001b[43m,\u001b[49m\n\u001b[0;32m    670\u001b[0m \u001b[43m        \u001b[49m\u001b[43mbody\u001b[49m\u001b[38;5;241;43m=\u001b[39;49m\u001b[43mrequest\u001b[49m\u001b[38;5;241;43m.\u001b[39;49m\u001b[43mbody\u001b[49m\u001b[43m,\u001b[49m\n\u001b[0;32m    671\u001b[0m \u001b[43m        \u001b[49m\u001b[43mheaders\u001b[49m\u001b[38;5;241;43m=\u001b[39;49m\u001b[43mrequest\u001b[49m\u001b[38;5;241;43m.\u001b[39;49m\u001b[43mheaders\u001b[49m\u001b[43m,\u001b[49m\n\u001b[0;32m    672\u001b[0m \u001b[43m        \u001b[49m\u001b[43mredirect\u001b[49m\u001b[38;5;241;43m=\u001b[39;49m\u001b[38;5;28;43;01mFalse\u001b[39;49;00m\u001b[43m,\u001b[49m\n\u001b[0;32m    673\u001b[0m \u001b[43m        \u001b[49m\u001b[43massert_same_host\u001b[49m\u001b[38;5;241;43m=\u001b[39;49m\u001b[38;5;28;43;01mFalse\u001b[39;49;00m\u001b[43m,\u001b[49m\n\u001b[0;32m    674\u001b[0m \u001b[43m        \u001b[49m\u001b[43mpreload_content\u001b[49m\u001b[38;5;241;43m=\u001b[39;49m\u001b[38;5;28;43;01mFalse\u001b[39;49;00m\u001b[43m,\u001b[49m\n\u001b[0;32m    675\u001b[0m \u001b[43m        \u001b[49m\u001b[43mdecode_content\u001b[49m\u001b[38;5;241;43m=\u001b[39;49m\u001b[38;5;28;43;01mFalse\u001b[39;49;00m\u001b[43m,\u001b[49m\n\u001b[0;32m    676\u001b[0m \u001b[43m        \u001b[49m\u001b[43mretries\u001b[49m\u001b[38;5;241;43m=\u001b[39;49m\u001b[38;5;28;43mself\u001b[39;49m\u001b[38;5;241;43m.\u001b[39;49m\u001b[43mmax_retries\u001b[49m\u001b[43m,\u001b[49m\n\u001b[0;32m    677\u001b[0m \u001b[43m        \u001b[49m\u001b[43mtimeout\u001b[49m\u001b[38;5;241;43m=\u001b[39;49m\u001b[43mtimeout\u001b[49m\u001b[43m,\u001b[49m\n\u001b[0;32m    678\u001b[0m \u001b[43m        \u001b[49m\u001b[43mchunked\u001b[49m\u001b[38;5;241;43m=\u001b[39;49m\u001b[43mchunked\u001b[49m\u001b[43m,\u001b[49m\n\u001b[0;32m    679\u001b[0m \u001b[43m    \u001b[49m\u001b[43m)\u001b[49m\n\u001b[0;32m    681\u001b[0m \u001b[38;5;28;01mexcept\u001b[39;00m (ProtocolError, \u001b[38;5;167;01mOSError\u001b[39;00m) \u001b[38;5;28;01mas\u001b[39;00m err:\n\u001b[0;32m    682\u001b[0m     \u001b[38;5;28;01mraise\u001b[39;00m \u001b[38;5;167;01mConnectionError\u001b[39;00m(err, request\u001b[38;5;241m=\u001b[39mrequest)\n",
      "File \u001b[1;32mc:\\Users\\aymli\\anaconda3\\envs\\demucs\\lib\\site-packages\\urllib3\\connectionpool.py:787\u001b[0m, in \u001b[0;36mHTTPConnectionPool.urlopen\u001b[1;34m(self, method, url, body, headers, retries, redirect, assert_same_host, timeout, pool_timeout, release_conn, chunked, body_pos, preload_content, decode_content, **response_kw)\u001b[0m\n\u001b[0;32m    784\u001b[0m response_conn \u001b[38;5;241m=\u001b[39m conn \u001b[38;5;28;01mif\u001b[39;00m \u001b[38;5;129;01mnot\u001b[39;00m release_conn \u001b[38;5;28;01melse\u001b[39;00m \u001b[38;5;28;01mNone\u001b[39;00m\n\u001b[0;32m    786\u001b[0m \u001b[38;5;66;03m# Make the request on the HTTPConnection object\u001b[39;00m\n\u001b[1;32m--> 787\u001b[0m response \u001b[38;5;241m=\u001b[39m \u001b[38;5;28mself\u001b[39m\u001b[38;5;241m.\u001b[39m_make_request(\n\u001b[0;32m    788\u001b[0m     conn,\n\u001b[0;32m    789\u001b[0m     method,\n\u001b[0;32m    790\u001b[0m     url,\n\u001b[0;32m    791\u001b[0m     timeout\u001b[38;5;241m=\u001b[39mtimeout_obj,\n\u001b[0;32m    792\u001b[0m     body\u001b[38;5;241m=\u001b[39mbody,\n\u001b[0;32m    793\u001b[0m     headers\u001b[38;5;241m=\u001b[39mheaders,\n\u001b[0;32m    794\u001b[0m     chunked\u001b[38;5;241m=\u001b[39mchunked,\n\u001b[0;32m    795\u001b[0m     retries\u001b[38;5;241m=\u001b[39mretries,\n\u001b[0;32m    796\u001b[0m     response_conn\u001b[38;5;241m=\u001b[39mresponse_conn,\n\u001b[0;32m    797\u001b[0m     preload_content\u001b[38;5;241m=\u001b[39mpreload_content,\n\u001b[0;32m    798\u001b[0m     decode_content\u001b[38;5;241m=\u001b[39mdecode_content,\n\u001b[0;32m    799\u001b[0m     \u001b[38;5;241m*\u001b[39m\u001b[38;5;241m*\u001b[39mresponse_kw,\n\u001b[0;32m    800\u001b[0m )\n\u001b[0;32m    802\u001b[0m \u001b[38;5;66;03m# Everything went great!\u001b[39;00m\n\u001b[0;32m    803\u001b[0m clean_exit \u001b[38;5;241m=\u001b[39m \u001b[38;5;28;01mTrue\u001b[39;00m\n",
      "File \u001b[1;32mc:\\Users\\aymli\\anaconda3\\envs\\demucs\\lib\\site-packages\\urllib3\\connectionpool.py:534\u001b[0m, in \u001b[0;36mHTTPConnectionPool._make_request\u001b[1;34m(self, conn, method, url, body, headers, retries, timeout, chunked, response_conn, preload_content, decode_content, enforce_content_length)\u001b[0m\n\u001b[0;32m    532\u001b[0m \u001b[38;5;66;03m# Receive the response from the server\u001b[39;00m\n\u001b[0;32m    533\u001b[0m \u001b[38;5;28;01mtry\u001b[39;00m:\n\u001b[1;32m--> 534\u001b[0m     response \u001b[38;5;241m=\u001b[39m \u001b[43mconn\u001b[49m\u001b[38;5;241;43m.\u001b[39;49m\u001b[43mgetresponse\u001b[49m\u001b[43m(\u001b[49m\u001b[43m)\u001b[49m\n\u001b[0;32m    535\u001b[0m \u001b[38;5;28;01mexcept\u001b[39;00m (BaseSSLError, \u001b[38;5;167;01mOSError\u001b[39;00m) \u001b[38;5;28;01mas\u001b[39;00m e:\n\u001b[0;32m    536\u001b[0m     \u001b[38;5;28mself\u001b[39m\u001b[38;5;241m.\u001b[39m_raise_timeout(err\u001b[38;5;241m=\u001b[39me, url\u001b[38;5;241m=\u001b[39murl, timeout_value\u001b[38;5;241m=\u001b[39mread_timeout)\n",
      "File \u001b[1;32mc:\\Users\\aymli\\anaconda3\\envs\\demucs\\lib\\site-packages\\urllib3\\connection.py:516\u001b[0m, in \u001b[0;36mHTTPConnection.getresponse\u001b[1;34m(self)\u001b[0m\n\u001b[0;32m    513\u001b[0m _shutdown \u001b[38;5;241m=\u001b[39m \u001b[38;5;28mgetattr\u001b[39m(\u001b[38;5;28mself\u001b[39m\u001b[38;5;241m.\u001b[39msock, \u001b[38;5;124m\"\u001b[39m\u001b[38;5;124mshutdown\u001b[39m\u001b[38;5;124m\"\u001b[39m, \u001b[38;5;28;01mNone\u001b[39;00m)\n\u001b[0;32m    515\u001b[0m \u001b[38;5;66;03m# Get the response from http.client.HTTPConnection\u001b[39;00m\n\u001b[1;32m--> 516\u001b[0m httplib_response \u001b[38;5;241m=\u001b[39m \u001b[38;5;28;43msuper\u001b[39;49m\u001b[43m(\u001b[49m\u001b[43m)\u001b[49m\u001b[38;5;241;43m.\u001b[39;49m\u001b[43mgetresponse\u001b[49m\u001b[43m(\u001b[49m\u001b[43m)\u001b[49m\n\u001b[0;32m    518\u001b[0m \u001b[38;5;28;01mtry\u001b[39;00m:\n\u001b[0;32m    519\u001b[0m     assert_header_parsing(httplib_response\u001b[38;5;241m.\u001b[39mmsg)\n",
      "File \u001b[1;32mc:\\Users\\aymli\\anaconda3\\envs\\demucs\\lib\\http\\client.py:1377\u001b[0m, in \u001b[0;36mHTTPConnection.getresponse\u001b[1;34m(self)\u001b[0m\n\u001b[0;32m   1375\u001b[0m \u001b[38;5;28;01mtry\u001b[39;00m:\n\u001b[0;32m   1376\u001b[0m     \u001b[38;5;28;01mtry\u001b[39;00m:\n\u001b[1;32m-> 1377\u001b[0m         \u001b[43mresponse\u001b[49m\u001b[38;5;241;43m.\u001b[39;49m\u001b[43mbegin\u001b[49m\u001b[43m(\u001b[49m\u001b[43m)\u001b[49m\n\u001b[0;32m   1378\u001b[0m     \u001b[38;5;28;01mexcept\u001b[39;00m \u001b[38;5;167;01mConnectionError\u001b[39;00m:\n\u001b[0;32m   1379\u001b[0m         \u001b[38;5;28mself\u001b[39m\u001b[38;5;241m.\u001b[39mclose()\n",
      "File \u001b[1;32mc:\\Users\\aymli\\anaconda3\\envs\\demucs\\lib\\http\\client.py:320\u001b[0m, in \u001b[0;36mHTTPResponse.begin\u001b[1;34m(self)\u001b[0m\n\u001b[0;32m    318\u001b[0m \u001b[38;5;66;03m# read until we get a non-100 response\u001b[39;00m\n\u001b[0;32m    319\u001b[0m \u001b[38;5;28;01mwhile\u001b[39;00m \u001b[38;5;28;01mTrue\u001b[39;00m:\n\u001b[1;32m--> 320\u001b[0m     version, status, reason \u001b[38;5;241m=\u001b[39m \u001b[38;5;28;43mself\u001b[39;49m\u001b[38;5;241;43m.\u001b[39;49m\u001b[43m_read_status\u001b[49m\u001b[43m(\u001b[49m\u001b[43m)\u001b[49m\n\u001b[0;32m    321\u001b[0m     \u001b[38;5;28;01mif\u001b[39;00m status \u001b[38;5;241m!=\u001b[39m CONTINUE:\n\u001b[0;32m    322\u001b[0m         \u001b[38;5;28;01mbreak\u001b[39;00m\n",
      "File \u001b[1;32mc:\\Users\\aymli\\anaconda3\\envs\\demucs\\lib\\http\\client.py:281\u001b[0m, in \u001b[0;36mHTTPResponse._read_status\u001b[1;34m(self)\u001b[0m\n\u001b[0;32m    280\u001b[0m \u001b[38;5;28;01mdef\u001b[39;00m\u001b[38;5;250m \u001b[39m\u001b[38;5;21m_read_status\u001b[39m(\u001b[38;5;28mself\u001b[39m):\n\u001b[1;32m--> 281\u001b[0m     line \u001b[38;5;241m=\u001b[39m \u001b[38;5;28mstr\u001b[39m(\u001b[38;5;28;43mself\u001b[39;49m\u001b[38;5;241;43m.\u001b[39;49m\u001b[43mfp\u001b[49m\u001b[38;5;241;43m.\u001b[39;49m\u001b[43mreadline\u001b[49m\u001b[43m(\u001b[49m\u001b[43m_MAXLINE\u001b[49m\u001b[43m \u001b[49m\u001b[38;5;241;43m+\u001b[39;49m\u001b[43m \u001b[49m\u001b[38;5;241;43m1\u001b[39;49m\u001b[43m)\u001b[49m, \u001b[38;5;124m\"\u001b[39m\u001b[38;5;124miso-8859-1\u001b[39m\u001b[38;5;124m\"\u001b[39m)\n\u001b[0;32m    282\u001b[0m     \u001b[38;5;28;01mif\u001b[39;00m \u001b[38;5;28mlen\u001b[39m(line) \u001b[38;5;241m>\u001b[39m _MAXLINE:\n\u001b[0;32m    283\u001b[0m         \u001b[38;5;28;01mraise\u001b[39;00m LineTooLong(\u001b[38;5;124m\"\u001b[39m\u001b[38;5;124mstatus line\u001b[39m\u001b[38;5;124m\"\u001b[39m)\n",
      "File \u001b[1;32mc:\\Users\\aymli\\anaconda3\\envs\\demucs\\lib\\socket.py:716\u001b[0m, in \u001b[0;36mSocketIO.readinto\u001b[1;34m(self, b)\u001b[0m\n\u001b[0;32m    714\u001b[0m \u001b[38;5;28;01mwhile\u001b[39;00m \u001b[38;5;28;01mTrue\u001b[39;00m:\n\u001b[0;32m    715\u001b[0m     \u001b[38;5;28;01mtry\u001b[39;00m:\n\u001b[1;32m--> 716\u001b[0m         \u001b[38;5;28;01mreturn\u001b[39;00m \u001b[38;5;28;43mself\u001b[39;49m\u001b[38;5;241;43m.\u001b[39;49m\u001b[43m_sock\u001b[49m\u001b[38;5;241;43m.\u001b[39;49m\u001b[43mrecv_into\u001b[49m\u001b[43m(\u001b[49m\u001b[43mb\u001b[49m\u001b[43m)\u001b[49m\n\u001b[0;32m    717\u001b[0m     \u001b[38;5;28;01mexcept\u001b[39;00m timeout:\n\u001b[0;32m    718\u001b[0m         \u001b[38;5;28mself\u001b[39m\u001b[38;5;241m.\u001b[39m_timeout_occurred \u001b[38;5;241m=\u001b[39m \u001b[38;5;28;01mTrue\u001b[39;00m\n",
      "File \u001b[1;32mc:\\Users\\aymli\\anaconda3\\envs\\demucs\\lib\\ssl.py:1275\u001b[0m, in \u001b[0;36mSSLSocket.recv_into\u001b[1;34m(self, buffer, nbytes, flags)\u001b[0m\n\u001b[0;32m   1271\u001b[0m     \u001b[38;5;28;01mif\u001b[39;00m flags \u001b[38;5;241m!=\u001b[39m \u001b[38;5;241m0\u001b[39m:\n\u001b[0;32m   1272\u001b[0m         \u001b[38;5;28;01mraise\u001b[39;00m \u001b[38;5;167;01mValueError\u001b[39;00m(\n\u001b[0;32m   1273\u001b[0m           \u001b[38;5;124m\"\u001b[39m\u001b[38;5;124mnon-zero flags not allowed in calls to recv_into() on \u001b[39m\u001b[38;5;132;01m%s\u001b[39;00m\u001b[38;5;124m\"\u001b[39m \u001b[38;5;241m%\u001b[39m\n\u001b[0;32m   1274\u001b[0m           \u001b[38;5;28mself\u001b[39m\u001b[38;5;241m.\u001b[39m\u001b[38;5;18m__class__\u001b[39m)\n\u001b[1;32m-> 1275\u001b[0m     \u001b[38;5;28;01mreturn\u001b[39;00m \u001b[38;5;28;43mself\u001b[39;49m\u001b[38;5;241;43m.\u001b[39;49m\u001b[43mread\u001b[49m\u001b[43m(\u001b[49m\u001b[43mnbytes\u001b[49m\u001b[43m,\u001b[49m\u001b[43m \u001b[49m\u001b[43mbuffer\u001b[49m\u001b[43m)\u001b[49m\n\u001b[0;32m   1276\u001b[0m \u001b[38;5;28;01melse\u001b[39;00m:\n\u001b[0;32m   1277\u001b[0m     \u001b[38;5;28;01mreturn\u001b[39;00m \u001b[38;5;28msuper\u001b[39m()\u001b[38;5;241m.\u001b[39mrecv_into(buffer, nbytes, flags)\n",
      "File \u001b[1;32mc:\\Users\\aymli\\anaconda3\\envs\\demucs\\lib\\ssl.py:1133\u001b[0m, in \u001b[0;36mSSLSocket.read\u001b[1;34m(self, len, buffer)\u001b[0m\n\u001b[0;32m   1131\u001b[0m \u001b[38;5;28;01mtry\u001b[39;00m:\n\u001b[0;32m   1132\u001b[0m     \u001b[38;5;28;01mif\u001b[39;00m buffer \u001b[38;5;129;01mis\u001b[39;00m \u001b[38;5;129;01mnot\u001b[39;00m \u001b[38;5;28;01mNone\u001b[39;00m:\n\u001b[1;32m-> 1133\u001b[0m         \u001b[38;5;28;01mreturn\u001b[39;00m \u001b[38;5;28;43mself\u001b[39;49m\u001b[38;5;241;43m.\u001b[39;49m\u001b[43m_sslobj\u001b[49m\u001b[38;5;241;43m.\u001b[39;49m\u001b[43mread\u001b[49m\u001b[43m(\u001b[49m\u001b[38;5;28;43mlen\u001b[39;49m\u001b[43m,\u001b[49m\u001b[43m \u001b[49m\u001b[43mbuffer\u001b[49m\u001b[43m)\u001b[49m\n\u001b[0;32m   1134\u001b[0m     \u001b[38;5;28;01melse\u001b[39;00m:\n\u001b[0;32m   1135\u001b[0m         \u001b[38;5;28;01mreturn\u001b[39;00m \u001b[38;5;28mself\u001b[39m\u001b[38;5;241m.\u001b[39m_sslobj\u001b[38;5;241m.\u001b[39mread(\u001b[38;5;28mlen\u001b[39m)\n",
      "\u001b[1;31mKeyboardInterrupt\u001b[0m: "
     ]
    }
   ],
   "source": [
    "song_links = []\n",
    "cover_links = []\n",
    "with open(\"Dataset.csv\", newline=\"\") as f:\n",
    "    reader = csv.DictReader(f)\n",
    "    for row in reader:\n",
    "        song_links.append(row[\"audio_link\"])\n",
    "        cover_links.append(row[\"cover_link\"])\n",
    "\n",
    "for i in range(len(song_links)):\n",
    "    if i < 65:\n",
    "        download_mp3(song_links[i], f\"song_data/{i}\")\n",
    "        download_mp3(cover_links[i], f\"piano_data/{i}\")\n",
    "\n",
    "        y_p, sr = load(f\"piano_data/{i}.mp3\")\n",
    "        y_p = trim_silence(y_p)\n",
    "\n",
    "        y_s, sr = load(f\"song_data/{i}.mp3\")\n",
    "        y_s = trim_silence(y_s)\n",
    "\n",
    "        y_s_harmonic, y_s_percussive = librosa.effects.hpss(y_s)\n",
    "        y_p_harmonic, y_p_percussive = librosa.effects.hpss(y_p)\n",
    "\n",
    "        beats_p, downbeats_p, act_p, tempo_p = get_beats_and_downbeats(y_p, sr)\n",
    "\n",
    "        beats_s, downbeats_s, act_s, tempo_s = get_beats_and_downbeats(y_s, sr)\n",
    "        \n",
    "        if tempo_s / 1.8 > tempo_p:\n",
    "            beats_p, downbeats_p, act_p, tempo_p = get_beats_and_downbeats(y_p, sr, tempo=tempo_s)\n",
    "        \n",
    "        if tempo_p / 1.8 > tempo_s:\n",
    "            beats_s, downbeats_s, act_s, tempo_s = get_beats_and_downbeats(y_s, sr, tempo=tempo_p)\n",
    "\n",
    "        print(len(downbeats_p), len(downbeats_s))\n",
    "\n",
    "\n",
    "        aligned, seg_p, seg_s = dtw_align(y_s_harmonic=y_s_harmonic, y_s=y_s, y_p=y_p, downbeats_s=downbeats_s, downbeats_p=downbeats_p, sr=sr, cost_threshold=11)\n",
    "\n",
    "        os.remove(f\"song_data/{i}.mp3\")\n",
    "        os.remove(f\"piano_data/{i}.mp3\")\n",
    "        if len(seg_p) > 0:\n",
    "            export_aligned(seg_s, seg_p, sr, i, aligned)"
   ]
  },
  {
   "cell_type": "code",
   "execution_count": 50,
   "id": "20dc339b",
   "metadata": {},
   "outputs": [],
   "source": [
    "def midi_to_chroma(pm, sr, hop_length):\n",
    "    chroma = pm.get_chroma(fs=sr / hop_length)\n",
    "    return librosa.util.normalize(chroma + 1e-6, axis=0)\n",
    "\n",
    "def audio_to_chroma(y, sr, hop_length):\n",
    "    C = librosa.feature.chroma_stft(y=y, sr=sr, hop_length=hop_length)\n",
    "    return C\n",
    "    #return librosa.util.normalize(C, axis=0)"
   ]
  },
  {
   "cell_type": "code",
   "execution_count": null,
   "id": "b67423d8",
   "metadata": {},
   "outputs": [],
   "source": [
    "def slice_midi_segment(pm: pretty_midi.PrettyMIDI, times):\n",
    "    t0, t1 = times\n",
    "    seg = pretty_midi.PrettyMIDI()\n",
    "    for instr in pm.instruments:\n",
    "        instr_seg = pretty_midi.Instrument(program=instr.program,\n",
    "                                           is_drum=instr.is_drum)\n",
    "        for note in instr.notes:\n",
    "            if note.start >= t0 and note.start < t1:\n",
    "                n = pretty_midi.Note(\n",
    "                    velocity=note.velocity,\n",
    "                    pitch=note.pitch,\n",
    "                    start=note.start - t0,\n",
    "                    end  =min(note.end - t0, t1 - t0)\n",
    "                )\n",
    "                instr_seg.notes.append(n)\n",
    "        seg.instruments.append(instr_seg)\n",
    "    return seg\n",
    "\n",
    "def concat_midi(midis):\n",
    "    merged = pretty_midi.PrettyMIDI()\n",
    "    merged.instruments = [instr for instr in midis[0].instruments]\n",
    "    current_time = midis[0].get_end_time()\n",
    "\n",
    "    # Iterate over the rest\n",
    "    for pm in midis[1:]:\n",
    "        # For each instrument in this segment\n",
    "        for instr in pm.instruments:\n",
    "            # Copy the instrument and shift its notes/events\n",
    "            instr_copy = pretty_midi.Instrument(\n",
    "                program=instr.program,\n",
    "                is_drum=instr.is_drum,\n",
    "                name=instr.name\n",
    "            )\n",
    "            # Shift each note\n",
    "            for note in instr.notes:\n",
    "                instr_copy.notes.append(pretty_midi.Note(\n",
    "                    velocity=note.velocity,\n",
    "                    pitch=note.pitch,\n",
    "                    start=note.start + current_time,\n",
    "                    end=note.end   + current_time\n",
    "                ))\n",
    "            # Shift any control changes or pitch bends if you care to preserve them:\n",
    "            for cc in instr.control_changes:\n",
    "                instr_copy.control_changes.append(pretty_midi.ControlChange(\n",
    "                    number=cc.number,\n",
    "                    value=cc.value,\n",
    "                    time=cc.time + current_time\n",
    "                ))\n",
    "            for pb in instr.pitch_bends:\n",
    "                instr_copy.pitch_bends.append(pretty_midi.PitchBend(\n",
    "                    pitch=pb.pitch,\n",
    "                    time=pb.time + current_time\n",
    "                ))\n",
    "            merged.instruments.append(instr_copy)\n",
    "\n",
    "        # Advance the time offset by this segment’s length\n",
    "        current_time += pm.get_end_time()\n",
    "\n",
    "    return merged\n",
    "\n",
    "\n",
    "def dtw_align_m(y_s_harmonic, y_s, midi_p, downbeats_s, downbeats_p, sr, hop_length=512, n_beats=8, sim_metric='cosine', cost_threshold=1e3):\n",
    "    aligned = []\n",
    "    seg_s = np.array([])\n",
    "    seg_p = pretty_midi.PrettyMIDI()\n",
    "    seg_p_list = []\n",
    "    i = 0\n",
    "    print(len(downbeats_s), len(downbeats_p))\n",
    "    while i < len(downbeats_s) or i < len(downbeats_p):\n",
    "        if i + n_beats >= min(len(downbeats_s), len(downbeats_p)) - 1:\n",
    "            break\n",
    "\n",
    "        t0_p, t1_p = downbeats_p[i], downbeats_p[i+n_beats]\n",
    "        t0_s, t1_s = downbeats_s[i], downbeats_s[i+n_beats]\n",
    "\n",
    "        mid_chunk_p = slice_midi_segment(midi_p, (t0_p, t1_p))\n",
    "        s0_s, s1_s = int(t0_s * sr), int(t1_s * sr)\n",
    "\n",
    "        y_chunk_s_harmonic = y_s_harmonic[s0_s: s1_s]\n",
    "        y_chunk_s = y_s[s0_s: s1_s]\n",
    "\n",
    "        C_s = audio_to_chroma(y_chunk_s_harmonic, sr, hop_length)\n",
    "        C_p = midi_to_chroma(mid_chunk_p, sr, hop_length)\n",
    "\n",
    "        D_feat = cdist(C_p.T, C_s.T, metric=sim_metric)\n",
    "\n",
    "        alpha = 0.03\n",
    "        idx1 = np.arange(D_feat.shape[0])[:,None]\n",
    "        idx2 = np.arange(D_feat.shape[1])[None,:]\n",
    "        D_time = alpha * np.abs(idx1 - idx2)\n",
    "\n",
    "        Cost = D_feat + D_time\n",
    "\n",
    "        D, wp = librosa.sequence.dtw(C=Cost)\n",
    "        cost = D[-1, -1]\n",
    "\n",
    "        print(i, cost)\n",
    "        if cost < cost_threshold:\n",
    "            aligned.append((t0_p, t1_p, t0_s, t1_s, cost))\n",
    "            seg_p_list.append(mid_chunk_p)\n",
    "            seg_s = np.concatenate((seg_s, y_chunk_s))\n",
    "            #j += 8\n",
    "            i += 8\n",
    "        else:\n",
    "            break\n",
    "            #if len(downbeats_p) < len(downbeats_s):\n",
    "            #    i += 1\n",
    "            #else:\n",
    "            #   j += 1\n",
    "    print(seg_p_list)\n",
    "    if len(seg_p_list) > 0:\n",
    "        seg_p = concat_midi(seg_p_list)\n",
    "\n",
    "    return aligned, seg_p, seg_s"
   ]
  },
  {
   "cell_type": "code",
   "execution_count": 76,
   "id": "efdee4df",
   "metadata": {},
   "outputs": [
    {
     "name": "stdout",
     "output_type": "stream",
     "text": [
      "[youtube] Extracting URL: https://www.youtube.com/watch?v=2S0QhGGO1gQ\n",
      "[youtube] 2S0QhGGO1gQ: Downloading webpage\n",
      "[youtube] 2S0QhGGO1gQ: Downloading tv client config\n",
      "[youtube] 2S0QhGGO1gQ: Downloading tv player API JSON\n",
      "[youtube] 2S0QhGGO1gQ: Downloading ios player API JSON\n",
      "[youtube] 2S0QhGGO1gQ: Downloading m3u8 information\n",
      "[info] 2S0QhGGO1gQ: Downloading 1 format(s): 251\n",
      "[download] Destination: song\\0\n",
      "[download] 100% of    2.74MiB in 00:00:00 at 11.88MiB/s  \n",
      "[ExtractAudio] Destination: song\\0.mp3\n",
      "Deleting original file song\\0 (pass -k to keep)\n"
     ]
    },
    {
     "name": "stderr",
     "output_type": "stream",
     "text": [
      "c:\\Users\\aymli\\anaconda3\\envs\\demucs\\lib\\site-packages\\pretty_midi\\pretty_midi.py:100: RuntimeWarning: Tempo, Key or Time signature change events found on non-zero tracks.  This is not a valid type 0 or type 1 MIDI file.  Tempo, Key or Time Signature may be wrong.\n",
      "  warnings.warn(\n"
     ]
    },
    {
     "name": "stdout",
     "output_type": "stream",
     "text": [
      "[123.046875]\n"
     ]
    },
    {
     "name": "stderr",
     "output_type": "stream",
     "text": [
      "c:\\Users\\aymli\\anaconda3\\envs\\demucs\\lib\\site-packages\\numpy\\core\\_asarray.py:102: VisibleDeprecationWarning: Creating an ndarray from ragged nested sequences (which is a list-or-tuple of lists-or-tuples-or ndarrays with different lengths or shapes) is deprecated. If you meant to do this, you must specify 'dtype=object' when creating the ndarray.\n",
      "  return array(a, dtype, copy=False, order=order)\n"
     ]
    },
    {
     "name": "stdout",
     "output_type": "stream",
     "text": [
      "126.09457092819613\n",
      "90 89\n",
      "0 298.15599635835775\n",
      "8 303.09617458953255\n",
      "16 299.128026022119\n",
      "24 294.8991029797561\n",
      "32 242.63507471935992\n",
      "40 342.3874940003716\n",
      "48 263.1527115086718\n",
      "56 301.4204075805454\n",
      "64 286.9633577859559\n",
      "72 238.7532572580274\n",
      "[youtube] Extracting URL: https://www.youtube.com/watch?v=25ROFXjoaAU\n",
      "[youtube] 25ROFXjoaAU: Downloading webpage\n",
      "[youtube] 25ROFXjoaAU: Downloading tv client config\n",
      "[youtube] 25ROFXjoaAU: Downloading tv player API JSON\n",
      "[youtube] 25ROFXjoaAU: Downloading ios player API JSON\n",
      "[youtube] 25ROFXjoaAU: Downloading m3u8 information\n",
      "[info] 25ROFXjoaAU: Downloading 1 format(s): 251\n",
      "[download] Destination: song\\1\n",
      "[download] 100% of    3.89MiB in 00:00:00 at 14.48MiB/s  \n",
      "[ExtractAudio] Destination: song\\1.mp3\n",
      "Deleting original file song\\1 (pass -k to keep)\n"
     ]
    },
    {
     "name": "stderr",
     "output_type": "stream",
     "text": [
      "c:\\Users\\aymli\\anaconda3\\envs\\demucs\\lib\\site-packages\\pretty_midi\\pretty_midi.py:100: RuntimeWarning: Tempo, Key or Time signature change events found on non-zero tracks.  This is not a valid type 0 or type 1 MIDI file.  Tempo, Key or Time Signature may be wrong.\n",
      "  warnings.warn(\n"
     ]
    },
    {
     "name": "stdout",
     "output_type": "stream",
     "text": [
      "[95.703125]\n"
     ]
    },
    {
     "name": "stderr",
     "output_type": "stream",
     "text": [
      "c:\\Users\\aymli\\anaconda3\\envs\\demucs\\lib\\site-packages\\numpy\\core\\_asarray.py:102: VisibleDeprecationWarning: Creating an ndarray from ragged nested sequences (which is a list-or-tuple of lists-or-tuples-or ndarrays with different lengths or shapes) is deprecated. If you meant to do this, you must specify 'dtype=object' when creating the ndarray.\n",
      "  return array(a, dtype, copy=False, order=order)\n"
     ]
    },
    {
     "name": "stdout",
     "output_type": "stream",
     "text": [
      "94.99336870026525\n",
      "96 96\n",
      "0 404.63194056353404\n",
      "8 357.01289454984675\n",
      "16 365.5066880152547\n",
      "24 289.3701946058147\n",
      "32 358.3599069740413\n",
      "40 349.5237344438864\n",
      "48 318.0335426789621\n",
      "56 290.4240056769539\n",
      "64 308.216331466288\n",
      "72 345.4791337253258\n",
      "80 308.2919243652754\n",
      "[youtube] Extracting URL: https://www.youtube.com/watch?v=oomE4oltFRo\n",
      "[youtube] oomE4oltFRo: Downloading webpage\n",
      "[youtube] oomE4oltFRo: Downloading tv client config\n",
      "[youtube] oomE4oltFRo: Downloading tv player API JSON\n",
      "[youtube] oomE4oltFRo: Downloading ios player API JSON\n",
      "[youtube] oomE4oltFRo: Downloading m3u8 information\n",
      "[info] oomE4oltFRo: Downloading 1 format(s): 251\n",
      "[download] Destination: song\\2\n",
      "[download] 100% of    3.61MiB in 00:00:00 at 13.65MiB/s  \n",
      "[ExtractAudio] Destination: song\\2.mp3\n",
      "Deleting original file song\\2 (pass -k to keep)\n"
     ]
    },
    {
     "name": "stderr",
     "output_type": "stream",
     "text": [
      "c:\\Users\\aymli\\anaconda3\\envs\\demucs\\lib\\site-packages\\pretty_midi\\pretty_midi.py:100: RuntimeWarning: Tempo, Key or Time signature change events found on non-zero tracks.  This is not a valid type 0 or type 1 MIDI file.  Tempo, Key or Time Signature may be wrong.\n",
      "  warnings.warn(\n"
     ]
    },
    {
     "name": "stdout",
     "output_type": "stream",
     "text": [
      "[135.99917763]\n"
     ]
    },
    {
     "name": "stderr",
     "output_type": "stream",
     "text": [
      "c:\\Users\\aymli\\anaconda3\\envs\\demucs\\lib\\site-packages\\numpy\\core\\_asarray.py:102: VisibleDeprecationWarning: Creating an ndarray from ragged nested sequences (which is a list-or-tuple of lists-or-tuples-or ndarrays with different lengths or shapes) is deprecated. If you meant to do this, you must specify 'dtype=object' when creating the ndarray.\n",
      "  return array(a, dtype, copy=False, order=order)\n"
     ]
    },
    {
     "name": "stdout",
     "output_type": "stream",
     "text": [
      "134.92097485758342\n",
      "132 130\n",
      "0 337.3727330807598\n",
      "8 313.41022213472445\n",
      "16 316.73620710939605\n",
      "24 343.436336124961\n",
      "32 325.35436562023\n",
      "40 317.86761812921935\n",
      "48 313.8398534095646\n",
      "56 323.9013192640608\n",
      "64 323.13175777324653\n",
      "72 295.6756537951589\n",
      "80 368.2714714596391\n",
      "88 349.8080004903878\n",
      "96 299.82887457388125\n",
      "104 316.5474760084134\n",
      "112 299.17154128880514\n",
      "120 371.02713683085625\n",
      "[youtube] Extracting URL: https://www.youtube.com/watch?v=CgjknaWVChY\n",
      "[youtube] CgjknaWVChY: Downloading webpage\n",
      "[youtube] CgjknaWVChY: Downloading tv client config\n",
      "[youtube] CgjknaWVChY: Downloading tv player API JSON\n",
      "[youtube] CgjknaWVChY: Downloading ios player API JSON\n",
      "[youtube] CgjknaWVChY: Downloading m3u8 information\n",
      "[info] CgjknaWVChY: Downloading 1 format(s): 251\n",
      "[download] Destination: song\\3\n",
      "[download] 100% of    2.13MiB in 00:00:00 at 8.25MiB/s   \n",
      "[ExtractAudio] Destination: song\\3.mp3\n",
      "Deleting original file song\\3 (pass -k to keep)\n"
     ]
    },
    {
     "name": "stderr",
     "output_type": "stream",
     "text": [
      "c:\\Users\\aymli\\anaconda3\\envs\\demucs\\lib\\site-packages\\pretty_midi\\pretty_midi.py:100: RuntimeWarning: Tempo, Key or Time signature change events found on non-zero tracks.  This is not a valid type 0 or type 1 MIDI file.  Tempo, Key or Time Signature may be wrong.\n",
      "  warnings.warn(\n"
     ]
    },
    {
     "name": "stdout",
     "output_type": "stream",
     "text": [
      "[112.34714674]\n"
     ]
    },
    {
     "name": "stderr",
     "output_type": "stream",
     "text": [
      "c:\\Users\\aymli\\anaconda3\\envs\\demucs\\lib\\site-packages\\numpy\\core\\_asarray.py:102: VisibleDeprecationWarning: Creating an ndarray from ragged nested sequences (which is a list-or-tuple of lists-or-tuples-or ndarrays with different lengths or shapes) is deprecated. If you meant to do this, you must specify 'dtype=object' when creating the ndarray.\n",
      "  return array(a, dtype, copy=False, order=order)\n"
     ]
    },
    {
     "name": "stdout",
     "output_type": "stream",
     "text": [
      "113.90362001383443\n",
      "55.684594331555125\n",
      "56.93565807745718\n",
      "31 32\n",
      "0 563.6081190549326\n",
      "[youtube] Extracting URL: https://www.youtube.com/watch?v=xtfXl7TZTac\n",
      "[youtube] xtfXl7TZTac: Downloading webpage\n",
      "[youtube] xtfXl7TZTac: Downloading tv client config\n",
      "[youtube] xtfXl7TZTac: Downloading tv player API JSON\n",
      "[youtube] xtfXl7TZTac: Downloading ios player API JSON\n",
      "[youtube] xtfXl7TZTac: Downloading m3u8 information\n",
      "[info] xtfXl7TZTac: Downloading 1 format(s): 251\n",
      "[download] Destination: song\\4\n",
      "[download] 100% of    4.23MiB in 00:00:00 at 12.89MiB/s  \n",
      "[ExtractAudio] Destination: song\\4.mp3\n",
      "Deleting original file song\\4 (pass -k to keep)\n"
     ]
    },
    {
     "name": "stderr",
     "output_type": "stream",
     "text": [
      "c:\\Users\\aymli\\anaconda3\\envs\\demucs\\lib\\site-packages\\pretty_midi\\pretty_midi.py:100: RuntimeWarning: Tempo, Key or Time signature change events found on non-zero tracks.  This is not a valid type 0 or type 1 MIDI file.  Tempo, Key or Time Signature may be wrong.\n",
      "  warnings.warn(\n"
     ]
    },
    {
     "name": "stdout",
     "output_type": "stream",
     "text": [
      "[129.19921875]\n"
     ]
    },
    {
     "name": "stderr",
     "output_type": "stream",
     "text": [
      "c:\\Users\\aymli\\anaconda3\\envs\\demucs\\lib\\site-packages\\numpy\\core\\_asarray.py:102: VisibleDeprecationWarning: Creating an ndarray from ragged nested sequences (which is a list-or-tuple of lists-or-tuples-or ndarrays with different lengths or shapes) is deprecated. If you meant to do this, you must specify 'dtype=object' when creating the ndarray.\n",
      "  return array(a, dtype, copy=False, order=order)\n"
     ]
    },
    {
     "name": "stdout",
     "output_type": "stream",
     "text": [
      "130.0179281315769\n",
      "139 142\n",
      "0 465.8234202453243\n",
      "8 420.221378400763\n",
      "16 431.4891558716249\n",
      "24 406.9063146450417\n",
      "32 375.1831093114934\n",
      "40 397.31812963186087\n",
      "48 395.36802921314927\n",
      "56 425.92982496416425\n",
      "64 408.64277108388075\n",
      "72 392.2369417782114\n",
      "80 420.7072725237485\n",
      "88 389.60795429242927\n",
      "96 408.5511294451721\n",
      "104 415.74437200839645\n",
      "112 395.8952250621029\n",
      "120 395.2296038572977\n",
      "128 398.5021213365189\n",
      "[youtube] Extracting URL: https://www.youtube.com/watch?v=JxvvUblf25A\n",
      "[youtube] JxvvUblf25A: Downloading webpage\n",
      "[youtube] JxvvUblf25A: Downloading tv client config\n",
      "[youtube] JxvvUblf25A: Downloading tv player API JSON\n",
      "[youtube] JxvvUblf25A: Downloading ios player API JSON\n",
      "[youtube] JxvvUblf25A: Downloading m3u8 information\n",
      "[info] JxvvUblf25A: Downloading 1 format(s): 251\n",
      "[download] Destination: song\\5\n",
      "[download] 100% of    3.35MiB in 00:00:00 at 10.17MiB/s  \n",
      "[ExtractAudio] Destination: song\\5.mp3\n",
      "Deleting original file song\\5 (pass -k to keep)\n"
     ]
    },
    {
     "name": "stderr",
     "output_type": "stream",
     "text": [
      "c:\\Users\\aymli\\anaconda3\\envs\\demucs\\lib\\site-packages\\pretty_midi\\pretty_midi.py:100: RuntimeWarning: Tempo, Key or Time signature change events found on non-zero tracks.  This is not a valid type 0 or type 1 MIDI file.  Tempo, Key or Time Signature may be wrong.\n",
      "  warnings.warn(\n"
     ]
    },
    {
     "name": "stdout",
     "output_type": "stream",
     "text": [
      "[161.49902344]\n"
     ]
    },
    {
     "name": "stderr",
     "output_type": "stream",
     "text": [
      "c:\\Users\\aymli\\anaconda3\\envs\\demucs\\lib\\site-packages\\numpy\\core\\_asarray.py:102: VisibleDeprecationWarning: Creating an ndarray from ragged nested sequences (which is a list-or-tuple of lists-or-tuples-or ndarrays with different lengths or shapes) is deprecated. If you meant to do this, you must specify 'dtype=object' when creating the ndarray.\n",
      "  return array(a, dtype, copy=False, order=order)\n"
     ]
    },
    {
     "name": "stdout",
     "output_type": "stream",
     "text": [
      "163.4473921503488\n",
      "144 144\n",
      "0 262.2959994664564\n",
      "8 267.0246882103064\n",
      "16 272.4373110850414\n",
      "24 277.7368778976337\n",
      "32 252.3426265614894\n",
      "40 282.70721765814517\n",
      "48 270.67791051079695\n",
      "56 298.0035524135271\n",
      "64 286.4885483077794\n",
      "72 257.9456851158681\n",
      "80 261.2072505477387\n",
      "88 322.0422395329693\n",
      "96 320.53997627192456\n",
      "104 248.31028077615372\n",
      "112 250.42171385369238\n",
      "120 269.98249435744054\n",
      "128 264.87930754130497\n",
      "[youtube] Extracting URL: https://www.youtube.com/watch?v=F3g0KnjtLWQ\n",
      "[youtube] F3g0KnjtLWQ: Downloading webpage\n",
      "[youtube] F3g0KnjtLWQ: Downloading tv client config\n",
      "[youtube] F3g0KnjtLWQ: Downloading tv player API JSON\n",
      "[youtube] F3g0KnjtLWQ: Downloading ios player API JSON\n",
      "[youtube] F3g0KnjtLWQ: Downloading m3u8 information\n",
      "[info] F3g0KnjtLWQ: Downloading 1 format(s): 251\n",
      "[download] Destination: song\\6\n",
      "[download] 100% of    3.38MiB in 00:00:00 at 12.62MiB/s  \n",
      "[ExtractAudio] Destination: song\\6.mp3\n",
      "Deleting original file song\\6 (pass -k to keep)\n"
     ]
    },
    {
     "name": "stderr",
     "output_type": "stream",
     "text": [
      "c:\\Users\\aymli\\anaconda3\\envs\\demucs\\lib\\site-packages\\pretty_midi\\pretty_midi.py:100: RuntimeWarning: Tempo, Key or Time signature change events found on non-zero tracks.  This is not a valid type 0 or type 1 MIDI file.  Tempo, Key or Time Signature may be wrong.\n",
      "  warnings.warn(\n"
     ]
    },
    {
     "name": "stdout",
     "output_type": "stream",
     "text": [
      "[78.30255682]\n"
     ]
    },
    {
     "name": "stderr",
     "output_type": "stream",
     "text": [
      "c:\\Users\\aymli\\anaconda3\\envs\\demucs\\lib\\site-packages\\numpy\\core\\_asarray.py:102: VisibleDeprecationWarning: Creating an ndarray from ragged nested sequences (which is a list-or-tuple of lists-or-tuples-or ndarrays with different lengths or shapes) is deprecated. If you meant to do this, you must specify 'dtype=object' when creating the ndarray.\n",
      "  return array(a, dtype, copy=False, order=order)\n"
     ]
    },
    {
     "name": "stdout",
     "output_type": "stream",
     "text": [
      "77.99056341937273\n",
      "158.87985609867144\n",
      "155.98112683874547\n",
      "141 142\n",
      "0 326.49828407979015\n",
      "8 305.3089308949356\n",
      "16 283.0849452617603\n",
      "24 310.8265969162951\n",
      "32 326.2426290411254\n",
      "40 311.09660367870987\n",
      "48 300.37072064351764\n",
      "56 271.7991477768356\n",
      "64 305.799657483386\n",
      "72 318.9188727110181\n",
      "80 307.5077068425929\n",
      "88 325.0653351433506\n",
      "96 330.10106258631436\n",
      "104 373.3677790519024\n",
      "112 326.3182115015132\n",
      "120 312.5457835867113\n",
      "128 310.06566696803776\n",
      "[youtube] Extracting URL: https://www.youtube.com/watch?v=bzRMneypG04\n",
      "[youtube] bzRMneypG04: Downloading webpage\n",
      "[youtube] bzRMneypG04: Downloading tv client config\n",
      "[youtube] bzRMneypG04: Downloading tv player API JSON\n",
      "[youtube] bzRMneypG04: Downloading ios player API JSON\n",
      "[youtube] bzRMneypG04: Downloading m3u8 information\n",
      "[info] bzRMneypG04: Downloading 1 format(s): 251\n",
      "[download] Destination: song\\7\n",
      "[download] 100% of    4.83MiB in 00:00:00 at 15.00MiB/s  \n",
      "[ExtractAudio] Destination: song\\7.mp3\n",
      "Deleting original file song\\7 (pass -k to keep)\n"
     ]
    },
    {
     "name": "stderr",
     "output_type": "stream",
     "text": [
      "c:\\Users\\aymli\\anaconda3\\envs\\demucs\\lib\\site-packages\\pretty_midi\\pretty_midi.py:100: RuntimeWarning: Tempo, Key or Time signature change events found on non-zero tracks.  This is not a valid type 0 or type 1 MIDI file.  Tempo, Key or Time Signature may be wrong.\n",
      "  warnings.warn(\n"
     ]
    },
    {
     "name": "stdout",
     "output_type": "stream",
     "text": [
      "[143.5546875]\n"
     ]
    },
    {
     "name": "stderr",
     "output_type": "stream",
     "text": [
      "c:\\Users\\aymli\\anaconda3\\envs\\demucs\\lib\\site-packages\\numpy\\core\\_asarray.py:102: VisibleDeprecationWarning: Creating an ndarray from ragged nested sequences (which is a list-or-tuple of lists-or-tuples-or ndarrays with different lengths or shapes) is deprecated. If you meant to do this, you must specify 'dtype=object' when creating the ndarray.\n",
      "  return array(a, dtype, copy=False, order=order)\n"
     ]
    },
    {
     "name": "stdout",
     "output_type": "stream",
     "text": [
      "138.22077512866295\n",
      "69.37148799637716\n",
      "69.11038756433148\n",
      "83 83\n",
      "0 447.55723695908796\n",
      "8 551.8701031317225\n",
      "[youtube] Extracting URL: https://www.youtube.com/watch?v=z2kwwDLBgYw\n",
      "[youtube] z2kwwDLBgYw: Downloading webpage\n",
      "[youtube] z2kwwDLBgYw: Downloading tv client config\n",
      "[youtube] z2kwwDLBgYw: Downloading tv player API JSON\n",
      "[youtube] z2kwwDLBgYw: Downloading ios player API JSON\n",
      "[youtube] z2kwwDLBgYw: Downloading m3u8 information\n",
      "[info] z2kwwDLBgYw: Downloading 1 format(s): 251\n",
      "[download] Destination: song\\8\n",
      "[download] 100% of    3.80MiB in 00:00:00 at 16.08MiB/s  \n",
      "[ExtractAudio] Destination: song\\8.mp3\n",
      "Deleting original file song\\8 (pass -k to keep)\n"
     ]
    },
    {
     "name": "stderr",
     "output_type": "stream",
     "text": [
      "c:\\Users\\aymli\\anaconda3\\envs\\demucs\\lib\\site-packages\\pretty_midi\\pretty_midi.py:100: RuntimeWarning: Tempo, Key or Time signature change events found on non-zero tracks.  This is not a valid type 0 or type 1 MIDI file.  Tempo, Key or Time Signature may be wrong.\n",
      "  warnings.warn(\n"
     ]
    },
    {
     "name": "stdout",
     "output_type": "stream",
     "text": [
      "[161.49902344]\n"
     ]
    },
    {
     "name": "stderr",
     "output_type": "stream",
     "text": [
      "c:\\Users\\aymli\\anaconda3\\envs\\demucs\\lib\\site-packages\\numpy\\core\\_asarray.py:102: VisibleDeprecationWarning: Creating an ndarray from ragged nested sequences (which is a list-or-tuple of lists-or-tuples-or ndarrays with different lengths or shapes) is deprecated. If you meant to do this, you must specify 'dtype=object' when creating the ndarray.\n",
      "  return array(a, dtype, copy=False, order=order)\n"
     ]
    },
    {
     "name": "stdout",
     "output_type": "stream",
     "text": [
      "156.72616456247277\n",
      "76.99997818333902\n",
      "78.370652691758\n",
      "83 82\n",
      "0 485.49024008736217\n",
      "8 503.2765102792676\n",
      "[youtube] Extracting URL: https://www.youtube.com/watch?v=h0n-mYqB9WQ\n",
      "[youtube] h0n-mYqB9WQ: Downloading webpage\n",
      "[youtube] h0n-mYqB9WQ: Downloading tv client config\n",
      "[youtube] h0n-mYqB9WQ: Downloading tv player API JSON\n",
      "[youtube] h0n-mYqB9WQ: Downloading ios player API JSON\n",
      "[youtube] h0n-mYqB9WQ: Downloading m3u8 information\n",
      "[info] h0n-mYqB9WQ: Downloading 1 format(s): 251\n",
      "[download] Destination: song\\9\n",
      "[download] 100% of    4.57MiB in 00:00:00 at 8.03MiB/s   \n",
      "[ExtractAudio] Destination: song\\9.mp3\n",
      "Deleting original file song\\9 (pass -k to keep)\n"
     ]
    },
    {
     "name": "stderr",
     "output_type": "stream",
     "text": [
      "c:\\Users\\aymli\\anaconda3\\envs\\demucs\\lib\\site-packages\\pretty_midi\\pretty_midi.py:100: RuntimeWarning: Tempo, Key or Time signature change events found on non-zero tracks.  This is not a valid type 0 or type 1 MIDI file.  Tempo, Key or Time Signature may be wrong.\n",
      "  warnings.warn(\n"
     ]
    },
    {
     "name": "stdout",
     "output_type": "stream",
     "text": [
      "[83.35433468]\n"
     ]
    },
    {
     "name": "stderr",
     "output_type": "stream",
     "text": [
      "c:\\Users\\aymli\\anaconda3\\envs\\demucs\\lib\\site-packages\\numpy\\core\\_asarray.py:102: VisibleDeprecationWarning: Creating an ndarray from ragged nested sequences (which is a list-or-tuple of lists-or-tuples-or ndarrays with different lengths or shapes) is deprecated. If you meant to do this, you must specify 'dtype=object' when creating the ndarray.\n",
      "  return array(a, dtype, copy=False, order=order)\n"
     ]
    },
    {
     "name": "stdout",
     "output_type": "stream",
     "text": [
      "82.7513966480447\n",
      "99 95\n",
      "0 429.36149090383094\n",
      "8 559.3935412500218\n",
      "[youtube] Extracting URL: https://www.youtube.com/watch?v=JojwHc1MKag\n",
      "[youtube] JojwHc1MKag: Downloading webpage\n",
      "[youtube] JojwHc1MKag: Downloading tv client config\n",
      "[youtube] JojwHc1MKag: Downloading tv player API JSON\n",
      "[youtube] JojwHc1MKag: Downloading ios player API JSON\n",
      "[youtube] JojwHc1MKag: Downloading m3u8 information\n",
      "[info] JojwHc1MKag: Downloading 1 format(s): 251\n",
      "[download] Destination: song\\10\n",
      "[download] 100% of    4.41MiB in 00:00:00 at 15.79MiB/s  \n",
      "[ExtractAudio] Destination: song\\10.mp3\n",
      "Deleting original file song\\10 (pass -k to keep)\n"
     ]
    },
    {
     "name": "stderr",
     "output_type": "stream",
     "text": [
      "c:\\Users\\aymli\\anaconda3\\envs\\demucs\\lib\\site-packages\\pretty_midi\\pretty_midi.py:100: RuntimeWarning: Tempo, Key or Time signature change events found on non-zero tracks.  This is not a valid type 0 or type 1 MIDI file.  Tempo, Key or Time Signature may be wrong.\n",
      "  warnings.warn(\n"
     ]
    },
    {
     "name": "stdout",
     "output_type": "stream",
     "text": [
      "[78.30255682]\n"
     ]
    },
    {
     "name": "stderr",
     "output_type": "stream",
     "text": [
      "c:\\Users\\aymli\\anaconda3\\envs\\demucs\\lib\\site-packages\\numpy\\core\\_asarray.py:102: VisibleDeprecationWarning: Creating an ndarray from ragged nested sequences (which is a list-or-tuple of lists-or-tuples-or ndarrays with different lengths or shapes) is deprecated. If you meant to do this, you must specify 'dtype=object' when creating the ndarray.\n",
      "  return array(a, dtype, copy=False, order=order)\n"
     ]
    },
    {
     "name": "stdout",
     "output_type": "stream",
     "text": [
      "79.0435577215961\n",
      "87 84\n",
      "0 431.82216311831917\n",
      "8 407.0987547094291\n",
      "16 454.5388277093252\n",
      "24 440.94177976905235\n",
      "32 417.83000640499654\n",
      "40 428.3716589453503\n",
      "48 418.22463164454814\n",
      "56 470.9896133745302\n",
      "64 590.0674333510975\n",
      "[youtube] Extracting URL: https://www.youtube.com/watch?v=CeWjEYhk7Xo\n",
      "[youtube] CeWjEYhk7Xo: Downloading webpage\n",
      "[youtube] CeWjEYhk7Xo: Downloading tv client config\n",
      "[youtube] CeWjEYhk7Xo: Downloading tv player API JSON\n",
      "[youtube] CeWjEYhk7Xo: Downloading ios player API JSON\n",
      "[youtube] CeWjEYhk7Xo: Downloading m3u8 information\n",
      "[info] CeWjEYhk7Xo: Downloading 1 format(s): 251\n",
      "[download] Destination: song\\11\n",
      "[download] 100% of    2.66MiB in 00:00:00 at 12.76MiB/s  \n",
      "[ExtractAudio] Destination: song\\11.mp3\n",
      "Deleting original file song\\11 (pass -k to keep)\n"
     ]
    },
    {
     "name": "stderr",
     "output_type": "stream",
     "text": [
      "c:\\Users\\aymli\\anaconda3\\envs\\demucs\\lib\\site-packages\\pretty_midi\\pretty_midi.py:100: RuntimeWarning: Tempo, Key or Time signature change events found on non-zero tracks.  This is not a valid type 0 or type 1 MIDI file.  Tempo, Key or Time Signature may be wrong.\n",
      "  warnings.warn(\n"
     ]
    },
    {
     "name": "stdout",
     "output_type": "stream",
     "text": [
      "[129.19921875]\n"
     ]
    },
    {
     "ename": "KeyboardInterrupt",
     "evalue": "",
     "output_type": "error",
     "traceback": [
      "\u001b[1;31m---------------------------------------------------------------------------\u001b[0m",
      "\u001b[1;31mKeyboardInterrupt\u001b[0m                         Traceback (most recent call last)",
      "Cell \u001b[1;32mIn[76], line 22\u001b[0m\n\u001b[0;32m     19\u001b[0m C_s \u001b[38;5;241m=\u001b[39m audio_to_chroma(y_s_harmonic, sr, hop_length)\n\u001b[0;32m     20\u001b[0m C_p \u001b[38;5;241m=\u001b[39m midi_to_chroma(pm, sr, hop_length)\n\u001b[1;32m---> 22\u001b[0m beats_s, downbeats_s, act_s, tempo_s \u001b[38;5;241m=\u001b[39m \u001b[43mget_beats_and_downbeats\u001b[49m\u001b[43m(\u001b[49m\u001b[43my_s\u001b[49m\u001b[43m,\u001b[49m\u001b[43m \u001b[49m\u001b[43msr\u001b[49m\u001b[43m)\u001b[49m\n\u001b[0;32m     23\u001b[0m downbeats_p \u001b[38;5;241m=\u001b[39m pm\u001b[38;5;241m.\u001b[39mget_downbeats()\n\u001b[0;32m     24\u001b[0m beats_p \u001b[38;5;241m=\u001b[39m pm\u001b[38;5;241m.\u001b[39mget_beats()\n",
      "Cell \u001b[1;32mIn[10], line 10\u001b[0m, in \u001b[0;36mget_beats_and_downbeats\u001b[1;34m(y, sr, tempo)\u001b[0m\n\u001b[0;32m      8\u001b[0m \u001b[38;5;28mprint\u001b[39m(tempo)\n\u001b[0;32m      9\u001b[0m sf\u001b[38;5;241m.\u001b[39mwrite(\u001b[38;5;124m\"\u001b[39m\u001b[38;5;124mtest.wav\u001b[39m\u001b[38;5;124m\"\u001b[39m,y,sr)\n\u001b[1;32m---> 10\u001b[0m act \u001b[38;5;241m=\u001b[39m \u001b[43mRNNDownBeatProcessor\u001b[49m\u001b[43m(\u001b[49m\u001b[43m)\u001b[49m\u001b[43m(\u001b[49m\u001b[38;5;124;43m\"\u001b[39;49m\u001b[38;5;124;43mtest.wav\u001b[39;49m\u001b[38;5;124;43m\"\u001b[39;49m\u001b[43m)\u001b[49m\n\u001b[0;32m     12\u001b[0m dbn \u001b[38;5;241m=\u001b[39m DBNDownBeatTrackingProcessor(beats_per_bar\u001b[38;5;241m=\u001b[39m\u001b[38;5;241m4\u001b[39m, fps\u001b[38;5;241m=\u001b[39m\u001b[38;5;241m100\u001b[39m, min_bpm \u001b[38;5;241m=\u001b[39m tempo \u001b[38;5;241m*\u001b[39m \u001b[38;5;241m0.8\u001b[39m, max_bpm \u001b[38;5;241m=\u001b[39m tempo \u001b[38;5;241m*\u001b[39m \u001b[38;5;241m1.2\u001b[39m)\n\u001b[0;32m     14\u001b[0m downbeats \u001b[38;5;241m=\u001b[39m dbn(act)\n",
      "File \u001b[1;32mc:\\Users\\aymli\\anaconda3\\envs\\demucs\\lib\\site-packages\\madmom\\processors.py:120\u001b[0m, in \u001b[0;36mProcessor.__call__\u001b[1;34m(self, *args, **kwargs)\u001b[0m\n\u001b[0;32m    118\u001b[0m \u001b[38;5;28;01mdef\u001b[39;00m\u001b[38;5;250m \u001b[39m\u001b[38;5;21m__call__\u001b[39m(\u001b[38;5;28mself\u001b[39m, \u001b[38;5;241m*\u001b[39margs, \u001b[38;5;241m*\u001b[39m\u001b[38;5;241m*\u001b[39mkwargs):\n\u001b[0;32m    119\u001b[0m     \u001b[38;5;66;03m# this magic method makes a Processor callable\u001b[39;00m\n\u001b[1;32m--> 120\u001b[0m     \u001b[38;5;28;01mreturn\u001b[39;00m \u001b[38;5;28mself\u001b[39m\u001b[38;5;241m.\u001b[39mprocess(\u001b[38;5;241m*\u001b[39margs, \u001b[38;5;241m*\u001b[39m\u001b[38;5;241m*\u001b[39mkwargs)\n",
      "File \u001b[1;32mc:\\Users\\aymli\\anaconda3\\envs\\demucs\\lib\\site-packages\\madmom\\processors.py:424\u001b[0m, in \u001b[0;36mSequentialProcessor.process\u001b[1;34m(self, data, **kwargs)\u001b[0m\n\u001b[0;32m    422\u001b[0m \u001b[38;5;66;03m# sequentially process the data\u001b[39;00m\n\u001b[0;32m    423\u001b[0m \u001b[38;5;28;01mfor\u001b[39;00m processor \u001b[38;5;129;01min\u001b[39;00m \u001b[38;5;28mself\u001b[39m\u001b[38;5;241m.\u001b[39mprocessors:\n\u001b[1;32m--> 424\u001b[0m     data \u001b[38;5;241m=\u001b[39m \u001b[43m_process\u001b[49m\u001b[43m(\u001b[49m\u001b[43m(\u001b[49m\u001b[43mprocessor\u001b[49m\u001b[43m,\u001b[49m\u001b[43m \u001b[49m\u001b[43mdata\u001b[49m\u001b[43m,\u001b[49m\u001b[43m \u001b[49m\u001b[43mkwargs\u001b[49m\u001b[43m)\u001b[49m\u001b[43m)\u001b[49m\n\u001b[0;32m    425\u001b[0m \u001b[38;5;28;01mreturn\u001b[39;00m data\n",
      "File \u001b[1;32mc:\\Users\\aymli\\anaconda3\\envs\\demucs\\lib\\site-packages\\madmom\\processors.py:289\u001b[0m, in \u001b[0;36m_process\u001b[1;34m(process_tuple)\u001b[0m\n\u001b[0;32m    287\u001b[0m \u001b[38;5;66;03m# call the Processor with data and kwargs\u001b[39;00m\n\u001b[0;32m    288\u001b[0m \u001b[38;5;28;01melif\u001b[39;00m \u001b[38;5;28misinstance\u001b[39m(process_tuple[\u001b[38;5;241m0\u001b[39m], Processor):\n\u001b[1;32m--> 289\u001b[0m     \u001b[38;5;28;01mreturn\u001b[39;00m process_tuple[\u001b[38;5;241m0\u001b[39m](\u001b[38;5;241m*\u001b[39mprocess_tuple[\u001b[38;5;241m1\u001b[39m:\u001b[38;5;241m-\u001b[39m\u001b[38;5;241m1\u001b[39m], \u001b[38;5;241m*\u001b[39m\u001b[38;5;241m*\u001b[39mprocess_tuple[\u001b[38;5;241m-\u001b[39m\u001b[38;5;241m1\u001b[39m])\n\u001b[0;32m    290\u001b[0m \u001b[38;5;66;03m# just call whatever we got here (e.g. a function) without kwargs\u001b[39;00m\n\u001b[0;32m    291\u001b[0m \u001b[38;5;28;01mreturn\u001b[39;00m process_tuple[\u001b[38;5;241m0\u001b[39m](\u001b[38;5;241m*\u001b[39mprocess_tuple[\u001b[38;5;241m1\u001b[39m:\u001b[38;5;241m-\u001b[39m\u001b[38;5;241m1\u001b[39m])\n",
      "File \u001b[1;32mc:\\Users\\aymli\\anaconda3\\envs\\demucs\\lib\\site-packages\\madmom\\processors.py:120\u001b[0m, in \u001b[0;36mProcessor.__call__\u001b[1;34m(self, *args, **kwargs)\u001b[0m\n\u001b[0;32m    118\u001b[0m \u001b[38;5;28;01mdef\u001b[39;00m\u001b[38;5;250m \u001b[39m\u001b[38;5;21m__call__\u001b[39m(\u001b[38;5;28mself\u001b[39m, \u001b[38;5;241m*\u001b[39margs, \u001b[38;5;241m*\u001b[39m\u001b[38;5;241m*\u001b[39mkwargs):\n\u001b[0;32m    119\u001b[0m     \u001b[38;5;66;03m# this magic method makes a Processor callable\u001b[39;00m\n\u001b[1;32m--> 120\u001b[0m     \u001b[38;5;28;01mreturn\u001b[39;00m \u001b[38;5;28mself\u001b[39m\u001b[38;5;241m.\u001b[39mprocess(\u001b[38;5;241m*\u001b[39margs, \u001b[38;5;241m*\u001b[39m\u001b[38;5;241m*\u001b[39mkwargs)\n",
      "File \u001b[1;32mc:\\Users\\aymli\\anaconda3\\envs\\demucs\\lib\\site-packages\\madmom\\processors.py:424\u001b[0m, in \u001b[0;36mSequentialProcessor.process\u001b[1;34m(self, data, **kwargs)\u001b[0m\n\u001b[0;32m    422\u001b[0m \u001b[38;5;66;03m# sequentially process the data\u001b[39;00m\n\u001b[0;32m    423\u001b[0m \u001b[38;5;28;01mfor\u001b[39;00m processor \u001b[38;5;129;01min\u001b[39;00m \u001b[38;5;28mself\u001b[39m\u001b[38;5;241m.\u001b[39mprocessors:\n\u001b[1;32m--> 424\u001b[0m     data \u001b[38;5;241m=\u001b[39m \u001b[43m_process\u001b[49m\u001b[43m(\u001b[49m\u001b[43m(\u001b[49m\u001b[43mprocessor\u001b[49m\u001b[43m,\u001b[49m\u001b[43m \u001b[49m\u001b[43mdata\u001b[49m\u001b[43m,\u001b[49m\u001b[43m \u001b[49m\u001b[43mkwargs\u001b[49m\u001b[43m)\u001b[49m\u001b[43m)\u001b[49m\n\u001b[0;32m    425\u001b[0m \u001b[38;5;28;01mreturn\u001b[39;00m data\n",
      "File \u001b[1;32mc:\\Users\\aymli\\anaconda3\\envs\\demucs\\lib\\site-packages\\madmom\\processors.py:289\u001b[0m, in \u001b[0;36m_process\u001b[1;34m(process_tuple)\u001b[0m\n\u001b[0;32m    287\u001b[0m \u001b[38;5;66;03m# call the Processor with data and kwargs\u001b[39;00m\n\u001b[0;32m    288\u001b[0m \u001b[38;5;28;01melif\u001b[39;00m \u001b[38;5;28misinstance\u001b[39m(process_tuple[\u001b[38;5;241m0\u001b[39m], Processor):\n\u001b[1;32m--> 289\u001b[0m     \u001b[38;5;28;01mreturn\u001b[39;00m process_tuple[\u001b[38;5;241m0\u001b[39m](\u001b[38;5;241m*\u001b[39mprocess_tuple[\u001b[38;5;241m1\u001b[39m:\u001b[38;5;241m-\u001b[39m\u001b[38;5;241m1\u001b[39m], \u001b[38;5;241m*\u001b[39m\u001b[38;5;241m*\u001b[39mprocess_tuple[\u001b[38;5;241m-\u001b[39m\u001b[38;5;241m1\u001b[39m])\n\u001b[0;32m    290\u001b[0m \u001b[38;5;66;03m# just call whatever we got here (e.g. a function) without kwargs\u001b[39;00m\n\u001b[0;32m    291\u001b[0m \u001b[38;5;28;01mreturn\u001b[39;00m process_tuple[\u001b[38;5;241m0\u001b[39m](\u001b[38;5;241m*\u001b[39mprocess_tuple[\u001b[38;5;241m1\u001b[39m:\u001b[38;5;241m-\u001b[39m\u001b[38;5;241m1\u001b[39m])\n",
      "File \u001b[1;32mc:\\Users\\aymli\\anaconda3\\envs\\demucs\\lib\\site-packages\\madmom\\processors.py:120\u001b[0m, in \u001b[0;36mProcessor.__call__\u001b[1;34m(self, *args, **kwargs)\u001b[0m\n\u001b[0;32m    118\u001b[0m \u001b[38;5;28;01mdef\u001b[39;00m\u001b[38;5;250m \u001b[39m\u001b[38;5;21m__call__\u001b[39m(\u001b[38;5;28mself\u001b[39m, \u001b[38;5;241m*\u001b[39margs, \u001b[38;5;241m*\u001b[39m\u001b[38;5;241m*\u001b[39mkwargs):\n\u001b[0;32m    119\u001b[0m     \u001b[38;5;66;03m# this magic method makes a Processor callable\u001b[39;00m\n\u001b[1;32m--> 120\u001b[0m     \u001b[38;5;28;01mreturn\u001b[39;00m \u001b[38;5;28mself\u001b[39m\u001b[38;5;241m.\u001b[39mprocess(\u001b[38;5;241m*\u001b[39margs, \u001b[38;5;241m*\u001b[39m\u001b[38;5;241m*\u001b[39mkwargs)\n",
      "File \u001b[1;32mc:\\Users\\aymli\\anaconda3\\envs\\demucs\\lib\\site-packages\\madmom\\processors.py:484\u001b[0m, in \u001b[0;36mParallelProcessor.process\u001b[1;34m(self, data, **kwargs)\u001b[0m\n\u001b[0;32m    482\u001b[0m     \u001b[38;5;28;01mreturn\u001b[39;00m [_process((\u001b[38;5;28mself\u001b[39m\u001b[38;5;241m.\u001b[39mprocessors[\u001b[38;5;241m0\u001b[39m], data, kwargs))]\n\u001b[0;32m    483\u001b[0m \u001b[38;5;66;03m# process data in parallel and return a list with processed data\u001b[39;00m\n\u001b[1;32m--> 484\u001b[0m \u001b[38;5;28;01mreturn\u001b[39;00m \u001b[38;5;28;43mlist\u001b[39;49m\u001b[43m(\u001b[49m\u001b[38;5;28;43mself\u001b[39;49m\u001b[38;5;241;43m.\u001b[39;49m\u001b[43mmap\u001b[49m\u001b[43m(\u001b[49m\u001b[43m_process\u001b[49m\u001b[43m,\u001b[49m\u001b[43m \u001b[49m\u001b[38;5;28;43mzip\u001b[39;49m\u001b[43m(\u001b[49m\u001b[38;5;28;43mself\u001b[39;49m\u001b[38;5;241;43m.\u001b[39;49m\u001b[43mprocessors\u001b[49m\u001b[43m,\u001b[49m\u001b[43m \u001b[49m\u001b[43mit\u001b[49m\u001b[38;5;241;43m.\u001b[39;49m\u001b[43mrepeat\u001b[49m\u001b[43m(\u001b[49m\u001b[43mdata\u001b[49m\u001b[43m)\u001b[49m\u001b[43m,\u001b[49m\n\u001b[0;32m    485\u001b[0m \u001b[43m                                   \u001b[49m\u001b[43mit\u001b[49m\u001b[38;5;241;43m.\u001b[39;49m\u001b[43mrepeat\u001b[49m\u001b[43m(\u001b[49m\u001b[43mkwargs\u001b[49m\u001b[43m)\u001b[49m\u001b[43m)\u001b[49m\u001b[43m)\u001b[49m\u001b[43m)\u001b[49m\n",
      "File \u001b[1;32mc:\\Users\\aymli\\anaconda3\\envs\\demucs\\lib\\site-packages\\madmom\\processors.py:289\u001b[0m, in \u001b[0;36m_process\u001b[1;34m(process_tuple)\u001b[0m\n\u001b[0;32m    287\u001b[0m \u001b[38;5;66;03m# call the Processor with data and kwargs\u001b[39;00m\n\u001b[0;32m    288\u001b[0m \u001b[38;5;28;01melif\u001b[39;00m \u001b[38;5;28misinstance\u001b[39m(process_tuple[\u001b[38;5;241m0\u001b[39m], Processor):\n\u001b[1;32m--> 289\u001b[0m     \u001b[38;5;28;01mreturn\u001b[39;00m process_tuple[\u001b[38;5;241m0\u001b[39m](\u001b[38;5;241m*\u001b[39mprocess_tuple[\u001b[38;5;241m1\u001b[39m:\u001b[38;5;241m-\u001b[39m\u001b[38;5;241m1\u001b[39m], \u001b[38;5;241m*\u001b[39m\u001b[38;5;241m*\u001b[39mprocess_tuple[\u001b[38;5;241m-\u001b[39m\u001b[38;5;241m1\u001b[39m])\n\u001b[0;32m    290\u001b[0m \u001b[38;5;66;03m# just call whatever we got here (e.g. a function) without kwargs\u001b[39;00m\n\u001b[0;32m    291\u001b[0m \u001b[38;5;28;01mreturn\u001b[39;00m process_tuple[\u001b[38;5;241m0\u001b[39m](\u001b[38;5;241m*\u001b[39mprocess_tuple[\u001b[38;5;241m1\u001b[39m:\u001b[38;5;241m-\u001b[39m\u001b[38;5;241m1\u001b[39m])\n",
      "File \u001b[1;32mc:\\Users\\aymli\\anaconda3\\envs\\demucs\\lib\\site-packages\\madmom\\processors.py:120\u001b[0m, in \u001b[0;36mProcessor.__call__\u001b[1;34m(self, *args, **kwargs)\u001b[0m\n\u001b[0;32m    118\u001b[0m \u001b[38;5;28;01mdef\u001b[39;00m\u001b[38;5;250m \u001b[39m\u001b[38;5;21m__call__\u001b[39m(\u001b[38;5;28mself\u001b[39m, \u001b[38;5;241m*\u001b[39margs, \u001b[38;5;241m*\u001b[39m\u001b[38;5;241m*\u001b[39mkwargs):\n\u001b[0;32m    119\u001b[0m     \u001b[38;5;66;03m# this magic method makes a Processor callable\u001b[39;00m\n\u001b[1;32m--> 120\u001b[0m     \u001b[38;5;28;01mreturn\u001b[39;00m \u001b[38;5;28mself\u001b[39m\u001b[38;5;241m.\u001b[39mprocess(\u001b[38;5;241m*\u001b[39margs, \u001b[38;5;241m*\u001b[39m\u001b[38;5;241m*\u001b[39mkwargs)\n",
      "File \u001b[1;32mc:\\Users\\aymli\\anaconda3\\envs\\demucs\\lib\\site-packages\\madmom\\ml\\nn\\__init__.py:101\u001b[0m, in \u001b[0;36mNeuralNetwork.process\u001b[1;34m(self, data, reset, **kwargs)\u001b[0m\n\u001b[0;32m     98\u001b[0m \u001b[38;5;66;03m# loop over all layers\u001b[39;00m\n\u001b[0;32m     99\u001b[0m \u001b[38;5;28;01mfor\u001b[39;00m layer \u001b[38;5;129;01min\u001b[39;00m \u001b[38;5;28mself\u001b[39m\u001b[38;5;241m.\u001b[39mlayers:\n\u001b[0;32m    100\u001b[0m     \u001b[38;5;66;03m# activate the layer and feed the output into the next one\u001b[39;00m\n\u001b[1;32m--> 101\u001b[0m     data \u001b[38;5;241m=\u001b[39m \u001b[43mlayer\u001b[49m\u001b[38;5;241;43m.\u001b[39;49m\u001b[43mactivate\u001b[49m\u001b[43m(\u001b[49m\u001b[43mdata\u001b[49m\u001b[43m,\u001b[49m\u001b[43m \u001b[49m\u001b[43mreset\u001b[49m\u001b[38;5;241;43m=\u001b[39;49m\u001b[43mreset\u001b[49m\u001b[43m)\u001b[49m\n\u001b[0;32m    102\u001b[0m \u001b[38;5;66;03m# ravel the predictions if needed\u001b[39;00m\n\u001b[0;32m    103\u001b[0m \u001b[38;5;28;01mif\u001b[39;00m data\u001b[38;5;241m.\u001b[39mndim \u001b[38;5;241m==\u001b[39m \u001b[38;5;241m2\u001b[39m \u001b[38;5;129;01mand\u001b[39;00m data\u001b[38;5;241m.\u001b[39mshape[\u001b[38;5;241m1\u001b[39m] \u001b[38;5;241m==\u001b[39m \u001b[38;5;241m1\u001b[39m:\n",
      "File \u001b[1;32mc:\\Users\\aymli\\anaconda3\\envs\\demucs\\lib\\site-packages\\madmom\\ml\\nn\\layers.py:227\u001b[0m, in \u001b[0;36mmadmom.ml.nn.layers.BidirectionalLayer.activate\u001b[1;34m()\u001b[0m\n",
      "File \u001b[1;32mc:\\Users\\aymli\\anaconda3\\envs\\demucs\\lib\\site-packages\\madmom\\ml\\nn\\layers.py:28\u001b[0m, in \u001b[0;36mmadmom.ml.nn.layers.Layer.__call__\u001b[1;34m()\u001b[0m\n",
      "File \u001b[1;32mc:\\Users\\aymli\\anaconda3\\envs\\demucs\\lib\\site-packages\\madmom\\ml\\nn\\layers.py:443\u001b[0m, in \u001b[0;36mmadmom.ml.nn.layers.LSTMLayer.activate\u001b[1;34m()\u001b[0m\n",
      "File \u001b[1;32mc:\\Users\\aymli\\anaconda3\\envs\\demucs\\lib\\site-packages\\madmom\\ml\\nn\\layers.py:285\u001b[0m, in \u001b[0;36mmadmom.ml.nn.layers.Gate.activate\u001b[1;34m()\u001b[0m\n",
      "File \u001b[1;32m<__array_function__ internals>:5\u001b[0m, in \u001b[0;36mdot\u001b[1;34m(*args, **kwargs)\u001b[0m\n",
      "\u001b[1;31mKeyboardInterrupt\u001b[0m: "
     ]
    }
   ],
   "source": [
    "song_links = []\n",
    "hop_length = 512\n",
    "with open(\"links.csv\", newline=\"\") as f:\n",
    "    reader = csv.DictReader(f)\n",
    "    for row in reader:\n",
    "        song_links.append(row[\"audio_link\"])\n",
    "\n",
    "for i in range(len(song_links)):\n",
    "    download_mp3(song_links[i], f\"song/{i}\")\n",
    "\n",
    "    y_s, sr = librosa.load(f\"song/{i}.mp3\")\n",
    "    y_s = trim_silence(y_s)\n",
    "\n",
    "    y_s_harmonic, y_s_percussive = librosa.effects.hpss(y_s)\n",
    "        #y_p_harmonic, y_p_percussive = librosa.effects.hpss(y_p)\n",
    "\n",
    "    pm = pretty_midi.PrettyMIDI(f\"midi/{i}.mid\")\n",
    "\n",
    "    C_s = audio_to_chroma(y_s_harmonic, sr, hop_length)\n",
    "    C_p = midi_to_chroma(pm, sr, hop_length)\n",
    "\n",
    "    beats_s, downbeats_s, act_s, tempo_s = get_beats_and_downbeats(y_s, sr)\n",
    "    downbeats_p = pm.get_downbeats()\n",
    "    beats_p = pm.get_beats()\n",
    "\n",
    "    tempo_p = 60 / np.mean(np.diff(beats_p))\n",
    "\n",
    "    if tempo_p / 1.8 > tempo_s:\n",
    "        beats_s, downbeats_s, act_s, tempo_s = get_beats_and_downbeats(y_s, sr, tempo=tempo_p)\n",
    "\n",
    "    if tempo_s / 1.8 > tempo_p:\n",
    "        beats_s, downbeats_s, act_s, tempo_s = get_beats_and_downbeats(y_s, sr, tempo=tempo_p)\n",
    "\n",
    "\n",
    "    aligned, pm, y_s = dtw_align_m(y_s_harmonic, y_s, pm, downbeats_s, downbeats_p, sr, hop_length=512, n_beats=8, sim_metric='cosine', cost_threshold=500)\n",
    "\n",
    "    os.remove(f\"song/{i}.mp3\")\n",
    "\n",
    "    if len(y_s) != 0:\n",
    "        pm.write(f\"midi_done/{i}.mid\")\n",
    "        sf.write(f\"song/{i}.mp3\",  y_s, sr, bitrate_mode='VARIABLE', compression_level=0)\n",
    "    \n"
   ]
  }
 ],
 "metadata": {
  "kernelspec": {
   "display_name": "demucs",
   "language": "python",
   "name": "python3"
  },
  "language_info": {
   "codemirror_mode": {
    "name": "ipython",
    "version": 3
   },
   "file_extension": ".py",
   "mimetype": "text/x-python",
   "name": "python",
   "nbconvert_exporter": "python",
   "pygments_lexer": "ipython3",
   "version": "3.9.21"
  }
 },
 "nbformat": 4,
 "nbformat_minor": 5
}
