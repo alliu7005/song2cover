{
 "cells": [
  {
   "cell_type": "code",
   "execution_count": 1,
   "id": "2195f570",
   "metadata": {},
   "outputs": [],
   "source": [
    "from __future__ import unicode_literals\n",
    "from yt_dlp import YoutubeDL\n",
    "import librosa\n",
    "from madmom.features.beats import DBNBeatTrackingProcessor, RNNBeatProcessor\n",
    "from madmom.features.downbeats import DBNDownBeatTrackingProcessor, RNNDownBeatProcessor\n",
    "import soundfile as sf\n",
    "import numpy as np\n",
    "import os\n",
    "from pydub import AudioSegment\n",
    "import matplotlib.pyplot as plt\n",
    "from scipy.spatial.distance import cdist\n",
    "import openl3\n",
    "from madmom.features.chords import DeepChromaChordRecognitionProcessor, majmin_targets_to_chord_labels\n",
    "from madmom.evaluation.chords import encode as encode_chords, merge_chords, reduce_to_triads\n",
    "from madmom.audio.chroma import DeepChromaProcessor\n",
    "import csv\n",
    "import pretty_midi\n",
    "\n",
    "\n",
    "\n",
    "%load_ext autoreload\n",
    "%autoreload 2"
   ]
  },
  {
   "cell_type": "code",
   "execution_count": 2,
   "id": "4e78cb15",
   "metadata": {},
   "outputs": [],
   "source": [
    "def download_mp3(url, out_path=\"./%(title)s.%(ext)s\"):\n",
    "    ydl_opts = {\n",
    "        \"format\": \"bestaudio/best\",\n",
    "        \"outtmpl\": out_path,\n",
    "        \"ffmpeg_location\": r\"C:\\FFmpeg\\bin\",\n",
    "        \"postprocessors\": [{\n",
    "            \"key\": \"FFmpegExtractAudio\",\n",
    "            \"preferredcodec\": \"mp3\",\n",
    "                \"preferredquality\": \"192\",\n",
    "        }],\n",
    "        \"quiet\": False,\n",
    "        \"no_warnings\": True, \n",
    "    }\n",
    "\n",
    "    with YoutubeDL(ydl_opts) as ydl:\n",
    "        ydl.download([url])"
   ]
  },
  {
   "cell_type": "code",
   "execution_count": 3,
   "id": "4eb4f4d9",
   "metadata": {},
   "outputs": [],
   "source": [
    "def get_beats_and_downbeats(y, sr, tempo=0):\n",
    "\n",
    "    if tempo == 0:\n",
    "        tempo, _ = librosa.beat.beat_track(y=y, sr=sr)\n",
    "    #beat_tracker = BeatNet(1, mode=\"online\", inference_model=\"PF\", thread=False)\n",
    "    #beats_np = beat_tracker.process(y)\n",
    "    #print(beats_np)\n",
    "    print(tempo)\n",
    "    sf.write(\"test.wav\",y,sr)\n",
    "    act = RNNDownBeatProcessor()(\"test.wav\")\n",
    "\n",
    "    dbn = DBNDownBeatTrackingProcessor(beats_per_bar=4, fps=100, min_bpm = tempo * 0.8, max_bpm = tempo * 1.2)\n",
    "\n",
    "    downbeats = dbn(act)\n",
    "\n",
    "    \n",
    "    beats = np.array([time for time, beat in downbeats])\n",
    "    downbeats = np.array([time for time, beat in downbeats if beat == 1])\n",
    "    print(60/np.mean(np.diff(beats)))\n",
    "    os.remove(\"test.wav\")\n",
    "    #print(beats_fixed)\n",
    "    #return beats\n",
    "    return (beats, downbeats, act, tempo)\n",
    "\n",
    "def load(path):\n",
    "    return librosa.load(path)\n",
    "\n",
    "def get_clicks(beats, sr):\n",
    "    return librosa.clicks(times=beats, sr=sr)\n",
    "\n",
    "def overlay(y, clicks, sr, path):\n",
    "    sf.write(\"y.wav\", y, sr, subtype='PCM_16')\n",
    "    sf.write(\"clicks.wav\", clicks, sr, subtype='PCM_16')\n",
    "\n",
    "   \n",
    "    y_audio = AudioSegment.from_wav(\"y.wav\")\n",
    "    clicks_audio = AudioSegment.from_wav(\"clicks.wav\")\n",
    "    audio = y_audio.overlay(clicks_audio)\n",
    "\n",
    "    os.remove(\"y.wav\")\n",
    "    os.remove(\"clicks.wav\")\n",
    "\n",
    "\n",
    "    audio.export(path, format=\"wav\")\n",
    "\n",
    "def trim_silence(y):\n",
    "    y_t, index = librosa.effects.trim(y, top_db=40)\n",
    "    return y_t"
   ]
  },
  {
   "cell_type": "code",
   "execution_count": 4,
   "id": "20dc339b",
   "metadata": {},
   "outputs": [],
   "source": [
    "def midi_to_chroma(pm, sr, hop_length):\n",
    "    chroma = pm.get_chroma(fs=sr / hop_length)\n",
    "    return librosa.util.normalize(chroma + 1e-6, axis=0)\n",
    "\n",
    "def audio_to_chroma(y, sr, hop_length):\n",
    "    C = librosa.feature.chroma_stft(y=y, sr=sr, hop_length=hop_length)\n",
    "    return C\n",
    "    #return librosa.util.normalize(C, axis=0)"
   ]
  },
  {
   "cell_type": "code",
   "execution_count": 6,
   "id": "b67423d8",
   "metadata": {},
   "outputs": [],
   "source": [
    "def slice_midi_segment(pm: pretty_midi.PrettyMIDI, times):\n",
    "    t0, t1 = times\n",
    "    seg = pretty_midi.PrettyMIDI()\n",
    "    for instr in pm.instruments:\n",
    "        instr_seg = pretty_midi.Instrument(program=instr.program,\n",
    "                                           is_drum=instr.is_drum)\n",
    "        for note in instr.notes:\n",
    "            if note.start >= t0 and note.start < t1:\n",
    "                n = pretty_midi.Note(\n",
    "                    velocity=note.velocity,\n",
    "                    pitch=note.pitch,\n",
    "                    start=note.start - t0,\n",
    "                    end  =min(note.end - t0, t1 - t0)\n",
    "                )\n",
    "                instr_seg.notes.append(n)\n",
    "        seg.instruments.append(instr_seg)\n",
    "    return seg\n",
    "\n",
    "def concat_midi(midis):\n",
    "    merged = pretty_midi.PrettyMIDI()\n",
    "    merged.instruments = [instr for instr in midis[0].instruments]\n",
    "    current_time = midis[0].get_end_time()\n",
    "\n",
    "    # Iterate over the rest\n",
    "    for pm in midis[1:]:\n",
    "        # For each instrument in this segment\n",
    "        for instr in pm.instruments:\n",
    "            # Copy the instrument and shift its notes/events\n",
    "            instr_copy = pretty_midi.Instrument(\n",
    "                program=instr.program,\n",
    "                is_drum=instr.is_drum,\n",
    "                name=instr.name\n",
    "            )\n",
    "            # Shift each note\n",
    "            for note in instr.notes:\n",
    "                instr_copy.notes.append(pretty_midi.Note(\n",
    "                    velocity=note.velocity,\n",
    "                    pitch=note.pitch,\n",
    "                    start=note.start + current_time,\n",
    "                    end=note.end   + current_time\n",
    "                ))\n",
    "            # Shift any control changes or pitch bends if you care to preserve them:\n",
    "            for cc in instr.control_changes:\n",
    "                instr_copy.control_changes.append(pretty_midi.ControlChange(\n",
    "                    number=cc.number,\n",
    "                    value=cc.value,\n",
    "                    time=cc.time + current_time\n",
    "                ))\n",
    "            for pb in instr.pitch_bends:\n",
    "                instr_copy.pitch_bends.append(pretty_midi.PitchBend(\n",
    "                    pitch=pb.pitch,\n",
    "                    time=pb.time + current_time\n",
    "                ))\n",
    "            merged.instruments.append(instr_copy)\n",
    "\n",
    "        # Advance the time offset by this segment’s length\n",
    "        current_time += pm.get_end_time()\n",
    "\n",
    "    return merged\n",
    "\n",
    "\n",
    "def dtw_align_m(y_s_harmonic, y_s, midi_p, downbeats_s, downbeats_p, sr, hop_length=512, n_beats=8, sim_metric='cosine', cost_threshold=1e3):\n",
    "    aligned = []\n",
    "    seg_s = np.array([])\n",
    "    seg_p = pretty_midi.PrettyMIDI()\n",
    "    seg_p_list = []\n",
    "    i = 0\n",
    "    print(len(downbeats_s), len(downbeats_p))\n",
    "    while i < len(downbeats_s) or i < len(downbeats_p):\n",
    "        if i + n_beats >= min(len(downbeats_s), len(downbeats_p)) - 1:\n",
    "            break\n",
    "\n",
    "        t0_p, t1_p = downbeats_p[i], downbeats_p[i+n_beats]\n",
    "        t0_s, t1_s = downbeats_s[i], downbeats_s[i+n_beats]\n",
    "\n",
    "        mid_chunk_p = slice_midi_segment(midi_p, (t0_p, t1_p))\n",
    "        s0_s, s1_s = int(t0_s * sr), int(t1_s * sr)\n",
    "\n",
    "        y_chunk_s_harmonic = y_s_harmonic[s0_s: s1_s]\n",
    "        y_chunk_s = y_s[s0_s: s1_s]\n",
    "\n",
    "        C_s = audio_to_chroma(y_chunk_s_harmonic, sr, hop_length)\n",
    "        C_p = midi_to_chroma(mid_chunk_p, sr, hop_length)\n",
    "\n",
    "        D_feat = cdist(C_p.T, C_s.T, metric=sim_metric)\n",
    "\n",
    "        alpha = 0.03\n",
    "        idx1 = np.arange(D_feat.shape[0])[:,None]\n",
    "        idx2 = np.arange(D_feat.shape[1])[None,:]\n",
    "        D_time = alpha * np.abs(idx1 - idx2)\n",
    "\n",
    "        Cost = D_feat + D_time\n",
    "\n",
    "        D, wp = librosa.sequence.dtw(C=Cost)\n",
    "        cost = D[-1, -1]\n",
    "\n",
    "        print(i, cost)\n",
    "        if cost < cost_threshold:\n",
    "            aligned.append((t0_p, t1_p, t0_s, t1_s, cost))\n",
    "            seg_p_list.append(mid_chunk_p)\n",
    "            seg_s = np.concatenate((seg_s, y_chunk_s))\n",
    "            #j += 8\n",
    "            i += 8\n",
    "        else:\n",
    "            break\n",
    "            #if len(downbeats_p) < len(downbeats_s):\n",
    "            #    i += 1\n",
    "            #else:\n",
    "            #   j += 1\n",
    "    print(seg_p_list)\n",
    "    if len(seg_p_list) > 0:\n",
    "        seg_p = concat_midi(seg_p_list)\n",
    "\n",
    "    return aligned, seg_p, seg_s"
   ]
  },
  {
   "cell_type": "code",
   "execution_count": 8,
   "id": "efdee4df",
   "metadata": {},
   "outputs": [
    {
     "name": "stdout",
     "output_type": "stream",
     "text": [
      "[youtube] Extracting URL: https://www.youtube.com/watch?v=GB_S2qFh5lU\n",
      "[youtube] GB_S2qFh5lU: Downloading webpage\n",
      "[youtube] GB_S2qFh5lU: Downloading tv client config\n",
      "[youtube] GB_S2qFh5lU: Downloading tv player API JSON\n",
      "[youtube] GB_S2qFh5lU: Downloading ios player API JSON\n",
      "[youtube] GB_S2qFh5lU: Downloading m3u8 information\n",
      "[info] GB_S2qFh5lU: Downloading 1 format(s): 251\n",
      "[download] Resuming download at byte 3019999\n",
      "[download] Destination: song\\41\n",
      "[download] 100% of    3.78MiB in 00:00:03 at 976.02KiB/s \n",
      "[ExtractAudio] Destination: song\\41.mp3\n",
      "Deleting original file song\\41 (pass -k to keep)\n"
     ]
    },
    {
     "name": "stderr",
     "output_type": "stream",
     "text": [
      "c:\\Users\\aymli\\anaconda3\\envs\\process\\lib\\site-packages\\pretty_midi\\pretty_midi.py:100: RuntimeWarning: Tempo, Key or Time signature change events found on non-zero tracks.  This is not a valid type 0 or type 1 MIDI file.  Tempo, Key or Time Signature may be wrong.\n",
      "  warnings.warn(\n"
     ]
    },
    {
     "name": "stdout",
     "output_type": "stream",
     "text": [
      "[143.5546875]\n"
     ]
    },
    {
     "name": "stderr",
     "output_type": "stream",
     "text": [
      "c:\\Users\\aymli\\anaconda3\\envs\\process\\lib\\site-packages\\numpy\\core\\_asarray.py:102: VisibleDeprecationWarning: Creating an ndarray from ragged nested sequences (which is a list-or-tuple of lists-or-tuples-or ndarrays with different lengths or shapes) is deprecated. If you meant to do this, you must specify 'dtype=object' when creating the ndarray.\n",
      "  return array(a, dtype, copy=False, order=order)\n"
     ]
    },
    {
     "name": "stdout",
     "output_type": "stream",
     "text": [
      "142.83855860543773\n",
      "72.00002880001118\n",
      "71.39755059497959\n",
      "69 70\n",
      "0 349.7130606657207\n",
      "8 631.3882617252888\n",
      "[<pretty_midi.pretty_midi.PrettyMIDI object at 0x0000021C42714A60>]\n",
      "[youtube] Extracting URL: https://www.youtube.com/watch?v=YyV2k8Almuk\n",
      "[youtube] YyV2k8Almuk: Downloading webpage\n",
      "[youtube] YyV2k8Almuk: Downloading tv client config\n",
      "[youtube] YyV2k8Almuk: Downloading tv player API JSON\n",
      "[youtube] YyV2k8Almuk: Downloading ios player API JSON\n",
      "[youtube] YyV2k8Almuk: Downloading m3u8 information\n",
      "[info] YyV2k8Almuk: Downloading 1 format(s): 251\n",
      "[download] Destination: song\\42\n",
      "[download] 100% of    2.57MiB in 00:00:10 at 243.55KiB/s \n",
      "[ExtractAudio] Destination: song\\42.mp3\n",
      "Deleting original file song\\42 (pass -k to keep)\n"
     ]
    },
    {
     "name": "stderr",
     "output_type": "stream",
     "text": [
      "c:\\Users\\aymli\\anaconda3\\envs\\process\\lib\\site-packages\\pretty_midi\\pretty_midi.py:100: RuntimeWarning: Tempo, Key or Time signature change events found on non-zero tracks.  This is not a valid type 0 or type 1 MIDI file.  Tempo, Key or Time Signature may be wrong.\n",
      "  warnings.warn(\n"
     ]
    },
    {
     "name": "stdout",
     "output_type": "stream",
     "text": [
      "[112.34714674]\n"
     ]
    },
    {
     "name": "stderr",
     "output_type": "stream",
     "text": [
      "c:\\Users\\aymli\\anaconda3\\envs\\process\\lib\\site-packages\\numpy\\core\\_asarray.py:102: VisibleDeprecationWarning: Creating an ndarray from ragged nested sequences (which is a list-or-tuple of lists-or-tuples-or ndarrays with different lengths or shapes) is deprecated. If you meant to do this, you must specify 'dtype=object' when creating the ndarray.\n",
      "  return array(a, dtype, copy=False, order=order)\n"
     ]
    },
    {
     "name": "stdout",
     "output_type": "stream",
     "text": [
      "113.98234616860688\n",
      "75 76\n",
      "0 351.6166587042056\n",
      "8 311.36232772829754\n",
      "16 309.36963360923437\n",
      "24 343.5581895161836\n",
      "32 317.19590689600574\n",
      "40 342.13961415516417\n",
      "48 418.4257142560207\n",
      "56 310.40079965808275\n",
      "64 317.0592843981677\n",
      "[<pretty_midi.pretty_midi.PrettyMIDI object at 0x0000021C4271D5E0>, <pretty_midi.pretty_midi.PrettyMIDI object at 0x0000021C42754580>, <pretty_midi.pretty_midi.PrettyMIDI object at 0x0000021C43B3CA90>, <pretty_midi.pretty_midi.PrettyMIDI object at 0x0000021C43B3CA00>, <pretty_midi.pretty_midi.PrettyMIDI object at 0x0000021C43BC9490>, <pretty_midi.pretty_midi.PrettyMIDI object at 0x0000021C43BD4E80>, <pretty_midi.pretty_midi.PrettyMIDI object at 0x0000021C43BCE370>, <pretty_midi.pretty_midi.PrettyMIDI object at 0x0000021C440C9580>, <pretty_midi.pretty_midi.PrettyMIDI object at 0x0000021C440D5190>]\n",
      "[youtube] Extracting URL: https://www.youtube.com/watch?v=_03-NQCb-qw\n",
      "[youtube] _03-NQCb-qw: Downloading webpage\n",
      "[youtube] _03-NQCb-qw: Downloading tv client config\n",
      "[youtube] _03-NQCb-qw: Downloading tv player API JSON\n",
      "[youtube] _03-NQCb-qw: Downloading ios player API JSON\n",
      "[youtube] _03-NQCb-qw: Downloading m3u8 information\n",
      "[info] _03-NQCb-qw: Downloading 1 format(s): 251\n",
      "[download] Destination: song\\43\n",
      "[download] 100% of    3.43MiB in 00:00:14 at 241.97KiB/s \n",
      "[ExtractAudio] Destination: song\\43.mp3\n",
      "Deleting original file song\\43 (pass -k to keep)\n"
     ]
    },
    {
     "name": "stderr",
     "output_type": "stream",
     "text": [
      "c:\\Users\\aymli\\anaconda3\\envs\\process\\lib\\site-packages\\pretty_midi\\pretty_midi.py:100: RuntimeWarning: Tempo, Key or Time signature change events found on non-zero tracks.  This is not a valid type 0 or type 1 MIDI file.  Tempo, Key or Time Signature may be wrong.\n",
      "  warnings.warn(\n"
     ]
    },
    {
     "name": "stdout",
     "output_type": "stream",
     "text": [
      "[143.5546875]\n"
     ]
    },
    {
     "name": "stderr",
     "output_type": "stream",
     "text": [
      "c:\\Users\\aymli\\anaconda3\\envs\\process\\lib\\site-packages\\numpy\\core\\_asarray.py:102: VisibleDeprecationWarning: Creating an ndarray from ragged nested sequences (which is a list-or-tuple of lists-or-tuples-or ndarrays with different lengths or shapes) is deprecated. If you meant to do this, you must specify 'dtype=object' when creating the ndarray.\n",
      "  return array(a, dtype, copy=False, order=order)\n"
     ]
    },
    {
     "name": "stdout",
     "output_type": "stream",
     "text": [
      "145.9799580517362\n",
      "131 131\n",
      "0 279.0368078922436\n",
      "8 261.12657067063316\n",
      "16 239.95329708258703\n",
      "24 235.5637077094714\n",
      "32 279.5958693443881\n",
      "40 260.1584860675394\n",
      "48 223.80419299419728\n",
      "56 240.26827666510215\n",
      "64 277.2635031460685\n",
      "72 215.49275996278976\n",
      "80 243.9131491940154\n",
      "88 263.22592337650366\n",
      "96 264.2518529625964\n",
      "104 256.1696528369696\n",
      "112 296.53224062039016\n",
      "120 257.9696893340657\n",
      "[<pretty_midi.pretty_midi.PrettyMIDI object at 0x0000021C45EA9C70>, <pretty_midi.pretty_midi.PrettyMIDI object at 0x0000021C3ED0D940>, <pretty_midi.pretty_midi.PrettyMIDI object at 0x0000021C43B78E20>, <pretty_midi.pretty_midi.PrettyMIDI object at 0x0000021C43B58CA0>, <pretty_midi.pretty_midi.PrettyMIDI object at 0x0000021C43BDA1C0>, <pretty_midi.pretty_midi.PrettyMIDI object at 0x0000021C440D0040>, <pretty_midi.pretty_midi.PrettyMIDI object at 0x0000021C43D6C760>, <pretty_midi.pretty_midi.PrettyMIDI object at 0x0000021C440BF6A0>, <pretty_midi.pretty_midi.PrettyMIDI object at 0x0000021C43D6F6A0>, <pretty_midi.pretty_midi.PrettyMIDI object at 0x0000021C43F52880>, <pretty_midi.pretty_midi.PrettyMIDI object at 0x0000021C43F3A9D0>, <pretty_midi.pretty_midi.PrettyMIDI object at 0x0000021C43F356A0>, <pretty_midi.pretty_midi.PrettyMIDI object at 0x0000021C43F287C0>, <pretty_midi.pretty_midi.PrettyMIDI object at 0x0000021C43BAF1C0>, <pretty_midi.pretty_midi.PrettyMIDI object at 0x0000021C43B93F40>, <pretty_midi.pretty_midi.PrettyMIDI object at 0x0000021C43B85A00>]\n",
      "[youtube] Extracting URL: https://www.youtube.com/watch?v=InC7wcQK25Y\n",
      "[youtube] InC7wcQK25Y: Downloading webpage\n",
      "[youtube] InC7wcQK25Y: Downloading tv client config\n",
      "[youtube] InC7wcQK25Y: Downloading tv player API JSON\n",
      "[youtube] InC7wcQK25Y: Downloading ios player API JSON\n",
      "[youtube] InC7wcQK25Y: Downloading m3u8 information\n",
      "[info] InC7wcQK25Y: Downloading 1 format(s): 251\n",
      "[download] Destination: song\\44\n",
      "[download] 100% of    2.48MiB in 00:00:11 at 223.26KiB/s \n",
      "[ExtractAudio] Destination: song\\44.mp3\n",
      "Deleting original file song\\44 (pass -k to keep)\n"
     ]
    },
    {
     "name": "stderr",
     "output_type": "stream",
     "text": [
      "c:\\Users\\aymli\\anaconda3\\envs\\process\\lib\\site-packages\\pretty_midi\\pretty_midi.py:100: RuntimeWarning: Tempo, Key or Time signature change events found on non-zero tracks.  This is not a valid type 0 or type 1 MIDI file.  Tempo, Key or Time Signature may be wrong.\n",
      "  warnings.warn(\n"
     ]
    },
    {
     "name": "stdout",
     "output_type": "stream",
     "text": [
      "[89.10290948]\n"
     ]
    },
    {
     "name": "stderr",
     "output_type": "stream",
     "text": [
      "c:\\Users\\aymli\\anaconda3\\envs\\process\\lib\\site-packages\\numpy\\core\\_asarray.py:102: VisibleDeprecationWarning: Creating an ndarray from ragged nested sequences (which is a list-or-tuple of lists-or-tuples-or ndarrays with different lengths or shapes) is deprecated. If you meant to do this, you must specify 'dtype=object' when creating the ndarray.\n",
      "  return array(a, dtype, copy=False, order=order)\n"
     ]
    },
    {
     "name": "stdout",
     "output_type": "stream",
     "text": [
      "88.00558765635914\n",
      "58 40\n",
      "0 872.7645829091092\n",
      "[]\n",
      "[youtube] Extracting URL: https://www.youtube.com/watch?v=ZAt8oxY0GQo\n",
      "[youtube] ZAt8oxY0GQo: Downloading webpage\n",
      "[youtube] ZAt8oxY0GQo: Downloading tv client config\n",
      "[youtube] ZAt8oxY0GQo: Downloading tv player API JSON\n",
      "[youtube] ZAt8oxY0GQo: Downloading ios player API JSON\n",
      "[youtube] ZAt8oxY0GQo: Downloading m3u8 information\n",
      "[info] ZAt8oxY0GQo: Downloading 1 format(s): 251\n",
      "[download] Destination: song\\45\n",
      "[download] 100% of    2.45MiB in 00:00:10 at 240.09KiB/s \n",
      "[ExtractAudio] Destination: song\\45.mp3\n",
      "Deleting original file song\\45 (pass -k to keep)\n"
     ]
    },
    {
     "name": "stderr",
     "output_type": "stream",
     "text": [
      "c:\\Users\\aymli\\anaconda3\\envs\\process\\lib\\site-packages\\pretty_midi\\pretty_midi.py:100: RuntimeWarning: Tempo, Key or Time signature change events found on non-zero tracks.  This is not a valid type 0 or type 1 MIDI file.  Tempo, Key or Time Signature may be wrong.\n",
      "  warnings.warn(\n"
     ]
    },
    {
     "name": "stdout",
     "output_type": "stream",
     "text": [
      "[129.19921875]\n"
     ]
    },
    {
     "name": "stderr",
     "output_type": "stream",
     "text": [
      "c:\\Users\\aymli\\anaconda3\\envs\\process\\lib\\site-packages\\numpy\\core\\_asarray.py:102: VisibleDeprecationWarning: Creating an ndarray from ragged nested sequences (which is a list-or-tuple of lists-or-tuples-or ndarrays with different lengths or shapes) is deprecated. If you meant to do this, you must specify 'dtype=object' when creating the ndarray.\n",
      "  return array(a, dtype, copy=False, order=order)\n"
     ]
    },
    {
     "name": "stdout",
     "output_type": "stream",
     "text": [
      "127.97164334168552\n",
      "88 89\n",
      "0 441.68143540570156\n",
      "8 418.57295087876133\n",
      "16 384.6958735358003\n",
      "24 308.4335956326817\n",
      "32 373.13166058113876\n",
      "40 318.26104254746207\n",
      "48 371.19032836754747\n",
      "56 391.5710718247834\n",
      "64 356.5644033405766\n",
      "72 322.6982133028908\n",
      "[<pretty_midi.pretty_midi.PrettyMIDI object at 0x0000021C463F93A0>, <pretty_midi.pretty_midi.PrettyMIDI object at 0x0000021C46C25640>, <pretty_midi.pretty_midi.PrettyMIDI object at 0x0000021C43B2BDC0>, <pretty_midi.pretty_midi.PrettyMIDI object at 0x0000021C43B79190>, <pretty_midi.pretty_midi.PrettyMIDI object at 0x0000021C43D6CA60>, <pretty_midi.pretty_midi.PrettyMIDI object at 0x0000021C43BC9310>, <pretty_midi.pretty_midi.PrettyMIDI object at 0x0000021C43AE1760>, <pretty_midi.pretty_midi.PrettyMIDI object at 0x0000021C424473A0>, <pretty_midi.pretty_midi.PrettyMIDI object at 0x0000021C43AFFE80>, <pretty_midi.pretty_midi.PrettyMIDI object at 0x0000021C4249F2E0>]\n",
      "[youtube] Extracting URL: https://www.youtube.com/watch?v=qoomGKIUm8Y\n",
      "[youtube] qoomGKIUm8Y: Downloading webpage\n",
      "[youtube] qoomGKIUm8Y: Downloading tv client config\n",
      "[youtube] qoomGKIUm8Y: Downloading tv player API JSON\n",
      "[youtube] qoomGKIUm8Y: Downloading ios player API JSON\n",
      "[youtube] qoomGKIUm8Y: Downloading m3u8 information\n",
      "[info] qoomGKIUm8Y: Downloading 1 format(s): 251\n",
      "[download] Destination: song\\46\n",
      "[download] 100% of    1.48MiB in 00:00:06 at 244.01KiB/s \n",
      "[ExtractAudio] Destination: song\\46.mp3\n",
      "Deleting original file song\\46 (pass -k to keep)\n"
     ]
    },
    {
     "name": "stderr",
     "output_type": "stream",
     "text": [
      "c:\\Users\\aymli\\anaconda3\\envs\\process\\lib\\site-packages\\pretty_midi\\pretty_midi.py:100: RuntimeWarning: Tempo, Key or Time signature change events found on non-zero tracks.  This is not a valid type 0 or type 1 MIDI file.  Tempo, Key or Time Signature may be wrong.\n",
      "  warnings.warn(\n"
     ]
    },
    {
     "name": "stdout",
     "output_type": "stream",
     "text": [
      "[103.359375]\n"
     ]
    },
    {
     "name": "stderr",
     "output_type": "stream",
     "text": [
      "c:\\Users\\aymli\\anaconda3\\envs\\process\\lib\\site-packages\\numpy\\core\\_asarray.py:102: VisibleDeprecationWarning: Creating an ndarray from ragged nested sequences (which is a list-or-tuple of lists-or-tuples-or ndarrays with different lengths or shapes) is deprecated. If you meant to do this, you must specify 'dtype=object' when creating the ndarray.\n",
      "  return array(a, dtype, copy=False, order=order)\n"
     ]
    },
    {
     "name": "stdout",
     "output_type": "stream",
     "text": [
      "103.11859776917824\n",
      "38 59\n",
      "0 1703.1118529827393\n",
      "[]\n",
      "[youtube] Extracting URL: https://www.youtube.com/watch?v=y4zdDXPYo0I\n",
      "[youtube] y4zdDXPYo0I: Downloading webpage\n",
      "[youtube] y4zdDXPYo0I: Downloading tv client config\n",
      "[youtube] y4zdDXPYo0I: Downloading tv player API JSON\n",
      "[youtube] y4zdDXPYo0I: Downloading ios player API JSON\n",
      "[youtube] y4zdDXPYo0I: Downloading m3u8 information\n",
      "[info] y4zdDXPYo0I: Downloading 1 format(s): 251\n",
      "[download] Destination: song\\47\n",
      "[download] 100% of    3.83MiB in 00:00:16 at 235.46KiB/s \n",
      "[ExtractAudio] Destination: song\\47.mp3\n",
      "Deleting original file song\\47 (pass -k to keep)\n"
     ]
    },
    {
     "name": "stderr",
     "output_type": "stream",
     "text": [
      "c:\\Users\\aymli\\anaconda3\\envs\\process\\lib\\site-packages\\pretty_midi\\pretty_midi.py:100: RuntimeWarning: Tempo, Key or Time signature change events found on non-zero tracks.  This is not a valid type 0 or type 1 MIDI file.  Tempo, Key or Time Signature may be wrong.\n",
      "  warnings.warn(\n"
     ]
    },
    {
     "name": "stdout",
     "output_type": "stream",
     "text": [
      "[135.99917763]\n"
     ]
    },
    {
     "name": "stderr",
     "output_type": "stream",
     "text": [
      "c:\\Users\\aymli\\anaconda3\\envs\\process\\lib\\site-packages\\numpy\\core\\_asarray.py:102: VisibleDeprecationWarning: Creating an ndarray from ragged nested sequences (which is a list-or-tuple of lists-or-tuples-or ndarrays with different lengths or shapes) is deprecated. If you meant to do this, you must specify 'dtype=object' when creating the ndarray.\n",
      "  return array(a, dtype, copy=False, order=order)\n"
     ]
    },
    {
     "name": "stdout",
     "output_type": "stream",
     "text": [
      "138.03019410496046\n",
      "137 136\n",
      "0 341.83717849008775\n",
      "8 463.96211708703134\n",
      "16 374.1168264239115\n",
      "24 434.49597909140425\n",
      "32 409.93315311482854\n",
      "40 450.2914646352892\n",
      "48 453.71064303583324\n",
      "56 455.4103807271257\n",
      "64 494.202751637197\n",
      "72 395.49912714036753\n",
      "80 456.33875304745163\n",
      "88 421.2147686987347\n",
      "96 422.5741934946519\n",
      "104 392.5394112541722\n",
      "112 420.5031711159413\n",
      "120 419.3531675835047\n",
      "[<pretty_midi.pretty_midi.PrettyMIDI object at 0x0000021C43BC4A60>, <pretty_midi.pretty_midi.PrettyMIDI object at 0x0000021C43BF0EB0>, <pretty_midi.pretty_midi.PrettyMIDI object at 0x0000021C43D03310>, <pretty_midi.pretty_midi.PrettyMIDI object at 0x0000021C43D49550>, <pretty_midi.pretty_midi.PrettyMIDI object at 0x0000021C43B36C10>, <pretty_midi.pretty_midi.PrettyMIDI object at 0x0000021C43DD3430>, <pretty_midi.pretty_midi.PrettyMIDI object at 0x0000021C43EC1CD0>, <pretty_midi.pretty_midi.PrettyMIDI object at 0x0000021C43ECF3D0>, <pretty_midi.pretty_midi.PrettyMIDI object at 0x0000021C423120D0>, <pretty_midi.pretty_midi.PrettyMIDI object at 0x0000021C4234C910>, <pretty_midi.pretty_midi.PrettyMIDI object at 0x0000021C4231FF40>, <pretty_midi.pretty_midi.PrettyMIDI object at 0x0000021C42346970>, <pretty_midi.pretty_midi.PrettyMIDI object at 0x0000021C42333F70>, <pretty_midi.pretty_midi.PrettyMIDI object at 0x0000021C42337EE0>, <pretty_midi.pretty_midi.PrettyMIDI object at 0x0000021C42345460>, <pretty_midi.pretty_midi.PrettyMIDI object at 0x0000021C4248EE50>]\n",
      "[youtube] Extracting URL: https://www.youtube.com/watch?v=RMc9qFrCqno\n",
      "[youtube] RMc9qFrCqno: Downloading webpage\n",
      "[youtube] RMc9qFrCqno: Downloading tv client config\n",
      "[youtube] RMc9qFrCqno: Downloading tv player API JSON\n",
      "[youtube] RMc9qFrCqno: Downloading ios player API JSON\n",
      "[youtube] RMc9qFrCqno: Downloading m3u8 information\n",
      "[info] RMc9qFrCqno: Downloading 1 format(s): 251\n",
      "[download] Destination: song\\48\n",
      "[download] 100% of    3.24MiB in 00:01:15 at 43.90KiB/s     \n",
      "[ExtractAudio] Destination: song\\48.mp3\n",
      "Deleting original file song\\48 (pass -k to keep)\n"
     ]
    },
    {
     "name": "stderr",
     "output_type": "stream",
     "text": [
      "c:\\Users\\aymli\\anaconda3\\envs\\process\\lib\\site-packages\\pretty_midi\\pretty_midi.py:100: RuntimeWarning: Tempo, Key or Time signature change events found on non-zero tracks.  This is not a valid type 0 or type 1 MIDI file.  Tempo, Key or Time Signature may be wrong.\n",
      "  warnings.warn(\n"
     ]
    },
    {
     "name": "stdout",
     "output_type": "stream",
     "text": [
      "[143.5546875]\n"
     ]
    },
    {
     "name": "stderr",
     "output_type": "stream",
     "text": [
      "c:\\Users\\aymli\\anaconda3\\envs\\process\\lib\\site-packages\\numpy\\core\\_asarray.py:102: VisibleDeprecationWarning: Creating an ndarray from ragged nested sequences (which is a list-or-tuple of lists-or-tuples-or ndarrays with different lengths or shapes) is deprecated. If you meant to do this, you must specify 'dtype=object' when creating the ndarray.\n",
      "  return array(a, dtype, copy=False, order=order)\n"
     ]
    },
    {
     "name": "stdout",
     "output_type": "stream",
     "text": [
      "139.97662185856225\n",
      "120 120\n",
      "0 208.65669219046262\n",
      "8 198.79320325562307\n",
      "16 287.62576341231335\n",
      "24 313.77786101646024\n",
      "32 237.72515147221094\n",
      "40 213.6559718132313\n",
      "48 213.10362828774015\n",
      "56 328.7629648940386\n",
      "64 232.20821613751176\n",
      "72 218.96348840514798\n",
      "80 187.3542489406052\n",
      "88 238.87994089340177\n",
      "96 303.369738952731\n",
      "104 245.59087736854562\n",
      "[<pretty_midi.pretty_midi.PrettyMIDI object at 0x0000021C43B32EB0>, <pretty_midi.pretty_midi.PrettyMIDI object at 0x0000021C43EA2430>, <pretty_midi.pretty_midi.PrettyMIDI object at 0x0000021C43DD3D60>, <pretty_midi.pretty_midi.PrettyMIDI object at 0x0000021C42312D90>, <pretty_midi.pretty_midi.PrettyMIDI object at 0x0000021C423463A0>, <pretty_midi.pretty_midi.PrettyMIDI object at 0x0000021C42333C10>, <pretty_midi.pretty_midi.PrettyMIDI object at 0x0000021C4232A670>, <pretty_midi.pretty_midi.PrettyMIDI object at 0x0000021C43CD0580>, <pretty_midi.pretty_midi.PrettyMIDI object at 0x0000021C43D3B550>, <pretty_midi.pretty_midi.PrettyMIDI object at 0x0000021C43D3CBB0>, <pretty_midi.pretty_midi.PrettyMIDI object at 0x0000021C42456370>, <pretty_midi.pretty_midi.PrettyMIDI object at 0x0000021C4245BC40>, <pretty_midi.pretty_midi.PrettyMIDI object at 0x0000021C43CD3220>, <pretty_midi.pretty_midi.PrettyMIDI object at 0x0000021C43CEC8E0>]\n",
      "[youtube] Extracting URL: https://www.youtube.com/watch?v=Q7w5IMyJ3pM\n",
      "[youtube] Q7w5IMyJ3pM: Downloading webpage\n",
      "[youtube] Q7w5IMyJ3pM: Downloading tv client config\n",
      "[youtube] Q7w5IMyJ3pM: Downloading tv player API JSON\n",
      "[youtube] Q7w5IMyJ3pM: Downloading ios player API JSON\n",
      "[youtube] Q7w5IMyJ3pM: Downloading m3u8 information\n",
      "[info] Q7w5IMyJ3pM: Downloading 1 format(s): 251\n",
      "[download] Destination: song\\49\n",
      "[download] 100% of    1.49MiB in 00:00:16 at 90.85KiB/s  \n",
      "[ExtractAudio] Destination: song\\49.mp3\n",
      "Deleting original file song\\49 (pass -k to keep)\n"
     ]
    },
    {
     "name": "stderr",
     "output_type": "stream",
     "text": [
      "c:\\Users\\aymli\\anaconda3\\envs\\process\\lib\\site-packages\\pretty_midi\\pretty_midi.py:100: RuntimeWarning: Tempo, Key or Time signature change events found on non-zero tracks.  This is not a valid type 0 or type 1 MIDI file.  Tempo, Key or Time Signature may be wrong.\n",
      "  warnings.warn(\n"
     ]
    },
    {
     "name": "stdout",
     "output_type": "stream",
     "text": [
      "[135.99917763]\n",
      "133.73860182370822\n",
      "55 40\n",
      "0 1154.8845000694516\n",
      "[]\n"
     ]
    },
    {
     "name": "stderr",
     "output_type": "stream",
     "text": [
      "c:\\Users\\aymli\\anaconda3\\envs\\process\\lib\\site-packages\\numpy\\core\\_asarray.py:102: VisibleDeprecationWarning: Creating an ndarray from ragged nested sequences (which is a list-or-tuple of lists-or-tuples-or ndarrays with different lengths or shapes) is deprecated. If you meant to do this, you must specify 'dtype=object' when creating the ndarray.\n",
      "  return array(a, dtype, copy=False, order=order)\n"
     ]
    }
   ],
   "source": [
    "song_links = []\n",
    "hop_length = 512\n",
    "with open(\"links.csv\", newline=\"\") as f:\n",
    "    reader = csv.DictReader(f)\n",
    "    for row in reader:\n",
    "        song_links.append(row[\"audio_link\"])\n",
    "\n",
    "for i in range(41, len(song_links)):\n",
    "    download_mp3(song_links[i], f\"song/{i}\")\n",
    "\n",
    "    y_s, sr = librosa.load(f\"song/{i}.mp3\")\n",
    "    y_s = trim_silence(y_s)\n",
    "\n",
    "    y_s_harmonic, y_s_percussive = librosa.effects.hpss(y_s)\n",
    "        #y_p_harmonic, y_p_percussive = librosa.effects.hpss(y_p)\n",
    "\n",
    "    pm = pretty_midi.PrettyMIDI(f\"midi/{i}.mid\")\n",
    "\n",
    "    C_s = audio_to_chroma(y_s_harmonic, sr, hop_length)\n",
    "    C_p = midi_to_chroma(pm, sr, hop_length)\n",
    "\n",
    "    beats_s, downbeats_s, act_s, tempo_s = get_beats_and_downbeats(y_s, sr)\n",
    "    downbeats_p = pm.get_downbeats()\n",
    "    beats_p = pm.get_beats()\n",
    "\n",
    "    tempo_p = 60 / np.mean(np.diff(beats_p))\n",
    "\n",
    "    if tempo_p / 1.8 > tempo_s:\n",
    "        beats_s, downbeats_s, act_s, tempo_s = get_beats_and_downbeats(y_s, sr, tempo=tempo_p)\n",
    "\n",
    "    if tempo_s / 1.8 > tempo_p:\n",
    "        beats_s, downbeats_s, act_s, tempo_s = get_beats_and_downbeats(y_s, sr, tempo=tempo_p)\n",
    "\n",
    "\n",
    "    aligned, pm, y_s = dtw_align_m(y_s_harmonic, y_s, pm, downbeats_s, downbeats_p, sr, hop_length=512, n_beats=8, sim_metric='cosine', cost_threshold=500)\n",
    "\n",
    "    os.remove(f\"song/{i}.mp3\")\n",
    "\n",
    "    if len(y_s) != 0:\n",
    "        pm.write(f\"midi_done/{i}.mid\")\n",
    "        sf.write(f\"song/{i}.mp3\",  y_s, sr, bitrate_mode='VARIABLE', compression_level=0)\n",
    "    \n"
   ]
  }
 ],
 "metadata": {
  "kernelspec": {
   "display_name": "process",
   "language": "python",
   "name": "python3"
  },
  "language_info": {
   "codemirror_mode": {
    "name": "ipython",
    "version": 3
   },
   "file_extension": ".py",
   "mimetype": "text/x-python",
   "name": "python",
   "nbconvert_exporter": "python",
   "pygments_lexer": "ipython3",
   "version": "3.9.21"
  }
 },
 "nbformat": 4,
 "nbformat_minor": 5
}
